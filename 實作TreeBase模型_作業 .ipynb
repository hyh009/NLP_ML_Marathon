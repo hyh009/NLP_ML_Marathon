{
  "nbformat": 4,
  "nbformat_minor": 0,
  "metadata": {
    "kernelspec": {
      "display_name": "cupoy_env",
      "language": "python",
      "name": "cupoy_env"
    },
    "language_info": {
      "codemirror_mode": {
        "name": "ipython",
        "version": 3
      },
      "file_extension": ".py",
      "mimetype": "text/x-python",
      "name": "python",
      "nbconvert_exporter": "python",
      "pygments_lexer": "ipython3",
      "version": "3.7.3"
    },
    "colab": {
      "name": "實作TreeBase模型_作業.ipynb",
      "provenance": []
    }
  },
  "cells": [
    {
      "cell_type": "markdown",
      "metadata": {
        "id": "2tC4HIWbs9y6"
      },
      "source": [
        "### 作業目的: 使用樹型模型進行文章分類\n",
        "\n",
        "本次作業主利用[Amazon Review data中的All Beauty](https://nijianmo.github.io/amazon/index.html)來進行review評價分類(文章分類)\n",
        "\n",
        "資料中將review分為1,2,3,4,5分，而在這份作業，我們將評論改分為差評價、普通評價、優良評價(1,2-->1差評、3-->2普通評價、4,5-->3優良評價)"
      ]
    },
    {
      "cell_type": "code",
      "metadata": {
        "id": "nOsZlrals9zB"
      },
      "source": [
        "import json\n",
        "import re\n",
        "import gzip\n",
        "import nltk\n",
        "import numpy as np\n",
        "from nltk.stem import WordNetLemmatizer\n",
        "from nltk.corpus import wordnet\n",
        "from sklearn.tree import DecisionTreeClassifier\n",
        "from sklearn.ensemble import AdaBoostClassifier, RandomForestClassifier\n",
        "from sklearn.metrics import classification_report, confusion_matrix\n",
        "from sklearn.model_selection import train_test_split\n",
        "from sklearn.feature_extraction.text import CountVectorizer, TfidfVectorizer, TfidfTransformer\n",
        "from sklearn.metrics import accuracy_score\n",
        "import matplotlib.pyplot as plt\n",
        "## 創建Lemmatizer\n",
        "lemmatizer = WordNetLemmatizer()"
      ],
      "execution_count": 1,
      "outputs": []
    },
    {
      "cell_type": "code",
      "metadata": {
        "colab": {
          "base_uri": "https://localhost:8080/"
        },
        "id": "OfvQIahsACQJ",
        "outputId": "e6537a15-3188-4fab-f7f6-a7058eb06947"
      },
      "source": [
        "nltk.download('averaged_perceptron_tagger')\n",
        "nltk.download('wordnet')"
      ],
      "execution_count": 2,
      "outputs": [
        {
          "output_type": "stream",
          "text": [
            "[nltk_data] Downloading package averaged_perceptron_tagger to\n",
            "[nltk_data]     /root/nltk_data...\n",
            "[nltk_data]   Package averaged_perceptron_tagger is already up-to-\n",
            "[nltk_data]       date!\n",
            "[nltk_data] Downloading package wordnet to /root/nltk_data...\n",
            "[nltk_data]   Package wordnet is already up-to-date!\n"
          ],
          "name": "stdout"
        },
        {
          "output_type": "execute_result",
          "data": {
            "text/plain": [
              "True"
            ]
          },
          "metadata": {
            "tags": []
          },
          "execution_count": 2
        }
      ]
    },
    {
      "cell_type": "markdown",
      "metadata": {
        "id": "3kEpKY2Ws9zC"
      },
      "source": [
        "### 資料前處理\n",
        "文本資料較為龐大，這裡我們取前10000筆資料來進行作業練習"
      ]
    },
    {
      "cell_type": "code",
      "metadata": {
        "colab": {
          "base_uri": "https://localhost:8080/"
        },
        "id": "iaRUmDaIxYku",
        "outputId": "9cb902e5-a182-4402-99e2-f989001b0f7e"
      },
      "source": [
        "!wget http://deepyeti.ucsd.edu/jianmo/amazon/categoryFiles/All_Beauty.json.gz"
      ],
      "execution_count": 3,
      "outputs": [
        {
          "output_type": "stream",
          "text": [
            "--2021-05-01 16:56:50--  http://deepyeti.ucsd.edu/jianmo/amazon/categoryFiles/All_Beauty.json.gz\n",
            "Resolving deepyeti.ucsd.edu (deepyeti.ucsd.edu)... 169.228.63.50\n",
            "Connecting to deepyeti.ucsd.edu (deepyeti.ucsd.edu)|169.228.63.50|:80... connected.\n",
            "HTTP request sent, awaiting response... 200 OK\n",
            "Length: 47350910 (45M) [application/octet-stream]\n",
            "Saving to: ‘All_Beauty.json.gz.3’\n",
            "\n",
            "All_Beauty.json.gz. 100%[===================>]  45.16M  38.0MB/s    in 1.2s    \n",
            "\n",
            "2021-05-01 16:56:52 (38.0 MB/s) - ‘All_Beauty.json.gz.3’ saved [47350910/47350910]\n",
            "\n"
          ],
          "name": "stdout"
        }
      ]
    },
    {
      "cell_type": "code",
      "metadata": {
        "id": "OvVzbTR8s9zC",
        "colab": {
          "base_uri": "https://localhost:8080/"
        },
        "outputId": "874fd447-035d-4293-f643-28f77ddc55f4"
      },
      "source": [
        "#load json data\n",
        "all_reviews = []\n",
        "with gzip.open('All_Beauty.json.gz') as f:\n",
        "    for l in f:\n",
        "        all_reviews.append(json.loads(l.strip()))\n",
        "        \n",
        "print(len(all_reviews))\n",
        "\n",
        "all_reviews[0]"
      ],
      "execution_count": 4,
      "outputs": [
        {
          "output_type": "stream",
          "text": [
            "371345\n"
          ],
          "name": "stdout"
        },
        {
          "output_type": "execute_result",
          "data": {
            "text/plain": [
              "{'asin': '0143026860',\n",
              " 'overall': 1.0,\n",
              " 'reviewText': 'great',\n",
              " 'reviewTime': '02 19, 2015',\n",
              " 'reviewerID': 'A1V6B6TNIC10QE',\n",
              " 'reviewerName': 'theodore j bigham',\n",
              " 'summary': 'One Star',\n",
              " 'unixReviewTime': 1424304000,\n",
              " 'verified': True}"
            ]
          },
          "metadata": {
            "tags": []
          },
          "execution_count": 4
        }
      ]
    },
    {
      "cell_type": "code",
      "metadata": {
        "id": "RycMTKGHs9zD"
      },
      "source": [
        "#parse label(overall) and corpus(reviewText)\n",
        "#transform labels: 1,2 --> 1 and 3 --> 2 and 4,5 --> 3\n",
        "corpus = []\n",
        "labels = []\n",
        "i=0\n",
        "while len(corpus)<10000:\n",
        "    if 'reviewText' in all_reviews[i].keys() and 'overall' in all_reviews[i].keys():\n",
        "        review = preprocessing_data(all_reviews[i]['reviewText'])\n",
        "        if review != '':\n",
        "            corpus.append(review)\n",
        "            if all_reviews[i]['overall'] < 3:\n",
        "                new_label = 1\n",
        "            elif all_reviews[i]['overall'] == 3:\n",
        "                new_label = 2\n",
        "            else:\n",
        "                new_label = 3\n",
        "            labels.append(new_label)\n",
        "            i+=1\n",
        "        else: \n",
        "            i+=1\n",
        "    else: \n",
        "        i+=1        "
      ],
      "execution_count": 7,
      "outputs": []
    },
    {
      "cell_type": "code",
      "metadata": {
        "id": "JQphgzMNs9zE"
      },
      "source": [
        "#preprocessing data\n",
        "#remove email address, punctuations, and change line symbol(\\n)\n",
        "\n",
        "# Lemmatize with POS Tag\n",
        "def get_wordnet_pos(word):\n",
        "    \"\"\"將pos_tag結果mapping到lemmatizer中pos的格式\"\"\"\n",
        "    tag = nltk.pos_tag([word])[0][1][0].upper()\n",
        "    tag_dict = {\"J\": wordnet.ADJ,\n",
        "                \"N\": wordnet.NOUN,\n",
        "                \"V\": wordnet.VERB,\n",
        "                \"R\": wordnet.ADV}\n",
        "\n",
        "    return tag_dict.get(tag, wordnet.NOUN)\n",
        "\n",
        "def preprocessing_data_with_lemmatize(sententce):\n",
        "    pattern = '[\\w.-]+@\\w+\\.\\w+\\.?\\w+\\.?\\w+|\\n|[\\W_]'\n",
        "    new_sententce = ' '.join([lemmatizer.lemmatize(re.sub(pattern,'',w),get_wordnet_pos(w)) for w in sententce.split()])\n",
        "\n",
        "    return new_sententce\n",
        "\n",
        "def preprocessing_data(sententce):\n",
        "    pattern = '[\\w.-]+@\\w+\\.\\w+\\.?\\w+\\.?\\w+|\\n|[\\W_]'\n",
        "    new_sententce = ' '.join([re.sub(pattern,'',w) for w in sententce.split()])\n",
        "\n",
        "    return new_sententce"
      ],
      "execution_count": 6,
      "outputs": []
    },
    {
      "cell_type": "code",
      "metadata": {
        "colab": {
          "base_uri": "https://localhost:8080/"
        },
        "id": "cd5ITD2QB2IQ",
        "outputId": "6e09902b-68c1-4a30-964e-9dcceb5c50c8"
      },
      "source": [
        "#split corpus and label into train and test\n",
        "x_train, x_test, y_train, y_test = train_test_split(\n",
        "                    corpus, labels, test_size=0.2, random_state=42, stratify=labels)\n",
        "\n",
        "len(x_train), len(x_test), len(y_train), len(y_test)"
      ],
      "execution_count": 8,
      "outputs": [
        {
          "output_type": "execute_result",
          "data": {
            "text/plain": [
              "(8000, 2000, 8000, 2000)"
            ]
          },
          "metadata": {
            "tags": []
          },
          "execution_count": 8
        }
      ]
    },
    {
      "cell_type": "markdown",
      "metadata": {
        "id": "z6wMcgnSHcA_"
      },
      "source": [
        "## TFIDF"
      ]
    },
    {
      "cell_type": "code",
      "metadata": {
        "id": "WcxVAt5Hs9zE"
      },
      "source": [
        "#change corpus into vector\n",
        "#you can use tfidf or BoW here\n",
        "\n",
        "vectorizer = TfidfVectorizer(max_features=5500)\n",
        "vectorizer.fit(x_train)\n",
        "\n",
        "\n",
        "#transform training and testing corpus into vector form\n",
        "tfidf_x_train = vectorizer.transform(x_train)\n",
        "tfidf_x_test = vectorizer.transform(x_test)"
      ],
      "execution_count": 9,
      "outputs": []
    },
    {
      "cell_type": "code",
      "metadata": {
        "colab": {
          "base_uri": "https://localhost:8080/"
        },
        "id": "12ghPVNmJkvH",
        "outputId": "359f5468-4d98-4664-ec49-09019de46bc7"
      },
      "source": [
        "tfidf_x_train.shape"
      ],
      "execution_count": 10,
      "outputs": [
        {
          "output_type": "execute_result",
          "data": {
            "text/plain": [
              "(8000, 5500)"
            ]
          },
          "metadata": {
            "tags": []
          },
          "execution_count": 10
        }
      ]
    },
    {
      "cell_type": "markdown",
      "metadata": {
        "id": "VgkvOCrBH8fO"
      },
      "source": [
        "## BoW"
      ]
    },
    {
      "cell_type": "code",
      "metadata": {
        "id": "TONar9QuHstz"
      },
      "source": [
        "#change corpus into vector\n",
        "#you can use tfidf or BoW here\n",
        "\n",
        "vectorizer2 = CountVectorizer(max_features=5500)\n",
        "vectorizer2.fit(x_train)\n",
        "\n",
        "#transform training and testing corpus into vector form\n",
        "count_x_train = vectorizer2.transform(x_train)\n",
        "count_x_test = vectorizer2.transform(x_test)"
      ],
      "execution_count": 16,
      "outputs": []
    },
    {
      "cell_type": "code",
      "metadata": {
        "colab": {
          "base_uri": "https://localhost:8080/",
          "height": 468
        },
        "id": "LCPqZXPOKek8",
        "outputId": "6bc972bc-3424-4b95-cf5c-8453fb76f36a"
      },
      "source": [
        "sum2 = count_x_train.toarray().sum(axis=0)\n",
        "sum2.sort()\n",
        "plt.plot(sum2[::-1])\n",
        "index_list = [500,1000,2000,3000,3300,3500,4000,4500,4800,5000,5500,6000]\n",
        "for index in index_list:\n",
        "    print(f'{index}th word shows up {sum2[::-1][index]} times.')\n",
        "#to change max_features"
      ],
      "execution_count": 15,
      "outputs": [
        {
          "output_type": "stream",
          "text": [
            "500th word shows up 64 times.\n",
            "1000th word shows up 24 times.\n",
            "2000th word shows up 8 times.\n",
            "3000th word shows up 4 times.\n",
            "3300th word shows up 3 times.\n",
            "3500th word shows up 3 times.\n",
            "4000th word shows up 2 times.\n",
            "4500th word shows up 2 times.\n",
            "4800th word shows up 2 times.\n",
            "5000th word shows up 2 times.\n",
            "5500th word shows up 1 times.\n",
            "6000th word shows up 1 times.\n"
          ],
          "name": "stdout"
        },
        {
          "output_type": "display_data",
          "data": {
            "image/png": "[encoded data removed]",
            "text/plain": [
              "<Figure size 432x288 with 1 Axes>"
            ]
          },
          "metadata": {
            "tags": [],
            "needs_background": "light"
          }
        }
      ]
    },
    {
      "cell_type": "markdown",
      "metadata": {
        "id": "R6pOfBxns9zF"
      },
      "source": [
        "### 訓練與預測"
      ]
    },
    {
      "cell_type": "markdown",
      "metadata": {
        "id": "lgHs08v_VHDq"
      },
      "source": [
        "### TFIDF"
      ]
    },
    {
      "cell_type": "code",
      "metadata": {
        "id": "MTaNjq36s9zF",
        "colab": {
          "base_uri": "https://localhost:8080/"
        },
        "outputId": "c8d0fbbd-7901-4ba7-e0b9-e966efdbc372"
      },
      "source": [
        "#build classification model (decision tree, random forest, or adaboost)\n",
        "#start training\n",
        "clf1 = DecisionTreeClassifier(random_state=0)\n",
        "clf1.fit(tfidf_x_train,y_train)\n",
        "\n",
        "clf2 = RandomForestClassifier(max_depth=6, random_state=0)\n",
        "clf2.fit(tfidf_x_train,y_train)\n",
        "\n",
        "clf3 = AdaBoostClassifier(n_estimators=100, random_state=0)\n",
        "clf3.fit(tfidf_x_train,y_train)"
      ],
      "execution_count": 17,
      "outputs": [
        {
          "output_type": "execute_result",
          "data": {
            "text/plain": [
              "AdaBoostClassifier(algorithm='SAMME.R', base_estimator=None, learning_rate=1.0,\n",
              "                   n_estimators=100, random_state=0)"
            ]
          },
          "metadata": {
            "tags": []
          },
          "execution_count": 17
        }
      ]
    },
    {
      "cell_type": "code",
      "metadata": {
        "id": "YVLSaDIIs9zF"
      },
      "source": [
        "#start inference\n",
        "y_pred1 = clf1.predict(tfidf_x_test)\n",
        "y_pred2 = clf2.predict(tfidf_x_test)\n",
        "y_pred3 = clf3.predict(tfidf_x_test)"
      ],
      "execution_count": 18,
      "outputs": []
    },
    {
      "cell_type": "code",
      "metadata": {
        "colab": {
          "base_uri": "https://localhost:8080/"
        },
        "id": "QdnRcVj33wiG",
        "outputId": "40f895f1-9205-4822-997e-6834831a8bc1"
      },
      "source": [
        "#calculate accuracy\n",
        "acc1 = accuracy_score(y_pred1, y_test)\n",
        "print(f\"DecisionTree: {acc1}\")\n",
        "acc2 = accuracy_score(y_pred2, y_test)\n",
        "print(f\"RandomForest: {acc2}\")\n",
        "acc3 = accuracy_score(y_pred3, y_test)\n",
        "print(f\"AdaBoost: {acc3}\")"
      ],
      "execution_count": 19,
      "outputs": [
        {
          "output_type": "stream",
          "text": [
            "DecisionTree: 0.8705\n",
            "RandomForest: 0.8935\n",
            "AdaBoost: 0.9075\n"
          ],
          "name": "stdout"
        }
      ]
    },
    {
      "cell_type": "code",
      "metadata": {
        "colab": {
          "base_uri": "https://localhost:8080/"
        },
        "id": "08qbKRhG3014",
        "outputId": "5ef5942b-6813-435f-d71d-85632940ea39"
      },
      "source": [
        "#calculate confusion matrix, precision, recall, and f1-score\n",
        "print('Decision_Tree Tfidf')\n",
        "print(classification_report(y_test, y_pred1))\n",
        "print(confusion_matrix(y_test, y_pred1))"
      ],
      "execution_count": 30,
      "outputs": [
        {
          "output_type": "stream",
          "text": [
            "Decision_Tree Tfidf\n",
            "              precision    recall  f1-score   support\n",
            "\n",
            "           1       0.41      0.41      0.41       137\n",
            "           2       0.15      0.13      0.14        76\n",
            "           3       0.93      0.94      0.93      1787\n",
            "\n",
            "    accuracy                           0.87      2000\n",
            "   macro avg       0.50      0.49      0.50      2000\n",
            "weighted avg       0.87      0.87      0.87      2000\n",
            "\n",
            "[[  56   12   69]\n",
            " [  11   10   55]\n",
            " [  68   44 1675]]\n"
          ],
          "name": "stdout"
        }
      ]
    },
    {
      "cell_type": "code",
      "metadata": {
        "colab": {
          "base_uri": "https://localhost:8080/"
        },
        "id": "IFDGcLqlUmHR",
        "outputId": "0d9a8741-ae8e-479f-d061-9cf4aaaa5ed8"
      },
      "source": [
        "#calculate confusion matrix, precision, recall, and f1-score\n",
        "print('RandomForest Tfidf')\n",
        "print(classification_report(y_test, y_pred2))\n",
        "print(confusion_matrix(y_test, y_pred2))"
      ],
      "execution_count": 29,
      "outputs": [
        {
          "output_type": "stream",
          "text": [
            "RandomForest Tfidf\n",
            "              precision    recall  f1-score   support\n",
            "\n",
            "           1       0.00      0.00      0.00       137\n",
            "           2       0.00      0.00      0.00        76\n",
            "           3       0.89      1.00      0.94      1787\n",
            "\n",
            "    accuracy                           0.89      2000\n",
            "   macro avg       0.30      0.33      0.31      2000\n",
            "weighted avg       0.80      0.89      0.84      2000\n",
            "\n",
            "[[   0    0  137]\n",
            " [   0    0   76]\n",
            " [   0    0 1787]]\n"
          ],
          "name": "stdout"
        },
        {
          "output_type": "stream",
          "text": [
            "/usr/local/lib/python3.7/dist-packages/sklearn/metrics/_classification.py:1272: UndefinedMetricWarning: Precision and F-score are ill-defined and being set to 0.0 in labels with no predicted samples. Use `zero_division` parameter to control this behavior.\n",
            "  _warn_prf(average, modifier, msg_start, len(result))\n"
          ],
          "name": "stderr"
        }
      ]
    },
    {
      "cell_type": "code",
      "metadata": {
        "colab": {
          "base_uri": "https://localhost:8080/"
        },
        "id": "e1h-cstC36dw",
        "outputId": "4f2c7096-e5a6-47f4-a8dc-06299e793d09"
      },
      "source": [
        "#calculate confusion matrix, precision, recall, and f1-score\n",
        "print('Adaboost Tfidf')\n",
        "print(classification_report(y_test, y_pred3))\n",
        "print(confusion_matrix(y_test, y_pred3))"
      ],
      "execution_count": 31,
      "outputs": [
        {
          "output_type": "stream",
          "text": [
            "Adaboost Tfidf\n",
            "              precision    recall  f1-score   support\n",
            "\n",
            "           1       0.65      0.40      0.50       137\n",
            "           2       0.30      0.09      0.14        76\n",
            "           3       0.93      0.98      0.95      1787\n",
            "\n",
            "    accuracy                           0.91      2000\n",
            "   macro avg       0.63      0.49      0.53      2000\n",
            "weighted avg       0.88      0.91      0.89      2000\n",
            "\n",
            "[[  55    4   78]\n",
            " [   8    7   61]\n",
            " [  22   12 1753]]\n"
          ],
          "name": "stdout"
        }
      ]
    },
    {
      "cell_type": "markdown",
      "metadata": {
        "id": "5KNOt9wwVM6u"
      },
      "source": [
        "### BoW"
      ]
    },
    {
      "cell_type": "code",
      "metadata": {
        "colab": {
          "base_uri": "https://localhost:8080/"
        },
        "id": "kp9tKjWcVQTi",
        "outputId": "2f8fc692-2dbd-48de-9014-86c4370ea77d"
      },
      "source": [
        "#build classification model (decision tree, random forest, or adaboost)\n",
        "#start training\n",
        "clf1_count = DecisionTreeClassifier(random_state=0)\n",
        "clf1_count.fit(count_x_train,y_train)\n",
        "\n",
        "clf2_count = RandomForestClassifier(max_depth=6, random_state=0)\n",
        "clf2_count.fit(count_x_train,y_train)\n",
        "\n",
        "clf3_count = AdaBoostClassifier(n_estimators=100, random_state=0)\n",
        "clf3_count.fit(count_x_train,y_train)"
      ],
      "execution_count": 23,
      "outputs": [
        {
          "output_type": "execute_result",
          "data": {
            "text/plain": [
              "AdaBoostClassifier(algorithm='SAMME.R', base_estimator=None, learning_rate=1.0,\n",
              "                   n_estimators=100, random_state=0)"
            ]
          },
          "metadata": {
            "tags": []
          },
          "execution_count": 23
        }
      ]
    },
    {
      "cell_type": "code",
      "metadata": {
        "id": "6KyOpvnjVhP1"
      },
      "source": [
        "#start inference\n",
        "y_pred1_count = clf1_count.predict(count_x_test)\n",
        "y_pred2_count = clf2_count.predict(count_x_test)\n",
        "y_pred3_count = clf3_count.predict(count_x_test)"
      ],
      "execution_count": 24,
      "outputs": []
    },
    {
      "cell_type": "code",
      "metadata": {
        "colab": {
          "base_uri": "https://localhost:8080/"
        },
        "id": "s7yWtdPY4J3w",
        "outputId": "e58ea891-63e5-4795-d43f-7e218bb186d8"
      },
      "source": [
        "#calculate accuracy\n",
        "acc1_count = accuracy_score(y_pred1_count, y_test)\n",
        "print(f\"DecisionTree: {acc1_count}\")\n",
        "acc2_count = accuracy_score(y_pred2_count, y_test)\n",
        "print(f\"RandomForest: {acc2_count}\")\n",
        "acc3_count = accuracy_score(y_pred3_count, y_test)\n",
        "print(f\"AdaBoost: {acc3_count}\")"
      ],
      "execution_count": 25,
      "outputs": [
        {
          "output_type": "stream",
          "text": [
            "DecisionTree: 0.8695\n",
            "RandomForest: 0.8935\n",
            "AdaBoost: 0.911\n"
          ],
          "name": "stdout"
        }
      ]
    },
    {
      "cell_type": "code",
      "metadata": {
        "colab": {
          "base_uri": "https://localhost:8080/"
        },
        "id": "80Jx98r94OmL",
        "outputId": "2d6c1adf-c292-4d40-c0d2-51a22bdae650"
      },
      "source": [
        "#calculate confusion matrix, precision, recall, and f1-score\n",
        "print('Decision_Tree BoW')\n",
        "print(classification_report(y_test, y_pred1_count))\n",
        "print(confusion_matrix(y_test, y_pred1_count))"
      ],
      "execution_count": 26,
      "outputs": [
        {
          "output_type": "stream",
          "text": [
            "Decision_Tree BoW\n",
            "              precision    recall  f1-score   support\n",
            "\n",
            "           1       0.39      0.35      0.37       137\n",
            "           2       0.16      0.14      0.15        76\n",
            "           3       0.93      0.94      0.93      1787\n",
            "\n",
            "    accuracy                           0.87      2000\n",
            "   macro avg       0.49      0.48      0.49      2000\n",
            "weighted avg       0.86      0.87      0.87      2000\n",
            "\n",
            "[[  48   14   75]\n",
            " [  10   11   55]\n",
            " [  65   42 1680]]\n"
          ],
          "name": "stdout"
        }
      ]
    },
    {
      "cell_type": "code",
      "metadata": {
        "colab": {
          "base_uri": "https://localhost:8080/"
        },
        "id": "aZpT9wG8804q",
        "outputId": "0be71ab7-9d0c-4f3f-af95-140519b25060"
      },
      "source": [
        "#calculate confusion matrix, precision, recall, and f1-score\n",
        "print('RandomForest BoW')\n",
        "print(classification_report(y_test, y_pred2_count))\n",
        "print(confusion_matrix(y_test, y_pred2_count))"
      ],
      "execution_count": 27,
      "outputs": [
        {
          "output_type": "stream",
          "text": [
            "RandomForest BoW\n",
            "              precision    recall  f1-score   support\n",
            "\n",
            "           1       0.00      0.00      0.00       137\n",
            "           2       0.00      0.00      0.00        76\n",
            "           3       0.89      1.00      0.94      1787\n",
            "\n",
            "    accuracy                           0.89      2000\n",
            "   macro avg       0.30      0.33      0.31      2000\n",
            "weighted avg       0.80      0.89      0.84      2000\n",
            "\n",
            "[[   0    0  137]\n",
            " [   0    0   76]\n",
            " [   0    0 1787]]\n"
          ],
          "name": "stdout"
        },
        {
          "output_type": "stream",
          "text": [
            "/usr/local/lib/python3.7/dist-packages/sklearn/metrics/_classification.py:1272: UndefinedMetricWarning: Precision and F-score are ill-defined and being set to 0.0 in labels with no predicted samples. Use `zero_division` parameter to control this behavior.\n",
            "  _warn_prf(average, modifier, msg_start, len(result))\n"
          ],
          "name": "stderr"
        }
      ]
    },
    {
      "cell_type": "code",
      "metadata": {
        "colab": {
          "base_uri": "https://localhost:8080/"
        },
        "id": "1L5qhlHI4Ysk",
        "outputId": "23cd9ebf-2c2a-4433-98fc-2fc37a58e377"
      },
      "source": [
        "#calculate confusion matrix, precision, recall, and f1-score\n",
        "print('Adaboost BoW')\n",
        "print(classification_report(y_test, y_pred3_count))\n",
        "print(confusion_matrix(y_test, y_pred3_count))"
      ],
      "execution_count": 28,
      "outputs": [
        {
          "output_type": "stream",
          "text": [
            "Adaboost BoW\n",
            "              precision    recall  f1-score   support\n",
            "\n",
            "           1       0.64      0.42      0.50       137\n",
            "           2       0.25      0.04      0.07        76\n",
            "           3       0.93      0.99      0.96      1787\n",
            "\n",
            "    accuracy                           0.91      2000\n",
            "   macro avg       0.61      0.48      0.51      2000\n",
            "weighted avg       0.88      0.91      0.89      2000\n",
            "\n",
            "[[  57    4   76]\n",
            " [  12    3   61]\n",
            " [  20    5 1762]]\n"
          ],
          "name": "stdout"
        }
      ]
    },
    {
      "cell_type": "markdown",
      "metadata": {
        "id": "PHBt2EIEs9zG"
      },
      "source": [
        "由上述資訊可以發現, 模型在好評的準確度高(precision, recall都高), 而在差評的部分表現較不理想, 在普通評價的部分大部分跟差評搞混,\n",
        "同學可以試著學習到的各種方法來提升模型的表現"
      ]
    }
  ]
}