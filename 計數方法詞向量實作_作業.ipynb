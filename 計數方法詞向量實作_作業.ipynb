{
  "nbformat": 4,
  "nbformat_minor": 0,
  "metadata": {
    "kernelspec": {
      "display_name": "cupoy_env",
      "language": "python",
      "name": "cupoy_env"
    },
    "language_info": {
      "codemirror_mode": {
        "name": "ipython",
        "version": 3
      },
      "file_extension": ".py",
      "mimetype": "text/x-python",
      "name": "python",
      "nbconvert_exporter": "python",
      "pygments_lexer": "ipython3",
      "version": "3.7.3"
    },
    "colab": {
      "name": "計數方法詞向量實作_作業.ipynb",
      "provenance": []
    }
  },
  "cells": [
    {
      "cell_type": "markdown",
      "metadata": {
        "id": "A_83ZdsXdTBM"
      },
      "source": [
        "### 載入所需的Libraries"
      ]
    },
    {
      "cell_type": "code",
      "metadata": {
        "id": "uwecPx5DdTBS"
      },
      "source": [
        "import re\n",
        "import pandas as pd\n",
        "import numpy as np\n",
        "import matplotlib.pyplot as plt\n",
        "from sklearn.model_selection import train_test_split\n",
        "from sklearn.feature_extraction.text import TfidfVectorizer\n",
        "from sklearn.decomposition import TruncatedSVD\n",
        "from typing import List"
      ],
      "execution_count": 50,
      "outputs": []
    },
    {
      "cell_type": "markdown",
      "metadata": {
        "id": "5hLy73GQdTBT"
      },
      "source": [
        "### 載入資料"
      ]
    },
    {
      "cell_type": "code",
      "metadata": {
        "colab": {
          "base_uri": "https://localhost:8080/"
        },
        "id": "gyYNcQEyddhA",
        "outputId": "2bdfee42-80a3-41d2-ccf9-d058f1965bd9"
      },
      "source": [
        "from google.colab import drive\n",
        "drive.mount('/content/drive')"
      ],
      "execution_count": 51,
      "outputs": [
        {
          "output_type": "stream",
          "text": [
            "Drive already mounted at /content/drive; to attempt to forcibly remount, call drive.mount(\"/content/drive\", force_remount=True).\n"
          ],
          "name": "stdout"
        }
      ]
    },
    {
      "cell_type": "code",
      "metadata": {
        "colab": {
          "base_uri": "https://localhost:8080/",
          "height": 199
        },
        "id": "tHRmXXfddTBU",
        "outputId": "dd95c11b-fe78-4388-f9a4-6940204609b2"
      },
      "source": [
        "# read data from spam.csv\n",
        "sms_data = pd.read_csv('/content/drive/MyDrive/NLP/spam.csv',encoding = \"ISO-8859-1\")\n",
        "\n",
        "sms_data = sms_data[['v1','v2']]\n",
        "sms_data = sms_data.rename(columns={'v1':'label','v2':'content'})\n",
        "sms_data.head()"
      ],
      "execution_count": 52,
      "outputs": [
        {
          "output_type": "execute_result",
          "data": {
            "text/html": [
              "<div>\n",
              "<style scoped>\n",
              "    .dataframe tbody tr th:only-of-type {\n",
              "        vertical-align: middle;\n",
              "    }\n",
              "\n",
              "    .dataframe tbody tr th {\n",
              "        vertical-align: top;\n",
              "    }\n",
              "\n",
              "    .dataframe thead th {\n",
              "        text-align: right;\n",
              "    }\n",
              "</style>\n",
              "<table border=\"1\" class=\"dataframe\">\n",
              "  <thead>\n",
              "    <tr style=\"text-align: right;\">\n",
              "      <th></th>\n",
              "      <th>label</th>\n",
              "      <th>content</th>\n",
              "    </tr>\n",
              "  </thead>\n",
              "  <tbody>\n",
              "    <tr>\n",
              "      <th>0</th>\n",
              "      <td>ham</td>\n",
              "      <td>Go until jurong point, crazy.. Available only ...</td>\n",
              "    </tr>\n",
              "    <tr>\n",
              "      <th>1</th>\n",
              "      <td>ham</td>\n",
              "      <td>Ok lar... Joking wif u oni...</td>\n",
              "    </tr>\n",
              "    <tr>\n",
              "      <th>2</th>\n",
              "      <td>spam</td>\n",
              "      <td>Free entry in 2 a wkly comp to win FA Cup fina...</td>\n",
              "    </tr>\n",
              "    <tr>\n",
              "      <th>3</th>\n",
              "      <td>ham</td>\n",
              "      <td>U dun say so early hor... U c already then say...</td>\n",
              "    </tr>\n",
              "    <tr>\n",
              "      <th>4</th>\n",
              "      <td>ham</td>\n",
              "      <td>Nah I don't think he goes to usf, he lives aro...</td>\n",
              "    </tr>\n",
              "  </tbody>\n",
              "</table>\n",
              "</div>"
            ],
            "text/plain": [
              "  label                                            content\n",
              "0   ham  Go until jurong point, crazy.. Available only ...\n",
              "1   ham                      Ok lar... Joking wif u oni...\n",
              "2  spam  Free entry in 2 a wkly comp to win FA Cup fina...\n",
              "3   ham  U dun say so early hor... U c already then say...\n",
              "4   ham  Nah I don't think he goes to usf, he lives aro..."
            ]
          },
          "metadata": {
            "tags": []
          },
          "execution_count": 52
        }
      ]
    },
    {
      "cell_type": "code",
      "metadata": {
        "colab": {
          "base_uri": "https://localhost:8080/",
          "height": 139
        },
        "id": "0EB8fgcHdTBV",
        "outputId": "69d65e77-2443-4d13-ed4a-a8615376e8b5"
      },
      "source": [
        "# check how many spams and hams\n",
        "sms_data.groupby(\"label\").count()"
      ],
      "execution_count": 53,
      "outputs": [
        {
          "output_type": "execute_result",
          "data": {
            "text/html": [
              "<div>\n",
              "<style scoped>\n",
              "    .dataframe tbody tr th:only-of-type {\n",
              "        vertical-align: middle;\n",
              "    }\n",
              "\n",
              "    .dataframe tbody tr th {\n",
              "        vertical-align: top;\n",
              "    }\n",
              "\n",
              "    .dataframe thead th {\n",
              "        text-align: right;\n",
              "    }\n",
              "</style>\n",
              "<table border=\"1\" class=\"dataframe\">\n",
              "  <thead>\n",
              "    <tr style=\"text-align: right;\">\n",
              "      <th></th>\n",
              "      <th>content</th>\n",
              "    </tr>\n",
              "    <tr>\n",
              "      <th>label</th>\n",
              "      <th></th>\n",
              "    </tr>\n",
              "  </thead>\n",
              "  <tbody>\n",
              "    <tr>\n",
              "      <th>ham</th>\n",
              "      <td>4825</td>\n",
              "    </tr>\n",
              "    <tr>\n",
              "      <th>spam</th>\n",
              "      <td>747</td>\n",
              "    </tr>\n",
              "  </tbody>\n",
              "</table>\n",
              "</div>"
            ],
            "text/plain": [
              "       content\n",
              "label         \n",
              "ham       4825\n",
              "spam       747"
            ]
          },
          "metadata": {
            "tags": []
          },
          "execution_count": 53
        }
      ]
    },
    {
      "cell_type": "code",
      "metadata": {
        "colab": {
          "base_uri": "https://localhost:8080/",
          "height": 199
        },
        "id": "dqUQUE4tdTBV",
        "outputId": "b7848b9d-fd32-4bf9-ee1b-67c6c8607de9"
      },
      "source": [
        "# change label to from string to number\n",
        "# \"ham\" --> 0, \"spam\" --> 1\n",
        "\n",
        "sms_data.loc[(sms_data.label=='ham'),'label']=0\n",
        "sms_data.loc[(sms_data.label=='spam'),'label']=1\n",
        "\n",
        "sms_data.head()"
      ],
      "execution_count": 54,
      "outputs": [
        {
          "output_type": "execute_result",
          "data": {
            "text/html": [
              "<div>\n",
              "<style scoped>\n",
              "    .dataframe tbody tr th:only-of-type {\n",
              "        vertical-align: middle;\n",
              "    }\n",
              "\n",
              "    .dataframe tbody tr th {\n",
              "        vertical-align: top;\n",
              "    }\n",
              "\n",
              "    .dataframe thead th {\n",
              "        text-align: right;\n",
              "    }\n",
              "</style>\n",
              "<table border=\"1\" class=\"dataframe\">\n",
              "  <thead>\n",
              "    <tr style=\"text-align: right;\">\n",
              "      <th></th>\n",
              "      <th>label</th>\n",
              "      <th>content</th>\n",
              "    </tr>\n",
              "  </thead>\n",
              "  <tbody>\n",
              "    <tr>\n",
              "      <th>0</th>\n",
              "      <td>0</td>\n",
              "      <td>Go until jurong point, crazy.. Available only ...</td>\n",
              "    </tr>\n",
              "    <tr>\n",
              "      <th>1</th>\n",
              "      <td>0</td>\n",
              "      <td>Ok lar... Joking wif u oni...</td>\n",
              "    </tr>\n",
              "    <tr>\n",
              "      <th>2</th>\n",
              "      <td>1</td>\n",
              "      <td>Free entry in 2 a wkly comp to win FA Cup fina...</td>\n",
              "    </tr>\n",
              "    <tr>\n",
              "      <th>3</th>\n",
              "      <td>0</td>\n",
              "      <td>U dun say so early hor... U c already then say...</td>\n",
              "    </tr>\n",
              "    <tr>\n",
              "      <th>4</th>\n",
              "      <td>0</td>\n",
              "      <td>Nah I don't think he goes to usf, he lives aro...</td>\n",
              "    </tr>\n",
              "  </tbody>\n",
              "</table>\n",
              "</div>"
            ],
            "text/plain": [
              "  label                                            content\n",
              "0     0  Go until jurong point, crazy.. Available only ...\n",
              "1     0                      Ok lar... Joking wif u oni...\n",
              "2     1  Free entry in 2 a wkly comp to win FA Cup fina...\n",
              "3     0  U dun say so early hor... U c already then say...\n",
              "4     0  Nah I don't think he goes to usf, he lives aro..."
            ]
          },
          "metadata": {
            "tags": []
          },
          "execution_count": 54
        }
      ]
    },
    {
      "cell_type": "markdown",
      "metadata": {
        "id": "0iaSKL6adTBV"
      },
      "source": [
        "### 切分資料\n",
        "將資料依據label比例切分為training data與testing data"
      ]
    },
    {
      "cell_type": "code",
      "metadata": {
        "colab": {
          "base_uri": "https://localhost:8080/"
        },
        "id": "a61447UkdTBW",
        "outputId": "d8375dfc-4f32-4072-9961-69ffc5c16501"
      },
      "source": [
        "###<your code>###\n",
        "sms_train, sms_test = train_test_split(sms_data, test_size=0.2, random_state=1, stratify=sms_data['label'])\n",
        "sms_train = sms_train.reset_index(drop=True)\n",
        "sms_test = sms_test.reset_index(drop=True)\n",
        "print(sms_train.groupby(\"label\").count())\n",
        "print(sms_test.groupby(\"label\").count())"
      ],
      "execution_count": 55,
      "outputs": [
        {
          "output_type": "stream",
          "text": [
            "       content\n",
            "label         \n",
            "0         3859\n",
            "1          598\n",
            "       content\n",
            "label         \n",
            "0          966\n",
            "1          149\n"
          ],
          "name": "stdout"
        }
      ]
    },
    {
      "cell_type": "markdown",
      "metadata": {
        "id": "x-0G9vSAdTBW"
      },
      "source": [
        "### 資料預處理\n",
        "* 將所有字詞轉為小寫\n",
        "* 移除所有數字、標點符號"
      ]
    },
    {
      "cell_type": "code",
      "metadata": {
        "colab": {
          "base_uri": "https://localhost:8080/"
        },
        "id": "E21GRy5cne2c",
        "outputId": "090dde6e-5ac5-4680-bf98-8c5e269f1613"
      },
      "source": [
        "def preprocess(df: pd.DataFrame) -> pd.DataFrame:\n",
        "    \n",
        "    for i in range(len(df)):\n",
        "        # make all content to lowercase\n",
        "        df.loc[i,'content'] = df.loc[i,'content'].lower()\n",
        "\n",
        "        # remove all punctuations\n",
        "        df.loc[i,'content'] = ' '.join([w for w in re.findall('[a-z]+',df.loc[i,'content'])])\n",
        "        \n",
        "    \n",
        "    return df\n",
        "\n",
        "processed_train = preprocess(sms_train)\n",
        "processed_test = preprocess(sms_test)\n",
        "\n",
        "print(\"Train:\")\n",
        "print(processed_train.head())\n",
        "print(\"Test:\")\n",
        "print(processed_test.head())"
      ],
      "execution_count": 56,
      "outputs": [
        {
          "output_type": "stream",
          "text": [
            "Train:\n",
            "  label                                            content\n",
            "0     0  okay same with me well thanks for the clarific...\n",
            "1     0                  will b going to esplanade fr home\n",
            "2     1  reply to win weekly what professional sport do...\n",
            "3     0                                 shb b ok lor thanx\n",
            "4     1  private your account statement for shows un re...\n",
            "Test:\n",
            "  label                                            content\n",
            "0     0  dont hesitate you know this is the second time...\n",
            "1     0         didn t try g and i decided not to head out\n",
            "2     0  a swt thought nver get tired of doing little t...\n",
            "3     0  haha awesome i might need to take you up on th...\n",
            "4     0  no it s not pride i m almost lt gt years old a...\n"
          ],
          "name": "stdout"
        }
      ]
    },
    {
      "cell_type": "code",
      "metadata": {
        "colab": {
          "base_uri": "https://localhost:8080/"
        },
        "id": "GwupTZf8rQb3",
        "outputId": "4ab65816-2707-4aff-813a-ec1b54f51ca4"
      },
      "source": [
        "# split data into x_train, y_train, x_test, y_test\n",
        "y_train, x_train = zip(*processed_train.values)\n",
        "y_test, x_test = zip(*processed_test.values)\n",
        "\n",
        "# check numbers of unique word in the corpus\n",
        "len(set(\" \".join(list(x_train + x_test)).split()))"
      ],
      "execution_count": 57,
      "outputs": [
        {
          "output_type": "execute_result",
          "data": {
            "text/plain": [
              "7708"
            ]
          },
          "metadata": {
            "tags": []
          },
          "execution_count": 57
        }
      ]
    },
    {
      "cell_type": "markdown",
      "metadata": {
        "id": "CswJnWqvdTBX"
      },
      "source": [
        "### TF-IDF\n",
        "可以發現種共有7708個字詞，這裡使用TF-IDF將來選取最高分的前2000個字詞\n",
        "(若忘記的學員可參考先前TF-IDF課程章節或[此篇教學](https://ithelp.ithome.com.tw/articles/10228815?sc=iThelpR))"
      ]
    },
    {
      "cell_type": "code",
      "metadata": {
        "colab": {
          "base_uri": "https://localhost:8080/"
        },
        "id": "mE5wa6xkLVxO",
        "outputId": "b03e9b50-bf8a-44f1-8741-22fca2b8a8b0"
      },
      "source": [
        "vectorizer = TfidfVectorizer(max_features=2000)\n",
        "\n",
        "vectorizer.fit(x_train)\n",
        "\n",
        "tfidf_train = vectorizer.transform(x_train)\n",
        "tfidf_test = vectorizer.transform(x_test)\n",
        "\n",
        "print(f\"Number of unique word: {len(vectorizer.vocabulary_)}\")\n",
        "(tfidf_train, tfidf_test)"
      ],
      "execution_count": 58,
      "outputs": [
        {
          "output_type": "stream",
          "text": [
            "Number of unique word: 2000\n"
          ],
          "name": "stdout"
        },
        {
          "output_type": "execute_result",
          "data": {
            "text/plain": [
              "(<4457x2000 sparse matrix of type '<class 'numpy.float64'>'\n",
              " \twith 51200 stored elements in Compressed Sparse Row format>,\n",
              " <1115x2000 sparse matrix of type '<class 'numpy.float64'>'\n",
              " \twith 12251 stored elements in Compressed Sparse Row format>)"
            ]
          },
          "metadata": {
            "tags": []
          },
          "execution_count": 58
        }
      ]
    },
    {
      "cell_type": "markdown",
      "metadata": {
        "id": "Ktp-jPNcdTBY"
      },
      "source": [
        "### 建立共現矩陣"
      ]
    },
    {
      "cell_type": "code",
      "metadata": {
        "colab": {
          "base_uri": "https://localhost:8080/"
        },
        "id": "WET-h_BAdTBY",
        "outputId": "8096f30a-a520-409c-cde3-b4e897349522"
      },
      "source": [
        "def create_co_matrix(corpus: List[str], vocab_list: List[str], word2idx: dict,\n",
        "                     window_size: int=1, use_weighting: bool=False, verbose: bool=False) -> np.ndarray:\n",
        "    '''Function to create co-occurrence matrix\n",
        "    '''\n",
        "    #initialize co-occurrence matrix\n",
        "    co_matrix = np.zeros(shape=(len(word2idx), len(word2idx)), dtype=np.int32)\n",
        "    \n",
        "    for idx, sms in enumerate(corpus):\n",
        "        sms = sms.split() #將string轉成list\n",
        "        sms_ids = [word2idx[word] for word in sms if word in vocab_list] #取得word對應id\n",
        "        \n",
        "        for center_i, center_word_id in enumerate(sms_ids): #center i => word在sentence中的位置\n",
        "                                    #center_word_id => word_id\n",
        "\n",
        "            left_idx = center_i - window_size if center_i - window_size >= 0 else 0 #找出左邊的字的位置id\n",
        "            context_ids = sms_ids[left_idx:center_i] #context_ids == cneter_word 最左邊的word_id 到左邊第一個的word_id\n",
        "            context_len = len(context_ids)\n",
        "            \n",
        "            for left_i, left_id in enumerate(context_ids): \n",
        "                if use_weighting: #設定權重(離中間字愈近權重愈高)\n",
        "                    distance = context_len-left_i\n",
        "                    increment = 1./float(distance)\n",
        "                \n",
        "                else:\n",
        "                    increment = 1\n",
        "  \n",
        "                co_matrix[center_word_id, left_id] += increment #left\n",
        "                co_matrix[left_id, center_word_id] += increment #前一個的right\n",
        "        \n",
        "        if verbose:\n",
        "            if idx != 0 and idx%500 == 0:\n",
        "                    print(f\"finishing {idx+1}/{len(corpus)}\")\n",
        "    print(\"Done\")\n",
        "    if use_weighting:\n",
        "        #if use weighting, then we set the co-occurrence with the word itself to 1.0\n",
        "        np.fill_diagonal(co_matrix, 1)\n",
        "        \n",
        "    return co_matrix\n",
        "\n",
        "co_matrix = create_co_matrix(x_train, vectorizer.get_feature_names(), vectorizer.vocabulary_,\n",
        "                            window_size=3, use_weighting=True, verbose=True)\n",
        "\n",
        "co_matrix"
      ],
      "execution_count": 59,
      "outputs": [
        {
          "output_type": "stream",
          "text": [
            "finishing 501/4457\n",
            "finishing 1001/4457\n",
            "finishing 1501/4457\n",
            "finishing 2001/4457\n",
            "finishing 2501/4457\n",
            "finishing 3001/4457\n",
            "finishing 3501/4457\n",
            "finishing 4001/4457\n",
            "Done\n"
          ],
          "name": "stdout"
        },
        {
          "output_type": "execute_result",
          "data": {
            "text/plain": [
              "array([[1, 0, 0, ..., 0, 0, 0],\n",
              "       [0, 1, 0, ..., 0, 0, 0],\n",
              "       [0, 0, 1, ..., 0, 0, 0],\n",
              "       ...,\n",
              "       [0, 0, 0, ..., 1, 0, 0],\n",
              "       [0, 0, 0, ..., 0, 1, 0],\n",
              "       [0, 0, 0, ..., 0, 0, 1]], dtype=int32)"
            ]
          },
          "metadata": {
            "tags": []
          },
          "execution_count": 59
        }
      ]
    },
    {
      "cell_type": "markdown",
      "metadata": {
        "id": "hVej6DgVdTBZ"
      },
      "source": [
        "### 建立PPMI矩陣"
      ]
    },
    {
      "cell_type": "code",
      "metadata": {
        "id": "VsDcXBcZdTBZ",
        "colab": {
          "base_uri": "https://localhost:8080/"
        },
        "outputId": "474fefee-0146-4592-919f-07d5cca93bc4"
      },
      "source": [
        "#定義正向點間互資訊\n",
        "\n",
        "def ppmi(co_matrix: np.ndarray, eps: float=1e-8, verbose: bool=False):\n",
        "    M = np.zeros_like(co_matrix, dtype=np.float32)\n",
        "    N = np.sum(co_matrix)    #所有詞出現的總次數\n",
        "    S = np.sum(co_matrix,axis=0) #每個詞出現的總次數\n",
        "    total = co_matrix.shape[0] * co_matrix.shape[1]\n",
        "\n",
        "    for i in range(co_matrix.shape[0]):\n",
        "        for j in range(co_matrix.shape[1]):\n",
        "            pmi = np.log2(co_matrix[i,j]*N / S[i]*S[j]+eps )\n",
        "            M[i,j] = max(0,pmi)\n",
        "            \n",
        "            if verbose:\n",
        "                cnt += 1\n",
        "                if cnt % 10 == 0 or cnt == total:\n",
        "                    print(f\"{cnt}/{total} Done\")\n",
        "    \n",
        "    return M\n",
        "\n",
        "ppmi_matrix = ppmi(co_matrix, verbose=False)\n",
        "ppmi_matrix"
      ],
      "execution_count": 60,
      "outputs": [
        {
          "output_type": "execute_result",
          "data": {
            "text/plain": [
              "array([[16.681293,  0.      ,  0.      , ...,  0.      ,  0.      ,\n",
              "         0.      ],\n",
              "       [ 0.      , 16.681293,  0.      , ...,  0.      ,  0.      ,\n",
              "         0.      ],\n",
              "       [ 0.      ,  0.      , 16.681293, ...,  0.      ,  0.      ,\n",
              "         0.      ],\n",
              "       ...,\n",
              "       [ 0.      ,  0.      ,  0.      , ..., 16.681293,  0.      ,\n",
              "         0.      ],\n",
              "       [ 0.      ,  0.      ,  0.      , ...,  0.      , 16.681293,\n",
              "         0.      ],\n",
              "       [ 0.      ,  0.      ,  0.      , ...,  0.      ,  0.      ,\n",
              "        16.681293]], dtype=float32)"
            ]
          },
          "metadata": {
            "tags": []
          },
          "execution_count": 60
        }
      ]
    },
    {
      "cell_type": "markdown",
      "metadata": {
        "id": "m6ROdNnudTBZ"
      },
      "source": [
        "### 使用SVD降維\n",
        "利用sklearn中的TruncatedSVD對co-occurrence matrix進行降維，並利用variance來找出最適合的維度\n",
        "[參考文獻](https://medium.com/swlh/truncated-singular-value-decomposition-svd-using-amazon-food-reviews-891d97af5d8d)\n",
        "\n",
        "(讀者可以嘗試使用SVD對PPMI進行降維)"
      ]
    },
    {
      "cell_type": "code",
      "metadata": {
        "colab": {
          "base_uri": "https://localhost:8080/",
          "height": 533
        },
        "id": "DUcR3qh-MMPm",
        "outputId": "e316e1ef-1970-47b5-bed7-aff57b6629ae"
      },
      "source": [
        "# Program to find the optimal number of components for Truncated SVD\n",
        "n_comp = range(10,150,10) # list containing different values of components\n",
        "variance_sum = [] # explained variance ratio for each component of Truncated SVD\n",
        "\n",
        "for dim in n_comp:\n",
        "    svd = TruncatedSVD(n_components=dim, n_iter=7, random_state=42)\n",
        "    svd.fit(ppmi_matrix)\n",
        "    variance_sum.append(svd.explained_variance_ratio_.sum())\n",
        "    print(f'Number of components = {dim} and explained variance = {svd.explained_variance_ratio_.sum()}')\n",
        "plt.plot(n_comp, variance_sum)\n",
        "plt.xlabel('Number of components')\n",
        "plt.ylabel(\"Explained Variance\")\n",
        "plt.title(\"Plot of Number of components v/s explained variance\")\n",
        "plt.show()"
      ],
      "execution_count": 61,
      "outputs": [
        {
          "output_type": "stream",
          "text": [
            "Number of components = 10 and explained variance = 0.23811468482017517\n",
            "Number of components = 20 and explained variance = 0.31620872020721436\n",
            "Number of components = 30 and explained variance = 0.37466615438461304\n",
            "Number of components = 40 and explained variance = 0.42300885915756226\n",
            "Number of components = 50 and explained variance = 0.46427956223487854\n",
            "Number of components = 60 and explained variance = 0.4997705817222595\n",
            "Number of components = 70 and explained variance = 0.5314498543739319\n",
            "Number of components = 80 and explained variance = 0.5599030256271362\n",
            "Number of components = 90 and explained variance = 0.5855808258056641\n",
            "Number of components = 100 and explained variance = 0.6089972257614136\n",
            "Number of components = 110 and explained variance = 0.6304126381874084\n",
            "Number of components = 120 and explained variance = 0.6497201323509216\n",
            "Number of components = 130 and explained variance = 0.6676343083381653\n",
            "Number of components = 140 and explained variance = 0.6841432452201843\n"
          ],
          "name": "stdout"
        },
        {
          "output_type": "display_data",
          "data": {
            "image/png": "[encoded data removed]",
            "text/plain": [
              "<Figure size 432x288 with 1 Axes>"
            ]
          },
          "metadata": {
            "tags": [],
            "needs_background": "light"
          }
        }
      ]
    },
    {
      "cell_type": "code",
      "metadata": {
        "id": "HqAyyyk3dTBa",
        "colab": {
          "base_uri": "https://localhost:8080/"
        },
        "outputId": "6b5e4822-b20f-47f1-a0ee-91cb11b5fdf4"
      },
      "source": [
        "# choose 140 as final dimension to reduce to \n",
        "# 利用上述找到的最適合dimension來對co-occurrence matrix進行降維\n",
        "n_components = 140\n",
        "svd = TruncatedSVD(n_components, n_iter=7, random_state=42)\n",
        "re_co_matrix = svd.fit_transform(ppmi_matrix)\n",
        "\n",
        "print(f'Number of components = {n_components} and explained variance = {svd.explained_variance_ratio_.sum()}')"
      ],
      "execution_count": 62,
      "outputs": [
        {
          "output_type": "stream",
          "text": [
            "Number of components = 140 and explained variance = 0.6841432452201843\n"
          ],
          "name": "stdout"
        }
      ]
    },
    {
      "cell_type": "code",
      "metadata": {
        "colab": {
          "base_uri": "https://localhost:8080/"
        },
        "id": "J8vOZmiIZw3i",
        "outputId": "b8dfe427-a109-4a2c-f79f-cc0d9ebed7c0"
      },
      "source": [
        "re_co_matrix.shape"
      ],
      "execution_count": null,
      "outputs": [
        {
          "output_type": "execute_result",
          "data": {
            "text/plain": [
              "(2000, 140)"
            ]
          },
          "metadata": {
            "tags": []
          },
          "execution_count": 33
        }
      ]
    },
    {
      "cell_type": "markdown",
      "metadata": {
        "id": "wd0d3LundTBa"
      },
      "source": [
        "### 使用KNN模型進行分類\n",
        "在進行分類之前，先利用簡單的詞向量平均來計算文本向量\n",
        "\n",
        "[參考文獻](https://medium.com/ai-academy-taiwan/nlp-%E4%B8%8D%E5%90%8C%E8%A9%9E%E5%90%91%E9%87%8F%E5%9C%A8%E6%96%87%E6%9C%AC%E5%88%86%E9%A1%9E%E4%B8%8A%E7%9A%84%E8%A1%A8%E7%8F%BE%E8%88%87%E5%AF%A6%E4%BD%9C-e72a2daecfc)"
      ]
    },
    {
      "cell_type": "code",
      "metadata": {
        "colab": {
          "base_uri": "https://localhost:8080/"
        },
        "id": "79caydTMXL5E",
        "outputId": "a72d9a4e-d30d-4ce6-dcfe-cd32c5ace95f"
      },
      "source": [
        "# get doc vector via take mean of all word vectors inside the corresponding document\n",
        "\n",
        "def make_doc_vectors(corpus: List[str], word2idx: dict, vocab_list: List) -> List[np.ndarray]:\n",
        "    \n",
        "    # vectorizing data \n",
        "    # and make document vector by take mean to all word vecto\n",
        "    doc_vec = []\n",
        "    empty_doc_list = []\n",
        "    for i, sms_msg in enumerate(corpus):\n",
        "        sms_msg = [word2idx[word] for word in sms_msg.split() if word in vocab_list] #tokenize\n",
        "        if len(sms_msg) > 0:\n",
        "            sms_msg = np.array([re_co_matrix[ids] for ids in sms_msg]) #每個文字的向量\n",
        "            doc_vec.append(sms_msg.mean(axis=0))\n",
        "        else:\n",
        "            empty_doc_list.append(i)\n",
        "            print(f\"document {i} doesn't contain word in vocab_list\")\n",
        "            print(corpus[i])\n",
        "            print(\"\\n\")\n",
        "        \n",
        "    return np.vstack(doc_vec), empty_doc_list\n",
        "\n",
        "word2idx = vectorizer.vocabulary_\n",
        "vocab_list = vectorizer.get_feature_names()\n",
        "\n",
        "doc_vec_train, missing_train_list = make_doc_vectors(x_train, word2idx, vocab_list)\n",
        "print(\"=\"*50)\n",
        "doc_vec_test, missing_test_list = make_doc_vectors(x_test, word2idx, vocab_list)"
      ],
      "execution_count": 63,
      "outputs": [
        {
          "output_type": "stream",
          "text": [
            "document 215 doesn't contain word in vocab_list\n",
            "erutupalam thandiyachu\n",
            "\n",
            "\n",
            "document 580 doesn't contain word in vocab_list\n",
            "\n",
            "\n",
            "\n",
            "document 976 doesn't contain word in vocab_list\n",
            "garbage bags eggs jam bread hannaford wheat chex\n",
            "\n",
            "\n",
            "document 1051 doesn't contain word in vocab_list\n",
            "east coast\n",
            "\n",
            "\n",
            "document 1442 doesn't contain word in vocab_list\n",
            "audrie lousy autocorrect\n",
            "\n",
            "\n",
            "document 1652 doesn't contain word in vocab_list\n",
            "beerage\n",
            "\n",
            "\n",
            "document 1894 doesn't contain word in vocab_list\n",
            "\n",
            "\n",
            "\n",
            "document 2222 doesn't contain word in vocab_list\n",
            "hanks lotsly\n",
            "\n",
            "\n",
            "document 2553 doesn't contain word in vocab_list\n",
            "ringtoneking\n",
            "\n",
            "\n",
            "document 2875 doesn't contain word in vocab_list\n",
            "u\n",
            "\n",
            "\n",
            "document 2993 doesn't contain word in vocab_list\n",
            "k k congratulation\n",
            "\n",
            "\n",
            "document 3421 doesn't contain word in vocab_list\n",
            "g w r\n",
            "\n",
            "\n",
            "document 4152 doesn't contain word in vocab_list\n",
            "raviyog peripherals bhayandar east\n",
            "\n",
            "\n",
            "==================================================\n",
            "document 47 doesn't contain word in vocab_list\n",
            "tf p\n",
            "\n",
            "\n",
            "document 58 doesn't contain word in vocab_list\n",
            "received understood n acted upon\n",
            "\n",
            "\n",
            "document 748 doesn't contain word in vocab_list\n",
            "\n",
            "\n",
            "\n",
            "document 1065 doesn't contain word in vocab_list\n",
            "ultimately tor motive tui achieve korli\n",
            "\n",
            "\n"
          ],
          "name": "stdout"
        }
      ]
    },
    {
      "cell_type": "code",
      "metadata": {
        "id": "uH-j3gQAdTBb"
      },
      "source": [
        "from sklearn.neighbors import KNeighborsClassifier\n",
        "\n",
        "# training\n",
        "y_train_filter = np.delete(np.array(y_train), missing_train_list)\n",
        "\n",
        "neigh = KNeighborsClassifier(n_neighbors=3)\n",
        "neigh.fit(doc_vec_train, y_train_filter)\n",
        "train_pred = neigh.predict(doc_vec_train)\n",
        "# testing\n",
        "y_test_filter = np.delete(np.array(y_test), missing_test_list)\n",
        "test_pred = neigh.predict(doc_vec_test)"
      ],
      "execution_count": 64,
      "outputs": []
    },
    {
      "cell_type": "code",
      "metadata": {
        "colab": {
          "base_uri": "https://localhost:8080/"
        },
        "id": "6fNUK4VnklfI",
        "outputId": "dedab9a5-943b-419f-f918-d9283b2917ce"
      },
      "source": [
        "print(f\"train acc: {np.sum(train_pred == y_train_filter) / len(y_train_filter)}\")\n",
        "print(f\"test acc: {np.sum(test_pred == y_test_filter) / len(y_test_filter)}\")"
      ],
      "execution_count": 65,
      "outputs": [
        {
          "output_type": "stream",
          "text": [
            "train acc: 0.9707470747074708\n",
            "test acc: 0.9576957695769577\n"
          ],
          "name": "stdout"
        }
      ]
    }
  ]
}