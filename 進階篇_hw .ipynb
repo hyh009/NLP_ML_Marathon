{
  "nbformat": 4,
  "nbformat_minor": 0,
  "metadata": {
    "language_info": {
      "codemirror_mode": {
        "name": "ipython",
        "version": 3
      },
      "file_extension": ".py",
      "mimetype": "text/x-python",
      "name": "python",
      "nbconvert_exporter": "python",
      "pygments_lexer": "ipython3",
      "version": "3.6.5-final"
    },
    "orig_nbformat": 2,
    "kernelspec": {
      "name": "python36564bitc3c936632e8a4243a25c20fc16c690eb",
      "display_name": "Python 3.6.5 64-bit"
    },
    "colab": {
      "name": "進階篇_hw.ipynb",
      "provenance": [],
      "collapsed_sections": [],
      "toc_visible": true
    }
  },
  "cells": [
    {
      "cell_type": "markdown",
      "metadata": {
        "id": "J45HpOhhX745"
      },
      "source": [
        "# 自製智能中文選字系統  (2)"
      ]
    },
    {
      "cell_type": "code",
      "metadata": {
        "colab": {
          "base_uri": "https://localhost:8080/",
          "height": 35
        },
        "id": "cGMP77liX74_",
        "outputId": "5a04a470-a805-4d1c-e624-bab43b55e359"
      },
      "source": [
        "import sys\n",
        "sys.version"
      ],
      "execution_count": null,
      "outputs": [
        {
          "output_type": "execute_result",
          "data": {
            "application/vnd.google.colaboratory.intrinsic+json": {
              "type": "string"
            },
            "text/plain": [
              "'3.7.10 (default, Feb 20 2021, 21:17:23) \\n[GCC 7.5.0]'"
            ]
          },
          "metadata": {
            "tags": []
          },
          "execution_count": 2
        }
      ]
    },
    {
      "cell_type": "code",
      "metadata": {
        "colab": {
          "base_uri": "https://localhost:8080/"
        },
        "id": "WrVaPI2iYDf2",
        "outputId": "b06d3472-e55b-4535-e6c5-6d97f5f618f8"
      },
      "source": [
        "from google.colab import drive\n",
        "drive.mount('/content/drive')"
      ],
      "execution_count": 1,
      "outputs": [
        {
          "output_type": "stream",
          "text": [
            "Mounted at /content/drive\n"
          ],
          "name": "stdout"
        }
      ]
    },
    {
      "cell_type": "markdown",
      "metadata": {
        "id": "9AwKNdraX75A"
      },
      "source": [
        "確認版本為 python3"
      ]
    },
    {
      "cell_type": "markdown",
      "metadata": {
        "id": "qjXvaguYX75B"
      },
      "source": [
        "## 資料前處理"
      ]
    },
    {
      "cell_type": "code",
      "metadata": {
        "id": "_RYcujuXX75B"
      },
      "source": [
        "import re"
      ],
      "execution_count": 2,
      "outputs": []
    },
    {
      "cell_type": "code",
      "metadata": {
        "id": "39icMB7LX75C"
      },
      "source": [
        "def prepocess_line(line):\n",
        "    chinese_pattern = r'[\\u4E00-\\u9FFF]+'\n",
        "    segments = re.findall(chinese_pattern, line, flags=re.UNICODE)\n",
        "    return segments"
      ],
      "execution_count": 3,
      "outputs": []
    },
    {
      "cell_type": "code",
      "metadata": {
        "tags": [],
        "id": "9fBzB4s-X75C"
      },
      "source": [
        "segments = []\n",
        "with open('/content/drive/MyDrive/NLP/wiki_zh_small.txt') as fr:\n",
        "    for line in fr.readlines():\n",
        "        segments += prepocess_line(line)"
      ],
      "execution_count": 4,
      "outputs": []
    },
    {
      "cell_type": "markdown",
      "metadata": {
        "id": "Tl5kpILnX75C"
      },
      "source": [
        "## 斷詞"
      ]
    },
    {
      "cell_type": "code",
      "metadata": {
        "tags": [],
        "colab": {
          "base_uri": "https://localhost:8080/"
        },
        "id": "Y5ajffv7X75D",
        "outputId": "ed529457-e3d9-4346-a9dd-e74869823d62"
      },
      "source": [
        "!pip install jieba"
      ],
      "execution_count": null,
      "outputs": [
        {
          "output_type": "stream",
          "text": [
            "Requirement already satisfied: jieba in /usr/local/lib/python3.7/dist-packages (0.42.1)\n"
          ],
          "name": "stdout"
        }
      ]
    },
    {
      "cell_type": "code",
      "metadata": {
        "id": "EyTAIS0ZX75D"
      },
      "source": [
        "import jieba"
      ],
      "execution_count": 5,
      "outputs": []
    },
    {
      "cell_type": "code",
      "metadata": {
        "tags": [],
        "colab": {
          "base_uri": "https://localhost:8080/"
        },
        "id": "kyNaAykhX75D",
        "outputId": "2d882f5e-4d28-4fac-96a0-5edc185f60b0"
      },
      "source": [
        "list(jieba.cut_for_search(segments[6001]))"
      ],
      "execution_count": 6,
      "outputs": [
        {
          "output_type": "stream",
          "text": [
            "Building prefix dict from the default dictionary ...\n",
            "Dumping model to file cache /tmp/jieba.cache\n",
            "Loading model cost 1.044 seconds.\n",
            "Prefix dict has been built successfully.\n"
          ],
          "name": "stderr"
        },
        {
          "output_type": "execute_result",
          "data": {
            "text/plain": [
              "['所以', '僅用', '於', '還原', '一些', '貴重', '的', '化合', '化合物']"
            ]
          },
          "metadata": {
            "tags": []
          },
          "execution_count": 6
        }
      ]
    },
    {
      "cell_type": "code",
      "metadata": {
        "tags": [],
        "id": "urbb8zKyX75E"
      },
      "source": [
        "cut_segments = []\n",
        "for seg in segments:\n",
        "    # 使用結巴斷詞的 cut_for_search\n",
        "    cut_segments.append(''.join(jieba.cut_for_search(seg)))"
      ],
      "execution_count": 7,
      "outputs": []
    },
    {
      "cell_type": "markdown",
      "metadata": {
        "id": "R7tdY_4HX75E"
      },
      "source": [
        "## 使用斷詞的結果來作Ngram"
      ]
    },
    {
      "cell_type": "code",
      "metadata": {
        "id": "LFHf5sIJX75E"
      },
      "source": [
        "from collections import Counter\n",
        "\n",
        "class Counters:\n",
        "    def __init__(self, n):\n",
        "        self.n = n\n",
        "        self.counters = [Counter() for _ in range(n + 1)]\n",
        "\n",
        "    def fit(self, segments):\n",
        "        for i in range(1, 1 + self.n):\n",
        "            for segment in segments:\n",
        "                self.counters[i] += Counter(self._skip(segment, i))\n",
        "\n",
        "        base_count = sum(dict(self.counters[1]).values())\n",
        "        self.counters[0] = Counter({'': base_count})\n",
        "\n",
        "    def __getitem__(self, k):\n",
        "        return self.counters[k]\n",
        "\n",
        "    def _skip(self, segment, n):\n",
        "        assert n > 0\n",
        "        if len(segment) < n:\n",
        "            return []\n",
        "        shift = n - 1\n",
        "        for i in range(len(segment) - shift):\n",
        "            yield segment[i:i+shift+1]"
      ],
      "execution_count": 8,
      "outputs": []
    },
    {
      "cell_type": "code",
      "metadata": {
        "id": "QSF29BKDX75E"
      },
      "source": [
        "counters = Counters(n=5)\n",
        "counters.fit(cut_segments)"
      ],
      "execution_count": 9,
      "outputs": []
    },
    {
      "cell_type": "code",
      "metadata": {
        "id": "E_HfzTcNX75F"
      },
      "source": [
        "class Ngram:\n",
        "    def __init__(self, n, counters):\n",
        "        assert n <= counters.n\n",
        "        self.n = n\n",
        "        self.major_counter = counters[n]\n",
        "        self.minor_counter = counters[n-1]\n",
        "\n",
        "    def predict_proba(self, prefix='', top_k=5):\n",
        "        assert len(prefix) >= self.n - 1\n",
        "\n",
        "        reference = prefix[-(self.n - 1):] if self.n > 1 else ''\n",
        "        count_referecne = self.minor_counter[reference]\n",
        "        probs = []\n",
        "        for key, count in dict(self.major_counter).items():\n",
        "            if key.startswith(reference):\n",
        "                prob = count / count_referecne\n",
        "                probs.append((prob, key[-1]))\n",
        "        sorted_probs = sorted(probs, reverse=True)\n",
        "        return sorted_probs[:top_k] if top_k > 0 else sorted_probs\n",
        "\n",
        "    def get_proba_dict(self, prefix=''):\n",
        "        return {word: prob for prob, word in self.predict_proba(prefix, top_k=-1)}"
      ],
      "execution_count": 10,
      "outputs": []
    },
    {
      "cell_type": "code",
      "metadata": {
        "id": "XOXAN494X75F"
      },
      "source": [
        "ngrams = [Ngram(i, counters) for i in range(1, 6)]"
      ],
      "execution_count": 11,
      "outputs": []
    },
    {
      "cell_type": "code",
      "metadata": {
        "id": "e8ygxO_P3fnF"
      },
      "source": [
        "proba_dicts = [ngram.get_proba_dict('法') for ngram in ngrams[:2]]"
      ],
      "execution_count": null,
      "outputs": []
    },
    {
      "cell_type": "code",
      "metadata": {
        "id": "e_0tSozN_JD6"
      },
      "source": [
        "proba_dicts[1]"
      ],
      "execution_count": null,
      "outputs": []
    },
    {
      "cell_type": "markdown",
      "metadata": {
        "id": "s0fx6tPfX75F"
      },
      "source": [
        "## 使用Smoothing of Language Models來建立第二版選字系統"
      ]
    },
    {
      "cell_type": "code",
      "metadata": {
        "id": "dCj3k3CtX75F"
      },
      "source": [
        "class ChineseWordRecommenderV2:\n",
        "    def __init__(self, ngrams):\n",
        "        self.ngrams = ngrams\n",
        "    \n",
        "    def predict_proba(self, prefix='', top_k=5, how='backoff'):\n",
        "        interpolation_lambda = 0.99\n",
        "        proba_dicts = [ngram.get_proba_dict(prefix) for ngram in ngrams[:len(prefix)+1]]\n",
        "\n",
        "        # 在此你可以選擇兩種 Smoothing of Language Models 的方法：\n",
        "        # Back-off Smoothing 或 Interpolation Smoothing\n",
        "        # 如果你選擇 Interpolation Smoothing，你可以運用已經準備好的輔助函式\n",
        "        # _get_interpolation_proba 來達到此目的\n",
        "        \n",
        "\n",
        "        result, words = [] , []\n",
        "        a,i=1,0\n",
        "\n",
        "        while len(prefix)-i >= 0:\n",
        "            if proba_dicts[len(prefix)-i] != {}:\n",
        "                for word, prob in proba_dicts[len(prefix)-i].items():\n",
        "                    if word not in words:\n",
        "                        result.append((prob*a,word))\n",
        "                        words.append(word)\n",
        "                i+=1\n",
        "                a=a*0.4\n",
        "            else:\n",
        "                i+=1\n",
        "                a=a*0.4\n",
        "        result.sort(key=lambda x: x[0],reverse=True)\n",
        "        return result[:top_k]\n",
        "\n",
        "    \n",
        "    def _get_interpolation_proba(self, word, proba_dicts, interp_lambda, idx=None):\n",
        "        if idx is None:\n",
        "            idx = len(proba_dicts) - 1\n",
        "        if idx == 0:\n",
        "            return proba_dicts[idx].get(word, 0.)\n",
        "        return interp_lambda * proba_dicts[idx].get(word, 0.) + \\\n",
        "               (1 - interp_lambda) * self._get_interpolation_proba(word, proba_dicts, interp_lambda, idx=idx-1)"
      ],
      "execution_count": 20,
      "outputs": []
    },
    {
      "cell_type": "code",
      "metadata": {
        "id": "Fn3jJMtJX75G"
      },
      "source": [
        "model = ChineseWordRecommenderV2(ngrams)"
      ],
      "execution_count": 21,
      "outputs": []
    },
    {
      "cell_type": "code",
      "metadata": {
        "colab": {
          "base_uri": "https://localhost:8080/"
        },
        "id": "4QuXsrnf97mp",
        "outputId": "4f3c940c-cf84-449d-b028-dde78665beae"
      },
      "source": [
        "probs = model.predict_proba('法', top_k=10, how = 'interpolation')\n",
        "probs"
      ],
      "execution_count": 22,
      "outputs": [
        {
          "output_type": "execute_result",
          "data": {
            "text/plain": [
              "[(0.05585106382978723, '國'),\n",
              " (0.044326241134751775, '律'),\n",
              " (0.031914893617021274, '的'),\n",
              " (0.030141843971631204, '院'),\n",
              " (0.020390070921985817, '語'),\n",
              " (0.020390070921985817, '系'),\n",
              " (0.016843971631205674, '法'),\n",
              " (0.016843971631205674, '是'),\n",
              " (0.014184397163120567, '和'),\n",
              " (0.01152482269503546, '蘭')]"
            ]
          },
          "metadata": {
            "tags": []
          },
          "execution_count": 22
        }
      ]
    },
    {
      "cell_type": "markdown",
      "metadata": {
        "id": "Uc9PwoUEX75G"
      },
      "source": [
        "## Demo"
      ]
    },
    {
      "cell_type": "code",
      "metadata": {
        "id": "fCEakXnaX75H"
      },
      "source": [
        "import ipywidgets as widgets\n",
        "\n",
        "text = widgets.Textarea()\n",
        "label = widgets.Label()\n",
        "display(label, text)\n",
        "\n",
        "def func(change):\n",
        "    probs = model.predict_proba(change.new, top_k=10)\n",
        "    label.value = ' ' + '\\t'.join([word for prob, word in probs])\n",
        "\n",
        "text.observe(func, names='value')"
      ],
      "execution_count": null,
      "outputs": []
    },
    {
      "cell_type": "code",
      "metadata": {
        "id": "iciV1GCEX75H"
      },
      "source": [
        ""
      ],
      "execution_count": null,
      "outputs": []
    }
  ]
}