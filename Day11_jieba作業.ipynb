{
  "nbformat": 4,
  "nbformat_minor": 0,
  "metadata": {
    "kernelspec": {
      "display_name": "Python 3",
      "language": "python",
      "name": "python3"
    },
    "language_info": {
      "codemirror_mode": {
        "name": "ipython",
        "version": 3
      },
      "file_extension": ".py",
      "mimetype": "text/x-python",
      "name": "python",
      "nbconvert_exporter": "python",
      "pygments_lexer": "ipython3",
      "version": "3.7.4"
    },
    "colab": {
      "name": "Day11- jieba作業.ipynb",
      "provenance": [],
      "collapsed_sections": []
    }
  },
  "cells": [
    {
      "cell_type": "markdown",
      "metadata": {
        "id": "p9W6-r6Qdr14"
      },
      "source": [
        "## 作業目標：運用課程所學，操作字串達到預期輸出"
      ]
    },
    {
      "cell_type": "markdown",
      "metadata": {
        "id": "UtXH1UDHdr1-"
      },
      "source": [
        "* 自行尋找一篇超過100字的文章\n",
        "    * 首先運用結巴斷詞，自行新增字典使得斷詞更為正確\n",
        "    * 使用jieba 完成 PoS Taggin\n",
        "    * 新增的詞也必須賦予詞性"
      ]
    },
    {
      "cell_type": "markdown",
      "metadata": {
        "id": "JqU6qypidr1_"
      },
      "source": [
        "---"
      ]
    },
    {
      "cell_type": "code",
      "metadata": {
        "colab": {
          "base_uri": "https://localhost:8080/"
        },
        "id": "aCHeJUdzdxxV",
        "outputId": "cb5670e7-dde7-4fb1-e770-25cafe7ed57b"
      },
      "source": [
        "from google.colab import drive\n",
        "drive.mount('/content/drive')"
      ],
      "execution_count": 1,
      "outputs": [
        {
          "output_type": "stream",
          "text": [
            "Mounted at /content/drive\n"
          ],
          "name": "stdout"
        }
      ]
    },
    {
      "cell_type": "code",
      "metadata": {
        "id": "Y_xrUSH5dr2A"
      },
      "source": [
        "import jieba\n",
        "import jieba.posseg as pseg\n",
        "jieba.set_dictionary('/content/drive/MyDrive/NLP/dict.txt.big')"
      ],
      "execution_count": 2,
      "outputs": []
    },
    {
      "cell_type": "markdown",
      "metadata": {
        "id": "e8hDJEi3dr2A"
      },
      "source": [
        "---"
      ]
    },
    {
      "cell_type": "code",
      "metadata": {
        "id": "fQHDNorEdr2B"
      },
      "source": [
        "sentence = '''這是敘述近年來，AI 應用已無所不在，不論在新創或是傳產領域，都可能透過機器學習解決過去難以解決的問題。但目前台灣企業在 AI 導入的腳步仍然緩慢，除了人才嚴重短缺，教育資源無法即時跟上產業變異也是原因之一。因此，我們發起了「 機器學習 百日馬拉松 」教練陪跑計劃，翻轉傳統上課模式，以自主練習為主，幫助你獲得最大學習成效，搶先一步進入 AI 人工智能領域。'''"
      ],
      "execution_count": 4,
      "outputs": []
    },
    {
      "cell_type": "code",
      "metadata": {
        "colab": {
          "base_uri": "https://localhost:8080/"
        },
        "id": "jaufYBz2dr2B",
        "outputId": "6adb649d-744a-4b56-efb2-f7c5aa04f5b6"
      },
      "source": [
        "print(sentence)"
      ],
      "execution_count": 5,
      "outputs": [
        {
          "output_type": "stream",
          "text": [
            "這是敘述近年來，AI 應用已無所不在，不論在新創或是傳產領域，都可能透過機器學習解決過去難以解決的問題。但目前台灣企業在 AI 導入的腳步仍然緩慢，除了人才嚴重短缺，教育資源無法即時跟上產業變異也是原因之一。因此，我們發起了「 機器學習 百日馬拉松 」教練陪跑計劃，翻轉傳統上課模式，以自主練習為主，幫助你獲得最大學習成效，搶先一步進入 AI 人工智能領域。\n"
          ],
          "name": "stdout"
        }
      ]
    },
    {
      "cell_type": "code",
      "metadata": {
        "colab": {
          "base_uri": "https://localhost:8080/"
        },
        "id": "QXe2npd1dr2C",
        "outputId": "3d96646e-5f1a-436c-9b72-24fc6313af07"
      },
      "source": [
        "seg = jieba.cut(sentence)\n",
        "seg = '|'.join(seg)\n",
        "print(f'output 精確模式:{seg}')"
      ],
      "execution_count": 6,
      "outputs": [
        {
          "output_type": "stream",
          "text": [
            "Building prefix dict from /content/drive/MyDrive/NLP/dict.txt.big ...\n",
            "Dumping model to file cache /tmp/jieba.u67cbe97c857ec9809d2a6fb43fe09b0f.cache\n",
            "Loading model cost 2.333 seconds.\n",
            "Prefix dict has been built successfully.\n"
          ],
          "name": "stderr"
        },
        {
          "output_type": "stream",
          "text": [
            "output 精確模式:這是|敘述|近年來|，|AI| |應用|已|無所不在|，|不論|在|新創|或是|傳產|領域|，|都|可能|透過|機器|學習|解決|過去|難以解決|的|問題|。|但|目前|台灣|企業|在| |AI| |導入|的|腳步|仍然|緩慢|，|除了|人才|嚴重|短缺|，|教育資源|無法|即時|跟上|產業|變異|也|是|原因|之一|。|因此|，|我們|發起|了|「| |機器|學習| |百日|馬拉松| |」|教練|陪|跑|計劃|，|翻轉|傳統|上課|模式|，|以|自主|練習|為主|，|幫助|你|獲得|最大|學習|成效|，|搶先一步|進入| |AI| |人工智能|領域|。\n"
          ],
          "name": "stdout"
        }
      ]
    },
    {
      "cell_type": "markdown",
      "metadata": {
        "id": "p3AG7cSidr2C"
      },
      "source": [
        "## 新增字典"
      ]
    },
    {
      "cell_type": "code",
      "metadata": {
        "colab": {
          "base_uri": "https://localhost:8080/"
        },
        "id": "GuJNiUz6lrc8",
        "outputId": "43427957-3083-4de1-fdc2-3a7c98272904"
      },
      "source": [
        "## 新增單詞 ，格式：每行包含一個單詞 詞頻(可省略) 詞性(可省略)\n",
        "new_words = '陪跑\\n自主練習\\n機器學習\\n傳產'\n",
        "with open('new_words.txt', 'w') as file:\n",
        "\tfile.write(new_words)\n",
        "\n",
        "## 讀入字典\n",
        "jieba.load_userdict('new_words.txt')\n",
        "\n",
        "print(\"output 精確模式: {}\".format('|'.join(jieba.cut(sentence, cut_all=False, HMM=False))))\n"
      ],
      "execution_count": 7,
      "outputs": [
        {
          "output_type": "stream",
          "text": [
            "output 精確模式: 這|是|敘述|近年來|，|AI| |應用|已|無所不在|，|不論|在|新創|或是|傳產|領域|，|都|可能|透過|機器學習|解決|過去|難以解決|的|問題|。|但|目前|台|灣|企業|在| |AI| |導入|的|腳步|仍然|緩慢|，|除了|人才|嚴重|短缺|，|教育資源|無法|即時|跟上|產業|變異|也|是|原因|之一|。|因此|，|我們|發起|了|「| |機器學習| |百日|馬拉松| |」|教練|陪跑|計劃|，|翻轉|傳統|上課|模式|，|以|自主練習|為|主|，|幫助|你|獲得|最大|學習|成效|，|搶先一步|進入| |AI| |人工智能|領域|。\n"
          ],
          "name": "stdout"
        }
      ]
    },
    {
      "cell_type": "markdown",
      "metadata": {
        "id": "6H2iZS33dr2D"
      },
      "source": [
        "## Taggin"
      ]
    },
    {
      "cell_type": "code",
      "metadata": {
        "colab": {
          "base_uri": "https://localhost:8080/"
        },
        "id": "-ZZ8CO0Tdr2E",
        "outputId": "87222f52-02f1-458f-8d7d-ea8f3d73cf0b"
      },
      "source": [
        "words = pseg.cut(sentence,)\n",
        "for word, flag in words:\n",
        "    print(word, flag)"
      ],
      "execution_count": 8,
      "outputs": [
        {
          "output_type": "stream",
          "text": [
            "這 r\n",
            "是 v\n",
            "敘述 x\n",
            "近年來 x\n",
            "， x\n",
            "AI eng\n",
            "  x\n",
            "應用 x\n",
            "已 d\n",
            "無所不在 x\n",
            "， x\n",
            "不論 x\n",
            "在 p\n",
            "新創 x\n",
            "或是 c\n",
            "傳產 x\n",
            "領域 x\n",
            "， x\n",
            "都 d\n",
            "可能 v\n",
            "透過 x\n",
            "機器學習 x\n",
            "解決 x\n",
            "過去 x\n",
            "難以解決 x\n",
            "的 uj\n",
            "問題 x\n",
            "。 x\n",
            "但 c\n",
            "目前 t\n",
            "台灣 ns\n",
            "企業 x\n",
            "在 p\n",
            "  x\n",
            "AI eng\n",
            "  x\n",
            "導入 x\n",
            "的 uj\n",
            "腳步 x\n",
            "仍然 d\n",
            "緩慢 x\n",
            "， x\n",
            "除了 p\n",
            "人才 n\n",
            "嚴重 x\n",
            "短缺 a\n",
            "， x\n",
            "教育資源 x\n",
            "無法 x\n",
            "即時 x\n",
            "跟上 f\n",
            "產業 x\n",
            "變異 x\n",
            "也 d\n",
            "是 v\n",
            "原因 n\n",
            "之一 r\n",
            "。 x\n",
            "因此 c\n",
            "， x\n",
            "我們 x\n",
            "發起 x\n",
            "了 ul\n",
            "「 x\n",
            "  x\n",
            "機器學習 x\n",
            "  x\n",
            "百日 m\n",
            "馬拉松 x\n",
            "  x\n",
            "」 x\n",
            "教練 x\n",
            "陪跑 x\n",
            "計劃 x\n",
            "， x\n",
            "翻轉 x\n",
            "傳統 x\n",
            "上課 x\n",
            "模式 n\n",
            "， x\n",
            "以 p\n",
            "自主練習 x\n",
            "為 p\n",
            "主 b\n",
            "， x\n",
            "幫助 x\n",
            "你 r\n",
            "獲得 x\n",
            "最大 a\n",
            "學習 x\n",
            "成效 a\n",
            "， x\n",
            "搶先一步 x\n",
            "進入 x\n",
            "  x\n",
            "AI eng\n",
            "  x\n",
            "人工智能 n\n",
            "領域 x\n",
            "。 x\n"
          ],
          "name": "stdout"
        }
      ]
    },
    {
      "cell_type": "code",
      "metadata": {
        "id": "c9BzLG9Jdr2E"
      },
      "source": [
        ""
      ],
      "execution_count": null,
      "outputs": []
    }
  ]
}