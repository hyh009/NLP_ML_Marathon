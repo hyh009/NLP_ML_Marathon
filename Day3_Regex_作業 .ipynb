{
  "nbformat": 4,
  "nbformat_minor": 0,
  "metadata": {
    "kernelspec": {
      "display_name": "pytorch_env",
      "language": "python",
      "name": "pytorch_env"
    },
    "language_info": {
      "codemirror_mode": {
        "name": "ipython",
        "version": 3
      },
      "file_extension": ".py",
      "mimetype": "text/x-python",
      "name": "python",
      "nbconvert_exporter": "python",
      "pygments_lexer": "ipython3",
      "version": "3.7.3"
    },
    "colab": {
      "name": "Day3_Regex_作業.ipynb",
      "provenance": [],
      "collapsed_sections": []
    }
  },
  "cells": [
    {
      "cell_type": "markdown",
      "metadata": {
        "id": "GNvhdZj8IFcw"
      },
      "source": [
        "# 作業目標: 利用正規表達式達到預期配對\n",
        "本次作業將以互動式網站[Regex101](https://regex101.com/)來做練習，請將所需配對文本複製貼上到Regex101的**TEST STRING**區塊來做練習"
      ]
    },
    {
      "cell_type": "code",
      "metadata": {
        "id": "kEK-iXQEVvdP"
      },
      "source": [
        "import re\n",
        "def findmatch(pattern,strs):\n",
        "  result = []\n",
        "  for s in strs:\n",
        "    match=re.findall(pattern,s)\n",
        "    if match != []:\n",
        "      print(match)"
      ],
      "execution_count": 1,
      "outputs": []
    },
    {
      "cell_type": "markdown",
      "metadata": {
        "id": "Hi3nO15sIFc8"
      },
      "source": [
        "### HW1: 電話號碼配對\n",
        "\n",
        "抓出在電話號碼的所在地區以及號碼\n",
        "\n",
        "```\n",
        "ex: 02-33334444 --> 配對02, 33334444\n",
        "```\n",
        "\n",
        "\n",
        "**所需配對文本:**\n",
        "```\n",
        "02-27208889\n",
        "04-2220-3585\n",
        "(06)-2991111\n",
        "(07)799-5678\n",
        "```\n",
        "\n",
        "**應配對出的結果為**\n",
        "```\n",
        "02, 27208889\n",
        "04, 22203585\n",
        "06, 2991111\n",
        "07, 7995678\n",
        "```"
      ]
    },
    {
      "cell_type": "code",
      "metadata": {
        "colab": {
          "base_uri": "https://localhost:8080/"
        },
        "id": "dZzpMr56VudM",
        "outputId": "7b8fc3c8-bfd1-440d-80c1-35db0571d519"
      },
      "source": [
        "strs = ['02-27208889','04-2220-3585','(06)-2991111','(07)799-5678']\n",
        "pattern = '\\d+'\n",
        "findmatch(pattern,strs)"
      ],
      "execution_count": 2,
      "outputs": [
        {
          "output_type": "stream",
          "text": [
            "['02', '27208889']\n",
            "['04', '2220', '3585']\n",
            "['06', '2991111']\n",
            "['07', '799', '5678']\n"
          ],
          "name": "stdout"
        }
      ]
    },
    {
      "cell_type": "markdown",
      "metadata": {
        "id": "uaz3d0BlIFc9"
      },
      "source": [
        "### HW2: 身分證字號配對\n",
        "請配對出找出桃園(H), 台南(D), 嘉義(Q)中為男生的身分證字號(數字為1開頭)\n",
        "\n",
        "**所需配對文本:**\n",
        "```\n",
        "A121040176\n",
        "L186856359\n",
        "Z127598010\n",
        "I114537095\n",
        "D279884447\n",
        "L186834359\n",
        "D243736345\n",
        "I114537095\n",
        "Q146110887\n",
        "D187217314\n",
        "I114537095\n",
        "Q243556025\n",
        "Z127598010\n",
        "H250077453\n",
        "Q188367037\n",
        "```\n",
        "\n",
        "**應配對出的結果為**\n",
        "```\n",
        "Q146110887\n",
        "D187217314\n",
        "Q188367037\n",
        "```"
      ]
    },
    {
      "cell_type": "code",
      "metadata": {
        "colab": {
          "base_uri": "https://localhost:8080/"
        },
        "id": "QZf5cTjxJ0rq",
        "outputId": "9174b4c7-7ded-45d3-b010-f711c2fbf193"
      },
      "source": [
        "strs = ['A121040176','L186856359','Z127598010','I114537095','D279884447','L186834359',\\\n",
        "        'D243736345','I114537095','Q146110887','D187217314','I114537095','Q243556025','Z127598010','H250077453','Q188367037']\n",
        "pattern = \"([HDQ]1\\d{8})\"\n",
        "findmatch(pattern,strs)"
      ],
      "execution_count": 3,
      "outputs": [
        {
          "output_type": "stream",
          "text": [
            "['Q146110887']\n",
            "['D187217314']\n",
            "['Q188367037']\n"
          ],
          "name": "stdout"
        }
      ]
    },
    {
      "cell_type": "markdown",
      "metadata": {
        "id": "WlbP-fnZIFc-"
      },
      "source": [
        "### HW3: 電子郵件配對\n",
        "請抓出非gmail的電子郵件\n",
        "\n",
        "**所需配對文本:**\n",
        "```\n",
        "foobar@gmail.com\n",
        "NoOneCareMe@gmail.com\n",
        "SaveTheWorld@hotmail.com\n",
        "zzzGroup@yahoo.com\n",
        "eagle1963@gmail.com\n",
        "maythefourthwithyiu@starwars.com\n",
        "```\n",
        "\n",
        "**應配對出的結果為**\n",
        "```\n",
        "SaveTheWorld@hotmail.com\n",
        "zzzGroup@yahoo.com\n",
        "maythefourthwithyiu@starwars.com\n",
        "```\n"
      ]
    },
    {
      "cell_type": "code",
      "metadata": {
        "colab": {
          "base_uri": "https://localhost:8080/"
        },
        "id": "AYjwt23dLFaw",
        "outputId": "818b008e-73a0-4605-bb70-58fae5433bec"
      },
      "source": [
        "strs = ['foobar@gmail.com','NoOneCareMe@gmail.com','SaveTheWorld@hotmail.com',\\\n",
        "        'zzzGroup@yahoo.com','eagle1963@gmail.com','maythefourthwithyiu@starwars.com']\n",
        "pattern = \"[\\w]+@(?!gmail)[A-Za-z]+.com\"\n",
        "findmatch(pattern,strs)"
      ],
      "execution_count": 4,
      "outputs": [
        {
          "output_type": "stream",
          "text": [
            "['SaveTheWorld@hotmail.com']\n",
            "['zzzGroup@yahoo.com']\n",
            "['maythefourthwithyiu@starwars.com']\n"
          ],
          "name": "stdout"
        }
      ]
    },
    {
      "cell_type": "markdown",
      "metadata": {
        "id": "LHoO9iuVIFc_"
      },
      "source": [
        "### HW4: HTML格式配對\n",
        "\n",
        "請抓出<TAG>當中的Tag就好，裡面的屬性請排除。\n",
        "\n",
        "```\n",
        "ex: <p class='test'> --> 抓出 p\n",
        "```\n",
        "\n",
        "**所需配對文本:**\n",
        "```\n",
        "<h1>This is a header 1</h1>\n",
        "<a>This is a hyperlink</a>\n",
        "<div class='test'>This is a text block</div>\n",
        "<a href=\"https://regexisfun.com.tw/\">Learning Regular Expression</a>\n",
        "```\n",
        "\n",
        "**應配對出的結果為**\n",
        "```\n",
        "h1\n",
        "a\n",
        "div\n",
        "a\n",
        "```"
      ]
    },
    {
      "cell_type": "code",
      "metadata": {
        "colab": {
          "base_uri": "https://localhost:8080/"
        },
        "id": "dkV8E4O_OHrW",
        "outputId": "81cfa080-f3ee-4236-bb9b-e4782a97ba99"
      },
      "source": [
        "strs = ['<h1>This is a header 1</h1>','<a>This is a hyperlink</a>','<div class=\\'test\\'>This is a text block</div>',\\\n",
        "'<a href=\\\"https://regexisfun.com.tw/\">Learning Regular Expression</a>']\n",
        "pattern = \"(?<=<)[A-Za-z0-9]+\"\n",
        "findmatch(pattern,strs)"
      ],
      "execution_count": 5,
      "outputs": [
        {
          "output_type": "stream",
          "text": [
            "['h1']\n",
            "['a']\n",
            "['div']\n",
            "['a']\n"
          ],
          "name": "stdout"
        }
      ]
    },
    {
      "cell_type": "markdown",
      "metadata": {
        "id": "eoj3nNc8IFdA"
      },
      "source": [
        "### HW5: 特定檔案名稱與格式配對\n",
        "\n",
        "在所有檔案中，抓出屬於 gif 或 jpg 的檔名。\n",
        "\n",
        "\n",
        "**所需配對文本:**\n",
        "```\n",
        ".bash_profile\n",
        "workShop.ai\n",
        "file_folderName_num.jpg\n",
        "favicon.png\n",
        "IMG_002.png\n",
        "IMG_003.gif\n",
        "qoo.jpg.tmp\n",
        "index.html\n",
        "foobar.bmp\n",
        "foobar.jpg\n",
        "account.html\n",
        "access.lock\n",
        "```\n",
        "\n",
        "**應配對出的結果為**\n",
        "```\n",
        "IMG_003.gif\n",
        "file_folderName_num.jpg\n",
        "foobar.jpg\n",
        "```"
      ]
    },
    {
      "cell_type": "code",
      "metadata": {
        "colab": {
          "base_uri": "https://localhost:8080/"
        },
        "id": "cJ_wOAk9Pcn6",
        "outputId": "ea7e0efb-a73d-42a4-d2da-17d2510f022f"
      },
      "source": [
        "strs = ['.bash_profile','workShop.ai','file_folderName_num.jpg','favicon.png',\\\n",
        "        'IMG_002.png','IMG_003.gif','qoo.jpg.tmp','index.html','foobar.bmp',\\\n",
        "        'foobar.jpg','account.html','access.lock']\n",
        "pattern = \"\\w+\\.gif$|\\w+\\.jpg$\"\n",
        "findmatch(pattern,strs)"
      ],
      "execution_count": 6,
      "outputs": [
        {
          "output_type": "stream",
          "text": [
            "['file_folderName_num.jpg']\n",
            "['IMG_003.gif']\n",
            "['foobar.jpg']\n"
          ],
          "name": "stdout"
        }
      ]
    },
    {
      "cell_type": "markdown",
      "metadata": {
        "id": "Kd3CTq6GIFdA"
      },
      "source": [
        "### HW6: URL配對\n",
        "\n",
        "請抓出 Url 中的協定方式, 網址, 與埠\n",
        "\n",
        "```\n",
        "ex: Https://localhost:4200/ --> 抓取 Https, localhost, 4200\n",
        "```\n",
        "\n",
        "**所需配對文本:**\n",
        "```\n",
        "ftp://file_server.com:21/account/customers.xml\n",
        "https://hengxiuxu.blogspot.tw/\n",
        "file://localhost:4200\n",
        "https://s3cur3-server.com:9999/\n",
        "```\n",
        "\n",
        "**應配對出的結果為**\n",
        "```\n",
        "ftp, file_server, 21\n",
        "https, hengxiuxu.blogspot.tw\n",
        "file, localhost, 4200\n",
        "https, s3cur3-server.com, 9999\n",
        "```"
      ]
    },
    {
      "cell_type": "code",
      "metadata": {
        "colab": {
          "base_uri": "https://localhost:8080/"
        },
        "id": "GUF6KkamIFdB",
        "outputId": "b5154825-589b-4ddb-c9eb-d6fd1c711540"
      },
      "source": [
        "strs = ['ftp://file_server.com:21/account/customers.xml','https://hengxiuxu.blogspot.tw/',\\\n",
        "        'file://localhost:4200','https://s3cur3-server.com:9999/']\n",
        "pattern =\"[a-z]+(?=://)|(?<=//)[a-z0-9_\\-\\.]+|(?<=:)[\\d]+\"\n",
        "findmatch(pattern,strs)"
      ],
      "execution_count": 7,
      "outputs": [
        {
          "output_type": "stream",
          "text": [
            "['ftp', 'file_server.com', '21']\n",
            "['https', 'hengxiuxu.blogspot.tw']\n",
            "['file', 'localhost', '4200']\n",
            "['https', 's3cur3-server.com', '9999']\n"
          ],
          "name": "stdout"
        }
      ]
    }
  ]
}