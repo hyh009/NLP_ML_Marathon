{
  "nbformat": 4,
  "nbformat_minor": 0,
  "metadata": {
    "colab": {
      "name": "Day24 -Naive Bayes實作作業.ipynb",
      "provenance": [],
      "collapsed_sections": [],
      "toc_visible": true,
      "machine_shape": "hm"
    },
    "kernelspec": {
      "display_name": "Python 3",
      "language": "python",
      "name": "python3"
    },
    "language_info": {
      "codemirror_mode": {
        "name": "ipython",
        "version": 3
      },
      "file_extension": ".py",
      "mimetype": "text/x-python",
      "name": "python",
      "nbconvert_exporter": "python",
      "pygments_lexer": "ipython3",
      "version": "3.7.4"
    }
  },
  "cells": [
    {
      "cell_type": "markdown",
      "metadata": {
        "id": "0MRC0e0KhQ0S"
      },
      "source": [
        "# Naive Bayes"
      ]
    },
    {
      "cell_type": "markdown",
      "metadata": {
        "id": "LWd1UlMnhT2s"
      },
      "source": [
        "## Importing the libraries"
      ]
    },
    {
      "cell_type": "code",
      "metadata": {
        "colab": {
          "base_uri": "https://localhost:8080/"
        },
        "id": "ZuoZdIUAX7AS",
        "outputId": "5e5b3340-7efb-4a76-b080-b83bc789c158"
      },
      "source": [
        "from google.colab import drive\n",
        "drive.mount('/content/drive')"
      ],
      "execution_count": 1,
      "outputs": [
        {
          "output_type": "stream",
          "text": [
            "Mounted at /content/drive\n"
          ],
          "name": "stdout"
        }
      ]
    },
    {
      "cell_type": "code",
      "metadata": {
        "id": "YvGPUQaHhXfL"
      },
      "source": [
        "import numpy as np\n",
        "import matplotlib.pyplot as plt\n",
        "import pandas as pd\n",
        "import os\n",
        "import glob\n",
        "import codecs\n",
        "import re\n",
        "import math"
      ],
      "execution_count": 1,
      "outputs": []
    },
    {
      "cell_type": "markdown",
      "metadata": {
        "id": "K1VMqkGvhc3-"
      },
      "source": [
        "## Importing the dataset"
      ]
    },
    {
      "cell_type": "code",
      "metadata": {
        "id": "fj5zBamPXzcz"
      },
      "source": [
        "dataset = pd.read_csv(r'/content/drive/MyDrive/NLP/datasets_483_982_spam.csv', encoding = 'latin-1')\n",
        "all_data = []\n",
        "\n",
        "for content,label in dataset[['v2','v1']].values:\n",
        "    if label == 'spam':\n",
        "        label = 1\n",
        "    else :\n",
        "        label = 0\n",
        "    all_data.append([content, label])\n",
        "all_data = np.array(all_data)"
      ],
      "execution_count": 2,
      "outputs": []
    },
    {
      "cell_type": "markdown",
      "metadata": {
        "id": "fv0CdhwfXzc0"
      },
      "source": [
        "### 取出訓練內文與標註"
      ]
    },
    {
      "cell_type": "code",
      "metadata": {
        "id": "8zUavneUXzc1"
      },
      "source": [
        "X = all_data[:,0]\n",
        "Y = all_data[:,1].astype(np.uint8)"
      ],
      "execution_count": 3,
      "outputs": []
    },
    {
      "cell_type": "code",
      "metadata": {
        "colab": {
          "base_uri": "https://localhost:8080/"
        },
        "id": "W_4VwvO2Xzc2",
        "outputId": "ba38739a-6453-47e1-a49e-2775665a3942"
      },
      "source": [
        "print('Training Data Examples : \\n{}'.format(X[:5]))"
      ],
      "execution_count": 4,
      "outputs": [
        {
          "output_type": "stream",
          "text": [
            "Training Data Examples : \n",
            "['Go until jurong point, crazy.. Available only in bugis n great world la e buffet... Cine there got amore wat...'\n",
            " 'Ok lar... Joking wif u oni...'\n",
            " \"Free entry in 2 a wkly comp to win FA Cup final tkts 21st May 2005. Text FA to 87121 to receive entry question(std txt rate)T&C's apply 08452810075over18's\"\n",
            " 'U dun say so early hor... U c already then say...'\n",
            " \"Nah I don't think he goes to usf, he lives around here though\"]\n"
          ],
          "name": "stdout"
        }
      ]
    },
    {
      "cell_type": "code",
      "metadata": {
        "colab": {
          "base_uri": "https://localhost:8080/"
        },
        "id": "Y_-qlONDXzc4",
        "outputId": "bd55bed7-48d5-48bd-dbfc-19283b963895"
      },
      "source": [
        "print('Labeling Data Examples : \\n{}'.format(Y[:5]))"
      ],
      "execution_count": 5,
      "outputs": [
        {
          "output_type": "stream",
          "text": [
            "Labeling Data Examples : \n",
            "[0 0 1 0 0]\n"
          ],
          "name": "stdout"
        }
      ]
    },
    {
      "cell_type": "markdown",
      "metadata": {
        "id": "T-1OvURwXzc5"
      },
      "source": [
        "### 文字預處理"
      ]
    },
    {
      "cell_type": "code",
      "metadata": {
        "colab": {
          "base_uri": "https://localhost:8080/"
        },
        "id": "5QzKYPz5Xzc6",
        "outputId": "585a6475-74a9-457e-d21f-7f3becb5907a"
      },
      "source": [
        "from sklearn.metrics import confusion_matrix\n",
        "from nltk.corpus import stopwords\n",
        "\n",
        "import nltk\n",
        "\n",
        "nltk.download('stopwords')\n",
        "\n",
        "# Lemmatize with POS Tag\n",
        "from nltk.corpus import wordnet\n",
        "from nltk.stem import WordNetLemmatizer \n",
        "\n",
        "## 創建Lemmatizer\n",
        "lemmatizer = WordNetLemmatizer() \n",
        "def get_wordnet_pos(word):\n",
        "    \"\"\"將pos_tag結果mapping到lemmatizer中pos的格式\"\"\"\n",
        "    tag = nltk.pos_tag([word])[0][1][0].upper()\n",
        "    tag_dict = {\"J\": wordnet.ADJ,\n",
        "                \"N\": wordnet.NOUN,\n",
        "                \"V\": wordnet.VERB,\n",
        "                \"R\": wordnet.ADV}\n",
        "\n",
        "    return tag_dict.get(tag, wordnet.NOUN)\n",
        "\n",
        "\n",
        "def clean_content(X):\n",
        "    # remove non-alphabet characters\n",
        "    X_clean = [re.sub('[^a-zA-Z]',' ', x).lower() for x in X]\n",
        "    # tokenize\n",
        "    X_word_tokenize = [nltk.word_tokenize(x) for x in X_clean]\n",
        "    # stopwords_lemmatizer\n",
        "    X_stopwords_lemmatizer = []\n",
        "    stop_words = set(stopwords.words('english'))\n",
        "    for content in X_word_tokenize:\n",
        "        content_clean = []\n",
        "        for word in content:\n",
        "            if word not in stop_words:\n",
        "                word = lemmatizer.lemmatize(word, get_wordnet_pos(word))\n",
        "                content_clean.append(word)\n",
        "        X_stopwords_lemmatizer.append(content_clean)\n",
        "    \n",
        "    X_output = [' '.join(x) for x in X_stopwords_lemmatizer]\n",
        "    \n",
        "    return X_output\n",
        "                 "
      ],
      "execution_count": 6,
      "outputs": [
        {
          "output_type": "stream",
          "text": [
            "[nltk_data] Downloading package stopwords to /root/nltk_data...\n",
            "[nltk_data]   Package stopwords is already up-to-date!\n"
          ],
          "name": "stdout"
        }
      ]
    },
    {
      "cell_type": "code",
      "metadata": {
        "id": "rc70udQOXzc8"
      },
      "source": [
        "X = clean_content(X)"
      ],
      "execution_count": 7,
      "outputs": []
    },
    {
      "cell_type": "markdown",
      "metadata": {
        "id": "5SS1KhSnXzc8"
      },
      "source": [
        "## Bag of words"
      ]
    },
    {
      "cell_type": "code",
      "metadata": {
        "id": "tATLXhPEXzc8"
      },
      "source": [
        "from sklearn.feature_extraction.text import CountVectorizer\n",
        "#max_features是要建造幾個column，會按造字出現的高低去篩選 \n",
        "\"藉由BOW方式將資料轉換為Vector\"\n",
        "vectorizer = CountVectorizer()\n",
        "Try = vectorizer.fit_transform(X)\n",
        "Try = Try.toarray()"
      ],
      "execution_count": 8,
      "outputs": []
    },
    {
      "cell_type": "code",
      "metadata": {
        "colab": {
          "base_uri": "https://localhost:8080/"
        },
        "id": "F38re_tWaP-w",
        "outputId": "15785da3-da97-4ac3-956a-c614b7e0eda8"
      },
      "source": [
        "sum = np.sum(Try,axis=0)\n",
        "sum=np.sort(sum)[::-1]\n",
        "mylist = [0.8,0.7,0.6,0.5,0.4,0.3]\n",
        "for n in mylist:\n",
        "    A = math.ceil(sum.shape[0]*n)\n",
        "    print(f'The {A}th of word shows up {sum[A]} time.')"
      ],
      "execution_count": 9,
      "outputs": [
        {
          "output_type": "stream",
          "text": [
            "The 5214th of word shows up 1 time.\n",
            "The 4562th of word shows up 1 time.\n",
            "The 3911th of word shows up 1 time.\n",
            "The 3259th of word shows up 2 time.\n",
            "The 2607th of word shows up 2 time.\n",
            "The 1956th of word shows up 3 time.\n"
          ],
          "name": "stdout"
        }
      ]
    },
    {
      "cell_type": "code",
      "metadata": {
        "id": "Q4M2zcIneNXv"
      },
      "source": [
        "vectorizer = CountVectorizer()\n",
        "vectorizer = CountVectorizer(max_features=2000)\n",
        "X = vectorizer.fit_transform(X)\n",
        "X = X.toarray()"
      ],
      "execution_count": 10,
      "outputs": []
    },
    {
      "cell_type": "code",
      "metadata": {
        "colab": {
          "base_uri": "https://localhost:8080/"
        },
        "id": "GctlMdeuXzc9",
        "outputId": "5514c174-50ec-40ba-e0dc-12a5a8c2b24a"
      },
      "source": [
        "X.shape"
      ],
      "execution_count": 11,
      "outputs": [
        {
          "output_type": "execute_result",
          "data": {
            "text/plain": [
              "(5572, 2000)"
            ]
          },
          "metadata": {
            "tags": []
          },
          "execution_count": 11
        }
      ]
    },
    {
      "cell_type": "markdown",
      "metadata": {
        "id": "YvxIPVyMhmKp"
      },
      "source": [
        "## Splitting the dataset into the Training set and Test set"
      ]
    },
    {
      "cell_type": "code",
      "metadata": {
        "id": "AVzJWAXIhxoC"
      },
      "source": [
        "from sklearn.model_selection import train_test_split\n",
        "X_train, X_test, y_train, y_test = train_test_split(X, Y, test_size = 0.2, random_state = 0)"
      ],
      "execution_count": 12,
      "outputs": []
    },
    {
      "cell_type": "markdown",
      "metadata": {
        "id": "bb6jCOCQiAmP"
      },
      "source": [
        "## Fit the MultinomialNB model on the Training set"
      ]
    },
    {
      "cell_type": "code",
      "metadata": {
        "colab": {
          "base_uri": "https://localhost:8080/"
        },
        "id": "e0pFVAmciHQs",
        "outputId": "18d1379f-8470-4d18-d588-c144e4e9675d"
      },
      "source": [
        "from sklearn.naive_bayes import MultinomialNB\n",
        "clf_M = MultinomialNB()\n",
        "clf_M.fit(X_train, y_train)"
      ],
      "execution_count": 14,
      "outputs": [
        {
          "output_type": "execute_result",
          "data": {
            "text/plain": [
              "MultinomialNB(alpha=1.0, class_prior=None, fit_prior=True)"
            ]
          },
          "metadata": {
            "tags": []
          },
          "execution_count": 14
        }
      ]
    },
    {
      "cell_type": "markdown",
      "metadata": {
        "id": "yyxW5b395mR2"
      },
      "source": [
        "## Predicting a new result (可與前章節KNN模型比較)"
      ]
    },
    {
      "cell_type": "code",
      "metadata": {
        "colab": {
          "base_uri": "https://localhost:8080/"
        },
        "id": "f8YOXsQy58rP",
        "outputId": "b1ca4f22-3a0f-4932-db7f-9b881eda53ed"
      },
      "source": [
        "print('Trainset Accuracy: {}'.format(clf_M.score(X_train, y_train)))"
      ],
      "execution_count": 15,
      "outputs": [
        {
          "output_type": "stream",
          "text": [
            "Trainset Accuracy: 0.9876598608929773\n"
          ],
          "name": "stdout"
        }
      ]
    },
    {
      "cell_type": "code",
      "metadata": {
        "colab": {
          "base_uri": "https://localhost:8080/"
        },
        "id": "6Nppj3OnXzdB",
        "outputId": "ae2c0f64-f5c8-401d-eee4-160f00aab9d9"
      },
      "source": [
        "print('Testset Accuracy: {}'.format(clf_M.score(X_test, y_test)))"
      ],
      "execution_count": 16,
      "outputs": [
        {
          "output_type": "stream",
          "text": [
            "Testset Accuracy: 0.9829596412556054\n"
          ],
          "name": "stdout"
        }
      ]
    },
    {
      "cell_type": "markdown",
      "metadata": {
        "id": "vKYVQH-l5NpE"
      },
      "source": [
        "## Predicting the Test set results"
      ]
    },
    {
      "cell_type": "code",
      "metadata": {
        "id": "p6VMTb2O4hwM"
      },
      "source": [
        "y_pred = clf_M.predict(X_test)"
      ],
      "execution_count": 17,
      "outputs": []
    },
    {
      "cell_type": "markdown",
      "metadata": {
        "id": "h4Hwj34ziWQW"
      },
      "source": [
        "## Making the Confusion Matrix"
      ]
    },
    {
      "cell_type": "code",
      "metadata": {
        "colab": {
          "base_uri": "https://localhost:8080/"
        },
        "id": "D6bpZwUiiXic",
        "outputId": "7fe091af-649a-48ad-80bb-9e23055f8beb"
      },
      "source": [
        "from sklearn.metrics import confusion_matrix, accuracy_score\n",
        "cm = confusion_matrix(y_test, y_pred)\n",
        "print(cm)\n",
        "accuracy_score(y_test, y_pred)"
      ],
      "execution_count": 18,
      "outputs": [
        {
          "output_type": "stream",
          "text": [
            "[[941   8]\n",
            " [ 11 155]]\n"
          ],
          "name": "stdout"
        },
        {
          "output_type": "execute_result",
          "data": {
            "text/plain": [
              "0.9829596412556054"
            ]
          },
          "metadata": {
            "tags": []
          },
          "execution_count": 18
        }
      ]
    },
    {
      "cell_type": "code",
      "metadata": {
        "id": "7AiLtyYzXzdD"
      },
      "source": [
        "def plot_cm_output(cm, labels=['ham', 'spam']):\n",
        "    fig = plt.figure(figsize=(10,10))\n",
        "    ax = fig.add_subplot(111)\n",
        "    cax = ax.matshow(cm,cmap=plt.cm.Blues,)\n",
        "    plt.title('Confusion matrix of the classifier')\n",
        "    fig.colorbar(cax)\n",
        "    ax.set_xticklabels([''] + labels)\n",
        "    ax.set_yticklabels([''] + labels)\n",
        "    plt.xlabel('Predicted')\n",
        "    plt.ylabel('True')\n",
        "    plt.show()"
      ],
      "execution_count": 23,
      "outputs": []
    },
    {
      "cell_type": "code",
      "metadata": {
        "colab": {
          "base_uri": "https://localhost:8080/",
          "height": 574
        },
        "id": "DFF02P4qXzdE",
        "outputId": "ddfff2e6-a140-46a7-dcc4-4bfdc0b1e1a1"
      },
      "source": [
        "plot_cm_output(cm)"
      ],
      "execution_count": 24,
      "outputs": [
        {
          "output_type": "display_data",
          "data": {
            "image/png": "[encoded data removed]",
            "text/plain": [
              "<Figure size 720x720 with 2 Axes>"
            ]
          },
          "metadata": {
            "tags": [],
            "needs_background": "light"
          }
        }
      ]
    }
  ]
}