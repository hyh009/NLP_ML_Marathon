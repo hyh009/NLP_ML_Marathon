{
  "nbformat": 4,
  "nbformat_minor": 0,
  "metadata": {
    "colab": {
      "name": "Day_18監督式學習與非監督式學習.ipynb",
      "provenance": []
    },
    "kernelspec": {
      "name": "python3",
      "display_name": "Python 3"
    },
    "language_info": {
      "name": "python"
    }
  },
  "cells": [
    {
      "cell_type": "markdown",
      "metadata": {
        "id": "sQ_rLqaaPx0L"
      },
      "source": [
        "# 思考題：監督式學習與非監督式學習個別的優缺點？\n"
      ]
    },
    {
      "cell_type": "markdown",
      "metadata": {
        "id": "SJYhO_iMPzbB"
      },
      "source": [
        "監督式學習：<br>\n",
        "* 優點<br>\n",
        "  1.在預測、分類等方面效果勝過非監督式和半監督式學習。<br>\n",
        "  2.可以幫助解決多樣的問題。<br>\n",
        "* 缺點<br>\n",
        "  1.需要有標註才能使用，人工標註費時費力。<br>\n",
        "  2.需要乾淨、平衡的資料做訓練，重複資料也會影響準確度。<br>\n",
        "  3.需要對資料的Domain Knowledge，因此幾乎無法處理未知領域的問題。<br>\n",
        "  \n",
        "非監督式學習：<br>\n",
        "* 優點<br>\n",
        "  1.不需人工標註即可訓練模型。<br>\n",
        "  2.在資料探勘初期對資料不了解，或是缺乏Domain Knowledge也能訓練。<br>\n",
        "* 缺點<br>\n",
        "  1.根據訓練資料，機器可能會學習到一些偏見、歧視，必須小心。<br>\n",
        "  2.非監督的分群在表現上通常會劣於監督式學習的分類。<br>\n",
        "  3.可能使不重要的特徵被過度放大，導致結果偏誤、無意義的分群結果。\n",
        "\n",
        "  其他參考資料：<br>\n",
        "  1.[Supervised vs. unsupervised learning: What’s the difference?](https://venturebeat.com/2021/04/22/supervised-vs-unsupervised-learning-whats-the-difference/)<br>\n",
        "  2.[三大類機器學習：監督式、強化式、非監督式](https://ai4dt.wordpress.com/2018/05/25/%E4%B8%89%E5%A4%A7%E9%A1%9E%E6%A9%9F%E5%99%A8%E5%AD%B8%E7%BF%92%EF%BC%9A%E7%9B%A3%E7%9D%A3%E5%BC%8F%E3%80%81%E5%BC%B7%E5%8C%96%E5%BC%8F%E3%80%81%E9%9D%9E%E7%9B%A3%E7%9D%A3%E5%BC%8F/#:~:text=%E9%9D%9E%E7%9B%A3%E7%9D%A3%E5%BC%8F%E5%AD%B8%E7%BF%92%E2%80%93%20%E6%A9%9F%E5%99%A8%E8%87%AA%E8%A1%8C%E6%91%B8%E7%B4%A2%E5%87%BA%E8%B3%87%E6%96%99%E8%A6%8F%E5%BE%8B&text=%E5%B0%8D%E6%AF%94%E7%9B%A3%E7%9D%A3%E5%BC%8F%E5%AD%B8%E7%BF%92%EF%BC%8C%E9%9D%9E,%E7%84%A1%E6%84%8F%E7%BE%A9%E7%9A%84%E5%88%86%E7%BE%A4%E7%B5%90%E6%9E%9C%E3%80%82)"
      ]
    }
  ]
}