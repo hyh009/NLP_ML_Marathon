{
  "nbformat": 4,
  "nbformat_minor": 0,
  "metadata": {
    "language_info": {
      "codemirror_mode": {
        "name": "ipython",
        "version": 3
      },
      "file_extension": ".py",
      "mimetype": "text/x-python",
      "name": "python",
      "nbconvert_exporter": "python",
      "pygments_lexer": "ipython3",
      "version": "3.6.5-final"
    },
    "orig_nbformat": 2,
    "kernelspec": {
      "name": "python36564bitc3c936632e8a4243a25c20fc16c690eb",
      "display_name": "Python 3.6.5 64-bit"
    },
    "colab": {
      "name": "基礎篇_hw.ipynb",
      "provenance": [],
      "toc_visible": true
    },
    "widgets": {
      "application/vnd.jupyter.widget-state+json": {
        "7772e1caadc54e9aa4b3add0fa231403": {
          "model_module": "@jupyter-widgets/controls",
          "model_name": "LabelModel",
          "state": {
            "_view_name": "LabelView",
            "style": "IPY_MODEL_320532b5ef68489d85f6a2c3edf8c88f",
            "_dom_classes": [],
            "description": "",
            "_model_name": "LabelModel",
            "placeholder": "​",
            "_view_module": "@jupyter-widgets/controls",
            "_model_module_version": "1.5.0",
            "value": " 在\t有",
            "_view_count": null,
            "_view_module_version": "1.5.0",
            "description_tooltip": null,
            "_model_module": "@jupyter-widgets/controls",
            "layout": "IPY_MODEL_1be2bc213b12448eadb50322ba21e794"
          }
        },
        "320532b5ef68489d85f6a2c3edf8c88f": {
          "model_module": "@jupyter-widgets/controls",
          "model_name": "DescriptionStyleModel",
          "state": {
            "_view_name": "StyleView",
            "_model_name": "DescriptionStyleModel",
            "description_width": "",
            "_view_module": "@jupyter-widgets/base",
            "_model_module_version": "1.5.0",
            "_view_count": null,
            "_view_module_version": "1.2.0",
            "_model_module": "@jupyter-widgets/controls"
          }
        },
        "1be2bc213b12448eadb50322ba21e794": {
          "model_module": "@jupyter-widgets/base",
          "model_name": "LayoutModel",
          "state": {
            "_view_name": "LayoutView",
            "grid_template_rows": null,
            "right": null,
            "justify_content": null,
            "_view_module": "@jupyter-widgets/base",
            "overflow": null,
            "_model_module_version": "1.2.0",
            "_view_count": null,
            "flex_flow": null,
            "width": null,
            "min_width": null,
            "border": null,
            "align_items": null,
            "bottom": null,
            "_model_module": "@jupyter-widgets/base",
            "top": null,
            "grid_column": null,
            "overflow_y": null,
            "overflow_x": null,
            "grid_auto_flow": null,
            "grid_area": null,
            "grid_template_columns": null,
            "flex": null,
            "_model_name": "LayoutModel",
            "justify_items": null,
            "grid_row": null,
            "max_height": null,
            "align_content": null,
            "visibility": null,
            "align_self": null,
            "height": null,
            "min_height": null,
            "padding": null,
            "grid_auto_rows": null,
            "grid_gap": null,
            "max_width": null,
            "order": null,
            "_view_module_version": "1.2.0",
            "grid_template_areas": null,
            "object_position": null,
            "object_fit": null,
            "grid_auto_columns": null,
            "margin": null,
            "display": null,
            "left": null
          }
        },
        "3ba5c29e81564b73a02698129067fdf2": {
          "model_module": "@jupyter-widgets/controls",
          "model_name": "TextareaModel",
          "state": {
            "_view_name": "TextareaView",
            "style": "IPY_MODEL_17f48bdf4cf54ad5a5c054dd7b1ccc5c",
            "rows": null,
            "_dom_classes": [],
            "description": "",
            "_model_name": "TextareaModel",
            "placeholder": "​",
            "_view_module": "@jupyter-widgets/controls",
            "_model_module_version": "1.5.0",
            "value": "我思故我",
            "_view_count": null,
            "disabled": false,
            "_view_module_version": "1.5.0",
            "continuous_update": true,
            "description_tooltip": null,
            "_model_module": "@jupyter-widgets/controls",
            "layout": "IPY_MODEL_9532f77d5a4d4dffb9decf59ffd52861"
          }
        },
        "17f48bdf4cf54ad5a5c054dd7b1ccc5c": {
          "model_module": "@jupyter-widgets/controls",
          "model_name": "DescriptionStyleModel",
          "state": {
            "_view_name": "StyleView",
            "_model_name": "DescriptionStyleModel",
            "description_width": "",
            "_view_module": "@jupyter-widgets/base",
            "_model_module_version": "1.5.0",
            "_view_count": null,
            "_view_module_version": "1.2.0",
            "_model_module": "@jupyter-widgets/controls"
          }
        },
        "9532f77d5a4d4dffb9decf59ffd52861": {
          "model_module": "@jupyter-widgets/base",
          "model_name": "LayoutModel",
          "state": {
            "_view_name": "LayoutView",
            "grid_template_rows": null,
            "right": null,
            "justify_content": null,
            "_view_module": "@jupyter-widgets/base",
            "overflow": null,
            "_model_module_version": "1.2.0",
            "_view_count": null,
            "flex_flow": null,
            "width": null,
            "min_width": null,
            "border": null,
            "align_items": null,
            "bottom": null,
            "_model_module": "@jupyter-widgets/base",
            "top": null,
            "grid_column": null,
            "overflow_y": null,
            "overflow_x": null,
            "grid_auto_flow": null,
            "grid_area": null,
            "grid_template_columns": null,
            "flex": null,
            "_model_name": "LayoutModel",
            "justify_items": null,
            "grid_row": null,
            "max_height": null,
            "align_content": null,
            "visibility": null,
            "align_self": null,
            "height": null,
            "min_height": null,
            "padding": null,
            "grid_auto_rows": null,
            "grid_gap": null,
            "max_width": null,
            "order": null,
            "_view_module_version": "1.2.0",
            "grid_template_areas": null,
            "object_position": null,
            "object_fit": null,
            "grid_auto_columns": null,
            "margin": null,
            "display": null,
            "left": null
          }
        }
      }
    }
  },
  "cells": [
    {
      "cell_type": "markdown",
      "metadata": {
        "id": "dpYyaBgoJLR4"
      },
      "source": [
        "# 自製智能中文選字系統  (1)"
      ]
    },
    {
      "cell_type": "code",
      "metadata": {
        "colab": {
          "base_uri": "https://localhost:8080/"
        },
        "id": "YIE8oWou9P9q",
        "outputId": "655590fd-4d70-4923-98cd-f2050fe4d4e3"
      },
      "source": [
        "from google.colab import drive\n",
        "drive.mount('/content/drive')"
      ],
      "execution_count": 1,
      "outputs": [
        {
          "output_type": "stream",
          "text": [
            "Mounted at /content/drive\n"
          ],
          "name": "stdout"
        }
      ]
    },
    {
      "cell_type": "code",
      "metadata": {
        "tags": [],
        "id": "xuRTq3ptJLR6"
      },
      "source": [
        "segments = []\n",
        "with open('/content/drive/MyDrive/NLP/wiki_zh_small.txt') as fr:\n",
        "    for line in fr.readlines():\n",
        "        segments += prepocess_line(line)"
      ],
      "execution_count": 4,
      "outputs": []
    },
    {
      "cell_type": "code",
      "metadata": {
        "id": "6dC4iuglJLSB",
        "colab": {
          "base_uri": "https://localhost:8080/",
          "height": 34
        },
        "outputId": "822caf93-6555-488a-969a-90720c8b129d"
      },
      "source": [
        "import sys\n",
        "sys.version"
      ],
      "execution_count": null,
      "outputs": [
        {
          "output_type": "execute_result",
          "data": {
            "application/vnd.google.colaboratory.intrinsic+json": {
              "type": "string"
            },
            "text/plain": [
              "'3.7.10 (default, Feb 20 2021, 21:17:23) \\n[GCC 7.5.0]'"
            ]
          },
          "metadata": {
            "tags": []
          },
          "execution_count": 4
        }
      ]
    },
    {
      "cell_type": "code",
      "metadata": {
        "id": "ccA8R234lpRQ"
      },
      "source": [
        "segments"
      ],
      "execution_count": null,
      "outputs": []
    },
    {
      "cell_type": "markdown",
      "metadata": {
        "id": "9fQnVHVmJLSH"
      },
      "source": [
        "## 資料前處理"
      ]
    },
    {
      "cell_type": "markdown",
      "metadata": {
        "id": "aQIl0BP5JLSH"
      },
      "source": [
        "確認版本為 python3"
      ]
    },
    {
      "cell_type": "code",
      "metadata": {
        "id": "8wG3IWB2JLSI"
      },
      "source": [
        "import re"
      ],
      "execution_count": 2,
      "outputs": []
    },
    {
      "cell_type": "code",
      "metadata": {
        "id": "xZXcaXMRJLSL"
      },
      "source": [
        "def prepocess_line(line):\n",
        "    # 僅僅挑出中文字元，並且斷開不連續的中文字\n",
        "    pattern = r'[\\u4E00-\\u9FFF]+' \n",
        "    segments = re.findall(pattern,line)\n",
        "    return segments"
      ],
      "execution_count": 3,
      "outputs": []
    },
    {
      "cell_type": "code",
      "metadata": {
        "colab": {
          "base_uri": "https://localhost:8080/"
        },
        "id": "HZEemmci--AJ",
        "outputId": "50bfc877-2cc6-4493-9c5d-f450750a6f31"
      },
      "source": [
        "prepocess_line('“英語”一詞源於遷居英格蘭的日耳曼部落盎格魯（），而“盎格魯”得名於')  \n",
        "# 應該為：['英語', '一詞源於遷居英格蘭的日耳曼部落盎格魯', '而', '盎格魯', '得名於']"
      ],
      "execution_count": 5,
      "outputs": [
        {
          "output_type": "execute_result",
          "data": {
            "text/plain": [
              "['英語', '一詞源於遷居英格蘭的日耳曼部落盎格魯', '而', '盎格魯', '得名於']"
            ]
          },
          "metadata": {
            "tags": []
          },
          "execution_count": 5
        }
      ]
    },
    {
      "cell_type": "markdown",
      "metadata": {
        "id": "N-E0XU7lJLSQ"
      },
      "source": [
        "## Ngram\n",
        "\n",
        "一開始要先計算字詞出現的次數"
      ]
    },
    {
      "cell_type": "code",
      "metadata": {
        "id": "U0GNtfVnJLSR"
      },
      "source": [
        "from collections import Counter\n",
        "\n",
        "class Counters:\n",
        "    def __init__(self, n):\n",
        "        self.n = n\n",
        "        self.counters = [Counter() for _ in range(n + 1)]  # 分別代表計算0、1、...個字的出現次數\n",
        "\n",
        "    def fit(self, segments):\n",
        "        # 因為 self.counters 分別代表計算0、1、...個字的出現次數\n",
        "        # 請在此實作利用 segments 以及函式 _skip 來統計次數\n",
        "        self.counters[0].update(['' for _ in ''.join(segments)]) #計算總字數\n",
        "        for i in range(len(segments)):\n",
        "            for j in range(1,self.n+1):\n",
        "                self.counters[j].update(self._skip(segments[i],j))\n",
        "        return self.counters\n",
        "\n",
        "    def __getitem__(self, k):\n",
        "        return self.counters[k]\n",
        "\n",
        "    def _skip(self, segment, n):\n",
        "        assert n > 0\n",
        "        if len(segment) < n:\n",
        "            return []\n",
        "        shift = n - 1\n",
        "        for i in range(len(segment) - shift):\n",
        "            yield segment[i:i+shift+1]"
      ],
      "execution_count": 42,
      "outputs": []
    },
    {
      "cell_type": "code",
      "metadata": {
        "id": "F4-d0YiMJLSU"
      },
      "source": [
        "counters = Counters(n=3)\n",
        "counters.fit(segments)"
      ],
      "execution_count": null,
      "outputs": []
    },
    {
      "cell_type": "code",
      "metadata": {
        "id": "UpCDHjXHJLSW",
        "colab": {
          "base_uri": "https://localhost:8080/"
        },
        "outputId": "35e0522c-253f-45d6-f30f-d8d0a86c67d6"
      },
      "source": [
        "counters[0]\n",
        "# 應該為： Counter({'': 371373})"
      ],
      "execution_count": 44,
      "outputs": [
        {
          "output_type": "execute_result",
          "data": {
            "text/plain": [
              "Counter({'': 371373})"
            ]
          },
          "metadata": {
            "tags": []
          },
          "execution_count": 44
        }
      ]
    },
    {
      "cell_type": "code",
      "metadata": {
        "id": "x2gOKTEyJLSY"
      },
      "source": [
        "class Ngram:\n",
        "    def __init__(self, n, counters):\n",
        "        assert n <= counters.n\n",
        "        self.n = n\n",
        "        self.major_counter = counters[n]\n",
        "        self.minor_counter = counters[n-1]\n",
        "\n",
        "    def predict_proba(self, prefix='', top_k=5):\n",
        "        assert len(prefix) >= self.n - 1\n",
        "        # 使用 Ngram 的公式計算出下一個字出現的機率\n",
        "        # 輸出為機率與字的tuple列表，詳見下方輸出範例\n",
        "        prefix = prefix[-(self.n-1):] if self.n > 1 else '' \n",
        "        denominator = self.minor_counter.get(prefix,0) \n",
        "        sorted_probs = []\n",
        "        for word, count in self.major_counter.items():\n",
        "            if word.startswith(prefix):\n",
        "                prob = count/denominator\n",
        "                sorted_probs.append((prob, word[-1]))\n",
        "            sorted_probs.sort(key=lambda x: x[0],reverse=True)\n",
        "\n",
        "        return sorted_probs[:top_k] if top_k > 0 else sorted_probs\n",
        "\n",
        "    def get_proba_dict(self, prefix=''):\n",
        "        return {word: prob for prob, word in self.predict_proba(prefix, top_k=-1)}\n"
      ],
      "execution_count": 88,
      "outputs": []
    },
    {
      "cell_type": "code",
      "metadata": {
        "id": "mErL4AtjJLSc"
      },
      "source": [
        "unigram = Ngram(1, counters)"
      ],
      "execution_count": 89,
      "outputs": []
    },
    {
      "cell_type": "code",
      "metadata": {
        "tags": [],
        "id": "M8BZcC7lJLSe",
        "colab": {
          "base_uri": "https://localhost:8080/"
        },
        "outputId": "b351586c-079e-4078-95cb-795103fc5ac7"
      },
      "source": [
        "unigram.predict_proba('我思')\n",
        "# 應該為：[(0.035732269174118744, '的'),\n",
        "#         (0.012927703414087723, '國'),\n",
        "#         (0.010620050461395955, '中'),\n",
        "#         (0.009984570768472667, '在'),\n",
        "#         (0.009852627950874188, '一')]"
      ],
      "execution_count": 90,
      "outputs": [
        {
          "output_type": "execute_result",
          "data": {
            "text/plain": [
              "[(0.035732269174118744, '的'),\n",
              " (0.012927703414087723, '國'),\n",
              " (0.010620050461395955, '中'),\n",
              " (0.009984570768472667, '在'),\n",
              " (0.009852627950874188, '一')]"
            ]
          },
          "metadata": {
            "tags": []
          },
          "execution_count": 90
        }
      ]
    },
    {
      "cell_type": "code",
      "metadata": {
        "id": "vYRqughPJLSh"
      },
      "source": [
        "bigram = Ngram(2, counters)\n",
        "trigram = Ngram(3, counters)"
      ],
      "execution_count": 91,
      "outputs": []
    },
    {
      "cell_type": "markdown",
      "metadata": {
        "id": "lG6TV-8iJLSj"
      },
      "source": [
        "## 使用Ngram來建立第一版選字系統"
      ]
    },
    {
      "cell_type": "code",
      "metadata": {
        "id": "Ak-zlXIGJLSk"
      },
      "source": [
        "class ChineseWordRecommenderV1:\n",
        "    def __init__(self, unigram, bigram, trigram):\n",
        "        self.unigram = unigram\n",
        "        self.bigram = bigram\n",
        "        self.trigram = trigram\n",
        "    \n",
        "    def predict_proba(self, prefix='', top_k=5):\n",
        "        # 使用Ngram來建立選字系統\n",
        "        if prefix == '':\n",
        "            return self.unigram.predict_proba(prefix,top_k)\n",
        "        elif len(prefix) == 1:\n",
        "            return self.bigram.predict_proba(prefix,top_k)\n",
        "        else:\n",
        "            return self.trigram.predict_proba(prefix,top_k)\n"
      ],
      "execution_count": 99,
      "outputs": []
    },
    {
      "cell_type": "code",
      "metadata": {
        "id": "0LS4xO4XJLSl"
      },
      "source": [
        "model = ChineseWordRecommenderV1(unigram, bigram, trigram)"
      ],
      "execution_count": 100,
      "outputs": []
    },
    {
      "cell_type": "code",
      "metadata": {
        "tags": [],
        "id": "j8pziwHnJLSn",
        "colab": {
          "base_uri": "https://localhost:8080/"
        },
        "outputId": "c2633048-960d-476a-ebfe-7200c2dde36f"
      },
      "source": [
        "probs = model.predict_proba('我思', top_k=10)\n",
        "probs"
      ],
      "execution_count": 101,
      "outputs": [
        {
          "output_type": "execute_result",
          "data": {
            "text/plain": [
              "[(0.75, '故'), (0.25, '維')]"
            ]
          },
          "metadata": {
            "tags": []
          },
          "execution_count": 101
        }
      ]
    },
    {
      "cell_type": "markdown",
      "metadata": {
        "id": "sM7_WCTmJLSq"
      },
      "source": [
        "## Demo"
      ]
    },
    {
      "cell_type": "code",
      "metadata": {
        "id": "Qsupw9BoJLSs",
        "colab": {
          "base_uri": "https://localhost:8080/",
          "height": 93,
          "referenced_widgets": [
            "7772e1caadc54e9aa4b3add0fa231403",
            "320532b5ef68489d85f6a2c3edf8c88f",
            "1be2bc213b12448eadb50322ba21e794",
            "3ba5c29e81564b73a02698129067fdf2",
            "17f48bdf4cf54ad5a5c054dd7b1ccc5c",
            "9532f77d5a4d4dffb9decf59ffd52861"
          ]
        },
        "outputId": "19a438d6-c4af-4131-8107-c24e5625e2d6"
      },
      "source": [
        "import ipywidgets as widgets\n",
        "\n",
        "text = widgets.Textarea()\n",
        "label = widgets.Label()\n",
        "display(label, text)\n",
        "\n",
        "def func(change):\n",
        "    probs = model.predict_proba(change.new, top_k=10)\n",
        "    label.value = ' ' + '\\t'.join([word for prob, word in probs])\n",
        "\n",
        "text.observe(func, names='value')"
      ],
      "execution_count": 102,
      "outputs": [
        {
          "output_type": "display_data",
          "data": {
            "application/vnd.jupyter.widget-view+json": {
              "model_id": "7772e1caadc54e9aa4b3add0fa231403",
              "version_minor": 0,
              "version_major": 2
            },
            "text/plain": [
              "Label(value='')"
            ]
          },
          "metadata": {
            "tags": []
          }
        },
        {
          "output_type": "display_data",
          "data": {
            "application/vnd.jupyter.widget-view+json": {
              "model_id": "3ba5c29e81564b73a02698129067fdf2",
              "version_minor": 0,
              "version_major": 2
            },
            "text/plain": [
              "Textarea(value='')"
            ]
          },
          "metadata": {
            "tags": []
          }
        }
      ]
    },
    {
      "cell_type": "code",
      "metadata": {
        "id": "pLrjn44rJLSu"
      },
      "source": [
        ""
      ],
      "execution_count": null,
      "outputs": []
    },
    {
      "cell_type": "code",
      "metadata": {
        "id": "2ezmZB9cJLSw"
      },
      "source": [
        ""
      ],
      "execution_count": null,
      "outputs": []
    }
  ]
}