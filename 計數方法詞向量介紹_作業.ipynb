{
  "nbformat": 4,
  "nbformat_minor": 0,
  "metadata": {
    "kernelspec": {
      "display_name": "cupoy_env",
      "language": "python",
      "name": "cupoy_env"
    },
    "language_info": {
      "codemirror_mode": {
        "name": "ipython",
        "version": 3
      },
      "file_extension": ".py",
      "mimetype": "text/x-python",
      "name": "python",
      "nbconvert_exporter": "python",
      "pygments_lexer": "ipython3",
      "version": "3.7.3"
    },
    "colab": {
      "name": "計數方法詞向量介紹_作業.ipynb",
      "provenance": []
    }
  },
  "cells": [
    {
      "cell_type": "markdown",
      "metadata": {
        "id": "LLlZkFunIACc"
      },
      "source": [
        "## 作業目標: 透過思考與回答以更加了解計數方法的詞向量"
      ]
    },
    {
      "cell_type": "markdown",
      "metadata": {
        "id": "9VxbrfjvIACj"
      },
      "source": [
        "### 請問詞庫手法會有什麼樣的優缺點？\n",
        "\n",
        "詞庫手法為創建包含大量字詞的詞庫，將相同意思字詞(同義字)或相似意思字詞(相似字)分類在相同群組。\n",
        "\n",
        "優點:\n",
        "直接提供同義字和相似字庫，能讓模型更能理解字詞間的關係，已達到更準確的結果。\n",
        "\n",
        "缺點:\n",
        "製作一個好的詞庫需要大量的時間和精力，且必須時常更新維護才能夠適應詞語的變化。"
      ]
    },
    {
      "cell_type": "markdown",
      "metadata": {
        "id": "vV9zUES8IACk"
      },
      "source": [
        "### 請問共現矩陣有什麼樣的優缺點？ \n",
        "\n",
        "根據分佈假說，相似的字詞會有類似的上下文，因此我們可以透過計數周圍(window)的字詞來表達特定字詞的向量。\n",
        "\n",
        "優點:\n",
        "不用像詞庫一樣手動更新詞庫及維護，節省大量時間和精力，又不像Bow不能獲得詞語的關聯資訊。\n",
        "\n",
        "缺點:\n",
        "矩陣維度過大需要足夠的記憶體才能運算。對常出現的詞語效果較差。"
      ]
    },
    {
      "cell_type": "markdown",
      "metadata": {
        "id": "vs7F2GLtIACk"
      },
      "source": [
        "### 請問為何需要對共現矩陣或PPMI進行SVD降維?\n",
        "\n",
        "因為高維度的矩陣會使模型複雜化，需要大量的資料才可以讓模型充分學習,降維可以降低模型的複雜度，同時也可以減少一些資料的雜訊。\n"
      ]
    },
    {
      "cell_type": "markdown",
      "metadata": {
        "id": "0EY3RnNAIACk"
      },
      "source": [
        "### 實作cosine similarity\n",
        "\n",
        "在比較兩個詞向量的相似度時可以使用cosine similarity:\n",
        "$$\n",
        "similarity(x,y) = \\frac{x \\cdot y}{||x||||y||} = \\frac{x_1y_1+...+x_ny_n}{\\sqrt{x_1^2+...+x_n^2}\\sqrt{y_1^2+...+y_n^2}}\n",
        "$$\n",
        "\n",
        "請實作cosine similarity並計算共現矩陣課程範例中you向量([0,1,0,0,0,0,0])與I([0,1,0,1,0,0,0])向量的相似度"
      ]
    },
    {
      "cell_type": "code",
      "metadata": {
        "id": "hWK_XONMIACl",
        "outputId": "644eca8a-8f83-4a14-876e-65e7e0aafe8a"
      },
      "source": [
        "import numpy as np\n",
        "I = np.array([0,1,0,0,0,0,0])\n",
        "You = np.array([0,1,0,1,0,0,0])\n",
        "\n",
        "def cos_similarity(x, y, eps=1e-8):\n",
        "    cos_sim = x.dot(y)/np.sqrt(np.square(x))*np.sqrt(np.square(y))\n",
        "    return cos_sim\n",
        "    \n",
        "print(f\"Similarity: {cos_similarity(I, You)}\")"
      ],
      "execution_count": null,
      "outputs": [
        {
          "output_type": "stream",
          "text": [
            "Similarity: 0.7071067811865475\n"
          ],
          "name": "stdout"
        }
      ]
    },
    {
      "cell_type": "code",
      "metadata": {
        "colab": {
          "base_uri": "https://localhost:8080/"
        },
        "id": "Htei9sBVIACm",
        "outputId": "fe42098b-3b30-41c8-d83d-cff7080e59ca"
      },
      "source": [
        "import numpy as np\n",
        "I = np.array([0,1,0,0,0,0,0])\n",
        "You = np.array([0,1,0,1,0,0,0])\n",
        "\n",
        "def cos_similarity(x, y, eps=1e-8):\n",
        "    cos_sim = sum(np.multiply(x,y))/max(eps,((np.sqrt(np.sum(np.square(x))))*(np.sqrt(np.sum(np.square(y))))))\n",
        "    return cos_sim\n",
        "    \n",
        "print(f\"Similarity: {cos_similarity(I, You)}\")"
      ],
      "execution_count": 13,
      "outputs": [
        {
          "output_type": "stream",
          "text": [
            "Similarity: 0.7071067811865475\n"
          ],
          "name": "stdout"
        }
      ]
    }
  ]
}