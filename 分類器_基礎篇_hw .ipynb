{
  "nbformat": 4,
  "nbformat_minor": 0,
  "metadata": {
    "language_info": {
      "codemirror_mode": {
        "name": "ipython",
        "version": 3
      },
      "file_extension": ".py",
      "mimetype": "text/x-python",
      "name": "python",
      "nbconvert_exporter": "python",
      "pygments_lexer": "ipython3",
      "version": "3.6.8-final"
    },
    "orig_nbformat": 2,
    "kernelspec": {
      "name": "python_defaultSpec_1597541602087",
      "display_name": "Python 3.6.8 64-bit ('ENV': venv)"
    },
    "colab": {
      "name": "分類器_基礎篇_hw.ipynb",
      "provenance": [],
      "toc_visible": true
    },
    "widgets": {
      "application/vnd.jupyter.widget-state+json": {
        "18a492c543ce4bfc87daebc0f17487f5": {
          "model_module": "@jupyter-widgets/controls",
          "model_name": "HBoxModel",
          "state": {
            "_view_name": "HBoxView",
            "_dom_classes": [],
            "_model_name": "HBoxModel",
            "_view_module": "@jupyter-widgets/controls",
            "_model_module_version": "1.5.0",
            "_view_count": null,
            "_view_module_version": "1.5.0",
            "box_style": "",
            "layout": "IPY_MODEL_537a750c67324da382fea385135509c6",
            "_model_module": "@jupyter-widgets/controls",
            "children": [
              "IPY_MODEL_7a00bda282b54fffb6f2a03f1e4086bc",
              "IPY_MODEL_6cff06f4136a4a0eaad4e29ef2cee419"
            ]
          }
        },
        "537a750c67324da382fea385135509c6": {
          "model_module": "@jupyter-widgets/base",
          "model_name": "LayoutModel",
          "state": {
            "_view_name": "LayoutView",
            "grid_template_rows": null,
            "right": null,
            "justify_content": null,
            "_view_module": "@jupyter-widgets/base",
            "overflow": null,
            "_model_module_version": "1.2.0",
            "_view_count": null,
            "flex_flow": null,
            "width": null,
            "min_width": null,
            "border": null,
            "align_items": null,
            "bottom": null,
            "_model_module": "@jupyter-widgets/base",
            "top": null,
            "grid_column": null,
            "overflow_y": null,
            "overflow_x": null,
            "grid_auto_flow": null,
            "grid_area": null,
            "grid_template_columns": null,
            "flex": null,
            "_model_name": "LayoutModel",
            "justify_items": null,
            "grid_row": null,
            "max_height": null,
            "align_content": null,
            "visibility": null,
            "align_self": null,
            "height": null,
            "min_height": null,
            "padding": null,
            "grid_auto_rows": null,
            "grid_gap": null,
            "max_width": null,
            "order": null,
            "_view_module_version": "1.2.0",
            "grid_template_areas": null,
            "object_position": null,
            "object_fit": null,
            "grid_auto_columns": null,
            "margin": null,
            "display": null,
            "left": null
          }
        },
        "7a00bda282b54fffb6f2a03f1e4086bc": {
          "model_module": "@jupyter-widgets/controls",
          "model_name": "FloatProgressModel",
          "state": {
            "_view_name": "ProgressView",
            "style": "IPY_MODEL_2c2c2a2d6fcd45179e16b56ab3875b07",
            "_dom_classes": [],
            "description": "100%",
            "_model_name": "FloatProgressModel",
            "bar_style": "success",
            "max": 1800,
            "_view_module": "@jupyter-widgets/controls",
            "_model_module_version": "1.5.0",
            "value": 1800,
            "_view_count": null,
            "_view_module_version": "1.5.0",
            "orientation": "horizontal",
            "min": 0,
            "description_tooltip": null,
            "_model_module": "@jupyter-widgets/controls",
            "layout": "IPY_MODEL_ee3a7458ea964831a9489a3616e00b7b"
          }
        },
        "6cff06f4136a4a0eaad4e29ef2cee419": {
          "model_module": "@jupyter-widgets/controls",
          "model_name": "HTMLModel",
          "state": {
            "_view_name": "HTMLView",
            "style": "IPY_MODEL_142683db03da47aaa3b4be1d546a817d",
            "_dom_classes": [],
            "description": "",
            "_model_name": "HTMLModel",
            "placeholder": "​",
            "_view_module": "@jupyter-widgets/controls",
            "_model_module_version": "1.5.0",
            "value": " 1800/1800 [05:07&lt;00:00,  5.85it/s]",
            "_view_count": null,
            "_view_module_version": "1.5.0",
            "description_tooltip": null,
            "_model_module": "@jupyter-widgets/controls",
            "layout": "IPY_MODEL_fde375419e554fdaaebb1681ee47dd1b"
          }
        },
        "2c2c2a2d6fcd45179e16b56ab3875b07": {
          "model_module": "@jupyter-widgets/controls",
          "model_name": "ProgressStyleModel",
          "state": {
            "_view_name": "StyleView",
            "_model_name": "ProgressStyleModel",
            "description_width": "initial",
            "_view_module": "@jupyter-widgets/base",
            "_model_module_version": "1.5.0",
            "_view_count": null,
            "_view_module_version": "1.2.0",
            "bar_color": null,
            "_model_module": "@jupyter-widgets/controls"
          }
        },
        "ee3a7458ea964831a9489a3616e00b7b": {
          "model_module": "@jupyter-widgets/base",
          "model_name": "LayoutModel",
          "state": {
            "_view_name": "LayoutView",
            "grid_template_rows": null,
            "right": null,
            "justify_content": null,
            "_view_module": "@jupyter-widgets/base",
            "overflow": null,
            "_model_module_version": "1.2.0",
            "_view_count": null,
            "flex_flow": null,
            "width": null,
            "min_width": null,
            "border": null,
            "align_items": null,
            "bottom": null,
            "_model_module": "@jupyter-widgets/base",
            "top": null,
            "grid_column": null,
            "overflow_y": null,
            "overflow_x": null,
            "grid_auto_flow": null,
            "grid_area": null,
            "grid_template_columns": null,
            "flex": null,
            "_model_name": "LayoutModel",
            "justify_items": null,
            "grid_row": null,
            "max_height": null,
            "align_content": null,
            "visibility": null,
            "align_self": null,
            "height": null,
            "min_height": null,
            "padding": null,
            "grid_auto_rows": null,
            "grid_gap": null,
            "max_width": null,
            "order": null,
            "_view_module_version": "1.2.0",
            "grid_template_areas": null,
            "object_position": null,
            "object_fit": null,
            "grid_auto_columns": null,
            "margin": null,
            "display": null,
            "left": null
          }
        },
        "142683db03da47aaa3b4be1d546a817d": {
          "model_module": "@jupyter-widgets/controls",
          "model_name": "DescriptionStyleModel",
          "state": {
            "_view_name": "StyleView",
            "_model_name": "DescriptionStyleModel",
            "description_width": "",
            "_view_module": "@jupyter-widgets/base",
            "_model_module_version": "1.5.0",
            "_view_count": null,
            "_view_module_version": "1.2.0",
            "_model_module": "@jupyter-widgets/controls"
          }
        },
        "fde375419e554fdaaebb1681ee47dd1b": {
          "model_module": "@jupyter-widgets/base",
          "model_name": "LayoutModel",
          "state": {
            "_view_name": "LayoutView",
            "grid_template_rows": null,
            "right": null,
            "justify_content": null,
            "_view_module": "@jupyter-widgets/base",
            "overflow": null,
            "_model_module_version": "1.2.0",
            "_view_count": null,
            "flex_flow": null,
            "width": null,
            "min_width": null,
            "border": null,
            "align_items": null,
            "bottom": null,
            "_model_module": "@jupyter-widgets/base",
            "top": null,
            "grid_column": null,
            "overflow_y": null,
            "overflow_x": null,
            "grid_auto_flow": null,
            "grid_area": null,
            "grid_template_columns": null,
            "flex": null,
            "_model_name": "LayoutModel",
            "justify_items": null,
            "grid_row": null,
            "max_height": null,
            "align_content": null,
            "visibility": null,
            "align_self": null,
            "height": null,
            "min_height": null,
            "padding": null,
            "grid_auto_rows": null,
            "grid_gap": null,
            "max_width": null,
            "order": null,
            "_view_module_version": "1.2.0",
            "grid_template_areas": null,
            "object_position": null,
            "object_fit": null,
            "grid_auto_columns": null,
            "margin": null,
            "display": null,
            "left": null
          }
        },
        "350482a991c141bd9ad4673e749e7e74": {
          "model_module": "@jupyter-widgets/controls",
          "model_name": "HBoxModel",
          "state": {
            "_view_name": "HBoxView",
            "_dom_classes": [],
            "_model_name": "HBoxModel",
            "_view_module": "@jupyter-widgets/controls",
            "_model_module_version": "1.5.0",
            "_view_count": null,
            "_view_module_version": "1.5.0",
            "box_style": "",
            "layout": "IPY_MODEL_f727dc71dbdb46aea061413a93d361a7",
            "_model_module": "@jupyter-widgets/controls",
            "children": [
              "IPY_MODEL_dd3c2034839148f688550c2daa9d50c8",
              "IPY_MODEL_65340742f783418784fdf1b31c2a5aca"
            ]
          }
        },
        "f727dc71dbdb46aea061413a93d361a7": {
          "model_module": "@jupyter-widgets/base",
          "model_name": "LayoutModel",
          "state": {
            "_view_name": "LayoutView",
            "grid_template_rows": null,
            "right": null,
            "justify_content": null,
            "_view_module": "@jupyter-widgets/base",
            "overflow": null,
            "_model_module_version": "1.2.0",
            "_view_count": null,
            "flex_flow": null,
            "width": null,
            "min_width": null,
            "border": null,
            "align_items": null,
            "bottom": null,
            "_model_module": "@jupyter-widgets/base",
            "top": null,
            "grid_column": null,
            "overflow_y": null,
            "overflow_x": null,
            "grid_auto_flow": null,
            "grid_area": null,
            "grid_template_columns": null,
            "flex": null,
            "_model_name": "LayoutModel",
            "justify_items": null,
            "grid_row": null,
            "max_height": null,
            "align_content": null,
            "visibility": null,
            "align_self": null,
            "height": null,
            "min_height": null,
            "padding": null,
            "grid_auto_rows": null,
            "grid_gap": null,
            "max_width": null,
            "order": null,
            "_view_module_version": "1.2.0",
            "grid_template_areas": null,
            "object_position": null,
            "object_fit": null,
            "grid_auto_columns": null,
            "margin": null,
            "display": null,
            "left": null
          }
        },
        "dd3c2034839148f688550c2daa9d50c8": {
          "model_module": "@jupyter-widgets/controls",
          "model_name": "FloatProgressModel",
          "state": {
            "_view_name": "ProgressView",
            "style": "IPY_MODEL_fe0819976e1e40ed9302c5f683f5dd12",
            "_dom_classes": [],
            "description": "100%",
            "_model_name": "FloatProgressModel",
            "bar_style": "success",
            "max": 600,
            "_view_module": "@jupyter-widgets/controls",
            "_model_module_version": "1.5.0",
            "value": 600,
            "_view_count": null,
            "_view_module_version": "1.5.0",
            "orientation": "horizontal",
            "min": 0,
            "description_tooltip": null,
            "_model_module": "@jupyter-widgets/controls",
            "layout": "IPY_MODEL_206f7eb6b51940aea08c8dc962c50ebe"
          }
        },
        "65340742f783418784fdf1b31c2a5aca": {
          "model_module": "@jupyter-widgets/controls",
          "model_name": "HTMLModel",
          "state": {
            "_view_name": "HTMLView",
            "style": "IPY_MODEL_888c0e0e9ac84f66bdc3514ce192424a",
            "_dom_classes": [],
            "description": "",
            "_model_name": "HTMLModel",
            "placeholder": "​",
            "_view_module": "@jupyter-widgets/controls",
            "_model_module_version": "1.5.0",
            "value": " 600/600 [01:40&lt;00:00,  5.98it/s]",
            "_view_count": null,
            "_view_module_version": "1.5.0",
            "description_tooltip": null,
            "_model_module": "@jupyter-widgets/controls",
            "layout": "IPY_MODEL_be40395c400b4b898aa85c181c4cfe15"
          }
        },
        "fe0819976e1e40ed9302c5f683f5dd12": {
          "model_module": "@jupyter-widgets/controls",
          "model_name": "ProgressStyleModel",
          "state": {
            "_view_name": "StyleView",
            "_model_name": "ProgressStyleModel",
            "description_width": "initial",
            "_view_module": "@jupyter-widgets/base",
            "_model_module_version": "1.5.0",
            "_view_count": null,
            "_view_module_version": "1.2.0",
            "bar_color": null,
            "_model_module": "@jupyter-widgets/controls"
          }
        },
        "206f7eb6b51940aea08c8dc962c50ebe": {
          "model_module": "@jupyter-widgets/base",
          "model_name": "LayoutModel",
          "state": {
            "_view_name": "LayoutView",
            "grid_template_rows": null,
            "right": null,
            "justify_content": null,
            "_view_module": "@jupyter-widgets/base",
            "overflow": null,
            "_model_module_version": "1.2.0",
            "_view_count": null,
            "flex_flow": null,
            "width": null,
            "min_width": null,
            "border": null,
            "align_items": null,
            "bottom": null,
            "_model_module": "@jupyter-widgets/base",
            "top": null,
            "grid_column": null,
            "overflow_y": null,
            "overflow_x": null,
            "grid_auto_flow": null,
            "grid_area": null,
            "grid_template_columns": null,
            "flex": null,
            "_model_name": "LayoutModel",
            "justify_items": null,
            "grid_row": null,
            "max_height": null,
            "align_content": null,
            "visibility": null,
            "align_self": null,
            "height": null,
            "min_height": null,
            "padding": null,
            "grid_auto_rows": null,
            "grid_gap": null,
            "max_width": null,
            "order": null,
            "_view_module_version": "1.2.0",
            "grid_template_areas": null,
            "object_position": null,
            "object_fit": null,
            "grid_auto_columns": null,
            "margin": null,
            "display": null,
            "left": null
          }
        },
        "888c0e0e9ac84f66bdc3514ce192424a": {
          "model_module": "@jupyter-widgets/controls",
          "model_name": "DescriptionStyleModel",
          "state": {
            "_view_name": "StyleView",
            "_model_name": "DescriptionStyleModel",
            "description_width": "",
            "_view_module": "@jupyter-widgets/base",
            "_model_module_version": "1.5.0",
            "_view_count": null,
            "_view_module_version": "1.2.0",
            "_model_module": "@jupyter-widgets/controls"
          }
        },
        "be40395c400b4b898aa85c181c4cfe15": {
          "model_module": "@jupyter-widgets/base",
          "model_name": "LayoutModel",
          "state": {
            "_view_name": "LayoutView",
            "grid_template_rows": null,
            "right": null,
            "justify_content": null,
            "_view_module": "@jupyter-widgets/base",
            "overflow": null,
            "_model_module_version": "1.2.0",
            "_view_count": null,
            "flex_flow": null,
            "width": null,
            "min_width": null,
            "border": null,
            "align_items": null,
            "bottom": null,
            "_model_module": "@jupyter-widgets/base",
            "top": null,
            "grid_column": null,
            "overflow_y": null,
            "overflow_x": null,
            "grid_auto_flow": null,
            "grid_area": null,
            "grid_template_columns": null,
            "flex": null,
            "_model_name": "LayoutModel",
            "justify_items": null,
            "grid_row": null,
            "max_height": null,
            "align_content": null,
            "visibility": null,
            "align_self": null,
            "height": null,
            "min_height": null,
            "padding": null,
            "grid_auto_rows": null,
            "grid_gap": null,
            "max_width": null,
            "order": null,
            "_view_module_version": "1.2.0",
            "grid_template_areas": null,
            "object_position": null,
            "object_fit": null,
            "grid_auto_columns": null,
            "margin": null,
            "display": null,
            "left": null
          }
        }
      }
    }
  },
  "cells": [
    {
      "cell_type": "code",
      "metadata": {
        "colab": {
          "base_uri": "https://localhost:8080/"
        },
        "id": "0xKBDAyLCLSC",
        "outputId": "e5b67277-af82-4076-ebb7-41661a1d78dd"
      },
      "source": [
        "from google.colab import drive\n",
        "drive.mount('/content/drive')"
      ],
      "execution_count": null,
      "outputs": [
        {
          "output_type": "stream",
          "text": [
            "Mounted at /content/drive\n"
          ],
          "name": "stdout"
        }
      ]
    },
    {
      "cell_type": "code",
      "metadata": {
        "id": "qYYTUTGjR0k8"
      },
      "source": [
        "pip install -U ckiptagger[tf,gdown]"
      ],
      "execution_count": null,
      "outputs": []
    },
    {
      "cell_type": "code",
      "metadata": {
        "id": "ygXJvTfyB26Q"
      },
      "source": [
        "import pandas as pd\n",
        "import numpy as np\n",
        "from ckiptagger import WS, POS, NER\n",
        "from ckiptagger import construct_dictionary\n",
        "from tqdm.notebook import tqdm"
      ],
      "execution_count": 1,
      "outputs": []
    },
    {
      "cell_type": "code",
      "metadata": {
        "colab": {
          "base_uri": "https://localhost:8080/"
        },
        "id": "x0Uo-msHDKoO",
        "outputId": "9aa25718-0485-491f-99ff-2664c234caf2"
      },
      "source": [
        "from ckiptagger import data_utils, WS\n",
        "data_utils.download_data_gdown(\"./\")"
      ],
      "execution_count": null,
      "outputs": [
        {
          "output_type": "stream",
          "text": [
            "Downloading...\n",
            "From: https://drive.google.com/uc?id=1efHsY16pxK0lBD2gYCgCTnv1Swstq771\n",
            "To: /content/data.zip\n",
            "1.88GB [00:18, 100MB/s]\n"
          ],
          "name": "stderr"
        }
      ]
    },
    {
      "cell_type": "code",
      "metadata": {
        "id": "X_6APVtBB26Q"
      },
      "source": [
        "df_train = pd.read_csv('/content/drive/MyDrive/NLP/news_clustering_train.tsv', sep='\\t')\n",
        "df_test = pd.read_csv('/content/drive/MyDrive/NLP/news_clustering_test.tsv', sep='\\t')"
      ],
      "execution_count": 2,
      "outputs": []
    },
    {
      "cell_type": "code",
      "metadata": {
        "colab": {
          "base_uri": "https://localhost:8080/",
          "height": 410
        },
        "id": "-ZG7B9EjB26R",
        "outputId": "1ba42623-2ea3-481b-ef23-e1a8bcbd3b18"
      },
      "source": [
        "df_train"
      ],
      "execution_count": 3,
      "outputs": [
        {
          "output_type": "execute_result",
          "data": {
            "text/html": [
              "<div>\n",
              "<style scoped>\n",
              "    .dataframe tbody tr th:only-of-type {\n",
              "        vertical-align: middle;\n",
              "    }\n",
              "\n",
              "    .dataframe tbody tr th {\n",
              "        vertical-align: top;\n",
              "    }\n",
              "\n",
              "    .dataframe thead th {\n",
              "        text-align: right;\n",
              "    }\n",
              "</style>\n",
              "<table border=\"1\" class=\"dataframe\">\n",
              "  <thead>\n",
              "    <tr style=\"text-align: right;\">\n",
              "      <th></th>\n",
              "      <th>index</th>\n",
              "      <th>class</th>\n",
              "      <th>title</th>\n",
              "    </tr>\n",
              "  </thead>\n",
              "  <tbody>\n",
              "    <tr>\n",
              "      <th>0</th>\n",
              "      <td>0</td>\n",
              "      <td>體育</td>\n",
              "      <td>亞洲杯奪冠賠率：日本、伊朗領銜 中國竟與泰國並列</td>\n",
              "    </tr>\n",
              "    <tr>\n",
              "      <th>1</th>\n",
              "      <td>1</td>\n",
              "      <td>體育</td>\n",
              "      <td>9輪4球本土射手僅次武磊 黃紫昌要搶最強U23頭銜</td>\n",
              "    </tr>\n",
              "    <tr>\n",
              "      <th>2</th>\n",
              "      <td>2</td>\n",
              "      <td>體育</td>\n",
              "      <td>如果今年勇士奪冠，下賽季詹姆斯何去何從？</td>\n",
              "    </tr>\n",
              "    <tr>\n",
              "      <th>3</th>\n",
              "      <td>3</td>\n",
              "      <td>體育</td>\n",
              "      <td>超級替補！科斯塔本賽季替補出場貢獻7次助攻</td>\n",
              "    </tr>\n",
              "    <tr>\n",
              "      <th>4</th>\n",
              "      <td>4</td>\n",
              "      <td>體育</td>\n",
              "      <td>騎士6天里發生了啥？從首輪搶七到次輪3-0猛龍</td>\n",
              "    </tr>\n",
              "    <tr>\n",
              "      <th>...</th>\n",
              "      <td>...</td>\n",
              "      <td>...</td>\n",
              "      <td>...</td>\n",
              "    </tr>\n",
              "    <tr>\n",
              "      <th>1795</th>\n",
              "      <td>1795</td>\n",
              "      <td>遊戲</td>\n",
              "      <td>LOL：麻辣香鍋韓服Rank不合成打野刀？電刀巨魔新套路連勝中</td>\n",
              "    </tr>\n",
              "    <tr>\n",
              "      <th>1796</th>\n",
              "      <td>1796</td>\n",
              "      <td>遊戲</td>\n",
              "      <td>穩住，我們能贏！因為我們擁有這種強大的力量</td>\n",
              "    </tr>\n",
              "    <tr>\n",
              "      <th>1797</th>\n",
              "      <td>1797</td>\n",
              "      <td>遊戲</td>\n",
              "      <td>騰訊是怎樣毀掉《鬥戰神》這款可能成神的作品的？</td>\n",
              "    </tr>\n",
              "    <tr>\n",
              "      <th>1798</th>\n",
              "      <td>1798</td>\n",
              "      <td>遊戲</td>\n",
              "      <td>LOL你不知道的黑科技打法！</td>\n",
              "    </tr>\n",
              "    <tr>\n",
              "      <th>1799</th>\n",
              "      <td>1799</td>\n",
              "      <td>遊戲</td>\n",
              "      <td>遊戲拳皇各代的劇情都在講些什麼？</td>\n",
              "    </tr>\n",
              "  </tbody>\n",
              "</table>\n",
              "<p>1800 rows × 3 columns</p>\n",
              "</div>"
            ],
            "text/plain": [
              "      index class                            title\n",
              "0         0    體育         亞洲杯奪冠賠率：日本、伊朗領銜 中國竟與泰國並列\n",
              "1         1    體育        9輪4球本土射手僅次武磊 黃紫昌要搶最強U23頭銜\n",
              "2         2    體育             如果今年勇士奪冠，下賽季詹姆斯何去何從？\n",
              "3         3    體育            超級替補！科斯塔本賽季替補出場貢獻7次助攻\n",
              "4         4    體育          騎士6天里發生了啥？從首輪搶七到次輪3-0猛龍\n",
              "...     ...   ...                              ...\n",
              "1795   1795    遊戲  LOL：麻辣香鍋韓服Rank不合成打野刀？電刀巨魔新套路連勝中\n",
              "1796   1796    遊戲            穩住，我們能贏！因為我們擁有這種強大的力量\n",
              "1797   1797    遊戲          騰訊是怎樣毀掉《鬥戰神》這款可能成神的作品的？\n",
              "1798   1798    遊戲                   LOL你不知道的黑科技打法！\n",
              "1799   1799    遊戲                 遊戲拳皇各代的劇情都在講些什麼？\n",
              "\n",
              "[1800 rows x 3 columns]"
            ]
          },
          "metadata": {
            "tags": []
          },
          "execution_count": 3
        }
      ]
    },
    {
      "cell_type": "code",
      "metadata": {
        "id": "wtEklTqmB26R"
      },
      "source": [
        "train_titles = {row['index']: row['title'] for _, row in df_train.iterrows()}\n",
        "train_classes = {row['index']: row['class'] for _, row in df_train.iterrows()}\n",
        "\n",
        "test_titles = {row['index']: row['title'] for _, row in df_test.iterrows()}\n",
        "test_classes = {row['index']: row['class'] for _, row in df_test.iterrows()}"
      ],
      "execution_count": 4,
      "outputs": []
    },
    {
      "cell_type": "code",
      "metadata": {
        "id": "bRGUsp4PB26S"
      },
      "source": [
        "all_news_class = ['體育', '財經', '科技', '旅遊', '農業', '遊戲']"
      ],
      "execution_count": 5,
      "outputs": []
    },
    {
      "cell_type": "markdown",
      "metadata": {
        "id": "P_3QVnRAB26S"
      },
      "source": [
        "# 斷詞 + POS"
      ]
    },
    {
      "cell_type": "code",
      "metadata": {
        "tags": [],
        "colab": {
          "base_uri": "https://localhost:8080/"
        },
        "id": "6bQGiqiKB26S",
        "outputId": "ee0b37b3-cdba-4145-e838-faa05482d14d"
      },
      "source": [
        "ws = WS('./data/')\n",
        "pos = POS('./data/')"
      ],
      "execution_count": 6,
      "outputs": [
        {
          "output_type": "stream",
          "text": [
            "/usr/local/lib/python3.7/dist-packages/tensorflow/python/keras/layers/legacy_rnn/rnn_cell_impl.py:903: UserWarning: `tf.nn.rnn_cell.LSTMCell` is deprecated and will be removed in a future version. This class is equivalent as `tf.keras.layers.LSTMCell`, and will be replaced by that in Tensorflow 2.0.\n",
            "  warnings.warn(\"`tf.nn.rnn_cell.LSTMCell` is deprecated and will be \"\n",
            "/usr/local/lib/python3.7/dist-packages/tensorflow/python/keras/engine/base_layer_v1.py:1727: UserWarning: `layer.add_variable` is deprecated and will be removed in a future version. Please use `layer.add_weight` method instead.\n",
            "  warnings.warn('`layer.add_variable` is deprecated and '\n"
          ],
          "name": "stderr"
        }
      ]
    },
    {
      "cell_type": "code",
      "metadata": {
        "colab": {
          "base_uri": "https://localhost:8080/",
          "height": 66,
          "referenced_widgets": [
            "18a492c543ce4bfc87daebc0f17487f5",
            "537a750c67324da382fea385135509c6",
            "7a00bda282b54fffb6f2a03f1e4086bc",
            "6cff06f4136a4a0eaad4e29ef2cee419",
            "2c2c2a2d6fcd45179e16b56ab3875b07",
            "ee3a7458ea964831a9489a3616e00b7b",
            "142683db03da47aaa3b4be1d546a817d",
            "fde375419e554fdaaebb1681ee47dd1b"
          ]
        },
        "id": "gcH6tyH5Ke83",
        "outputId": "2f216d12-2c5b-4461-ccce-e2f588b0191d"
      },
      "source": [
        "train_title_cuts = {}\n",
        "for index, title in tqdm(train_titles.items()):\n",
        "    word_s  = ws([title],sentence_segmentation = True) # To consider delimiters)\n",
        "    word_p = pos(word_s)\n",
        "\n",
        "    # END YOUR CODE\n",
        "    train_title_cuts[index] = list(zip(word_s[0], word_p[0]))"
      ],
      "execution_count": 10,
      "outputs": [
        {
          "output_type": "display_data",
          "data": {
            "application/vnd.jupyter.widget-view+json": {
              "model_id": "18a492c543ce4bfc87daebc0f17487f5",
              "version_minor": 0,
              "version_major": 2
            },
            "text/plain": [
              "HBox(children=(FloatProgress(value=0.0, max=1800.0), HTML(value='')))"
            ]
          },
          "metadata": {
            "tags": []
          }
        },
        {
          "output_type": "stream",
          "text": [
            "\n"
          ],
          "name": "stdout"
        }
      ]
    },
    {
      "cell_type": "code",
      "metadata": {
        "tags": [],
        "colab": {
          "base_uri": "https://localhost:8080/",
          "height": 66,
          "referenced_widgets": [
            "350482a991c141bd9ad4673e749e7e74",
            "f727dc71dbdb46aea061413a93d361a7",
            "dd3c2034839148f688550c2daa9d50c8",
            "65340742f783418784fdf1b31c2a5aca",
            "fe0819976e1e40ed9302c5f683f5dd12",
            "206f7eb6b51940aea08c8dc962c50ebe",
            "888c0e0e9ac84f66bdc3514ce192424a",
            "be40395c400b4b898aa85c181c4cfe15"
          ]
        },
        "id": "dsQOoYnHB26T",
        "outputId": "51acbc6c-ea49-4877-8b4c-ae2fbcb7fd6c"
      },
      "source": [
        "test_title_cuts = {}\n",
        "for index, title in tqdm(test_titles.items()):\n",
        "    word_s  = ws([title],sentence_segmentation = True) # To consider delimiters)\n",
        "    word_p = pos(word_s)\n",
        "    \n",
        "    test_title_cuts[index] = list(zip(word_s[0], word_p[0]))"
      ],
      "execution_count": 11,
      "outputs": [
        {
          "output_type": "display_data",
          "data": {
            "application/vnd.jupyter.widget-view+json": {
              "model_id": "350482a991c141bd9ad4673e749e7e74",
              "version_minor": 0,
              "version_major": 2
            },
            "text/plain": [
              "HBox(children=(FloatProgress(value=0.0, max=600.0), HTML(value='')))"
            ]
          },
          "metadata": {
            "tags": []
          }
        },
        {
          "output_type": "stream",
          "text": [
            "\n"
          ],
          "name": "stdout"
        }
      ]
    },
    {
      "cell_type": "code",
      "metadata": {
        "colab": {
          "base_uri": "https://localhost:8080/"
        },
        "id": "JruaqHPaeFf2",
        "outputId": "2c2a26a5-c1c5-4cda-c3ce-a2fad6ada92c"
      },
      "source": [
        "train_title_cuts[120]"
      ],
      "execution_count": 12,
      "outputs": [
        {
          "output_type": "execute_result",
          "data": {
            "text/plain": [
              "[('國腳', 'Na'),\n",
              " ('張呈棟', 'Nb'),\n",
              " ('：', 'COLONCATEGORY'),\n",
              " ('從', 'D'),\n",
              " ('沒', 'D'),\n",
              " ('想', 'VE'),\n",
              " ('過', 'Di'),\n",
              " ('自己', 'Nh'),\n",
              " ('會', 'D'),\n",
              " ('出', 'VC'),\n",
              " ('一', 'Neu'),\n",
              " ('本', 'Nf'),\n",
              " ('書', 'Na')]"
            ]
          },
          "metadata": {
            "tags": []
          },
          "execution_count": 12
        }
      ]
    },
    {
      "cell_type": "markdown",
      "metadata": {
        "id": "MA9om7ibB26Y"
      },
      "source": [
        "# Bag of Words (BOW)"
      ]
    },
    {
      "cell_type": "code",
      "metadata": {
        "id": "kb9962Z7B26Y"
      },
      "source": [
        "word2index = {}\n",
        "index2word = {}\n",
        "# 產生字與index對應的關係\n",
        "idx = 0\n",
        "for i in range(len(train_title_cuts)):\n",
        "    for word in train_title_cuts[i]:\n",
        "        if word[0] not in word2index:\n",
        "            word2index[word[0]] = idx\n",
        "            index2word[idx] = word[0]\n",
        "            idx+=1\n",
        "        else:\n",
        "            pass"
      ],
      "execution_count": 13,
      "outputs": []
    },
    {
      "cell_type": "code",
      "metadata": {
        "id": "Gvq9infpB26Z",
        "colab": {
          "base_uri": "https://localhost:8080/"
        },
        "outputId": "4f080e58-cfe5-4210-c2cf-4aa86093b6fa"
      },
      "source": [
        "word2index['溫暖']"
      ],
      "execution_count": 14,
      "outputs": [
        {
          "output_type": "execute_result",
          "data": {
            "text/plain": [
              "1512"
            ]
          },
          "metadata": {
            "tags": []
          },
          "execution_count": 14
        }
      ]
    },
    {
      "cell_type": "code",
      "metadata": {
        "id": "558w_weoB26Z",
        "colab": {
          "base_uri": "https://localhost:8080/",
          "height": 34
        },
        "outputId": "f1569f57-9443-435b-b76c-a450e9e97eda"
      },
      "source": [
        "index2word[1512]"
      ],
      "execution_count": 15,
      "outputs": [
        {
          "output_type": "execute_result",
          "data": {
            "application/vnd.google.colaboratory.intrinsic+json": {
              "type": "string"
            },
            "text/plain": [
              "'溫暖'"
            ]
          },
          "metadata": {
            "tags": []
          },
          "execution_count": 15
        }
      ]
    },
    {
      "cell_type": "code",
      "metadata": {
        "id": "eltr0WnvB26Z"
      },
      "source": [
        "def get_bow_vector(pairs, word2index):\n",
        "    vector = np.zeros(shape=(len(word2index)))\n",
        "\n",
        "    for word, _ in pairs:\n",
        "        if word in word2index:\n",
        "            word_id = word2index[word]\n",
        "            vector[word_id]+=1\n",
        "        else: \n",
        "            pass\n",
        "\n",
        "    # END YOUR CODE\n",
        "    return vector"
      ],
      "execution_count": 16,
      "outputs": []
    },
    {
      "cell_type": "code",
      "metadata": {
        "colab": {
          "base_uri": "https://localhost:8080/"
        },
        "id": "Wa_pkIN6ubzg",
        "outputId": "9b3eaafc-1cba-4ea0-be47-23c034e80e26"
      },
      "source": [
        "get_bow_vector(train_title_cuts[120], word2index)"
      ],
      "execution_count": 17,
      "outputs": [
        {
          "output_type": "execute_result",
          "data": {
            "text/plain": [
              "array([0., 0., 1., ..., 0., 0., 0.])"
            ]
          },
          "metadata": {
            "tags": []
          },
          "execution_count": 17
        }
      ]
    },
    {
      "cell_type": "markdown",
      "metadata": {
        "id": "4U8Fv94YB26a"
      },
      "source": [
        "# 排除較無意義的詞性"
      ]
    },
    {
      "cell_type": "code",
      "metadata": {
        "colab": {
          "base_uri": "https://localhost:8080/"
        },
        "id": "jATADOxuzPcu",
        "outputId": "ce3dab49-360d-4d19-e70b-95e618fdb925"
      },
      "source": [
        "pos_analysis = {}\n",
        "for _, pairs in train_title_cuts.items():\n",
        "\n",
        "    for word, flag in pairs:\n",
        "        if flag not in pos_analysis:\n",
        "            pos_analysis[flag] = set()\n",
        "        pos_analysis[flag].add(word)\n",
        "\n",
        "for flag, words in pos_analysis.items():\n",
        "    print(flag, ':', list(words)[:100])\n",
        "    print('=======================')"
      ],
      "execution_count": 18,
      "outputs": [
        {
          "output_type": "stream",
          "text": [
            "Nb : ['傑森', '唐培科', '老詹', '克羅托內 ', '本澤馬', '吉尼斯', '圍甲', '卡頓', '堯治河', '京新', '何雯娜', '巴爾韋德', '劉集', '拳皇', '切爾西', '詹姆斯', '昂科威', '史森明', '紫鑫', '德安東尼', '華為', '峽谷里', '安卓', '蓋倫', '馬競', '宇通', '高曉松', '台積電', '章澤天', '董明珠', '埃爾克森', '阿木', '姆巴佩', '劉歡', '沙特', '楊柳夏', '多浪', '老馬', 'S11', '瓜迪奧拉', '博時', '小明', '伊亞', '韋德', '英超', '樊振東', '瓦基弗', '高傭', '亨德森', '內馬爾', '霍金斯', '阿里雲', '子女農轉非', '西蒙斯', '郭春林', '蘇群', '劉偉', '2.0', '何享健', '騰訊', '卓爾', '喬丹', '劉德華', '波爾', '安徒恩比盧克', '德比', '張良咸', '詹皇', '伏爾加格勒', '鄭眼', '哈登', '馮天睿', '保羅', '金秀瑤族', '朱婷', '大神', '李暉', '布茲德里克', '沃爾瑪', '林員', '皮爾洛', '拜仁續', '大聶', '胤禛', '張大仙', '阿里舜宇', '武磊', '羅傑斯', '郭煒煒', '艷武漢', '小詹皇', '梅西納', '密子君', '桑德羅', '浦發', '穆里尼奧', '陶華碧', '萊昂納德', '梁建章', '雷軍']\n",
            "=======================\n",
            "Na : ['命運', '瓜', '新機', '越南語', '同行', '樹葉', '鐵漢', '迷宮', '名錄', '助教', '增幅', '排位', '感情', '接班人', '黑桃樹', '安全性', '高端', '搏擊', '皇后', '風光', '美', '戰火箭', '西紅柿', '大錢', '鵜鶘', '展品', '消費者', '逆市', '門', '標題黨', '地位', '剛性', '平台', '行情', '規劃', '總量', '真因', '人才', '水漂', '飲料', '淘寶客', '跆拳道', '因素', '錢包', '損失', '千姿百色', 'Bu', '樹莓', '青年', '莊園', '兒童', '淨利', '豌豆', '金華人', '遊戲本', '雷行記', '撒狗糧', '貧困戶', '英超', '不鏽鋼', '飾品', '槍法', '大蒜', '消息', '專家', '離子', '當地人', '白金', '氧', '後衛', '鍋', '份額', '理論', '騰訊', '電流', '智能', '貨源', '號', '牛股', '周銷量', '珠璣', '原料', '飼料', '少女', '熱度', '梅露', '節奏', '大咖', '電視', '陣容', '暴雨', '牛肉', '造型', '老爸', '智慧', '功效', '女人', '武力', '花', '男團']\n",
            "=======================\n",
            "COLONCATEGORY : ['：', ':']\n",
            "=======================\n",
            "Nc : ['聊城', '華僑城', '遼寧省', '銀行', '建行', '波蘭', '塔昌村', '營口', '川藏線', '鎮', '兩岸', '維希', '火山口', '嵐山', '柯橋', '超京', '評論區', '軍艦島', '基地', '雪鄉', '香港', '長汀連城', '成中路', '切爾西', '美', '青島', '立夏苗山', '鮁魚圈區', '美國', '上川島', '巷口', '窮游', '城市', '小丘鎮', '臨洮', '三亞', '新農村', '咖啡蘭', '廣西', '廣交會', '深市', '渾江區', '泰拉瑞亞', '佛山', '平橋鄉', '馬刺', '撫遠', '校', '科', '水果店', '北大', '陝西', '麵食攤', '俄羅斯', '公司', '馬略卡島', '廣州', '奧蘭多', '子公司', '下路', '重慶', '杭州', 'WKG&M-1世界', '大連海', '自治縣', '豬場', '鵬城', '沂水', '陷泥潭', '市場', '亞洲', '宜賓', '五一', '產業帶', '倫貝爾', '舟山', '珠寶店', '東城', '工廠', '紅河谷', '自駕游', '人區', '延邊', '官總', '吐魯番', '烏魯木齊', '大圩', '北海', '中心', '風景道', '京城', '岳陽市', '塞班', '巴黎', '西藏', '山東', '火焰山', '河南', '九寨溝', '新化縣']\n",
            "=======================\n",
            "PAUSECATEGORY : ['、']\n",
            "=======================\n",
            "VB : ['退款', '退改', '代打', '通話', '入賬', '鋪平', '拍照', '再見', '加冕', '提前', '融資', '解密', '計算出來', '抓來', '應對', '加工', '相比', '罰款', '助威', '分段', '加起來', '導航', '解體', '退貨', '分組', '執教', '上架', '解圍', '分紅', '扣分', '鍍金', '護航', '加油', '解惑', '加持', '定位', '開戰', '領銜', '一網打盡', '站台', '收回來', '復仇', '罵屌絲', '效力', '充氣', '騙錢', '充飢']\n",
            "=======================\n",
            "WHITESPACE : [' ']\n",
            "=======================\n",
            "D : ['交互', '雙雙', '未', '絕', '該', '首先', '自', '少', '連續', '就', '恆', '趕快', '一路', '年年', '屢', '簡直', '冒死', '連', '頻', '來', '居然', '更', '總是', '全面', '永', '先', '亂', '何以', '仍然', '至今', '能不能', '總算', '時刻', '有沒有', '經常', '互', '從來', '屢次', '一頭', '已然', '差點', '一起', '實在', '大幅', '終', '不要', '應', '不可以', '及時', '為什麼', '永遠', '偶爾', '趁早', '曾', '需', '不得', '正在', '沒', '所', '必須', '多', '別', '即將', '不可', '會不會', '再度', '盡快', '盡', '依舊', '恐怕', '復', '接著', '沒想到', '能夠', '快', '終於', '盡情', '還是', '立即', '隆', '親身', '又', '天南地北', '可能', '結伴', '反', '為何', '天天', '吃起來', '私', '新', '或許', '竟', '有', '當下', '不料', '一手', '總', '越', '卻']\n",
            "=======================\n",
            "P : ['於', '因', '往', '和', '自', '如', '臨', '以', '直至', '就', '除', '憑', '用', '在', '針對', '對', '距離', '離', '至', '待', '自從', '隨', '按', '給', '向', '跟', '從', '為了', '趁著', '為', '等', '比', '受', '關於', '趁', '被', '幫', '與', '除了', '隨了', '根據', '遭', '到', '繼', '靠', '比如', '慘遭', '當', '將', '像', '把']\n",
            "=======================\n",
            "VG : ['變', '譽為', '似', '合成', '叫', '形成', '作為', '當上', '非', '姓', '理解為', '如', '排', '等於', '並列', '化', '竟是', '變成', '成為', '屬於', '當成', '居', '誤認成', '泛濫成', '充當', '建成', '算是', '戰成', '稱作', '稱得上', '類似', '叫做', '投票成', '酷似', '任', '升任', '美成', '當作', '稱', '評選', '應聘', '疑似', '名叫', '做', '為', '排行', '賣成', '做成', '堪稱', '稱為', '猶如', '屈居', '排名', '封號', '集成', '改造成', '彷彿', '成', '當', '像', '算']\n",
            "=======================\n",
            "Neu : ['2018.5.6', '980', '1300', '42', '三千億', '0-3', '200', '15.60', '115', '4萬多', '一500', '第七', '7億', '十五萬', '60萬', '八', '2400', '500', '318', '1億', '8', '五', '24.8億', '第四十四', '35萬', '20萬', '300', '0', '711', '1000萬', '120', '300萬', '18', '3000', '3.5', '25', '三十', '24', '六', '60多', '8萬', '三', '00', '四五', '1.1.2', '400萬', '2000', '九', '20萬一', '第三', '1.3萬', '32', '二〇三', '11.59億', '第十四', '兩', '一萬', '15', '9-0', '第二', '30萬', '48', '21', '十三', '37', '175', '十多萬', '二', '05-06 ', '135', '5.6千三', '56', '3-0', '76', '64', '10萬', ' 360', '8.7億', '13', '47億', '14', '千', '第九', '3000萬', '億', '54', '70萬', '17', '58', '50', '100', '392億', '10', '3', '30', '730萬', '16', '2018', '100多', '2萬']\n",
            "=======================\n",
            "Nf : ['歲', '胎', '秒', '層', '隊', '群', '番', '元', '節', '個', '處', '盤', '款', '部', '級', '日', '只', '袋', '批', '隻', '招', '門', '輛', '則', '項', '局', '路', '周', '所', '回', '樣', '些', '片', '年', '類', '篇', '掛', '頭', '頁', '週', '噸', '英吋', '塊', '件', '刻', '步', '分鐘', '斤', '串', '毛', '輪', '屆', '期', '晚', '班', '度', '票', '方', '種', '鍋', '關', '台', '股', '港元', '位', '句', '套', '行', '色', '點', '號', '名', '棵', '檔', '條', '戶', '公里', '家', '頓', '座', '筆', '分', '天', '遍', '把', '支', '美元', 'K', '槍', '口', '次', '對', '本', '株', '場', '道', '畝', '碗', '米', '張']\n",
            "=======================\n",
            "VJ : ['連接', '吸引', '處於', '仇', '曬', '限', '冷落', '維持', '歸屬於', '毫無', '領先', '來自', '關注', '煥發', '順應', '不敵', '缺', '身臨', '服', '虧損', '降至', '平', '領略', '為', '惜', '展望', '贏下', '出身', '領跑', '沈迷', '熱心', '不如', '緊缺', '忽視', '沒', '晉級', '認', '蘊藏', '享受', '看好', '錯失', '爆發', '共享', '忘懷', '嫌棄', '偏愛', '適用', '耗', '逾', '養有', '擁有', '輸掉', '年入', '僅次', '贏得', '過完', '震撼到', '出於', '羨慕', '值', '受', '富', '懷念', '脫', '贊同', '看懂', '看不過去', '近', '衝', '錯過', '喪失', '達到', '獲得', '珍惜', '失去', '失', '吃上', '出', '沒有', '負於', '恭喜', '高達', '達', '從事', '翻倍', '減', '忽略', '抗', '痛失', '欣賞', '充', '僅次於', '缺少', '發揮', '受到', '大勝', '曝限', '強過', '同情', '自有']\n",
            "=======================\n",
            "VD : ['搶', '輸', '欠', '交付', '借貸', '速遞', '轉讓', '補貼', '賣', '坑', '白送', '配', '貸款', '予', '貸', '借', '供應', '郵給', '補繳', '還', '禁售', '給', '付', '給予', '售', '輸給', '拒賠', '支付', '收費', '送', '發', '提供', '傳', '清繳', '發給', '贏', '寄予', '發放', '分']\n",
            "=======================\n",
            "Dfa : ['同樣', '遠', '多', '還要', '有點', '很', '過於', '更', '太', '非常', '還', '不大', '十分', '過', '這麼', '超', '最', '頗', '更為', '較', '越來越', '遠遠', '如此', '好', '極', '比較', '有些']\n",
            "=======================\n",
            "VH : ['克劫', '靦腆', '開始', '利', '合作', '逼格', '激烈', '歡樂', '渾濁', '逾期', '秀', '直接', '繁多', '像樣', '重要', '跌停', '大跌', '畏難', '藍', '罕見', '活', '風光', '詹吹', '倒閉', '美', '出現', '重重', '平均', '大漲', '高度', '好', '鬼斧神工', '臉黑', '多彩', '遠', '受害', '變', '穩膽', '火爆', '分布', '亂真', '蓄滿', '辛酸', '生存', '自主', '浩瀚', '跌', '合適', '純淨', '獨邁', '客平人和', '出線', '變幻莫測', '高速', '富', '冷', '賞心悅目', '發愁', '多姿', '浪費', '閃崩', '低調', '可口', '成功', '次輪', '蓄勢待發', '古老', '藥用', '貴', '不少', '爭相鬥艷', '同步', '行', '連敗', '自由', '頻發', '健康', '激增', '害羞', '精心', '穿', '傳統', '下跌', '美麗', '未果', '美不勝收', '熱刺托大', '變差', '黑', '通貨膨脹', '怎麼', '齊', '發酵', '如此', '功不可', '混', '果真如此', '虐汪', '慘敗', '好玩']\n",
            "=======================\n",
            "Cbb : ['因', '否則', '可是', '只是', '不僅', '不過', '縱使', '既然', '不管', '另外', '連', '只有', '跟著', '就算', '不然', '只要', '而', '並', '但', '如果', '但是', '並且', '即使', '因為', '致', '要是', '既', '反而', '雖然', '假如', '不如', '還不如', '而是', '若']\n",
            "=======================\n",
            "Nd : ['寒武紀', '今天', '早晨', '5號', '多久', '荒古', '五月', '明晚', '2035年', '5日', '不久', '4月', '15日', '同時', '小時候', '2017年', '四月', '狗年', '近日', '晚上', '一會', '七月份', '06日', '旺季', '過去', '2018年', '一日', '立夏', '六', '臨時', '下旬', '昨天', '19年', '初夏', '當時', '當年', '夏日', '春天', '今日', '後期', '昔日', '10點', '九月', '周', '12日', '明年', '那時', '週末', '採摘節', '米節', '6月', '大中', '30號', '1日', '目後', '雍正', '目前', '晚間', '今年', '晚清', '秋', '2018', '短期', '7日', '週二', '2020年', '明', '7號', '13點', '月季', '最後', '中旬', '以前', '後', '未來', '5月份', '8日', '31號', '1990年', '夏', '春季', '2019年', '後來', '幾月份', '何時', '半夜', '週一', '季度', '當前', '正月', '長期', '05月', '季', '中期', '2005年', '最近', '五月份', '5.7日', '隔年', '旅遊節']\n",
            "=======================\n",
            "VA : ['回家', '革命', '飆車', '運營', '退票', '探秘', '頂風', '跑', '自殺', '探界', '正名', '點頭', '起飛', '上場', '翻身', '讀書', '步行', '下山', '除權', '格鬥', '日落', '報名', '會師', '進貨', '掃尾', '掛機', '上班', '出國', '吸粉', '立功', '跌', '變盤', '喧囂', '創業', '擾民', '鬥勇', '育秧', '理財', '傳宗接代', '上線', '觀戰', '跑跑', '進去', '自駕游', '走', '開店', '爭吵', '上雙', '亮相', '刮風', '相親', '行', '唱歌', '離隊', '流動', '暴走', '啓動', '游', '謝幕', '娶妻', '踏步', '見面', '睡', '下雨', '遊園', '變陣', '做種', '打顫', '耕困', '共贏', '退', '通信', '誕生', '砸盤', '升', '開團', '度假', '休閒', '加菜', '實習', '落地', '抓頂', '開車', '答復', '領頭', '參賽', '倒下', '攻堅', '出發', '放光', '潛伏', '轉賬', '放飛', '滑雪', '大小便', '收錢', '掙扎', '充值', '入手', '爭霸']\n",
            "=======================\n",
            "COMMACATEGORY : ['，', ',']\n",
            "=======================\n",
            "Nes : ['後', '另', '頭', '上', '該', '每', '同', '某', '各', '貴', '近', '首', '下', '本', '何', '前']\n",
            "=======================\n",
            "QUESTIONCATEGORY : ['？']\n",
            "=======================\n",
            "VC : ['打響', '看待', '面對', '撿到', '拉黑', '募', '秀', '引發', '開復', '承受', '餵', '解析', '突破', '花用', '防', '照看', '摘', '踐行', '表揚', '吸收', '改造', '發展', '存入', '匯總', '吸', '騎', '服', '舉行', '曝', '搞', '拋投', '拉開', '雷劈', '發', '規劃', '回應', '好', '體驗', '保存', '單殺', '參加', '計算', '集訓', '調侃', '拉', '拋售', '種點', '迎接', '摔', '展', '虧', '實測', '進口', '定', '總結', '單挑', '領', '屠殺', '游引', '抓', '決殺', '細看', '遇上', '帶來', '追', '離開', '編程', '裝', '添脫', '拍拍', '通策', '飲', '關閉', '踢', '把握住', '移栽', '贊美', '游里結', '產出', '挖', '浪費', '解綁', '運算', '更換', '到', '打', '企跨', '套現', '精選', '提升到', '封禁', '辦', '召開', '排', '築牢', '摸', '玩不動', '探', '完虐', '擺脫']\n",
            "=======================\n",
            "EXCLAMATIONCATEGORY : ['！', '!']\n",
            "=======================\n",
            "Di : ['起來', '過', '個', '著', '了']\n",
            "=======================\n",
            "Nep : ['什麼', '這', '那', '哪', '其中', '其', '此', '啥']\n",
            "=======================\n",
            "Caa : ['跟', '還是', '暨', '或', '和', '或者', '與', '到', '至', '又', '比', '或是', '及', 'VS']\n",
            "=======================\n",
            "VCL : ['往', '回歸', '用於', '走下', '回', '跌出', '前往', '跌至', '退出', '遊覽', '存進', '升至', '出', '回到', '穿透', '度過', '在', '路過', '深入', '暗渡', '走到', '前來', '住', '穿越', '留在', '進', '重返', '橫掃', '入', '直達', '過', '遠離', '抵達', '玩遍', '去', '進入', '來到', '赴', '盤踞', '登陸', '走進', '到達', '上', '蒞臨', '走過', '穿過', '到', '走訪', '栽進', '重回', '出發到']\n",
            "=======================\n",
            "Neqa : ['大多', '6%', '那些', '許多', '這麼多', '半', '多', '0.8%', '一些', '不少', '多點', '30%', '80%', '大多數', '個個', '句句', '100%', '百分之八十', '步步', '90%', '滴滴', '所有', '9.89%', '部分', '有的', '全', '其它', '1/4', '哪些', '這些', '更多', '其他', '四成', '67%', '一切', '10%', '20%', '41.8%', '8%', '無數', '一半', '1%', '任何', '大量', '15%', '很多', '一點', '一處處', '12%', '多少', '有些', '三分之一', '遍']\n",
            "=======================\n",
            "Nh : ['它們', '他', '本人', '我', '誰', '各自', '自己', '別人', '雙方', '個人', '大家', '小眾', '它', '各位', '俺們', '自我', '對方', '人家', '她們', '私人', '您', '你', '父子倆', '你們', '我們', '自身', '一方', '屌絲', '他們', '她']\n",
            "=======================\n",
            "FW : ['5G', 'OPPO R', 'BTC', 'ST', 'BCH', 'AD', 'SSR', 'etc', 'CDR', 'lol', 'KPL', 'CFO', 'mc', 'Alan', 'VR', 'PS4/NS', ' 利', 'DNF ', 'dota', '~', 'iphone6plus', '-0', 'lck', 'U23', 'DOTA2 ', 'IG', 'RPG', 'Lol里', 'Rank', 'SUP', 'bad boy', 'IP', '+', 'UZI', 'AMD', 'TPP', '6G', 'King James', 'iPhone7', 'QQ', 'PGM 0-1 SUP', 'GPP', '5A', 'GDP', 'P2P', 'h', 'ipad', 'vs', 'One', 'dnf', 'Day', 'iPad', 'Cotswolds', '6 10.5', 'ios', 'DNF', 'BAT', 'msi', 'Uzi', 'LOL', 'S11', 'EOS', '+4', '―', 'SIo', 'CBA', ' VS ', 'vip', 'i7', 'OB', ' vs 利物浦', 'X13', 'IOS', ' 樂', 'raid', 'MARVEL X', 'OTT', 'QM', 'GuruFocus', 'iPhone X Plus', 'AP', 'UI', 'eStar', 'QGhappy', 'numb', 'cpu', 'C', 'Instagram', 'Aloha', '│', 'CPI', 'Oeanc', 'T', '>', 'Q', 'N+1', 'TT', 'VR ', 'W', 'Brian Kelly']\n",
            "=======================\n",
            "SHI : ['像是', '是']\n",
            "=======================\n",
            "VE : ['預期', '以為', '見證', '聽說', '防止', '申卡', '傳聞', '證', '訴說', '判斷', '見', '公認', '稱', '調研', '幻想', '介紹', '說明', '管', '預計', '准', '警惕', '想到', '查', '做到', '看看', '想起', '回顧', '算', '研究', '炫耀', '看出', '考慮', '呼籲', '安排', '賭', '廣播', '證明', '公佈', '想要', '討說', '回答', '看到', '發現', '提猜', '公示', '想好', '聽', '設想', '聽到', '鑒定', '呼', '講', '預測', '假設', '允許', '報道', '判定', '判罰', '見到', '抱怨', '聊', '查看', '盛贊', '商量', '要', '避免', '問', '限制', '識別', '聯想', '示範', '探討', '知詢', '預定', '言', '提醒', '自嘲', '認為', '確認', '談', '估值', '暗示', '提', '探索', '感嘆', '形容', '查找', '揭曉', '預告', '預防', '披露', '發誓', '說', '爆料', '反對', '禁止', '精准', '樂見', '宣佈', '發佈']\n",
            "=======================\n",
            "DE : ['地', '得', '之', '的']\n",
            "=======================\n",
            "VHC : ['可憐', '滿足', '增強', '普及', '熱', '愁壞', '淡化', '下來', '降低', '縮小', '加快', '現代化', '麻煩', '增加', '震驚', '壞', '機構化', '產生', '感動', '團結', '優化', '結束', '暫停', '強化', '還原', '陷', '恢復', '冷卻', '豐富', '停', '變動', '穩定', '肥', '增長', '煩', '告破', '愁死', '規模化', '斷', '辛苦', '凍', '公開', '寶智能化', '破', '增 ', '擴張', '開', '繁榮', '平衡', '國際化', '減少', '溫暖', '傷']\n",
            "=======================\n",
            "Ng : ['後', '之上', '之後', '以下', '以來', '間', '左右', '以後', '為止', '之內', '之中', '起', '般', '來', '之外', '之下', '以外', '下', '之前', '以上', '內', '之間', '中', '裡', '前', '初', '時', '上', '底', '外']\n",
            "=======================\n",
            "VK : ['感覺', '所謂', '恐', '意外', '介意', '抱歉', '討厭', '有利於', '堅持', '感覺到', '需要', '喜歡', '回憶', '遺憾', '曲解', '不滿', '懂得', '想見', '指望', '懂', '依賴', '擔心', '覺', '覺得', '同意', '注意', '願意', '小心', '知道', '害怕', '意味', '欲', '恨', '怕', '期待', '遇', '瞭解', '肯定', '放心', '感謝', '奇怪', '懷疑', '願', '明白', '希望', '確定', '忘記', '顯示', '忘', '信', '理解', '不忘', '盼', '面臨', '意想不到', '感受', '流傳', '知', '需']\n",
            "=======================\n",
            "Ncd : ['方', '東西部', '以下', '間', '東部', '中間', '一帶', '底部', '哪', '邊', '東方', '上面', '那裡', '畔', '下', '哪下', '當中', '旁邊', '外面', '內', '西部', '西', '末端', '對面', '這裡', '中部', '中', '前沿', '上方', '哪兒', '裡', '裡面', '旁', '哪裡', '上', '那邊', '東', '外']\n",
            "=======================\n",
            "A : ['中西', '現役', '超級', '多餘', '單', '歐式', '非', '現行', '長途', '優質', '彩色', '必備', '頭號', '額外', '原', '眾', '寶有', '真正', '二手', '唯一', '新一代', '共同', '最佳', '獨家', '主', '小本', '一般', '上上', '獨角', '新興', '雙', '前置', '超', '後置', '重磅', '地下', '火紅', '母', '基層', '總', '乒乓', '中', '國產', '碧藍', '業餘', '常務', '大幅度', '綜合', '高度', '獨門', '同等', '野生', '基礎', '麻辣']\n",
            "=======================\n",
            "V_2 : ['有']\n",
            "=======================\n",
            "VL : ['敢', '用來', '喜好', '開始', '能', '導致', '讓', '習慣', '使得', '愛好', '不惜', '後悔', '甘願', '肯', '令', '使', '趨於', '致', '持續', '便利', '愛', '故意']\n",
            "=======================\n",
            "T : ['啊', '嘛', '麼', '去', '的', '啦', '來', '咯', '矣', '呢', '哪', '唄', '嗎', '吧', '哦', '了']\n",
            "=======================\n",
            "VI : ['專用', '著稱', '驚艷', '取勝']\n",
            "=======================\n",
            "DASHCATEGORY : ['-', '—']\n",
            "=======================\n",
            "I : ['瑪法里奧', '哦']\n",
            "=======================\n",
            "Dk : ['那麼', '據聞', '結果', '那', '反過來', '想不到', '據說', '外傳']\n",
            "=======================\n",
            "VF : ['催', '叫', '準備', '逼', '停止', '要求', '擬', '判', '請', '圖', '勸住', '申請', '告誡', '試試', '止住', '助', '鼓勵', '帶領', '推選', '打算', '試', '勸說', '率領', '邀', '繼續', '策劃', '拒', '拒絕']\n",
            "=======================\n",
            "Da : ['才', '幾近', '將近', '約', '只', '唯獨', '幾乎', '足足', '近', '共', '正好', '最多', '僅', '不下', '光']\n",
            "=======================\n",
            "PARENTHESISCATEGORY : ['）', '「', '(', '」', '》', '（', '《']\n",
            "=======================\n",
            "Nv : ['兼職', '度假', '回歸', '絕殺', '訴訟', '判罰', '工作', '批發', '配置', '推薦', '研究', '疊加', '旅遊', '登山', '錄制', '思考', '安全', '灌籃', '買單', '問', '增發', '輔助', '私募', '射擊', '開發', '創業', '銷售', '管理', '護髮', '燃燒', '關聯', '生產', '營銷', '翻譯', '防治', '崩潰', '組合', '分銷', '航海', '解救', '體驗', '代理', '遊樂', '抗戰', '供電', '經歷']\n",
            "=======================\n",
            "PERIODCATEGORY : ['·', '。']\n",
            "=======================\n",
            "VAC : ['集合', '動', '推進', '蒸發', '移動', '上演']\n",
            "=======================\n",
            "Dfb : ['一點', '夠', '極了', '些']\n",
            "=======================\n",
            "Cab : ['等等', '等']\n",
            "=======================\n",
            "SEMICOLONCATEGORY : ['；']\n",
            "=======================\n",
            "Neqb : ['以上', '半', '多']\n",
            "=======================\n",
            "ETCCATEGORY : ['…']\n",
            "=======================\n",
            "Cba : ['的話']\n",
            "=======================\n",
            "DOTCATEGORY : ['.']\n",
            "=======================\n"
          ],
          "name": "stdout"
        }
      ]
    },
    {
      "cell_type": "markdown",
      "metadata": {
        "id": "KFRWx46HB26a"
      },
      "source": [
        "|         Type        |     Description    |\n",
        "|:-------------------:|:------------------:|\n",
        "| A                   | 非謂形容詞         |\n",
        "| Caa                 | 對等連接詞         |\n",
        "| Cab                 | 連接詞，如：等等   |\n",
        "| Cba                 | 連接詞，如：的話   |\n",
        "| Cbb                 | 關聯連接詞         |\n",
        "| D                   | 副詞               |\n",
        "| Da                  | 數量副詞           |\n",
        "| Dfa                 | 動詞前程度副詞     |\n",
        "| Dfb                 | 動詞後程度副詞     |\n",
        "| Di                  | 時態標記           |\n",
        "| Dk                  | 句副詞             |\n",
        "| DM                  | 定量式             |\n",
        "| I                   | 感嘆詞             |\n",
        "| Na                  | 普通名詞           |\n",
        "| Nb                  | 專有名詞           |\n",
        "| Nc                  | 地方詞             |\n",
        "| Ncd                 | 位置詞             |\n",
        "| Nd                  | 時間詞             |\n",
        "| Nep                 | 指代定詞           |\n",
        "| Neqa                | 數量定詞           |\n",
        "| Neqb                | 後置數量定詞       |\n",
        "| Nes                 | 特指定詞           |\n",
        "| Neu                 | 數詞定詞           |\n",
        "| Nf                  | 量詞               |\n",
        "| Ng                  | 後置詞             |\n",
        "| Nh                  | 代名詞             |\n",
        "| Nv                  | 名物化動詞         |\n",
        "| P                   | 介詞               |\n",
        "| T                   | 語助詞             |\n",
        "| VA                  | 動作不及物動詞     |\n",
        "| VAC                 | 動作使動動詞       |\n",
        "| VB                  | 動作類及物動詞     |\n",
        "| VC                  | 動作及物動詞       |\n",
        "| VCL                 | 動作接地方賓語動詞 |\n",
        "| VD                  | 雙賓動詞           |\n",
        "| VF                  | 動作謂賓動詞       |\n",
        "| VE                  | 動作句賓動詞       |\n",
        "| VG                  | 分類動詞           |\n",
        "| VH                  | 狀態不及物動詞     |\n",
        "| VHC                 | 狀態使動動詞       |\n",
        "| VI                  | 狀態類及物動詞     |\n",
        "| VJ                  | 狀態及物動詞       |\n",
        "| VK                  | 狀態句賓動詞       |\n",
        "| VL                  | 狀態謂賓動詞       |\n",
        "| V_2                 | 有                 |\n",
        "|                     |                    |\n",
        "| DE                  | 的之得地           |\n",
        "| SHI                 | 是                 |\n",
        "| FW                  | 外文               |\n",
        "|                     |                    |\n",
        "| COLONCATEGORY       | 冒號               |\n",
        "| COMMACATEGORY       | 逗號               |\n",
        "| DASHCATEGORY        | 破折號             |\n",
        "| DOTCATEGORY         | 點號               |\n",
        "| ETCCATEGORY         | 刪節號             |\n",
        "| EXCLAMATIONCATEGORY | 驚嘆號             |\n",
        "| PARENTHESISCATEGORY | 括號               |\n",
        "| PAUSECATEGORY       | 頓號               |\n",
        "| PERIODCATEGORY      | 句號               |\n",
        "| QUESTIONCATEGORY    | 問號               |\n",
        "| SEMICOLONCATEGORY   | 分號               |\n",
        "| SPCHANGECATEGORY    | 雙直線             |\n",
        "| WHITESPACE          | 空白               |"
      ]
    },
    {
      "cell_type": "code",
      "metadata": {
        "id": "Zo6gWb-iB26b"
      },
      "source": [
        "def get_bow_vector_with_selection(pairs, word2index):\n",
        "    included_flags = ['VAC','Nv','VF','VI','A','Ncd','VK',\\\n",
        "              'VHC','VE','FW','VCL','VC','VA','Nd',\\\n",
        "              'VH','VD','VJ','Nf','VG','VB','Nc','Na','Nb']\n",
        "    vector = np.zeros(len(word2index))\n",
        "    for word, flag in pairs:\n",
        "        if word in word2index and flag in included_flags:\n",
        "            vector[word2index[word]] += 1\n",
        "    return vector"
      ],
      "execution_count": 19,
      "outputs": []
    },
    {
      "cell_type": "markdown",
      "metadata": {
        "id": "fgAnMPjsB26c"
      },
      "source": [
        "# Cosine Similarity"
      ]
    },
    {
      "cell_type": "code",
      "metadata": {
        "id": "UD1QL-HAB26c"
      },
      "source": [
        "def cosine_similarity(bow1, bow2):\n",
        "\n",
        "    similarity = np.dot(bow1,bow2)/(np.linalg.norm(bow1)*np.linalg.norm(bow2))\n",
        "    \n",
        "    return similarity"
      ],
      "execution_count": 20,
      "outputs": []
    },
    {
      "cell_type": "code",
      "metadata": {
        "colab": {
          "base_uri": "https://localhost:8080/"
        },
        "id": "X2reI2xWEB4R",
        "outputId": "a39bcedc-6950-424a-a091-0a346c653be1"
      },
      "source": [
        "bow1 = get_bow_vector(train_title_cuts[100], word2index)\n",
        "bow2 = get_bow_vector(train_title_cuts[130], word2index)\n",
        "cosine_similarity(bow1, bow2)"
      ],
      "execution_count": 21,
      "outputs": [
        {
          "output_type": "execute_result",
          "data": {
            "text/plain": [
              "0.08703882797784893"
            ]
          },
          "metadata": {
            "tags": []
          },
          "execution_count": 21
        }
      ]
    },
    {
      "cell_type": "code",
      "metadata": {
        "id": "aGug7y0jB26c",
        "colab": {
          "base_uri": "https://localhost:8080/"
        },
        "outputId": "4a8a1775-3e7e-4299-d9b7-0aee4fbd4a7b"
      },
      "source": [
        "train_title_cuts[100]"
      ],
      "execution_count": 22,
      "outputs": [
        {
          "output_type": "execute_result",
          "data": {
            "text/plain": [
              "[('山東', 'Nc'),\n",
              " ('魯能', 'Nb'),\n",
              " ('有沒有', 'D'),\n",
              " ('可能', 'D'),\n",
              " ('拿到', 'VC'),\n",
              " ('今年', 'Nd'),\n",
              " ('的', 'DE'),\n",
              " ('中', 'A'),\n",
              " ('超', 'A'),\n",
              " ('冠軍', 'Na'),\n",
              " ('？', 'QUESTIONCATEGORY')]"
            ]
          },
          "metadata": {
            "tags": []
          },
          "execution_count": 22
        }
      ]
    },
    {
      "cell_type": "code",
      "metadata": {
        "id": "GIwyE6JOB26d",
        "colab": {
          "base_uri": "https://localhost:8080/"
        },
        "outputId": "b42f4923-4c39-42bc-a7f0-c9782331e84d"
      },
      "source": [
        "train_title_cuts[130]"
      ],
      "execution_count": 23,
      "outputs": [
        {
          "output_type": "execute_result",
          "data": {
            "text/plain": [
              "[('NBA', 'Nb'),\n",
              " ('和', 'Caa'),\n",
              " ('CBA', 'FW'),\n",
              " ('差距', 'Na'),\n",
              " ('在', 'P'),\n",
              " ('哪裡', 'Ncd'),\n",
              " ('？', 'QUESTIONCATEGORY'),\n",
              " ('6', 'Neu'),\n",
              " ('張', 'Nf'),\n",
              " ('圖', 'VF'),\n",
              " ('一目瞭然', 'VH'),\n",
              " ('！', 'EXCLAMATIONCATEGORY')]"
            ]
          },
          "metadata": {
            "tags": []
          },
          "execution_count": 23
        }
      ]
    },
    {
      "cell_type": "markdown",
      "metadata": {
        "id": "S9zy9KtfB26d"
      },
      "source": [
        "# Group mean vector"
      ]
    },
    {
      "cell_type": "code",
      "metadata": {
        "id": "FUiI18kBB26d",
        "colab": {
          "base_uri": "https://localhost:8080/"
        },
        "outputId": "422121bb-3a50-44d5-9248-5a4020b32459"
      },
      "source": [
        "#Use get_bow_vector_with_selection()\n",
        "group_vectors = {news_class: [] for news_class in all_news_class}\n",
        "for index, pairs in sorted(train_title_cuts.items()):\n",
        "    vector = get_bow_vector_with_selection(pairs, word2index)\n",
        "    news_class = train_classes[index]\n",
        "    group_vectors[news_class].append(vector)\n",
        "\n",
        "group_mean_vector = {}\n",
        "for news_class, vectors in group_vectors.items():\n",
        "    group_mean_vector[news_class] = np.mean(vectors, axis=0)\n",
        "group_mean_vector"
      ],
      "execution_count": 24,
      "outputs": [
        {
          "output_type": "execute_result",
          "data": {
            "text/plain": [
              "{'旅遊': array([0., 0., 0., ..., 0., 0., 0.]),\n",
              " '科技': array([0., 0., 0., ..., 0., 0., 0.]),\n",
              " '財經': array([0., 0., 0., ..., 0., 0., 0.]),\n",
              " '農業': array([0., 0., 0., ..., 0., 0., 0.]),\n",
              " '遊戲': array([0.        , 0.        , 0.        , ..., 0.00333333, 0.00333333,\n",
              "        0.00333333]),\n",
              " '體育': array([0.04      , 0.00333333, 0.        , ..., 0.        , 0.        ,\n",
              "        0.        ])}"
            ]
          },
          "metadata": {
            "tags": []
          },
          "execution_count": 24
        }
      ]
    },
    {
      "cell_type": "code",
      "metadata": {
        "colab": {
          "base_uri": "https://localhost:8080/"
        },
        "id": "_bsoVx79TFaE",
        "outputId": "d4f4ccf7-5e92-49cd-9ec9-14d679858fa0"
      },
      "source": [
        "#Use get_bow_vector()\n",
        "group_vectors = {news_class: [] for news_class in all_news_class}\n",
        "for index, pairs in sorted(train_title_cuts.items()):\n",
        "    vector = get_bow_vector(pairs, word2index)\n",
        "    news_class = train_classes[index]\n",
        "    group_vectors[news_class].append(vector)\n",
        "\n",
        "group_mean_vector = {}\n",
        "for news_class, vectors in group_vectors.items():\n",
        "    group_mean_vector[news_class] = np.mean(vectors, axis=0)\n",
        "group_mean_vector"
      ],
      "execution_count": 27,
      "outputs": [
        {
          "output_type": "execute_result",
          "data": {
            "text/plain": [
              "{'旅遊': array([0.        , 0.        , 0.08666667, ..., 0.        , 0.        ,\n",
              "        0.        ]),\n",
              " '科技': array([0.        , 0.        , 0.07666667, ..., 0.        , 0.        ,\n",
              "        0.        ]),\n",
              " '財經': array([0.        , 0.        , 0.12333333, ..., 0.        , 0.        ,\n",
              "        0.        ]),\n",
              " '農業': array([0.        , 0.        , 0.09333333, ..., 0.        , 0.        ,\n",
              "        0.        ]),\n",
              " '遊戲': array([0.        , 0.        , 0.27      , ..., 0.00333333, 0.00333333,\n",
              "        0.00333333]),\n",
              " '體育': array([0.04      , 0.00333333, 0.15666667, ..., 0.        , 0.        ,\n",
              "        0.        ])}"
            ]
          },
          "metadata": {
            "tags": []
          },
          "execution_count": 27
        }
      ]
    },
    {
      "cell_type": "markdown",
      "metadata": {
        "id": "sA7KIhEtB26d"
      },
      "source": [
        "# Group mean vector: 測試"
      ]
    },
    {
      "cell_type": "code",
      "metadata": {
        "tags": [],
        "id": "bxmJYf0DB26e"
      },
      "source": [
        "#Use get_bow_vector_with_selection()\n",
        "classification = {news_class: [] for news_class in all_news_class}\n",
        "for index, pairs in sorted(test_title_cuts.items()):\n",
        "    vector = get_bow_vector_with_selection(pairs, word2index)\n",
        "    if np.sum(np.square(vector)) == 0:\n",
        "        continue\n",
        "\n",
        "    max_val = -2.0\n",
        "    max_class = None\n",
        "    for news_class, ref_vector in group_mean_vector.items():\n",
        "        val = cosine_similarity(ref_vector, vector)\n",
        "        if val > max_val:\n",
        "            max_class = news_class\n",
        "            max_val = val\n",
        "\n",
        "    classification[max_class].append(index)"
      ],
      "execution_count": 25,
      "outputs": []
    },
    {
      "cell_type": "code",
      "metadata": {
        "id": "CVaTNxaLSihb"
      },
      "source": [
        "#Use get_bow_vector()\n",
        "classification = {news_class: [] for news_class in all_news_class}\n",
        "for index, pairs in sorted(test_title_cuts.items()):\n",
        "    vector = get_bow_vector(pairs, word2index)\n",
        "    if np.sum(np.square(vector)) == 0:\n",
        "        continue\n",
        "\n",
        "    max_val = -2.0\n",
        "    max_class = None\n",
        "    for news_class, ref_vector in group_mean_vector.items():\n",
        "        val = cosine_similarity(ref_vector, vector)\n",
        "        if val > max_val:\n",
        "            max_class = news_class\n",
        "            max_val = val\n",
        "\n",
        "    classification[max_class].append(index)"
      ],
      "execution_count": 28,
      "outputs": []
    },
    {
      "cell_type": "code",
      "metadata": {
        "colab": {
          "base_uri": "https://localhost:8080/"
        },
        "id": "IddNXI_hSMfj",
        "outputId": "41d33535-72c8-487f-f28e-25b8b485642c"
      },
      "source": [
        "from collections import Counter\n",
        "print('Use get_bow_vector_with_selection()')\n",
        "for group, ids in classification.items():\n",
        "    counter = Counter([test_classes[id] for id in ids])\n",
        "    print('predict', group, ': ', counter)"
      ],
      "execution_count": 26,
      "outputs": [
        {
          "output_type": "stream",
          "text": [
            "Use get_bow_vector_with_selection()\n",
            "predict 體育 :  Counter({'體育': 85, '遊戲': 8, '農業': 5, '科技': 4, '旅遊': 4, '財經': 2})\n",
            "predict 財經 :  Counter({'財經': 74, '科技': 18, '農業': 8, '旅遊': 5, '體育': 3, '遊戲': 2})\n",
            "predict 科技 :  Counter({'科技': 65, '財經': 14, '旅遊': 5, '農業': 5, '體育': 4, '遊戲': 4})\n",
            "predict 旅遊 :  Counter({'旅遊': 74, '農業': 5, '財經': 2, '科技': 1, '遊戲': 1})\n",
            "predict 農業 :  Counter({'農業': 72, '旅遊': 6, '財經': 5, '科技': 5, '遊戲': 4, '體育': 1})\n",
            "predict 遊戲 :  Counter({'遊戲': 81, '科技': 6, '體育': 5, '旅遊': 5, '財經': 2, '農業': 2})\n"
          ],
          "name": "stdout"
        }
      ]
    },
    {
      "cell_type": "code",
      "metadata": {
        "colab": {
          "base_uri": "https://localhost:8080/"
        },
        "id": "h3HwGkPPSmX1",
        "outputId": "aa79b7e9-f8c1-481a-956d-d2c4ce08636a"
      },
      "source": [
        "from collections import Counter\n",
        "print('Use get_bow_vector()')\n",
        "for group, ids in classification.items():\n",
        "    counter = Counter([test_classes[id] for id in ids])\n",
        "    print('predict', group, ': ', counter)"
      ],
      "execution_count": 29,
      "outputs": [
        {
          "output_type": "stream",
          "text": [
            "Use get_bow_vector()\n",
            "predict 體育 :  Counter({'體育': 53, '財經': 16, '農業': 13, '旅遊': 11, '科技': 10, '遊戲': 8})\n",
            "predict 財經 :  Counter({'財經': 27, '科技': 7, '體育': 6, '農業': 6, '旅遊': 4, '遊戲': 2})\n",
            "predict 科技 :  Counter({'科技': 61, '旅遊': 29, '財經': 26, '農業': 23, '遊戲': 22, '體育': 19})\n",
            "predict 旅遊 :  Counter({'旅遊': 41, '農業': 12, '財經': 11, '遊戲': 9, '體育': 4, '科技': 3})\n",
            "predict 農業 :  Counter({'農業': 42, '科技': 13, '遊戲': 10, '體育': 9, '財經': 9, '旅遊': 9})\n",
            "predict 遊戲 :  Counter({'遊戲': 49, '財經': 11, '體育': 8, '旅遊': 6, '科技': 5, '農業': 4})\n"
          ],
          "name": "stdout"
        }
      ]
    }
  ]
}