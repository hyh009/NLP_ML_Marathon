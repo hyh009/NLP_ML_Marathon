{
  "nbformat": 4,
  "nbformat_minor": 0,
  "metadata": {
    "colab": {
      "name": "article_modifier_自動文件修改器(作業).ipynb",
      "provenance": [],
      "toc_visible": true
    },
    "kernelspec": {
      "name": "python3",
      "display_name": "Python 3"
    },
    "language_info": {
      "name": "python"
    }
  },
  "cells": [
    {
      "cell_type": "markdown",
      "metadata": {
        "id": "2dwc95dvl4Rh"
      },
      "source": [
        "##題目: 將某篇文章以上下文相同，比方三連詞(trigram)方式修改內容<br>\n",
        "說明：某篇文章中我們可以找出所有的三連詞(trigram)，以及在前字與後字出現時，\n",
        "按照出現度隨機選出一個字去換掉中間字，這是利用三連詞修改文章內容的最基本作法。<br>\n",
        "一旦字典的資料結構建立，我們就以某種機率(比方20%)去置換原文，並將置換文與原文印出來。<br>\n",
        "\n",
        "延伸: 可用五連詞或七連詞去取代中間字，可利用三連詞之前兩字去更換第三字，\n",
        "可增加加詞性的相同性(Parts Of Sentence)提高可讀性，甚至使用 Word2Vec, Glove，或者RNN<br>\n",
        "\n",
        "範例程式檔名: article_modifier_自動文件修改器.py。<br>\n",
        "模組: sklearn, random, numpy, nltk, bs4<br>\n",
        "輸入檔：./electronics/positive.review<br>\n",
        "成績：被置換文的合理性與可讀性<br>\n",
        "\n",
        "\n",
        "使用三連詞 trigrams 練習簡易文件產生器"
      ]
    },
    {
      "cell_type": "code",
      "metadata": {
        "id": "bmHLVZy9mWCB"
      },
      "source": [
        "from __future__ import print_function, division\n",
        "from future.utils import iteritems\n",
        "from builtins import range\n",
        "\n",
        "import nltk\n",
        "nltk.download('punkt')\n",
        "import random\n",
        "import numpy as np\n",
        "from bs4 import BeautifulSoup"
      ],
      "execution_count": null,
      "outputs": []
    },
    {
      "cell_type": "code",
      "metadata": {
        "id": "Gon73tD_maNA"
      },
      "source": [
        "# load the reviews\n",
        "positive_reviews = BeautifulSoup(open('/content/drive/MyDrive/NLP/electronics/positive.review', encoding='ISO-8859-1').read(), \"lxml\")\n",
        "positive_reviews = positive_reviews.findAll('review_text')"
      ],
      "execution_count": 3,
      "outputs": []
    },
    {
      "cell_type": "code",
      "metadata": {
        "id": "XsRYYCR7ming"
      },
      "source": [
        "# 提出 三連詞 並置入字典\n",
        "# (w1, w3) 當作 key, [ w2 ] 當作值\n",
        "trigrams = {}\n",
        "for review in positive_reviews:\n",
        "    s = review.text.lower()\n",
        "    tokens = nltk.tokenize.word_tokenize(s)\n",
        "    for i in range(len(tokens) - 2):\n",
        "        k = (tokens[i], tokens[i+2])\n",
        "        if k not in trigrams:\n",
        "            trigrams[k] = []\n",
        "        trigrams[k].append(tokens[i+1])"
      ],
      "execution_count": 6,
      "outputs": []
    },
    {
      "cell_type": "code",
      "metadata": {
        "id": "Mi8lZZ1Em04A"
      },
      "source": [
        "# 將中間字矩陣變成或然率向量\n",
        "trigram_probabilities = {}\n",
        "for k, words in trigrams.items():\n",
        "    # 產生一個  word -> count 字典\n",
        "    if len(set(words)) > 1:\n",
        "        # 如果中間字middle word不只有一個機率 \n",
        "        d = {}\n",
        "        n = 0 #計算所有可能字數總和(含重複)\n",
        "        for w in words:\n",
        "            if w not in d:\n",
        "                d[w] = 0\n",
        "            d[w] += 1\n",
        "            n += 1\n",
        "        for w, c in d.items():\n",
        "            d[w] = float(c) / n  #計算每個可能字詞的或然率\n",
        "        trigram_probabilities[k] = d"
      ],
      "execution_count": 7,
      "outputs": []
    },
    {
      "cell_type": "code",
      "metadata": {
        "id": "na-Uxibhm1uw"
      },
      "source": [
        "def random_sample(d):\n",
        "    # 從字典隨機選出一個帶機率值的樣本，回傳累積機率值最大的字\n",
        "    r = random.random()\n",
        "    cumulative = 0\n",
        "    for w, p in d.items():\n",
        "        cumulative += p\n",
        "        if r < cumulative:\n",
        "            return w"
      ],
      "execution_count": 20,
      "outputs": []
    },
    {
      "cell_type": "code",
      "metadata": {
        "id": "2s6hwd42m3q_"
      },
      "source": [
        "def test_spinner():\n",
        "    review = random.choice(positive_reviews)\n",
        "    s = review.text.lower()\n",
        "    print(\"Original:\", s)\n",
        "    tokens = nltk.tokenize.word_tokenize(s)\n",
        "    for i in range(len(tokens) - 2):\n",
        "        if random.random() < 0.2: # 20% chance of replacement\n",
        "            k = (tokens[i], tokens[i+2])\n",
        "            if k in trigram_probabilities:\n",
        "                w = random_sample(trigram_probabilities[k])\n",
        "                tokens[i+1] = w\n",
        "    print(\"Spun:\")\n",
        "    print(\" \".join(tokens).replace(\" .\", \".\").replace(\" '\", \"'\").replace(\" ,\", \",\").replace(\"$ \", \"$\").replace(\" !\", \"!\"))"
      ],
      "execution_count": 21,
      "outputs": []
    },
    {
      "cell_type": "code",
      "metadata": {
        "colab": {
          "base_uri": "https://localhost:8080/"
        },
        "id": "gQGko0yWm9_g",
        "outputId": "b93295bd-8f1b-422d-8e00-ebd77f922283"
      },
      "source": [
        "test_spinner()"
      ],
      "execution_count": 22,
      "outputs": [
        {
          "output_type": "stream",
          "text": [
            "Original: \n",
            "bought it for my elderly mother, who is getting hard of hearing.  the volume control on each handset has helped her a lot.  she also says that the clarity from the handset is better than anything phone she's had before.  the extra large size base unit dial buttons are also very helpful for her\n",
            "\n",
            "Spun:\n",
            "bought it for my elderly mother, who is getting hard of days. the volume control on the handset has helped her a lot. she also says that the clarity from the handset is more than anything phone she's had before taking the extra large size base unit dial buttons are also very good for her\n"
          ],
          "name": "stdout"
        }
      ]
    }
  ]
}