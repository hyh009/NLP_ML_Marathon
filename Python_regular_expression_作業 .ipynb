{
  "nbformat": 4,
  "nbformat_minor": 0,
  "metadata": {
    "kernelspec": {
      "display_name": "pytorch_env",
      "language": "python",
      "name": "pytorch_env"
    },
    "language_info": {
      "codemirror_mode": {
        "name": "ipython",
        "version": 3
      },
      "file_extension": ".py",
      "mimetype": "text/x-python",
      "name": "python",
      "nbconvert_exporter": "python",
      "pygments_lexer": "ipython3",
      "version": "3.7.3"
    },
    "colab": {
      "name": "Python_regular_expression_作業.ipynb",
      "provenance": []
    }
  },
  "cells": [
    {
      "cell_type": "markdown",
      "metadata": {
        "id": "tTJolmzeBLGr"
      },
      "source": [
        "# 作業目標: 使用python正規表達式對資料進行清洗處理\n",
        "\n",
        "這份作業我們會使用詐欺郵件的文本資料來作為清洗與處理的操作。\n",
        "[資料集](https://www.kaggle.com/rtatman/fraudulent-email-corpus/data#)"
      ]
    },
    {
      "cell_type": "markdown",
      "metadata": {
        "id": "vhv0OElTBLGs"
      },
      "source": [
        "### 讀入資料文本\n",
        "因原始文本較大，先使用部份擷取的**sample_emails.txt**來進行練習"
      ]
    },
    {
      "cell_type": "code",
      "metadata": {
        "colab": {
          "base_uri": "https://localhost:8080/"
        },
        "id": "9oOkYPoXyyCT",
        "outputId": "0409841a-0208-48be-e8c6-ca6177d64b6e"
      },
      "source": [
        "from google.colab import drive\n",
        "drive.mount('/content/drive')"
      ],
      "execution_count": 1,
      "outputs": [
        {
          "output_type": "stream",
          "text": [
            "Drive already mounted at /content/drive; to attempt to forcibly remount, call drive.mount(\"/content/drive\", force_remount=True).\n"
          ],
          "name": "stdout"
        }
      ]
    },
    {
      "cell_type": "code",
      "metadata": {
        "id": "a0BdDqt1BLGt"
      },
      "source": [
        "#讀取文本資料\n",
        "with open('/content/drive/MyDrive/NLP/sample_emails.txt','r',encoding='utf-8') as f:\n",
        "  sample_corpus = f.read()"
      ],
      "execution_count": 3,
      "outputs": []
    },
    {
      "cell_type": "code",
      "metadata": {
        "scrolled": true,
        "id": "XQbjXNKdBLGx",
        "colab": {
          "base_uri": "https://localhost:8080/"
        },
        "outputId": "dd4dae7f-521c-4754-a64d-765b5178db2e"
      },
      "source": [
        "sample_corpus.split('\\n')[:25]"
      ],
      "execution_count": 4,
      "outputs": [
        {
          "output_type": "execute_result",
          "data": {
            "text/plain": [
              "['From r  Wed Oct 30 21:41:56 2002',\n",
              " 'Return-Path: <james_ngola2002@maktoob.com>',\n",
              " 'X-Sieve: cmu-sieve 2.0',\n",
              " 'Return-Path: <james_ngola2002@maktoob.com>',\n",
              " 'Message-Id: <200210310241.g9V2fNm6028281@cs.CU>',\n",
              " 'From: \"MR. JAMES NGOLA.\" <james_ngola2002@maktoob.com>',\n",
              " 'Reply-To: james_ngola2002@maktoob.com',\n",
              " 'To: webmaster@aclweb.org',\n",
              " 'Date: Thu, 31 Oct 2002 02:38:20 +0000',\n",
              " 'Subject: URGENT BUSINESS ASSISTANCE AND PARTNERSHIP',\n",
              " 'X-Mailer: Microsoft Outlook Express 5.00.2919.6900 DM',\n",
              " 'MIME-Version: 1.0',\n",
              " 'Content-Type: text/plain; charset=\"us-ascii\"',\n",
              " 'Content-Transfer-Encoding: 8bit',\n",
              " 'X-MIME-Autoconverted: from quoted-printable to 8bit by sideshowmel.si.UM id g9V2foW24311',\n",
              " 'Status: O',\n",
              " '',\n",
              " 'FROM:MR. JAMES NGOLA.',\n",
              " 'CONFIDENTIAL TEL: 233-27-587908.',\n",
              " 'E-MAIL: (james_ngola2002@maktoob.com).',\n",
              " '',\n",
              " 'URGENT BUSINESS ASSISTANCE AND PARTNERSHIP.',\n",
              " '',\n",
              " '',\n",
              " 'DEAR FRIEND,']"
            ]
          },
          "metadata": {
            "tags": []
          },
          "execution_count": 4
        }
      ]
    },
    {
      "cell_type": "markdown",
      "metadata": {
        "id": "aUg8HenSBLG2"
      },
      "source": [
        "### 讀取寄件者資訊\n",
        "觀察文本資料可以發現, 寄件者資訊都符合以下格式\n",
        "\n",
        "`From: <收件者姓名> <收件者電子郵件>`"
      ]
    },
    {
      "cell_type": "code",
      "metadata": {
        "id": "YgsUuHsfBLG2"
      },
      "source": [
        "import re"
      ],
      "execution_count": 5,
      "outputs": []
    },
    {
      "cell_type": "code",
      "metadata": {
        "id": "pofRrOGhBLG5",
        "colab": {
          "base_uri": "https://localhost:8080/"
        },
        "outputId": "a14bd42f-7dcd-43eb-c46e-e6aaf347db15"
      },
      "source": [
        "pattern = \"(From:\\s.?[\\w\\.\\s]+.?\\s<[\\w\\.]+@[A-Za-z\\.\\-]+>)\"\n",
        "match = re.findall(pattern,sample_corpus,flags=re.M)\n",
        "match"
      ],
      "execution_count": 6,
      "outputs": [
        {
          "output_type": "execute_result",
          "data": {
            "text/plain": [
              "['From: \"MR. JAMES NGOLA.\" <james_ngola2002@maktoob.com>',\n",
              " 'From: \"Mr. Ben Suleman\" <bensul2004nng@spinfinder.com>',\n",
              " 'From: \"PRINCE OBONG ELEME\" <obong_715@epatra.com>']"
            ]
          },
          "metadata": {
            "tags": []
          },
          "execution_count": 6
        }
      ]
    },
    {
      "cell_type": "markdown",
      "metadata": {
        "id": "Ac8KHAqTBLG7"
      },
      "source": [
        "### 只讀取寄件者姓名"
      ]
    },
    {
      "cell_type": "code",
      "metadata": {
        "id": "coBDE2iBBLG8",
        "colab": {
          "base_uri": "https://localhost:8080/"
        },
        "outputId": "41ecff3a-3f24-4c0c-fc46-c13533726ebf"
      },
      "source": [
        "pattern = \"((?<=From:\\s).?[\\w\\.\\s]+\\\")\"\n",
        "match = re.findall(pattern,sample_corpus,flags=re.M)\n",
        "match"
      ],
      "execution_count": 7,
      "outputs": [
        {
          "output_type": "execute_result",
          "data": {
            "text/plain": [
              "['\"MR. JAMES NGOLA.\"', '\"Mr. Ben Suleman\"', '\"PRINCE OBONG ELEME\"']"
            ]
          },
          "metadata": {
            "tags": []
          },
          "execution_count": 7
        }
      ]
    },
    {
      "cell_type": "markdown",
      "metadata": {
        "id": "gaJefecaBLG-"
      },
      "source": [
        "### 只讀取寄件者電子信箱"
      ]
    },
    {
      "cell_type": "code",
      "metadata": {
        "colab": {
          "base_uri": "https://localhost:8080/"
        },
        "id": "dD744INP9bD7",
        "outputId": "1a540b5b-6e7a-48eb-ef65-85db52642655"
      },
      "source": [
        "pattern = \"(?<=\\\"\\s)(<[\\w\\.]+@[A-Za-z\\.\\-]+>)\"\n",
        "match = re.findall(pattern,sample_corpus)\n",
        "for m in match:\n",
        "  if m!=[]:\n",
        "    print(m)"
      ],
      "execution_count": 8,
      "outputs": [
        {
          "output_type": "stream",
          "text": [
            "<james_ngola2002@maktoob.com>\n",
            "<bensul2004nng@spinfinder.com>\n",
            "<obong_715@epatra.com>\n"
          ],
          "name": "stdout"
        }
      ]
    },
    {
      "cell_type": "markdown",
      "metadata": {
        "id": "t-RXjNLiBLHC"
      },
      "source": [
        "### 只讀取電子信箱中的寄件機構資訊\n",
        "ex: james_ngola2002@maktoob.com --> 取maktoob"
      ]
    },
    {
      "cell_type": "code",
      "metadata": {
        "id": "qC2Sd6_SBLHC",
        "colab": {
          "base_uri": "https://localhost:8080/"
        },
        "outputId": "dc9f9dcf-c955-41e0-b57a-64eb4769b377"
      },
      "source": [
        "pattern = \"(?<=\\\"\\s<)([\\w\\.]+@[A-Za-z\\.\\-]+)\"\n",
        "pattern2 = \"((?<=@)[\\w\\.\\-]+(?=[\\.]))\"\n",
        "emails = re.findall(pattern,sample_corpus,flags=re.M)\n",
        "for email in emails:\n",
        "  org = re.findall(pattern2,email,flags=re.M)\n",
        "  print(org[0])"
      ],
      "execution_count": 9,
      "outputs": [
        {
          "output_type": "stream",
          "text": [
            "maktoob\n",
            "spinfinder\n",
            "epatra\n"
          ],
          "name": "stdout"
        }
      ]
    },
    {
      "cell_type": "markdown",
      "metadata": {
        "id": "vfzkuLCWBLHG"
      },
      "source": [
        "### 結合上面的配對方式, 將寄件者的帳號與機構訊返回\n",
        "ex: james_ngola2002@maktoob.com --> [james_ngola2002, maktoob]"
      ]
    },
    {
      "cell_type": "code",
      "metadata": {
        "colab": {
          "base_uri": "https://localhost:8080/"
        },
        "id": "nmEDmOcrF7Sy",
        "outputId": "4353c33a-9acd-4c39-dcde-ca8f706f5b8d"
      },
      "source": [
        "pattern = \"(?<=\\\"\\s<)([\\w\\.]+@[A-Za-z\\.\\-]+)\"\n",
        "pattern2 = \"((?<=@)[\\w\\.\\-]+(?=[\\.]))\"\n",
        "pattern3 = \"([\\w\\.]+(?=@))\"\n",
        "emails = re.findall(pattern,sample_corpus)\n",
        "for email in emails:\n",
        "  acc = re.findall(pattern3,email)\n",
        "  org = re.findall(pattern2,email)\n",
        "  print(f\"{acc[0]},{org[0]}\")"
      ],
      "execution_count": 10,
      "outputs": [
        {
          "output_type": "stream",
          "text": [
            "james_ngola2002,maktoob\n",
            "bensul2004nng,spinfinder\n",
            "obong_715,epatra\n"
          ],
          "name": "stdout"
        }
      ]
    },
    {
      "cell_type": "markdown",
      "metadata": {
        "id": "Yl-BMduNBLHJ"
      },
      "source": [
        "### 使用正規表達式對email資料進行處理\n",
        "這裡我們會使用到python其他的套件協助處理(ex: pandas, email, etc)，這裡我們只需要專注在正規表達式上即可，其他的套件是方便我們整理與處理資料。"
      ]
    },
    {
      "cell_type": "markdown",
      "metadata": {
        "id": "kqCacQ9tBLHJ"
      },
      "source": [
        "### 讀取與切分Email\n",
        "讀入的email為一個長字串，利用正規表達式切割讀入的資料成一封一封的email，並將結果以list表示。\n",
        "\n",
        "輸出: [email_1, email_2, email_3, ....]"
      ]
    },
    {
      "cell_type": "code",
      "metadata": {
        "colab": {
          "base_uri": "https://localhost:8080/"
        },
        "id": "Hn_LZOZVO1xp",
        "outputId": "04c7d2ce-e165-47bf-d9dd-4971ef0f2134"
      },
      "source": [
        "import re\n",
        "import pandas as pd\n",
        "import email\n",
        "\n",
        "###讀取文本資料:fradulent_emails.txt###\n",
        "with open('/content/drive/MyDrive/NLP/all_emails.txt','r',encoding='windows-1252') as f:\n",
        "  corpus = f.read()\n",
        "    \n",
        "###切割讀入的資料成一封一封的email###\n",
        "###我們可以使用list來儲存每一封email###\n",
        "pattern = r\"From r\" \n",
        "emails = re.split(pattern,corpus)[1:]\n",
        "\n",
        "\n",
        "###注意！這裡請仔細觀察sample資料，看資料是如何切分不同email###\n",
        "\n",
        "len(emails) #查看有多少封email"
      ],
      "execution_count": 11,
      "outputs": [
        {
          "output_type": "execute_result",
          "data": {
            "text/plain": [
              "3977"
            ]
          },
          "metadata": {
            "tags": []
          },
          "execution_count": 11
        }
      ]
    },
    {
      "cell_type": "markdown",
      "metadata": {
        "id": "e9IN-2o0BLHM"
      },
      "source": [
        "### 從文本中擷取所有寄件者與收件者的姓名和地址"
      ]
    },
    {
      "cell_type": "code",
      "metadata": {
        "id": "d_WRYFpcBLHM"
      },
      "source": [
        "emails_list = [] #創建空list來儲存所有email資訊\n",
        "\n",
        "for mail in emails[:20]: #只取前20筆資料 (處理速度比較快)\n",
        "    emails_dict = dict() #創建空字典儲存資訊\n",
        "    ###取的寄件者姓名與地址###\n",
        "    \n",
        "    #Step1: 取得寄件者資訊 (hint: From:)\n",
        "    pattern = r\"(From:\\s.?[\\w\\.\\s]+.?\\s<[\\w\\.]+@[A-Za-z\\.\\-]+>)\"\n",
        "    pattern2 = r\"From:\\s[\\w\\.]+@[\\w\\-\\.]+|From.[\\.\\w\\s][^\\n]+\"\n",
        "\n",
        "    from_match = re.findall(pattern,mail)\n",
        "    if from_match == []:\n",
        "      from_match = re.findall(pattern2,mail)\n",
        "\n",
        "    #Step2: 取得姓名與地址 (hint: 要注意有時會有沒取到配對的情況)\n",
        "    #Step3: 將取得的姓名與地址存入字典中\n",
        "    if len(from_match)==1:\n",
        "      name = from_match[0].split(':')[1].split('<')[0].replace(\"\\\"\",\"\")\n",
        "      address = from_match[0].split('<')[1].strip('>')\n",
        "      emails_dict['sender_name']=name\n",
        "      emails_dict['sender_add']=address\n",
        "\n",
        "    elif len(from_match)==2:\n",
        "      p_add = r'[\\w\\.]+@[A-Za-z\\.\\-]+'\n",
        "      p_name = \"(From.[\\s]*)\"\n",
        "\n",
        "      address = re.findall(p_add,from_match[0])\n",
        "      name = re.sub(p_name,\"\",from_match[1])\n",
        "      emails_dict['sender_name']=name\n",
        "      emails_dict['sender_add']=address[0]\n",
        "\n",
        "    elif from_match == []:\n",
        "      emails_dict['sender_name']=None\n",
        "      emails_dict['sender_add']=None\n",
        "\n",
        "    ###取得收件者姓名與地址###\n",
        "    #Step1: 取得收件者資訊 (hint: To:)\n",
        "    pattern = r\"((?<!Reply-)To:[<\\w\\.\\s]+@[\\w\\-\\.]+)\"\n",
        "    to_match = re.findall(pattern,mail)    \n",
        "\n",
        "    #Step2: 取得姓名與地址 (hint: 要注意有時會有沒取到配對的情況)\n",
        "    #Step3: 將取得的姓名與地址存入字典中\n",
        "    if to_match != []:\n",
        "      to_match = re.sub('To:','',to_match[0])\n",
        "      emails_dict['receiver_name'] = None\n",
        "      emails_dict['receiver_add'] = to_match\n",
        "    elif to_match == []:\n",
        "      emails_dict['receiver_name'] = None\n",
        "      emails_dict['receiver_add'] = None\n",
        "           \n",
        "    ###取得信件日期###\n",
        "    #Step1: 取得日期資訊 (hint: To:)\n",
        "    pattern =r'Date:.[^\\n]*'\n",
        "    pattern2 =r\"[\\d]{1,2}\\s[A-Z][a-z]{2}\\s[\\d]{4}\"\n",
        "    date_match = re.findall(pattern,mail)\n",
        "    \n",
        "    #Step2: 取得詳細日期(只需取得DD MMM YYYY)\n",
        "    if date_match != []:\n",
        "      date = re.search(pattern2,date_match[0])\n",
        "      date = date.group()\n",
        "    elif date_match == []:\n",
        "      date = None\n",
        "        \n",
        "    #Step3: 將取得的日期資訊存入字典中\n",
        "    emails_dict['date'] = date\n",
        "        \n",
        "        \n",
        "    ###取得信件主旨###\n",
        "    #Step1: 取得主旨資訊 (hint: Subject:)\n",
        "    pattern = r\"(?<=Subject:)[\\w\\s][^\\n]+\"\n",
        "    subject_match = re.findall(pattern,mail)\n",
        "    \n",
        "    #Step2: 移除不必要文字 (hint: Subject: )\n",
        "    subject = subject_match[0].strip()\n",
        "    \n",
        "    #Step3: 將取得的主旨存入字典中\n",
        "    emails_dict['Subject'] = subject\n",
        "    \n",
        "    \n",
        "    ###取得信件內文###\n",
        "    #這裡我們使用email package來取出email內文 (可以不需深究，本章節重點在正規表達式)\n",
        "    try:\n",
        "        full_email = email.message_from_string(mail)\n",
        "        body = full_email.get_payload()\n",
        "        emails_dict[\"email_body\"] = body\n",
        "    except:\n",
        "        emails_dict[\"email_body\"] = None\n",
        "    \n",
        "    ###將字典加入list###\n",
        "    emails_list.append(emails_dict)"
      ],
      "execution_count": 12,
      "outputs": []
    },
    {
      "cell_type": "code",
      "metadata": {
        "id": "CBfQRiYPBLHP",
        "colab": {
          "base_uri": "https://localhost:8080/",
          "height": 1000
        },
        "outputId": "eb6aa567-5eb2-48e8-aaa5-72a8ffd85f12"
      },
      "source": [
        "#將處理結果轉化為dataframe\n",
        "emails_df = pd.DataFrame(emails_list)\n",
        "emails_df"
      ],
      "execution_count": 49,
      "outputs": [
        {
          "output_type": "execute_result",
          "data": {
            "text/html": [
              "<div>\n",
              "<style scoped>\n",
              "    .dataframe tbody tr th:only-of-type {\n",
              "        vertical-align: middle;\n",
              "    }\n",
              "\n",
              "    .dataframe tbody tr th {\n",
              "        vertical-align: top;\n",
              "    }\n",
              "\n",
              "    .dataframe thead th {\n",
              "        text-align: right;\n",
              "    }\n",
              "</style>\n",
              "<table border=\"1\" class=\"dataframe\">\n",
              "  <thead>\n",
              "    <tr style=\"text-align: right;\">\n",
              "      <th></th>\n",
              "      <th>sender_name</th>\n",
              "      <th>sender_add</th>\n",
              "      <th>receiver_name</th>\n",
              "      <th>receiver_add</th>\n",
              "      <th>date</th>\n",
              "      <th>Subject</th>\n",
              "      <th>email_body</th>\n",
              "    </tr>\n",
              "  </thead>\n",
              "  <tbody>\n",
              "    <tr>\n",
              "      <th>0</th>\n",
              "      <td>MR. JAMES NGOLA.</td>\n",
              "      <td>james_ngola2002@maktoob.com</td>\n",
              "      <td>None</td>\n",
              "      <td>webmaster@aclweb.org</td>\n",
              "      <td>31 Oct 2002</td>\n",
              "      <td>URGENT BUSINESS ASSISTANCE AND PARTNERSHIP</td>\n",
              "      <td>FROM:MR. JAMES NGOLA.\\nCONFIDENTIAL TEL: 233-2...</td>\n",
              "    </tr>\n",
              "    <tr>\n",
              "      <th>1</th>\n",
              "      <td>Mr. Ben Suleman</td>\n",
              "      <td>bensul2004nng@spinfinder.com</td>\n",
              "      <td>None</td>\n",
              "      <td>R@M</td>\n",
              "      <td>31 Oct 2002</td>\n",
              "      <td>URGENT ASSISTANCE /RELATIONSHIP (P)</td>\n",
              "      <td>Dear Friend,\\n\\nI am Mr. Ben Suleman a custom ...</td>\n",
              "    </tr>\n",
              "    <tr>\n",
              "      <th>2</th>\n",
              "      <td>PRINCE OBONG ELEME</td>\n",
              "      <td>obong_715@epatra.com</td>\n",
              "      <td>None</td>\n",
              "      <td>webmaster@aclweb.org</td>\n",
              "      <td>31 Oct 2002</td>\n",
              "      <td>GOOD DAY TO YOU</td>\n",
              "      <td>FROM HIS ROYAL MAJESTY (HRM) CROWN RULER OF EL...</td>\n",
              "    </tr>\n",
              "    <tr>\n",
              "      <th>3</th>\n",
              "      <td>PRINCE OBONG ELEME</td>\n",
              "      <td>obong_715@epatra.com</td>\n",
              "      <td>None</td>\n",
              "      <td>webmaster@aclweb.org</td>\n",
              "      <td>31 Oct 2002</td>\n",
              "      <td>GOOD DAY TO YOU</td>\n",
              "      <td>FROM HIS ROYAL MAJESTY (HRM) CROWN RULER OF EL...</td>\n",
              "    </tr>\n",
              "    <tr>\n",
              "      <th>4</th>\n",
              "      <td>Maryam Abacha</td>\n",
              "      <td>m_abacha03@www.com</td>\n",
              "      <td>None</td>\n",
              "      <td>R@M</td>\n",
              "      <td>1 Nov 2002</td>\n",
              "      <td>I Need Your Assistance.</td>\n",
              "      <td>Dear sir, \\n \\nIt is with a heart full of hope...</td>\n",
              "    </tr>\n",
              "    <tr>\n",
              "      <th>5</th>\n",
              "      <td>Kuta David</td>\n",
              "      <td>davidkuta@postmark.net</td>\n",
              "      <td>None</td>\n",
              "      <td>davidkuta@yahoo.com</td>\n",
              "      <td>02 Nov 2002</td>\n",
              "      <td>Partnership</td>\n",
              "      <td>ATTENTION:                                    ...</td>\n",
              "    </tr>\n",
              "    <tr>\n",
              "      <th>6</th>\n",
              "      <td>Barrister tunde dosumu</td>\n",
              "      <td>tunde_dosumu@lycos.com</td>\n",
              "      <td>None</td>\n",
              "      <td>None</td>\n",
              "      <td>None</td>\n",
              "      <td>Urgent Attention</td>\n",
              "      <td>Dear Sir,\\n\\nI am Barrister Tunde Dosumu (SAN)...</td>\n",
              "    </tr>\n",
              "    <tr>\n",
              "      <th>7</th>\n",
              "      <td>William Drallo</td>\n",
              "      <td>william2244drallo@maktoob.com</td>\n",
              "      <td>None</td>\n",
              "      <td>webmaster@aclweb.org</td>\n",
              "      <td>3 Nov 2002</td>\n",
              "      <td>URGENT BUSINESS PRPOSAL</td>\n",
              "      <td>FROM: WILLIAM DRALLO.\\nCONFIDENTIAL TEL: 233-2...</td>\n",
              "    </tr>\n",
              "    <tr>\n",
              "      <th>8</th>\n",
              "      <td>MR USMAN ABDUL</td>\n",
              "      <td>abdul_817@rediffmail.com</td>\n",
              "      <td>None</td>\n",
              "      <td>R@M</td>\n",
              "      <td>04 Nov 2002</td>\n",
              "      <td>THANK YOU</td>\n",
              "      <td>CHALLENGE SECURITIES LTD.\\nLAGOS, NIGERIA\\n\\n\\...</td>\n",
              "    </tr>\n",
              "    <tr>\n",
              "      <th>9</th>\n",
              "      <td>Tunde  Dosumu</td>\n",
              "      <td>barrister_td@lycos.com</td>\n",
              "      <td>None</td>\n",
              "      <td>None</td>\n",
              "      <td>None</td>\n",
              "      <td>Urgent Assistance</td>\n",
              "      <td>Dear Sir,\\n\\nI am Barrister Tunde Dosumu (SAN)...</td>\n",
              "    </tr>\n",
              "    <tr>\n",
              "      <th>10</th>\n",
              "      <td>MR TEMI JOHNSON</td>\n",
              "      <td>temijohnson2@rediffmail.com</td>\n",
              "      <td>None</td>\n",
              "      <td>R@E</td>\n",
              "      <td>6 Nov 2001</td>\n",
              "      <td>IMPORTANT</td>\n",
              "      <td>FROM: MR TEMI JOHNSON\\nDEMOCRATIC REPUBLIC OF ...</td>\n",
              "    </tr>\n",
              "    <tr>\n",
              "      <th>11</th>\n",
              "      <td>Dr.Sam jordan</td>\n",
              "      <td>sjordan@diplomats.com</td>\n",
              "      <td>None</td>\n",
              "      <td>R@M</td>\n",
              "      <td>08 Nov 2002</td>\n",
              "      <td>URGENT ASSISTANCE.</td>\n",
              "      <td>FROM THE DESK OF DR.SAM JORDAN\\nTHE MANAGER\\nH...</td>\n",
              "    </tr>\n",
              "    <tr>\n",
              "      <th>12</th>\n",
              "      <td>Barrister Peter Brown</td>\n",
              "      <td>p_brown2@lawyer.com</td>\n",
              "      <td>None</td>\n",
              "      <td>webmaster@aclweb.org</td>\n",
              "      <td>8 Nov 2002</td>\n",
              "      <td>From: Barrister Peter Brown</td>\n",
              "      <td>\\nSENIOR ADVOCATE OF NIGERIA\\nBARR. PETER BROW...</td>\n",
              "    </tr>\n",
              "    <tr>\n",
              "      <th>13</th>\n",
              "      <td>Mr.Michael Kamah and Family,</td>\n",
              "      <td>mic_k1@post.com</td>\n",
              "      <td>None</td>\n",
              "      <td>R@M</td>\n",
              "      <td>11 Nov 2002</td>\n",
              "      <td>MICHAEL</td>\n",
              "      <td>From;Mr.Michael Kamah and Family,\\n          J...</td>\n",
              "    </tr>\n",
              "    <tr>\n",
              "      <th>14</th>\n",
              "      <td>COL. MICHAEL BUNDU</td>\n",
              "      <td>mikebunduu1@rediffmail.com</td>\n",
              "      <td>None</td>\n",
              "      <td>R@E</td>\n",
              "      <td>13 Nov 2001</td>\n",
              "      <td>*****SPAM***** IMPORTANT</td>\n",
              "      <td>FROM: COL. MICHAEL BUNDU. \\nDEMOCRATIC REPUBLI...</td>\n",
              "    </tr>\n",
              "    <tr>\n",
              "      <th>15</th>\n",
              "      <td>MRS MARIAM ABACHA</td>\n",
              "      <td>elixwilliam@usa.com</td>\n",
              "      <td>None</td>\n",
              "      <td>webmaster@aclweb.org</td>\n",
              "      <td>14 Nov 2002</td>\n",
              "      <td>TRUST TRANSACTION</td>\n",
              "      <td>Dear Sir,\\n\\nA Very Good day to you   \\n\\nI am...</td>\n",
              "    </tr>\n",
              "    <tr>\n",
              "      <th>16</th>\n",
              "      <td>DR. ANAYO AWKA</td>\n",
              "      <td>anayoawka@hotmail.com</td>\n",
              "      <td>None</td>\n",
              "      <td>webmaster@aclweb.org</td>\n",
              "      <td>15 Nov 2002</td>\n",
              "      <td>REQUEST FOR YOUR UNRESERVED ASSISTANCE</td>\n",
              "      <td>FROM: DR. ANAYO AWKA BANK MANAGER \\n(UNION BAN...</td>\n",
              "    </tr>\n",
              "    <tr>\n",
              "      <th>17</th>\n",
              "      <td>DR. ANAYO AWKA</td>\n",
              "      <td>anayoawka@hotmail.com</td>\n",
              "      <td>None</td>\n",
              "      <td>webmaster@aclweb.org</td>\n",
              "      <td>15 Nov 2002</td>\n",
              "      <td>REQUEST FOR YOUR UNRESERVED ASSISTANCE</td>\n",
              "      <td>FROM: DR. ANAYO AWKA BANK MANAGER \\n(UNION BAN...</td>\n",
              "    </tr>\n",
              "    <tr>\n",
              "      <th>18</th>\n",
              "      <td>Victor Aloma</td>\n",
              "      <td>victorloma@netscape.net</td>\n",
              "      <td>None</td>\n",
              "      <td>None</td>\n",
              "      <td>16 Nov 2002</td>\n",
              "      <td>Urgent Assistance</td>\n",
              "      <td>The Director,\\n\\n\\n\\n            SEEKING FOR I...</td>\n",
              "    </tr>\n",
              "    <tr>\n",
              "      <th>19</th>\n",
              "      <td>Victor Aloma</td>\n",
              "      <td>victorloma@netscape.net</td>\n",
              "      <td>None</td>\n",
              "      <td>None</td>\n",
              "      <td>16 Nov 2002</td>\n",
              "      <td>Urgent Assistance</td>\n",
              "      <td>The Director,\\n\\n\\n\\n            SEEKING FOR I...</td>\n",
              "    </tr>\n",
              "  </tbody>\n",
              "</table>\n",
              "</div>"
            ],
            "text/plain": [
              "                     sender_name  ...                                         email_body\n",
              "0              MR. JAMES NGOLA.   ...  FROM:MR. JAMES NGOLA.\\nCONFIDENTIAL TEL: 233-2...\n",
              "1               Mr. Ben Suleman   ...  Dear Friend,\\n\\nI am Mr. Ben Suleman a custom ...\n",
              "2            PRINCE OBONG ELEME   ...  FROM HIS ROYAL MAJESTY (HRM) CROWN RULER OF EL...\n",
              "3            PRINCE OBONG ELEME   ...  FROM HIS ROYAL MAJESTY (HRM) CROWN RULER OF EL...\n",
              "4                 Maryam Abacha   ...  Dear sir, \\n \\nIt is with a heart full of hope...\n",
              "5                    Kuta David   ...  ATTENTION:                                    ...\n",
              "6        Barrister tunde dosumu   ...  Dear Sir,\\n\\nI am Barrister Tunde Dosumu (SAN)...\n",
              "7                William Drallo   ...  FROM: WILLIAM DRALLO.\\nCONFIDENTIAL TEL: 233-2...\n",
              "8                MR USMAN ABDUL   ...  CHALLENGE SECURITIES LTD.\\nLAGOS, NIGERIA\\n\\n\\...\n",
              "9                 Tunde  Dosumu   ...  Dear Sir,\\n\\nI am Barrister Tunde Dosumu (SAN)...\n",
              "10              MR TEMI JOHNSON   ...  FROM: MR TEMI JOHNSON\\nDEMOCRATIC REPUBLIC OF ...\n",
              "11                Dr.Sam jordan   ...  FROM THE DESK OF DR.SAM JORDAN\\nTHE MANAGER\\nH...\n",
              "12         Barrister Peter Brown  ...  \\nSENIOR ADVOCATE OF NIGERIA\\nBARR. PETER BROW...\n",
              "13  Mr.Michael Kamah and Family,  ...  From;Mr.Michael Kamah and Family,\\n          J...\n",
              "14           COL. MICHAEL BUNDU   ...  FROM: COL. MICHAEL BUNDU. \\nDEMOCRATIC REPUBLI...\n",
              "15            MRS MARIAM ABACHA   ...  Dear Sir,\\n\\nA Very Good day to you   \\n\\nI am...\n",
              "16              DR. ANAYO AWKA    ...  FROM: DR. ANAYO AWKA BANK MANAGER \\n(UNION BAN...\n",
              "17              DR. ANAYO AWKA    ...  FROM: DR. ANAYO AWKA BANK MANAGER \\n(UNION BAN...\n",
              "18                 Victor Aloma   ...  The Director,\\n\\n\\n\\n            SEEKING FOR I...\n",
              "19                 Victor Aloma   ...  The Director,\\n\\n\\n\\n            SEEKING FOR I...\n",
              "\n",
              "[20 rows x 7 columns]"
            ]
          },
          "metadata": {
            "tags": []
          },
          "execution_count": 49
        }
      ]
    }
  ]
}