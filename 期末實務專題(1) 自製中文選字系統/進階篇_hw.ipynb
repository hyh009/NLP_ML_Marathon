{
  "nbformat": 4,
  "nbformat_minor": 0,
  "metadata": {
    "language_info": {
      "codemirror_mode": {
        "name": "ipython",
        "version": 3
      },
      "file_extension": ".py",
      "mimetype": "text/x-python",
      "name": "python",
      "nbconvert_exporter": "python",
      "pygments_lexer": "ipython3",
      "version": "3.6.5-final"
    },
    "orig_nbformat": 2,
    "kernelspec": {
      "name": "python36564bitc3c936632e8a4243a25c20fc16c690eb",
      "display_name": "Python 3.6.5 64-bit"
    },
    "colab": {
      "name": "進階篇_hw.ipynb",
      "provenance": [],
      "collapsed_sections": [],
      "toc_visible": true
    },
    "widgets": {
      "application/vnd.jupyter.widget-state+json": {
        "39a708a9a38f4d7d8f6f5289c5546458": {
          "model_module": "@jupyter-widgets/controls",
          "model_name": "LabelModel",
          "state": {
            "_view_name": "LabelView",
            "style": "IPY_MODEL_b995402ffd104d8e88fd47729d119ce5",
            "_dom_classes": [],
            "description": "",
            "_model_name": "LabelModel",
            "placeholder": "​",
            "_view_module": "@jupyter-widgets/controls",
            "_model_module_version": "1.5.0",
            "value": " 的\t國\t中\t一\t在\t爲\t是\t人\t年\t有",
            "_view_count": null,
            "_view_module_version": "1.5.0",
            "description_tooltip": null,
            "_model_module": "@jupyter-widgets/controls",
            "layout": "IPY_MODEL_19457cbf954d4aac8c7ce74faee789d4"
          }
        },
        "b995402ffd104d8e88fd47729d119ce5": {
          "model_module": "@jupyter-widgets/controls",
          "model_name": "DescriptionStyleModel",
          "state": {
            "_view_name": "StyleView",
            "_model_name": "DescriptionStyleModel",
            "description_width": "",
            "_view_module": "@jupyter-widgets/base",
            "_model_module_version": "1.5.0",
            "_view_count": null,
            "_view_module_version": "1.2.0",
            "_model_module": "@jupyter-widgets/controls"
          }
        },
        "19457cbf954d4aac8c7ce74faee789d4": {
          "model_module": "@jupyter-widgets/base",
          "model_name": "LayoutModel",
          "state": {
            "_view_name": "LayoutView",
            "grid_template_rows": null,
            "right": null,
            "justify_content": null,
            "_view_module": "@jupyter-widgets/base",
            "overflow": null,
            "_model_module_version": "1.2.0",
            "_view_count": null,
            "flex_flow": null,
            "width": null,
            "min_width": null,
            "border": null,
            "align_items": null,
            "bottom": null,
            "_model_module": "@jupyter-widgets/base",
            "top": null,
            "grid_column": null,
            "overflow_y": null,
            "overflow_x": null,
            "grid_auto_flow": null,
            "grid_area": null,
            "grid_template_columns": null,
            "flex": null,
            "_model_name": "LayoutModel",
            "justify_items": null,
            "grid_row": null,
            "max_height": null,
            "align_content": null,
            "visibility": null,
            "align_self": null,
            "height": null,
            "min_height": null,
            "padding": null,
            "grid_auto_rows": null,
            "grid_gap": null,
            "max_width": null,
            "order": null,
            "_view_module_version": "1.2.0",
            "grid_template_areas": null,
            "object_position": null,
            "object_fit": null,
            "grid_auto_columns": null,
            "margin": null,
            "display": null,
            "left": null
          }
        },
        "c5d82d84fb014bb4bca54cde019f8f58": {
          "model_module": "@jupyter-widgets/controls",
          "model_name": "TextareaModel",
          "state": {
            "_view_name": "TextareaView",
            "style": "IPY_MODEL_8dc275b45a204a94bed2490c088c6826",
            "rows": null,
            "_dom_classes": [],
            "description": "",
            "_model_name": "TextareaModel",
            "placeholder": "​",
            "_view_module": "@jupyter-widgets/controls",
            "_model_module_version": "1.5.0",
            "value": "",
            "_view_count": null,
            "disabled": false,
            "_view_module_version": "1.5.0",
            "continuous_update": true,
            "description_tooltip": null,
            "_model_module": "@jupyter-widgets/controls",
            "layout": "IPY_MODEL_eb320a56c8314921815f394c2d69feaf"
          }
        },
        "8dc275b45a204a94bed2490c088c6826": {
          "model_module": "@jupyter-widgets/controls",
          "model_name": "DescriptionStyleModel",
          "state": {
            "_view_name": "StyleView",
            "_model_name": "DescriptionStyleModel",
            "description_width": "",
            "_view_module": "@jupyter-widgets/base",
            "_model_module_version": "1.5.0",
            "_view_count": null,
            "_view_module_version": "1.2.0",
            "_model_module": "@jupyter-widgets/controls"
          }
        },
        "eb320a56c8314921815f394c2d69feaf": {
          "model_module": "@jupyter-widgets/base",
          "model_name": "LayoutModel",
          "state": {
            "_view_name": "LayoutView",
            "grid_template_rows": null,
            "right": null,
            "justify_content": null,
            "_view_module": "@jupyter-widgets/base",
            "overflow": null,
            "_model_module_version": "1.2.0",
            "_view_count": null,
            "flex_flow": null,
            "width": null,
            "min_width": null,
            "border": null,
            "align_items": null,
            "bottom": null,
            "_model_module": "@jupyter-widgets/base",
            "top": null,
            "grid_column": null,
            "overflow_y": null,
            "overflow_x": null,
            "grid_auto_flow": null,
            "grid_area": null,
            "grid_template_columns": null,
            "flex": null,
            "_model_name": "LayoutModel",
            "justify_items": null,
            "grid_row": null,
            "max_height": null,
            "align_content": null,
            "visibility": null,
            "align_self": null,
            "height": null,
            "min_height": null,
            "padding": null,
            "grid_auto_rows": null,
            "grid_gap": null,
            "max_width": null,
            "order": null,
            "_view_module_version": "1.2.0",
            "grid_template_areas": null,
            "object_position": null,
            "object_fit": null,
            "grid_auto_columns": null,
            "margin": null,
            "display": null,
            "left": null
          }
        }
      }
    }
  },
  "cells": [
    {
      "cell_type": "markdown",
      "metadata": {
        "id": "J45HpOhhX745"
      },
      "source": [
        "# 自製智能中文選字系統  (2)"
      ]
    },
    {
      "cell_type": "code",
      "metadata": {
        "colab": {
          "base_uri": "https://localhost:8080/",
          "height": 35
        },
        "id": "cGMP77liX74_",
        "outputId": "5a04a470-a805-4d1c-e624-bab43b55e359"
      },
      "source": [
        "import sys\n",
        "sys.version"
      ],
      "execution_count": null,
      "outputs": [
        {
          "output_type": "execute_result",
          "data": {
            "application/vnd.google.colaboratory.intrinsic+json": {
              "type": "string"
            },
            "text/plain": [
              "'3.7.10 (default, Feb 20 2021, 21:17:23) \\n[GCC 7.5.0]'"
            ]
          },
          "metadata": {
            "tags": []
          },
          "execution_count": 2
        }
      ]
    },
    {
      "cell_type": "code",
      "metadata": {
        "colab": {
          "base_uri": "https://localhost:8080/"
        },
        "id": "WrVaPI2iYDf2",
        "outputId": "b06d3472-e55b-4535-e6c5-6d97f5f618f8"
      },
      "source": [
        "from google.colab import drive\n",
        "drive.mount('/content/drive')"
      ],
      "execution_count": 1,
      "outputs": [
        {
          "output_type": "stream",
          "text": [
            "Mounted at /content/drive\n"
          ],
          "name": "stdout"
        }
      ]
    },
    {
      "cell_type": "markdown",
      "metadata": {
        "id": "9AwKNdraX75A"
      },
      "source": [
        "確認版本為 python3"
      ]
    },
    {
      "cell_type": "markdown",
      "metadata": {
        "id": "qjXvaguYX75B"
      },
      "source": [
        "## 資料前處理"
      ]
    },
    {
      "cell_type": "code",
      "metadata": {
        "id": "_RYcujuXX75B"
      },
      "source": [
        "import re"
      ],
      "execution_count": 2,
      "outputs": []
    },
    {
      "cell_type": "code",
      "metadata": {
        "id": "39icMB7LX75C"
      },
      "source": [
        "def prepocess_line(line):\n",
        "    chinese_pattern = r'[\\u4E00-\\u9FFF]+'\n",
        "    segments = re.findall(chinese_pattern, line, flags=re.UNICODE)\n",
        "    return segments"
      ],
      "execution_count": 3,
      "outputs": []
    },
    {
      "cell_type": "code",
      "metadata": {
        "tags": [],
        "id": "9fBzB4s-X75C"
      },
      "source": [
        "segments = []\n",
        "with open('/content/drive/MyDrive/NLP/wiki_zh_small.txt') as fr:\n",
        "    for line in fr.readlines():\n",
        "        segments += prepocess_line(line)"
      ],
      "execution_count": 4,
      "outputs": []
    },
    {
      "cell_type": "markdown",
      "metadata": {
        "id": "Tl5kpILnX75C"
      },
      "source": [
        "## 斷詞"
      ]
    },
    {
      "cell_type": "code",
      "metadata": {
        "tags": [],
        "colab": {
          "base_uri": "https://localhost:8080/"
        },
        "id": "Y5ajffv7X75D",
        "outputId": "ed529457-e3d9-4346-a9dd-e74869823d62"
      },
      "source": [
        "!pip install jieba"
      ],
      "execution_count": null,
      "outputs": [
        {
          "output_type": "stream",
          "text": [
            "Requirement already satisfied: jieba in /usr/local/lib/python3.7/dist-packages (0.42.1)\n"
          ],
          "name": "stdout"
        }
      ]
    },
    {
      "cell_type": "code",
      "metadata": {
        "id": "EyTAIS0ZX75D"
      },
      "source": [
        "import jieba"
      ],
      "execution_count": 5,
      "outputs": []
    },
    {
      "cell_type": "code",
      "metadata": {
        "tags": [],
        "colab": {
          "base_uri": "https://localhost:8080/"
        },
        "id": "kyNaAykhX75D",
        "outputId": "2d882f5e-4d28-4fac-96a0-5edc185f60b0"
      },
      "source": [
        "list(jieba.cut_for_search(segments[6001]))"
      ],
      "execution_count": 6,
      "outputs": [
        {
          "output_type": "stream",
          "text": [
            "Building prefix dict from the default dictionary ...\n",
            "Dumping model to file cache /tmp/jieba.cache\n",
            "Loading model cost 1.044 seconds.\n",
            "Prefix dict has been built successfully.\n"
          ],
          "name": "stderr"
        },
        {
          "output_type": "execute_result",
          "data": {
            "text/plain": [
              "['所以', '僅用', '於', '還原', '一些', '貴重', '的', '化合', '化合物']"
            ]
          },
          "metadata": {
            "tags": []
          },
          "execution_count": 6
        }
      ]
    },
    {
      "cell_type": "code",
      "metadata": {
        "tags": [],
        "id": "urbb8zKyX75E"
      },
      "source": [
        "cut_segments = []\n",
        "for seg in segments:\n",
        "    # 使用結巴斷詞的 cut_for_search\n",
        "    cut_segments+=list((jieba.cut_for_search(seg)))"
      ],
      "execution_count": 150,
      "outputs": []
    },
    {
      "cell_type": "markdown",
      "metadata": {
        "id": "R7tdY_4HX75E"
      },
      "source": [
        "## 使用斷詞的結果來作Ngram"
      ]
    },
    {
      "cell_type": "code",
      "metadata": {
        "id": "LFHf5sIJX75E"
      },
      "source": [
        "from collections import Counter\n",
        "\n",
        "class Counters:\n",
        "    def __init__(self, n):\n",
        "        self.n = n\n",
        "        self.counters = [Counter() for _ in range(n + 1)]\n",
        "\n",
        "    def fit(self, segments):\n",
        "        for i in range(1, 1 + self.n):\n",
        "            for segment in segments:\n",
        "                self.counters[i] += Counter(self._skip(segment, i))\n",
        "\n",
        "        base_count = sum(dict(self.counters[1]).values())\n",
        "        self.counters[0] = Counter({'': base_count})\n",
        "\n",
        "    def __getitem__(self, k):\n",
        "        return self.counters[k]\n",
        "\n",
        "    def _skip(self, segment, n):\n",
        "        assert n > 0\n",
        "        if len(segment) < n:\n",
        "            return []\n",
        "        shift = n - 1\n",
        "        for i in range(len(segment) - shift):\n",
        "            yield segment[i:i+shift+1]"
      ],
      "execution_count": 151,
      "outputs": []
    },
    {
      "cell_type": "code",
      "metadata": {
        "id": "QSF29BKDX75E"
      },
      "source": [
        "counters = Counters(n=5)\n",
        "counters.fit(cut_segments)"
      ],
      "execution_count": 152,
      "outputs": []
    },
    {
      "cell_type": "code",
      "metadata": {
        "id": "E_HfzTcNX75F"
      },
      "source": [
        "class Ngram:\n",
        "    def __init__(self, n, counters):\n",
        "        assert n <= counters.n\n",
        "        self.n = n\n",
        "        self.major_counter = counters[n]\n",
        "        self.minor_counter = counters[n-1]\n",
        "\n",
        "    def predict_proba(self, prefix='', top_k=5):\n",
        "        assert len(prefix) >= self.n - 1\n",
        "\n",
        "        reference = prefix[-(self.n - 1):] if self.n > 1 else ''\n",
        "        count_referecne = self.minor_counter[reference]\n",
        "        probs = []\n",
        "        for key, count in dict(self.major_counter).items():\n",
        "            if key.startswith(reference):\n",
        "                prob = count / count_referecne\n",
        "                probs.append((prob, key[-1]))\n",
        "        sorted_probs = sorted(probs, reverse=True)\n",
        "        return sorted_probs[:top_k] if top_k > 0 else sorted_probs\n",
        "\n",
        "    def get_proba_dict(self, prefix=''):\n",
        "        return {word: prob for prob, word in self.predict_proba(prefix, top_k=-1)}"
      ],
      "execution_count": 153,
      "outputs": []
    },
    {
      "cell_type": "code",
      "metadata": {
        "id": "XOXAN494X75F"
      },
      "source": [
        "ngrams = [Ngram(i, counters) for i in range(1, 6)]"
      ],
      "execution_count": 154,
      "outputs": []
    },
    {
      "cell_type": "markdown",
      "metadata": {
        "id": "s0fx6tPfX75F"
      },
      "source": [
        "## 使用Smoothing of Language Models來建立第二版選字系統"
      ]
    },
    {
      "cell_type": "code",
      "metadata": {
        "id": "dCj3k3CtX75F"
      },
      "source": [
        "class ChineseWordRecommenderV2:\n",
        "    def __init__(self, ngrams):\n",
        "        self.ngrams = ngrams\n",
        "    \n",
        "    def predict_proba(self, prefix='', top_k=5, how='backoff'):\n",
        "        proba_dicts = [ngram.get_proba_dict(prefix) for ngram in ngrams[:len(prefix)+1]]\n",
        "\n",
        "        # 在此你可以選擇兩種 Smoothing of Language Models 的方法：\n",
        "        # Back-off Smoothing 或 Interpolation Smoothing\n",
        "        # 如果你選擇 Interpolation Smoothing，你可以運用已經準備好的輔助函式\n",
        "        # _get_interpolation_proba 來達到此目的\n",
        "        probas = []\n",
        "        if how == 'interpolation':\n",
        "            interpolation_lambda = 0.99\n",
        "            words = proba_dicts[0].keys() #取出所有字元可能(unigram)\n",
        "            for word in words: \n",
        "                proba = self._get_interpolation_proba(word, proba_dicts, interpolation_lambda)\n",
        "                probas.append((proba, word))\n",
        "\n",
        "            sorted_probas = sorted(probas, reverse=True)\n",
        "            return sorted_probas[:top_k] if top_k > 0 else sorted_probas\n",
        "        if how == 'backoff':\n",
        "            alpha = 0.4\n",
        "            words = proba_dicts[0].keys()\n",
        "            for word in words:\n",
        "                proba = self._get_backoff_proba(word, proba_dicts, alpha)\n",
        "                probas.append((proba, word))\n",
        "                \n",
        "            sorted_probas = sorted(probas, reverse=True)\n",
        "            return sorted_probas[:top_k] if top_k > 0 else sorted_probas\n",
        "    \n",
        "    def _get_backoff_proba(self, word, proba_dicts, alpha, idx=None):\n",
        "        if idx is None:\n",
        "            idx = len(proba_dicts) -1\n",
        "\n",
        "\n",
        "        if word in proba_dicts[idx]:\n",
        "            return proba_dicts[idx].get(word)\n",
        "\n",
        "        if word not in proba_dicts[idx]:\n",
        "            return alpha * self._get_backoff_proba(word, proba_dicts, alpha, idx=idx-1)\n",
        "    \n",
        "    def _get_interpolation_proba(self, word, proba_dicts, interp_lambda, idx=None):\n",
        "        if idx is None:\n",
        "            idx = len(proba_dicts) - 1\n",
        "        if idx == 0:\n",
        "            return proba_dicts[idx].get(word, 0.)\n",
        "        return interp_lambda * proba_dicts[idx].get(word, 0.) + \\\n",
        "               (1 - interp_lambda) * self._get_interpolation_proba(word, proba_dicts, interp_lambda, idx=idx-1)"
      ],
      "execution_count": 155,
      "outputs": []
    },
    {
      "cell_type": "code",
      "metadata": {
        "id": "Fn3jJMtJX75G"
      },
      "source": [
        "model = ChineseWordRecommenderV2(ngrams)"
      ],
      "execution_count": 156,
      "outputs": []
    },
    {
      "cell_type": "code",
      "metadata": {
        "colab": {
          "base_uri": "https://localhost:8080/"
        },
        "id": "4QuXsrnf97mp",
        "outputId": "f849c2ff-f2b6-4b04-9cd9-f247739bf575"
      },
      "source": [
        "probs = model.predict_proba('法', top_k=10, how='interpolation')\n",
        "probs"
      ],
      "execution_count": 157,
      "outputs": [
        {
          "output_type": "execute_result",
          "data": {
            "text/plain": [
              "[(0.051904146168121834, '國'),\n",
              " (0.04388616116650217, '律'),\n",
              " (0.029848241612163377, '院'),\n",
              " (0.020222220928179165, '語'),\n",
              " (0.011414997351123958, '蘭'),\n",
              " (0.010549762034510142, '系'),\n",
              " (0.00792383560501087, '定'),\n",
              " (0.007908712635409567, '制'),\n",
              " (0.007072068387587443, '學'),\n",
              " (0.007060356996987107, '西')]"
            ]
          },
          "metadata": {
            "tags": []
          },
          "execution_count": 157
        }
      ]
    },
    {
      "cell_type": "code",
      "metadata": {
        "colab": {
          "base_uri": "https://localhost:8080/"
        },
        "id": "nk-nOFJ5xkwD",
        "outputId": "b7e791d9-01b2-4de5-a9f6-851df8b79264"
      },
      "source": [
        "probs = model.predict_proba('法', top_k=10, how='backoff')\n",
        "probs"
      ],
      "execution_count": 158,
      "outputs": [
        {
          "output_type": "execute_result",
          "data": {
            "text/plain": [
              "[(0.05230496453900709, '國'),\n",
              " (0.044326241134751775, '律'),\n",
              " (0.030141843971631204, '院'),\n",
              " (0.020390070921985817, '語'),\n",
              " (0.01351799989816182, '的'),\n",
              " (0.01152482269503546, '蘭'),\n",
              " (0.010638297872340425, '系'),\n",
              " (0.007978723404255319, '定'),\n",
              " (0.007978723404255319, '制'),\n",
              " (0.0070921985815602835, '西')]"
            ]
          },
          "metadata": {
            "tags": []
          },
          "execution_count": 158
        }
      ]
    },
    {
      "cell_type": "markdown",
      "metadata": {
        "id": "Uc9PwoUEX75G"
      },
      "source": [
        "## Demo"
      ]
    },
    {
      "cell_type": "code",
      "metadata": {
        "colab": {
          "base_uri": "https://localhost:8080/",
          "height": 93,
          "referenced_widgets": [
            "39a708a9a38f4d7d8f6f5289c5546458",
            "b995402ffd104d8e88fd47729d119ce5",
            "19457cbf954d4aac8c7ce74faee789d4",
            "c5d82d84fb014bb4bca54cde019f8f58",
            "8dc275b45a204a94bed2490c088c6826",
            "eb320a56c8314921815f394c2d69feaf"
          ]
        },
        "id": "fCEakXnaX75H",
        "outputId": "b17ea991-bd46-4fd2-820a-f860caf6cd80"
      },
      "source": [
        "import ipywidgets as widgets\n",
        "\n",
        "text = widgets.Textarea()\n",
        "label = widgets.Label()\n",
        "display(label, text)\n",
        "\n",
        "def func(change):\n",
        "    probs = model.predict_proba(change.new, top_k=10)\n",
        "    label.value = ' ' + '\\t'.join([word for prob, word in probs])\n",
        "\n",
        "text.observe(func, names='value')"
      ],
      "execution_count": 159,
      "outputs": [
        {
          "output_type": "display_data",
          "data": {
            "application/vnd.jupyter.widget-view+json": {
              "model_id": "39a708a9a38f4d7d8f6f5289c5546458",
              "version_minor": 0,
              "version_major": 2
            },
            "text/plain": [
              "Label(value='')"
            ]
          },
          "metadata": {
            "tags": []
          }
        },
        {
          "output_type": "display_data",
          "data": {
            "application/vnd.jupyter.widget-view+json": {
              "model_id": "c5d82d84fb014bb4bca54cde019f8f58",
              "version_minor": 0,
              "version_major": 2
            },
            "text/plain": [
              "Textarea(value='')"
            ]
          },
          "metadata": {
            "tags": []
          }
        }
      ]
    },
    {
      "cell_type": "code",
      "metadata": {
        "id": "iciV1GCEX75H"
      },
      "source": [
        ""
      ],
      "execution_count": null,
      "outputs": []
    }
  ]
}