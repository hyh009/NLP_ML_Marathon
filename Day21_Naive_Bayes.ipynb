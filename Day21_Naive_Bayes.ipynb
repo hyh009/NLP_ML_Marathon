{
  "nbformat": 4,
  "nbformat_minor": 0,
  "metadata": {
    "colab": {
      "name": "Day_21Naive Bayes.ipynb",
      "provenance": []
    },
    "kernelspec": {
      "name": "python3",
      "display_name": "Python 3"
    },
    "language_info": {
      "name": "python"
    }
  },
  "cells": [
    {
      "cell_type": "markdown",
      "metadata": {
        "id": "j5VtlvAveymj"
      },
      "source": [
        "# 思考題： 為什麼特徵獨立的假設足以讓 Naive Bayes 被稱為 Naive?"
      ]
    },
    {
      "cell_type": "markdown",
      "metadata": {
        "id": "MTN_QsHQe0Hi"
      },
      "source": [
        "## 因為特徵獨立假設(每個特徵彼此間均無關聯性)在現實生活中幾乎不可能成立。<br>\n",
        "## 參考資料：[Naïve Bayes](https://www.sciencedirect.com/topics/mathematics/naive-bayes#:~:text=Naive%20Bayes%20is%20called%20naive,large%20range%20of%20complex%20problems.)"
      ]
    }
  ]
}