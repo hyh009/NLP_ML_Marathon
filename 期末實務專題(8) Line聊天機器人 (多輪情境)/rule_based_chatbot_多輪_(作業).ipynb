{
  "nbformat": 4,
  "nbformat_minor": 0,
  "metadata": {
    "kernelspec": {
      "display_name": "Python 3",
      "language": "python",
      "name": "python3"
    },
    "language_info": {
      "codemirror_mode": {
        "name": "ipython",
        "version": 3
      },
      "file_extension": ".py",
      "mimetype": "text/x-python",
      "name": "python",
      "nbconvert_exporter": "python",
      "pygments_lexer": "ipython3",
      "version": "3.6.7"
    },
    "colab": {
      "name": "rule-based chatbot_多輪 (作業).ipynb",
      "provenance": [],
      "collapsed_sections": []
    }
  },
  "cells": [
    {
      "cell_type": "code",
      "metadata": {
        "colab": {
          "base_uri": "https://localhost:8080/"
        },
        "id": "TE3NpE40D-GB",
        "outputId": "e5bfb732-38f3-4b22-e29e-41f56381e810"
      },
      "source": [
        "from google.colab import drive\n",
        "drive.mount('/content/drive')"
      ],
      "execution_count": 1,
      "outputs": [
        {
          "output_type": "stream",
          "text": [
            "Mounted at /content/drive\n"
          ],
          "name": "stdout"
        }
      ]
    },
    {
      "cell_type": "markdown",
      "metadata": {
        "id": "zJbDC8UIBeCd"
      },
      "source": [
        "# 2.Linebot設計"
      ]
    },
    {
      "cell_type": "code",
      "metadata": {
        "id": "WEgWlJJjTbVU"
      },
      "source": [
        "pip install flask-ngrok"
      ],
      "execution_count": null,
      "outputs": []
    },
    {
      "cell_type": "code",
      "metadata": {
        "id": "cR_24QqTJAYm"
      },
      "source": [
        "pip install line-bot-sdk"
      ],
      "execution_count": null,
      "outputs": []
    },
    {
      "cell_type": "code",
      "metadata": {
        "id": "IJRQbmaMBeCf"
      },
      "source": [
        "'''\n",
        "當query包含\"身高\"、\"體重\"、\"年齡\"、\"收入\"等隱私時，回覆以下貼圖\n",
        "'''"
      ],
      "execution_count": null,
      "outputs": []
    },
    {
      "cell_type": "code",
      "metadata": {
        "id": "y6ySPB43BeCh",
        "outputId": "9eccaec4-ba8c-477a-8e23-9f0663f3d1df"
      },
      "source": [
        "from IPython.display import Image \n",
        "Image(filename='play_dumb.PNG') "
      ],
      "execution_count": null,
      "outputs": [
        {
          "output_type": "execute_result",
          "data": {
            "image/png": "[encoded data removed]",
            "text/plain": [
              "<IPython.core.display.Image object>"
            ]
          },
          "metadata": {
            "tags": []
          },
          "execution_count": 8
        }
      ]
    },
    {
      "cell_type": "code",
      "metadata": {
        "id": "Zz0qf0SAJLRZ",
        "colab": {
          "base_uri": "https://localhost:8080/"
        },
        "outputId": "1054f28a-8a89-40e6-c490-5f704e39a8a8"
      },
      "source": [
        "from __future__ import unicode_literals\n",
        "import os, requests, json, configparser\n",
        "from flask import Flask, request, abort\n",
        "from linebot import LineBotApi, WebhookHandler\n",
        "from flask_ngrok import run_with_ngrok\n",
        "from linebot.exceptions import InvalidSignatureError\n",
        "from linebot.models import *\n",
        "\n",
        "\n",
        "app = Flask(__name__)\n",
        "\n",
        "# LINE 聊天機器人的基本資料\n",
        "config = configparser.ConfigParser()\n",
        "config.read('/content/drive/MyDrive/NLP/cupoy_config.ini')\n",
        "\n",
        "line_bot_api = LineBotApi(config.get('line-bot', 'channel_access_token'))\n",
        "handler = WebhookHandler(config.get('line-bot', 'channel_secret'))\n",
        "run_with_ngrok(app) # Start ngrok when app is run\n",
        "# 接收 LINE 資訊\n",
        "    \n",
        "@app.route(\"/callback\", methods=['POST'])\n",
        "def callback():\n",
        "    signature = request.headers['X-Line-Signature']\n",
        "    body = request.get_data(as_text=True)\n",
        "    app.logger.info(\"Request body: \" + body)\n",
        "\n",
        "    try:\n",
        "        print(\"body:\",body)\n",
        "        print(\"signature:\", signature)\n",
        "        print(\"===\")\n",
        "        handler.handle(body, signature)\n",
        "    except InvalidSignatureError:\n",
        "        abort(400)\n",
        "    return 'OK'\n",
        "\n",
        "# 回覆設定 (defaul僅能回固定語句)\n",
        "@handler.add(MessageEvent, message=TextMessage)\n",
        "def handle_text_message(event):\n",
        "    query = event.message.text\n",
        "    NG_words = [\"身高\",\"體重\",\"年齡\",\"收入\"]\n",
        "\n",
        "    StickerMessage = StickerSendMessage(package_id=\"11537\", sticker_id=\"52002744\")\n",
        "    if any([word in query for word in NG_words]):\n",
        "        line_bot_api.reply_message(event.reply_token, StickerMessage)\n",
        "    else:   \n",
        "        line_bot_api.reply_message(event.reply_token, TextSendMessage(text=\"不論你說什麼 我都回你好!\"))\n",
        "\n",
        "if __name__ == '__main__':\n",
        "    app.run()\n",
        " \n"
      ],
      "execution_count": null,
      "outputs": [
        {
          "output_type": "stream",
          "text": [
            " * Serving Flask app \"__main__\" (lazy loading)\n",
            " * Environment: production\n",
            "\u001b[31m   WARNING: This is a development server. Do not use it in a production deployment.\u001b[0m\n",
            "\u001b[2m   Use a production WSGI server instead.\u001b[0m\n",
            " * Debug mode: off\n"
          ],
          "name": "stdout"
        },
        {
          "output_type": "stream",
          "text": [
            " * Running on http://127.0.0.1:5000/ (Press CTRL+C to quit)\n"
          ],
          "name": "stderr"
        },
        {
          "output_type": "stream",
          "text": [
            " * Running on http://918c0f111e6a.ngrok.io\n",
            " * Traffic stats available on http://127.0.0.1:4040\n"
          ],
          "name": "stdout"
        },
        {
          "output_type": "stream",
          "text": [
            "127.0.0.1 - - [09/May/2021 16:09:23] \"\u001b[37mPOST /callback HTTP/1.1\u001b[0m\" 200 -\n"
          ],
          "name": "stderr"
        },
        {
          "output_type": "stream",
          "text": [
            "body: {\"destination\":\"Ued67220c7a37c0abe215365e4786381a\",\"events\":[]}\n",
            "signature: pei5oGwahjp79pKPRVHOEza4csK0r4ce6mciXE+TaAA=\n",
            "===\n",
            "body: {\"destination\":\"Ued67220c7a37c0abe215365e4786381a\",\"events\":[{\"type\":\"message\",\"message\":{\"type\":\"text\",\"id\":\"14023494003795\",\"text\":\"你的身高\"},\"timestamp\":1620576580465,\"source\":{\"type\":\"user\",\"userId\":\"Ub5065eefc75aa39c0cf2b5080c43f237\"},\"replyToken\":\"1498124568b240e3a6434bdc602ff375\",\"mode\":\"active\"}]}\n",
            "signature: e07luW5jW3uPr6ulzKvFhGep+NUSCQEi0glnxy1ttfI=\n",
            "===\n"
          ],
          "name": "stdout"
        },
        {
          "output_type": "stream",
          "text": [
            "127.0.0.1 - - [09/May/2021 16:09:42] \"\u001b[37mPOST /callback HTTP/1.1\u001b[0m\" 200 -\n"
          ],
          "name": "stderr"
        }
      ]
    },
    {
      "cell_type": "markdown",
      "metadata": {
        "id": "Tnl1BwbeBeCi"
      },
      "source": [
        "## 3.以Python實現多輪對話<br>\n",
        "pip install yfinance"
      ]
    },
    {
      "cell_type": "code",
      "metadata": {
        "id": "InQR7OABJZ1A"
      },
      "source": [
        "pip install yfinance"
      ],
      "execution_count": null,
      "outputs": []
    },
    {
      "cell_type": "code",
      "metadata": {
        "id": "QDVn4A9NTrQe"
      },
      "source": [
        "#抓取儲存股票名稱\n",
        "def get_stock_name():\n",
        "    # current date and time\n",
        "    company2symbol = {}\n",
        "    now = datetime.now()\n",
        "    timestamp = datetime.timestamp(now)\n",
        "    filters = ['0'+str(i) for i in range(1,10)]\n",
        "    filters.extend([str(i) for i in range(10,32)])\n",
        "\n",
        "    for filter in filters:\n",
        "\n",
        "        url = 'https://www.twse.com.tw/zh/api/codeFilters?'\n",
        "        headers = {\n",
        "            'User-Agent': 'Mozilla/5.0 (Linux; Android 6.0; Nexus 5 Build/MRA58N) AppleWebKit/537.36 (KHTML, like Gecko) Chrome/90.0.4430.93 Mobile Safari/537.36',\n",
        "            'Referer': 'https://www.twse.com.tw/zh/page/trading/exchange/STOCK_DAY.html'\n",
        "        }\n",
        "        params = {\n",
        "            'filter': str(filter),\n",
        "            '_': timestamp\n",
        "        }\n",
        "        res = requests.get(url,headers=headers,params=params)\n",
        "        jdatas = json.loads(res.text)['resualt']\n",
        "        for data in jdatas:\n",
        "            symbol = data.split('\\t')[0]\n",
        "            company = data.split('\\t')[1]\n",
        "            company2symbol[company] = symbol\n",
        "       \n",
        "        time.sleep(1)\n",
        "        \n",
        "    return company2symbol\n",
        "\n",
        "def save_company2symbol(company2symbol):\n",
        "    df_symbol = pd.DataFrame.from_dict(company2symbol,orient='index')\n",
        "    df_symbol.columns = ['symbol']\n",
        "    df_symbol.to_csv('/content/drive/MyDrive/NLP/symbol.csv')\n",
        "    return df_symbol\n",
        "\n",
        "#抓取股票資料\n",
        "def get_stock_price(df_symbol,query,start,end):   \n",
        "    symbol = df_symbol.loc[query].symbol+'.TW'\n",
        "    data = yf.download(symbol, start=start, end=end)\n",
        "    return data\n",
        "\n",
        "#只取收盤價\n",
        "def get_selected_info(data,columns,query,symbol_name):\n",
        "    message=f'{symbol_name} \\n'\n",
        "    for idx, row in data.iterrows():\n",
        "        message += f'*{idx.date()}的{query}為{row[columns[query]]} \\n'\n",
        "    return message\n",
        "\n",
        "#company2symbol = get_stock_name()\n",
        "#df_symbol = save_company2symbol(company2symbol)"
      ],
      "execution_count": 8,
      "outputs": []
    },
    {
      "cell_type": "code",
      "metadata": {
        "id": "bOdGfh3IBeCj"
      },
      "source": [
        "'''\n",
        "於多輪對話情境中加入\"取得股價資訊的功能\"，query為公司簡稱時(ex.鴻海)，即輸出2020/12/1 ~12/10之股價資訊\n",
        "'''"
      ],
      "execution_count": null,
      "outputs": []
    },
    {
      "cell_type": "code",
      "metadata": {
        "colab": {
          "base_uri": "https://localhost:8080/"
        },
        "id": "dKZ2icwDC4zr",
        "outputId": "39befd34-bf29-42e9-fa4f-54be54a5ce1f"
      },
      "source": [
        "from __future__ import unicode_literals\n",
        "from datetime import datetime, timedelta\n",
        "import pandas as pd\n",
        "import os, requests, json, configparser\n",
        "from flask import Flask, request, abort\n",
        "from linebot import LineBotApi, WebhookHandler\n",
        "from linebot.exceptions import InvalidSignatureError\n",
        "from linebot.models import *\n",
        "from flask_ngrok import run_with_ngrok\n",
        "import time\n",
        "import yfinance as yf\n",
        "import re\n",
        "import stock_utils2\n",
        "import thsr_utils as Thsr\n",
        "thsr = Thsr.ThsrModule()\n",
        "\n",
        "\n",
        "chat_record = []\n",
        "symbol_res = {\"starting\":\"\", \"ending\":\"\", \"symbol\":\"\", \"column\":\"\"}\n",
        "columns = {'開盤價':'Open','高點':'High','低點':'Low','收盤價':'Close','成交量':'Volume'}\n",
        "\n",
        "thsr_res = {\"starting\":\"\", \"ending\":\"\", \"date\":\"\", \"ampm\":\"\"}\n",
        "station_names = Thsr.station_name\n",
        "date_keys = Thsr.date_key\n",
        "ampm_keys = Thsr.ampm_key\n",
        "\n",
        "symbol_name_list_path = '/content/drive/MyDrive/NLP/symbol.csv'\n",
        "# 先確認是否有股票名稱資訊 有→讀取、沒有→下載\n",
        "try:\n",
        "    df_symbol = pd.read_csv(symbol_name_list_path,index_col=0)\n",
        "\n",
        "except FileNotFoundError:\n",
        "    company2symbol = stock_utils2.get_stock_name()\n",
        "    df_symbol = stock_utils2.save_company2symbol(company2symbol,symbol_name_list_path)\n",
        "    print('stock_name_data downloaded')\n",
        "\n",
        "app = Flask(__name__)\n",
        "run_with_ngrok(app) # Start ngrok when app is run\n",
        "\n",
        "# LINE 聊天機器人的基本資料\n",
        "config = configparser.ConfigParser()\n",
        "config.read('/content/drive/MyDrive/NLP/cupoy_config.ini')\n",
        "\n",
        "line_bot_api = LineBotApi(config.get('line-bot', 'channel_access_token'))\n",
        "handler = WebhookHandler(config.get('line-bot', 'channel_secret'))\n",
        "\n",
        "# 接收 LINE 資訊\n",
        "@app.route(\"/callback\", methods=['POST'])\n",
        "def callback():\n",
        "    signature = request.headers['X-Line-Signature']\n",
        "    body = request.get_data(as_text=True)\n",
        "    app.logger.info(\"Request body: \" + body)\n",
        "\n",
        "    try:\n",
        "        print(\"body:\",body)\n",
        "        print(\"signature:\", signature)\n",
        "        print(\"===\")\n",
        "        handler.handle(body, signature)\n",
        "    except InvalidSignatureError:\n",
        "        abort(400)\n",
        "    return 'OK'\n",
        "\n",
        "# 回覆設定 (加入高鐵和股價API多輪對話)\n",
        "@handler.add(MessageEvent, message=TextMessage)\n",
        "def get_response(event):\n",
        "    query = event.message.text       \n",
        "    \n",
        "    if len(chat_record) < 5:\n",
        "        chat_record.append(query)\n",
        "    else:\n",
        "        chat_record.pop(0)\n",
        "        chat_record.append(query)\n",
        "    print(\"chat_record:\",chat_record)\n",
        "\n",
        "\n",
        "    # 判斷是否為\"股價查詢意圖\"\n",
        "    if query == '股票':\n",
        "        line_bot_api.reply_message(event.reply_token, TextSendMessage(text=\"請輸入公司簡稱\"))\n",
        "    \n",
        "    # 判斷是否為\"高鐵查詢意圖\"    \n",
        "    elif query == '高鐵':\n",
        "        line_bot_api.reply_message(event.reply_token, TextSendMessage(text=\"哪一天出發?\"))           \n",
        "\n",
        "    try:\n",
        "        #股票相關訊息處理\n",
        "        if chat_record[-2] == '股票' and chat_record[-1] in list(df_symbol.index):\n",
        "            symbol_res[\"symbol\"] = chat_record[-1]\n",
        "            line_bot_api.reply_message(event.reply_token, TextSendMessage(text=\"請輸入想查詢區間(格式→單日:2021-01-04，多日:2021-01-04~2020-01-06\"))\n",
        "\n",
        "\n",
        "        elif chat_record[-2] in list(df_symbol.index) and len(re.findall('[0-9]{4}-[0-9]{2}-[0-9]{2}',chat_record[-1]))!=[]:\n",
        "            dates = re.findall('[0-9]{4}-[0-9]{2}-[0-9]{2}',chat_record[-1])\n",
        "            if len(dates) == 1:\n",
        "                symbol_res[\"starting\"] = dates[0]\n",
        "                ending = datetime.strptime(dates[0], '%Y-%m-%d').date()+timedelta(days=1)\n",
        "                symbol_res[\"ending\"] = str(ending)\n",
        "\n",
        "            elif len(dates)== 2:\n",
        "                symbol_res[\"starting\"] = dates[0]\n",
        "                symbol_res[\"ending\"] = dates[1]\n",
        "            \n",
        "            else: #len(dates)>2\n",
        "                chat_record.pop(-1)\n",
        "                line_bot_api.reply_message(event.reply_token, TextSendMessage(text=\"日期格式錯誤，請重新輸入\"))\n",
        "\n",
        "            #成功獲取日期訊息後先確認是否有資料    \n",
        "            data = stock_utils2.get_stock_price(df_symbol,symbol_res[\"symbol\"],symbol_res[\"starting\"],symbol_res[\"ending\"])\n",
        "            if data.empty == False:\n",
        "                line_bot_api.reply_message(event.reply_token, TextSendMessage(text=\"想查詢什麼資訊呢?(請輸入:收盤價、開盤價、高點、低點、成交量)\"))\n",
        "            else:\n",
        "                chat_record.pop(-1)\n",
        "                line_bot_api.reply_message(event.reply_token, TextSendMessage(text='抱歉 沒有此股票or區間資訊，請重新輸入日期 或 重新輸入\"股票\"查詢'))\n",
        "\n",
        "        \n",
        "        elif len(re.findall('[0-9]{4}-[0-9]{2}-[0-9]{2}',chat_record[-2]))!=[] and any(chat_record[-1] == i for i in columns):\n",
        "            symbol_res['column'] = chat_record[-1]\n",
        "            data = stock_utils2.get_stock_price(df_symbol,symbol_res[\"symbol\"],symbol_res[\"starting\"],symbol_res[\"ending\"])\n",
        "            message = stock_utils2.get_selected_info(data,columns,symbol_res['column'],symbol_res['symbol'])\n",
        "            print(\"***\",message)\n",
        "\n",
        "            line_bot_api.reply_message(event.reply_token, TextSendMessage(text=message))\n",
        "\n",
        "        #高鐵相關訊息處理\n",
        "        elif chat_record[-2] == \"高鐵\" and any(chat_record[-1] == i for i in date_keys):\n",
        "            date_format = thsr.get_date_string_today(chat_record[-1])\n",
        "            thsr_res['date'] = date_format\n",
        "            line_bot_api.reply_message(event.reply_token, TextSendMessage(text=\"上午還是下午的車?\"))\n",
        "\n",
        "        elif any(chat_record[-2] == i for i in date_keys) and any(chat_record[-1] == i for i in ampm_keys):\n",
        "            thsr_res['ampm'] = chat_record[-1]\n",
        "            line_bot_api.reply_message(event.reply_token, TextSendMessage(text=\"起站是哪裡呢?\"))\n",
        "\n",
        "        elif any(chat_record[-2] == i for i in ampm_keys) and any(chat_record[-1] == i for i in station_names):\n",
        "            startind_id = Thsr.station_id[chat_record[-1]]\n",
        "            thsr_res['starting'] = startind_id\n",
        "            line_bot_api.reply_message(event.reply_token, TextSendMessage(text=\"終點站是哪裡呢?\"))\n",
        "\n",
        "        elif any(chat_record[-2] == i for i in station_names) and any(chat_record[-1] == i for i in station_names):\n",
        "            ending_id = Thsr.station_id[chat_record[-1]]\n",
        "            thsr_res['ending'] = ending_id\n",
        "\n",
        "            print(\"***\",thsr_res['starting'],thsr_res['ending'],thsr_res['date'],thsr_res['ampm'])\n",
        "            text = thsr.get_runs(thsr_res['starting'],thsr_res['ending'],thsr_res['date'],thsr_res['ampm'])\n",
        "            line_bot_api.reply_message(event.reply_token, TextSendMessage(text=text))\n",
        "\n",
        "    except IndexError:\n",
        "        pass\n",
        "    \n",
        "         \n",
        "    line_bot_api.reply_message(event.reply_token, TextSendMessage(text=\"不論你說什麼 我都回你好!\"))\n",
        "\n",
        "if __name__ == \"__main__\":\n",
        "    app.run()"
      ],
      "execution_count": 7,
      "outputs": [
        {
          "output_type": "stream",
          "text": [
            " * Serving Flask app \"__main__\" (lazy loading)\n",
            " * Environment: production\n",
            "\u001b[31m   WARNING: This is a development server. Do not use it in a production deployment.\u001b[0m\n",
            "\u001b[2m   Use a production WSGI server instead.\u001b[0m\n",
            " * Debug mode: off\n"
          ],
          "name": "stdout"
        },
        {
          "output_type": "stream",
          "text": [
            " * Running on http://127.0.0.1:5000/ (Press CTRL+C to quit)\n"
          ],
          "name": "stderr"
        },
        {
          "output_type": "stream",
          "text": [
            " * Running on http://a76da21705c8.ngrok.io\n",
            " * Traffic stats available on http://127.0.0.1:4040\n"
          ],
          "name": "stdout"
        },
        {
          "output_type": "stream",
          "text": [
            "127.0.0.1 - - [10/May/2021 12:34:37] \"\u001b[37mPOST /callback HTTP/1.1\u001b[0m\" 200 -\n"
          ],
          "name": "stderr"
        },
        {
          "output_type": "stream",
          "text": [
            "body: {\"destination\":\"Ued67220c7a37c0abe215365e4786381a\",\"events\":[]}\n",
            "signature: pei5oGwahjp79pKPRVHOEza4csK0r4ce6mciXE+TaAA=\n",
            "===\n",
            "body: {\"destination\":\"Ued67220c7a37c0abe215365e4786381a\",\"events\":[{\"type\":\"message\",\"message\":{\"type\":\"text\",\"id\":\"14027985388175\",\"text\":\"股票\"},\"timestamp\":1620650088100,\"source\":{\"type\":\"user\",\"userId\":\"Ub5065eefc75aa39c0cf2b5080c43f237\"},\"replyToken\":\"dd41f0fdf02c45e490754109df33acc4\",\"mode\":\"active\"}]}\n",
            "signature: Uwt3jpKbnOpy7L2QeFX4BxoMZvYYSf+EvgNrl6KHoEA=\n",
            "===\n",
            "chat_record: ['股票']\n"
          ],
          "name": "stdout"
        },
        {
          "output_type": "stream",
          "text": [
            "[2021-05-10 12:34:49,650] ERROR in app: Exception on /callback [POST]\n",
            "Traceback (most recent call last):\n",
            "  File \"/usr/local/lib/python3.7/dist-packages/flask/app.py\", line 2447, in wsgi_app\n",
            "    response = self.full_dispatch_request()\n",
            "  File \"/usr/local/lib/python3.7/dist-packages/flask/app.py\", line 1952, in full_dispatch_request\n",
            "    rv = self.handle_user_exception(e)\n",
            "  File \"/usr/local/lib/python3.7/dist-packages/flask/app.py\", line 1821, in handle_user_exception\n",
            "    reraise(exc_type, exc_value, tb)\n",
            "  File \"/usr/local/lib/python3.7/dist-packages/flask/_compat.py\", line 39, in reraise\n",
            "    raise value\n",
            "  File \"/usr/local/lib/python3.7/dist-packages/flask/app.py\", line 1950, in full_dispatch_request\n",
            "    rv = self.dispatch_request()\n",
            "  File \"/usr/local/lib/python3.7/dist-packages/flask/app.py\", line 1936, in dispatch_request\n",
            "    return self.view_functions[rule.endpoint](**req.view_args)\n",
            "  File \"<ipython-input-7-7ad5d0979554>\", line 57, in callback\n",
            "    handler.handle(body, signature)\n",
            "  File \"/usr/local/lib/python3.7/dist-packages/linebot/webhook.py\", line 260, in handle\n",
            "    self.__invoke_func(func, event, payload)\n",
            "  File \"/usr/local/lib/python3.7/dist-packages/linebot/webhook.py\", line 272, in __invoke_func\n",
            "    func(event)\n",
            "  File \"<ipython-input-7-7ad5d0979554>\", line 150, in get_response\n",
            "    line_bot_api.reply_message(event.reply_token, TextSendMessage(text=\"不論你說什麼 我都回你好!\"))\n",
            "  File \"/usr/local/lib/python3.7/dist-packages/linebot/api.py\", line 109, in reply_message\n",
            "    '/v2/bot/message/reply', data=json.dumps(data), timeout=timeout\n",
            "  File \"/usr/local/lib/python3.7/dist-packages/linebot/api.py\", line 1269, in _post\n",
            "    self.__check_error(response)\n",
            "  File \"/usr/local/lib/python3.7/dist-packages/linebot/api.py\", line 1310, in __check_error\n",
            "    error=Error.new_from_json_dict(response.json)\n",
            "linebot.exceptions.LineBotApiError: LineBotApiError: status_code=400, request_id=75cd31b6-7410-4234-9317-f67fa394c27e, error_response={\"details\": [], \"message\": \"Invalid reply token\"}, headers={'Server': 'openresty', 'Content-Type': 'application/json', 'x-line-request-id': '75cd31b6-7410-4234-9317-f67fa394c27e', 'x-content-type-options': 'nosniff', 'x-xss-protection': '1; mode=block', 'x-frame-options': 'DENY', 'Content-Length': '33', 'Expires': 'Mon, 10 May 2021 12:34:49 GMT', 'Cache-Control': 'max-age=0, no-cache, no-store', 'Pragma': 'no-cache', 'Date': 'Mon, 10 May 2021 12:34:49 GMT', 'Connection': 'close'}\n",
            "127.0.0.1 - - [10/May/2021 12:34:49] \"\u001b[35m\u001b[1mPOST /callback HTTP/1.1\u001b[0m\" 500 -\n"
          ],
          "name": "stderr"
        },
        {
          "output_type": "stream",
          "text": [
            "body: {\"destination\":\"Ued67220c7a37c0abe215365e4786381a\",\"events\":[{\"type\":\"message\",\"message\":{\"type\":\"text\",\"id\":\"14027985951101\",\"text\":\"台泥\"},\"timestamp\":1620650094442,\"source\":{\"type\":\"user\",\"userId\":\"Ub5065eefc75aa39c0cf2b5080c43f237\"},\"replyToken\":\"dc0df7ca58f14a1abc2d08839da82389\",\"mode\":\"active\"}]}\n",
            "signature: Y1z8/CmLwiQj+gLytMwlKSUUv8LxkbVdY8ClSyvppUA=\n",
            "===\n",
            "chat_record: ['股票', '台泥']\n"
          ],
          "name": "stdout"
        },
        {
          "output_type": "stream",
          "text": [
            "[2021-05-10 12:34:55,914] ERROR in app: Exception on /callback [POST]\n",
            "Traceback (most recent call last):\n",
            "  File \"/usr/local/lib/python3.7/dist-packages/flask/app.py\", line 2447, in wsgi_app\n",
            "    response = self.full_dispatch_request()\n",
            "  File \"/usr/local/lib/python3.7/dist-packages/flask/app.py\", line 1952, in full_dispatch_request\n",
            "    rv = self.handle_user_exception(e)\n",
            "  File \"/usr/local/lib/python3.7/dist-packages/flask/app.py\", line 1821, in handle_user_exception\n",
            "    reraise(exc_type, exc_value, tb)\n",
            "  File \"/usr/local/lib/python3.7/dist-packages/flask/_compat.py\", line 39, in reraise\n",
            "    raise value\n",
            "  File \"/usr/local/lib/python3.7/dist-packages/flask/app.py\", line 1950, in full_dispatch_request\n",
            "    rv = self.dispatch_request()\n",
            "  File \"/usr/local/lib/python3.7/dist-packages/flask/app.py\", line 1936, in dispatch_request\n",
            "    return self.view_functions[rule.endpoint](**req.view_args)\n",
            "  File \"<ipython-input-7-7ad5d0979554>\", line 57, in callback\n",
            "    handler.handle(body, signature)\n",
            "  File \"/usr/local/lib/python3.7/dist-packages/linebot/webhook.py\", line 260, in handle\n",
            "    self.__invoke_func(func, event, payload)\n",
            "  File \"/usr/local/lib/python3.7/dist-packages/linebot/webhook.py\", line 272, in __invoke_func\n",
            "    func(event)\n",
            "  File \"<ipython-input-7-7ad5d0979554>\", line 150, in get_response\n",
            "    line_bot_api.reply_message(event.reply_token, TextSendMessage(text=\"不論你說什麼 我都回你好!\"))\n",
            "  File \"/usr/local/lib/python3.7/dist-packages/linebot/api.py\", line 109, in reply_message\n",
            "    '/v2/bot/message/reply', data=json.dumps(data), timeout=timeout\n",
            "  File \"/usr/local/lib/python3.7/dist-packages/linebot/api.py\", line 1269, in _post\n",
            "    self.__check_error(response)\n",
            "  File \"/usr/local/lib/python3.7/dist-packages/linebot/api.py\", line 1310, in __check_error\n",
            "    error=Error.new_from_json_dict(response.json)\n",
            "linebot.exceptions.LineBotApiError: LineBotApiError: status_code=400, request_id=7c49033c-d021-4f75-b174-8c16ea2d7a33, error_response={\"details\": [], \"message\": \"Invalid reply token\"}, headers={'Server': 'openresty', 'Content-Type': 'application/json', 'x-line-request-id': '7c49033c-d021-4f75-b174-8c16ea2d7a33', 'x-content-type-options': 'nosniff', 'x-xss-protection': '1; mode=block', 'x-frame-options': 'DENY', 'Content-Length': '33', 'Expires': 'Mon, 10 May 2021 12:34:55 GMT', 'Cache-Control': 'max-age=0, no-cache, no-store', 'Pragma': 'no-cache', 'Date': 'Mon, 10 May 2021 12:34:55 GMT', 'Connection': 'close'}\n",
            "127.0.0.1 - - [10/May/2021 12:34:55] \"\u001b[35m\u001b[1mPOST /callback HTTP/1.1\u001b[0m\" 500 -\n"
          ],
          "name": "stderr"
        },
        {
          "output_type": "stream",
          "text": [
            "body: {\"destination\":\"Ued67220c7a37c0abe215365e4786381a\",\"events\":[{\"type\":\"message\",\"message\":{\"type\":\"text\",\"id\":\"14027990723461\",\"text\":\"2021-05-05…2021-05-10\"},\"timestamp\":1620650148463,\"source\":{\"type\":\"user\",\"userId\":\"Ub5065eefc75aa39c0cf2b5080c43f237\"},\"replyToken\":\"82e5a9f3b76a4ba4a1703b310f2d46e4\",\"mode\":\"active\"}]}\n",
            "signature: wy3YBSY2ApxWnuj0nE4Qvwh/cvfbK1IMgvHtDbmY0JU=\n",
            "===\n",
            "chat_record: ['股票', '台泥', '2021-05-05…2021-05-10']\n",
            "\r[*********************100%***********************]  1 of 1 completed\n"
          ],
          "name": "stdout"
        },
        {
          "output_type": "stream",
          "text": [
            "[2021-05-10 12:35:50,191] ERROR in app: Exception on /callback [POST]\n",
            "Traceback (most recent call last):\n",
            "  File \"/usr/local/lib/python3.7/dist-packages/flask/app.py\", line 2447, in wsgi_app\n",
            "    response = self.full_dispatch_request()\n",
            "  File \"/usr/local/lib/python3.7/dist-packages/flask/app.py\", line 1952, in full_dispatch_request\n",
            "    rv = self.handle_user_exception(e)\n",
            "  File \"/usr/local/lib/python3.7/dist-packages/flask/app.py\", line 1821, in handle_user_exception\n",
            "    reraise(exc_type, exc_value, tb)\n",
            "  File \"/usr/local/lib/python3.7/dist-packages/flask/_compat.py\", line 39, in reraise\n",
            "    raise value\n",
            "  File \"/usr/local/lib/python3.7/dist-packages/flask/app.py\", line 1950, in full_dispatch_request\n",
            "    rv = self.dispatch_request()\n",
            "  File \"/usr/local/lib/python3.7/dist-packages/flask/app.py\", line 1936, in dispatch_request\n",
            "    return self.view_functions[rule.endpoint](**req.view_args)\n",
            "  File \"<ipython-input-7-7ad5d0979554>\", line 57, in callback\n",
            "    handler.handle(body, signature)\n",
            "  File \"/usr/local/lib/python3.7/dist-packages/linebot/webhook.py\", line 260, in handle\n",
            "    self.__invoke_func(func, event, payload)\n",
            "  File \"/usr/local/lib/python3.7/dist-packages/linebot/webhook.py\", line 272, in __invoke_func\n",
            "    func(event)\n",
            "  File \"<ipython-input-7-7ad5d0979554>\", line 150, in get_response\n",
            "    line_bot_api.reply_message(event.reply_token, TextSendMessage(text=\"不論你說什麼 我都回你好!\"))\n",
            "  File \"/usr/local/lib/python3.7/dist-packages/linebot/api.py\", line 109, in reply_message\n",
            "    '/v2/bot/message/reply', data=json.dumps(data), timeout=timeout\n",
            "  File \"/usr/local/lib/python3.7/dist-packages/linebot/api.py\", line 1269, in _post\n",
            "    self.__check_error(response)\n",
            "  File \"/usr/local/lib/python3.7/dist-packages/linebot/api.py\", line 1310, in __check_error\n",
            "    error=Error.new_from_json_dict(response.json)\n",
            "linebot.exceptions.LineBotApiError: LineBotApiError: status_code=400, request_id=f6f7f06f-bca7-40d7-bd6f-961ad5ce638b, error_response={\"details\": [], \"message\": \"Invalid reply token\"}, headers={'Server': 'openresty', 'Content-Type': 'application/json', 'x-line-request-id': 'f6f7f06f-bca7-40d7-bd6f-961ad5ce638b', 'x-content-type-options': 'nosniff', 'x-xss-protection': '1; mode=block', 'x-frame-options': 'DENY', 'Content-Length': '33', 'Expires': 'Mon, 10 May 2021 12:35:50 GMT', 'Cache-Control': 'max-age=0, no-cache, no-store', 'Pragma': 'no-cache', 'Date': 'Mon, 10 May 2021 12:35:50 GMT', 'Connection': 'close'}\n",
            "127.0.0.1 - - [10/May/2021 12:35:50] \"\u001b[35m\u001b[1mPOST /callback HTTP/1.1\u001b[0m\" 500 -\n"
          ],
          "name": "stderr"
        },
        {
          "output_type": "stream",
          "text": [
            "body: {\"destination\":\"Ued67220c7a37c0abe215365e4786381a\",\"events\":[{\"type\":\"message\",\"message\":{\"type\":\"text\",\"id\":\"14027991520564\",\"text\":\"收盤價\"},\"timestamp\":1620650157445,\"source\":{\"type\":\"user\",\"userId\":\"Ub5065eefc75aa39c0cf2b5080c43f237\"},\"replyToken\":\"2c529d0acc81446b8bccd15ca3d9678a\",\"mode\":\"active\"}]}\n",
            "signature: tYCPYbKov7XYXsxrNWzz3kHxjIxU2KJ+lRbbRceIvu4=\n",
            "===\n",
            "chat_record: ['股票', '台泥', '2021-05-05…2021-05-10', '收盤價']\n",
            "\r[*********************100%***********************]  1 of 1 completed\n",
            "*** 台泥 收盤價 \n",
            "*2021-05-05    50.79999923706055 \n",
            "*2021-05-06    53.0 \n",
            "*2021-05-07    52.29999923706055 \n",
            "\n"
          ],
          "name": "stdout"
        },
        {
          "output_type": "stream",
          "text": [
            "[2021-05-10 12:35:58,751] ERROR in app: Exception on /callback [POST]\n",
            "Traceback (most recent call last):\n",
            "  File \"/usr/local/lib/python3.7/dist-packages/flask/app.py\", line 2447, in wsgi_app\n",
            "    response = self.full_dispatch_request()\n",
            "  File \"/usr/local/lib/python3.7/dist-packages/flask/app.py\", line 1952, in full_dispatch_request\n",
            "    rv = self.handle_user_exception(e)\n",
            "  File \"/usr/local/lib/python3.7/dist-packages/flask/app.py\", line 1821, in handle_user_exception\n",
            "    reraise(exc_type, exc_value, tb)\n",
            "  File \"/usr/local/lib/python3.7/dist-packages/flask/_compat.py\", line 39, in reraise\n",
            "    raise value\n",
            "  File \"/usr/local/lib/python3.7/dist-packages/flask/app.py\", line 1950, in full_dispatch_request\n",
            "    rv = self.dispatch_request()\n",
            "  File \"/usr/local/lib/python3.7/dist-packages/flask/app.py\", line 1936, in dispatch_request\n",
            "    return self.view_functions[rule.endpoint](**req.view_args)\n",
            "  File \"<ipython-input-7-7ad5d0979554>\", line 57, in callback\n",
            "    handler.handle(body, signature)\n",
            "  File \"/usr/local/lib/python3.7/dist-packages/linebot/webhook.py\", line 260, in handle\n",
            "    self.__invoke_func(func, event, payload)\n",
            "  File \"/usr/local/lib/python3.7/dist-packages/linebot/webhook.py\", line 272, in __invoke_func\n",
            "    func(event)\n",
            "  File \"<ipython-input-7-7ad5d0979554>\", line 150, in get_response\n",
            "    line_bot_api.reply_message(event.reply_token, TextSendMessage(text=\"不論你說什麼 我都回你好!\"))\n",
            "  File \"/usr/local/lib/python3.7/dist-packages/linebot/api.py\", line 109, in reply_message\n",
            "    '/v2/bot/message/reply', data=json.dumps(data), timeout=timeout\n",
            "  File \"/usr/local/lib/python3.7/dist-packages/linebot/api.py\", line 1269, in _post\n",
            "    self.__check_error(response)\n",
            "  File \"/usr/local/lib/python3.7/dist-packages/linebot/api.py\", line 1310, in __check_error\n",
            "    error=Error.new_from_json_dict(response.json)\n",
            "linebot.exceptions.LineBotApiError: LineBotApiError: status_code=400, request_id=72bc52d5-b328-4a2e-9d65-63c9996dc59a, error_response={\"details\": [], \"message\": \"Invalid reply token\"}, headers={'Server': 'openresty', 'Content-Type': 'application/json', 'x-line-request-id': '72bc52d5-b328-4a2e-9d65-63c9996dc59a', 'x-content-type-options': 'nosniff', 'x-xss-protection': '1; mode=block', 'x-frame-options': 'DENY', 'Content-Length': '33', 'Expires': 'Mon, 10 May 2021 12:35:58 GMT', 'Cache-Control': 'max-age=0, no-cache, no-store', 'Pragma': 'no-cache', 'Date': 'Mon, 10 May 2021 12:35:58 GMT', 'Connection': 'close'}\n",
            "127.0.0.1 - - [10/May/2021 12:35:58] \"\u001b[35m\u001b[1mPOST /callback HTTP/1.1\u001b[0m\" 500 -\n"
          ],
          "name": "stderr"
        },
        {
          "output_type": "stream",
          "text": [
            "body: {\"destination\":\"Ued67220c7a37c0abe215365e4786381a\",\"events\":[{\"type\":\"message\",\"message\":{\"type\":\"text\",\"id\":\"14027994014764\",\"text\":\"高鐵\"},\"timestamp\":1620650185708,\"source\":{\"type\":\"user\",\"userId\":\"Ub5065eefc75aa39c0cf2b5080c43f237\"},\"replyToken\":\"53df7c2cef61458b8d14105edfe01d26\",\"mode\":\"active\"}]}\n",
            "signature: zufEa9Y1RvC+DEUznDNTTPw3IU6HxcRLb9BqhELPLhg=\n",
            "===\n",
            "chat_record: ['股票', '台泥', '2021-05-05…2021-05-10', '收盤價', '高鐵']\n"
          ],
          "name": "stdout"
        },
        {
          "output_type": "stream",
          "text": [
            "[2021-05-10 12:36:27,216] ERROR in app: Exception on /callback [POST]\n",
            "Traceback (most recent call last):\n",
            "  File \"/usr/local/lib/python3.7/dist-packages/flask/app.py\", line 2447, in wsgi_app\n",
            "    response = self.full_dispatch_request()\n",
            "  File \"/usr/local/lib/python3.7/dist-packages/flask/app.py\", line 1952, in full_dispatch_request\n",
            "    rv = self.handle_user_exception(e)\n",
            "  File \"/usr/local/lib/python3.7/dist-packages/flask/app.py\", line 1821, in handle_user_exception\n",
            "    reraise(exc_type, exc_value, tb)\n",
            "  File \"/usr/local/lib/python3.7/dist-packages/flask/_compat.py\", line 39, in reraise\n",
            "    raise value\n",
            "  File \"/usr/local/lib/python3.7/dist-packages/flask/app.py\", line 1950, in full_dispatch_request\n",
            "    rv = self.dispatch_request()\n",
            "  File \"/usr/local/lib/python3.7/dist-packages/flask/app.py\", line 1936, in dispatch_request\n",
            "    return self.view_functions[rule.endpoint](**req.view_args)\n",
            "  File \"<ipython-input-7-7ad5d0979554>\", line 57, in callback\n",
            "    handler.handle(body, signature)\n",
            "  File \"/usr/local/lib/python3.7/dist-packages/linebot/webhook.py\", line 260, in handle\n",
            "    self.__invoke_func(func, event, payload)\n",
            "  File \"/usr/local/lib/python3.7/dist-packages/linebot/webhook.py\", line 272, in __invoke_func\n",
            "    func(event)\n",
            "  File \"<ipython-input-7-7ad5d0979554>\", line 150, in get_response\n",
            "    line_bot_api.reply_message(event.reply_token, TextSendMessage(text=\"不論你說什麼 我都回你好!\"))\n",
            "  File \"/usr/local/lib/python3.7/dist-packages/linebot/api.py\", line 109, in reply_message\n",
            "    '/v2/bot/message/reply', data=json.dumps(data), timeout=timeout\n",
            "  File \"/usr/local/lib/python3.7/dist-packages/linebot/api.py\", line 1269, in _post\n",
            "    self.__check_error(response)\n",
            "  File \"/usr/local/lib/python3.7/dist-packages/linebot/api.py\", line 1310, in __check_error\n",
            "    error=Error.new_from_json_dict(response.json)\n",
            "linebot.exceptions.LineBotApiError: LineBotApiError: status_code=400, request_id=f5f7d093-2c17-4d30-81b4-2547266b7c4f, error_response={\"details\": [], \"message\": \"Invalid reply token\"}, headers={'Server': 'openresty', 'Content-Type': 'application/json', 'x-line-request-id': 'f5f7d093-2c17-4d30-81b4-2547266b7c4f', 'x-content-type-options': 'nosniff', 'x-xss-protection': '1; mode=block', 'x-frame-options': 'DENY', 'Content-Length': '33', 'Expires': 'Mon, 10 May 2021 12:36:27 GMT', 'Cache-Control': 'max-age=0, no-cache, no-store', 'Pragma': 'no-cache', 'Date': 'Mon, 10 May 2021 12:36:27 GMT', 'Connection': 'close'}\n",
            "127.0.0.1 - - [10/May/2021 12:36:27] \"\u001b[35m\u001b[1mPOST /callback HTTP/1.1\u001b[0m\" 500 -\n"
          ],
          "name": "stderr"
        },
        {
          "output_type": "stream",
          "text": [
            "body: {\"destination\":\"Ued67220c7a37c0abe215365e4786381a\",\"events\":[{\"type\":\"message\",\"message\":{\"type\":\"text\",\"id\":\"14027994308877\",\"text\":\"明天\"},\"timestamp\":1620650189093,\"source\":{\"type\":\"user\",\"userId\":\"Ub5065eefc75aa39c0cf2b5080c43f237\"},\"replyToken\":\"1c770e16eac24ac894fa041b755a2749\",\"mode\":\"active\"}]}\n",
            "signature: 4+TqGfpCu6e0EsAstbt5NRXXGMBnynAju6f3pz3eks8=\n",
            "===\n",
            "chat_record: ['台泥', '2021-05-05…2021-05-10', '收盤價', '高鐵', '明天']\n"
          ],
          "name": "stdout"
        },
        {
          "output_type": "stream",
          "text": [
            "[2021-05-10 12:36:30,398] ERROR in app: Exception on /callback [POST]\n",
            "Traceback (most recent call last):\n",
            "  File \"/usr/local/lib/python3.7/dist-packages/flask/app.py\", line 2447, in wsgi_app\n",
            "    response = self.full_dispatch_request()\n",
            "  File \"/usr/local/lib/python3.7/dist-packages/flask/app.py\", line 1952, in full_dispatch_request\n",
            "    rv = self.handle_user_exception(e)\n",
            "  File \"/usr/local/lib/python3.7/dist-packages/flask/app.py\", line 1821, in handle_user_exception\n",
            "    reraise(exc_type, exc_value, tb)\n",
            "  File \"/usr/local/lib/python3.7/dist-packages/flask/_compat.py\", line 39, in reraise\n",
            "    raise value\n",
            "  File \"/usr/local/lib/python3.7/dist-packages/flask/app.py\", line 1950, in full_dispatch_request\n",
            "    rv = self.dispatch_request()\n",
            "  File \"/usr/local/lib/python3.7/dist-packages/flask/app.py\", line 1936, in dispatch_request\n",
            "    return self.view_functions[rule.endpoint](**req.view_args)\n",
            "  File \"<ipython-input-7-7ad5d0979554>\", line 57, in callback\n",
            "    handler.handle(body, signature)\n",
            "  File \"/usr/local/lib/python3.7/dist-packages/linebot/webhook.py\", line 260, in handle\n",
            "    self.__invoke_func(func, event, payload)\n",
            "  File \"/usr/local/lib/python3.7/dist-packages/linebot/webhook.py\", line 272, in __invoke_func\n",
            "    func(event)\n",
            "  File \"<ipython-input-7-7ad5d0979554>\", line 150, in get_response\n",
            "    line_bot_api.reply_message(event.reply_token, TextSendMessage(text=\"不論你說什麼 我都回你好!\"))\n",
            "  File \"/usr/local/lib/python3.7/dist-packages/linebot/api.py\", line 109, in reply_message\n",
            "    '/v2/bot/message/reply', data=json.dumps(data), timeout=timeout\n",
            "  File \"/usr/local/lib/python3.7/dist-packages/linebot/api.py\", line 1269, in _post\n",
            "    self.__check_error(response)\n",
            "  File \"/usr/local/lib/python3.7/dist-packages/linebot/api.py\", line 1310, in __check_error\n",
            "    error=Error.new_from_json_dict(response.json)\n",
            "linebot.exceptions.LineBotApiError: LineBotApiError: status_code=400, request_id=0a1d0698-9931-4392-91e2-400e0d344e43, error_response={\"details\": [], \"message\": \"Invalid reply token\"}, headers={'Server': 'openresty', 'Content-Type': 'application/json', 'x-line-request-id': '0a1d0698-9931-4392-91e2-400e0d344e43', 'x-content-type-options': 'nosniff', 'x-xss-protection': '1; mode=block', 'x-frame-options': 'DENY', 'Content-Length': '33', 'Expires': 'Mon, 10 May 2021 12:36:30 GMT', 'Cache-Control': 'max-age=0, no-cache, no-store', 'Pragma': 'no-cache', 'Date': 'Mon, 10 May 2021 12:36:30 GMT', 'Connection': 'close'}\n",
            "127.0.0.1 - - [10/May/2021 12:36:30] \"\u001b[35m\u001b[1mPOST /callback HTTP/1.1\u001b[0m\" 500 -\n"
          ],
          "name": "stderr"
        },
        {
          "output_type": "stream",
          "text": [
            "body: {\"destination\":\"Ued67220c7a37c0abe215365e4786381a\",\"events\":[{\"type\":\"message\",\"message\":{\"type\":\"text\",\"id\":\"14027994675814\",\"text\":\"下午\"},\"timestamp\":1620650193318,\"source\":{\"type\":\"user\",\"userId\":\"Ub5065eefc75aa39c0cf2b5080c43f237\"},\"replyToken\":\"183a3ce8eefa4b279366e261e254f4c3\",\"mode\":\"active\"}]}\n",
            "signature: lAgb1zKSdLbEQWL5MdlMF0JOLZDRy+N7LWeB9mqgrbY=\n",
            "===\n",
            "chat_record: ['2021-05-05…2021-05-10', '收盤價', '高鐵', '明天', '下午']\n"
          ],
          "name": "stdout"
        },
        {
          "output_type": "stream",
          "text": [
            "[2021-05-10 12:36:34,752] ERROR in app: Exception on /callback [POST]\n",
            "Traceback (most recent call last):\n",
            "  File \"/usr/local/lib/python3.7/dist-packages/flask/app.py\", line 2447, in wsgi_app\n",
            "    response = self.full_dispatch_request()\n",
            "  File \"/usr/local/lib/python3.7/dist-packages/flask/app.py\", line 1952, in full_dispatch_request\n",
            "    rv = self.handle_user_exception(e)\n",
            "  File \"/usr/local/lib/python3.7/dist-packages/flask/app.py\", line 1821, in handle_user_exception\n",
            "    reraise(exc_type, exc_value, tb)\n",
            "  File \"/usr/local/lib/python3.7/dist-packages/flask/_compat.py\", line 39, in reraise\n",
            "    raise value\n",
            "  File \"/usr/local/lib/python3.7/dist-packages/flask/app.py\", line 1950, in full_dispatch_request\n",
            "    rv = self.dispatch_request()\n",
            "  File \"/usr/local/lib/python3.7/dist-packages/flask/app.py\", line 1936, in dispatch_request\n",
            "    return self.view_functions[rule.endpoint](**req.view_args)\n",
            "  File \"<ipython-input-7-7ad5d0979554>\", line 57, in callback\n",
            "    handler.handle(body, signature)\n",
            "  File \"/usr/local/lib/python3.7/dist-packages/linebot/webhook.py\", line 260, in handle\n",
            "    self.__invoke_func(func, event, payload)\n",
            "  File \"/usr/local/lib/python3.7/dist-packages/linebot/webhook.py\", line 272, in __invoke_func\n",
            "    func(event)\n",
            "  File \"<ipython-input-7-7ad5d0979554>\", line 150, in get_response\n",
            "    line_bot_api.reply_message(event.reply_token, TextSendMessage(text=\"不論你說什麼 我都回你好!\"))\n",
            "  File \"/usr/local/lib/python3.7/dist-packages/linebot/api.py\", line 109, in reply_message\n",
            "    '/v2/bot/message/reply', data=json.dumps(data), timeout=timeout\n",
            "  File \"/usr/local/lib/python3.7/dist-packages/linebot/api.py\", line 1269, in _post\n",
            "    self.__check_error(response)\n",
            "  File \"/usr/local/lib/python3.7/dist-packages/linebot/api.py\", line 1310, in __check_error\n",
            "    error=Error.new_from_json_dict(response.json)\n",
            "linebot.exceptions.LineBotApiError: LineBotApiError: status_code=400, request_id=6331f5e0-dd4e-4090-a6b3-0079cf9b0f24, error_response={\"details\": [], \"message\": \"Invalid reply token\"}, headers={'Server': 'openresty', 'Content-Type': 'application/json', 'x-line-request-id': '6331f5e0-dd4e-4090-a6b3-0079cf9b0f24', 'x-content-type-options': 'nosniff', 'x-xss-protection': '1; mode=block', 'x-frame-options': 'DENY', 'Content-Length': '33', 'Expires': 'Mon, 10 May 2021 12:36:34 GMT', 'Cache-Control': 'max-age=0, no-cache, no-store', 'Pragma': 'no-cache', 'Date': 'Mon, 10 May 2021 12:36:34 GMT', 'Connection': 'close'}\n",
            "127.0.0.1 - - [10/May/2021 12:36:34] \"\u001b[35m\u001b[1mPOST /callback HTTP/1.1\u001b[0m\" 500 -\n"
          ],
          "name": "stderr"
        },
        {
          "output_type": "stream",
          "text": [
            "body: {\"destination\":\"Ued67220c7a37c0abe215365e4786381a\",\"events\":[{\"type\":\"message\",\"message\":{\"type\":\"text\",\"id\":\"14027995041517\",\"text\":\"台北\"},\"timestamp\":1620650197391,\"source\":{\"type\":\"user\",\"userId\":\"Ub5065eefc75aa39c0cf2b5080c43f237\"},\"replyToken\":\"c548254457c94a41b457faafc82c27f4\",\"mode\":\"active\"}]}\n",
            "signature: c6jtsoQQZm3CupMTfQM/rj+ideNOXwuQ5yVkdyDs+M8=\n",
            "===\n",
            "chat_record: ['收盤價', '高鐵', '明天', '下午', '台北']\n"
          ],
          "name": "stdout"
        },
        {
          "output_type": "stream",
          "text": [
            "[2021-05-10 12:36:38,566] ERROR in app: Exception on /callback [POST]\n",
            "Traceback (most recent call last):\n",
            "  File \"/usr/local/lib/python3.7/dist-packages/flask/app.py\", line 2447, in wsgi_app\n",
            "    response = self.full_dispatch_request()\n",
            "  File \"/usr/local/lib/python3.7/dist-packages/flask/app.py\", line 1952, in full_dispatch_request\n",
            "    rv = self.handle_user_exception(e)\n",
            "  File \"/usr/local/lib/python3.7/dist-packages/flask/app.py\", line 1821, in handle_user_exception\n",
            "    reraise(exc_type, exc_value, tb)\n",
            "  File \"/usr/local/lib/python3.7/dist-packages/flask/_compat.py\", line 39, in reraise\n",
            "    raise value\n",
            "  File \"/usr/local/lib/python3.7/dist-packages/flask/app.py\", line 1950, in full_dispatch_request\n",
            "    rv = self.dispatch_request()\n",
            "  File \"/usr/local/lib/python3.7/dist-packages/flask/app.py\", line 1936, in dispatch_request\n",
            "    return self.view_functions[rule.endpoint](**req.view_args)\n",
            "  File \"<ipython-input-7-7ad5d0979554>\", line 57, in callback\n",
            "    handler.handle(body, signature)\n",
            "  File \"/usr/local/lib/python3.7/dist-packages/linebot/webhook.py\", line 260, in handle\n",
            "    self.__invoke_func(func, event, payload)\n",
            "  File \"/usr/local/lib/python3.7/dist-packages/linebot/webhook.py\", line 272, in __invoke_func\n",
            "    func(event)\n",
            "  File \"<ipython-input-7-7ad5d0979554>\", line 150, in get_response\n",
            "    line_bot_api.reply_message(event.reply_token, TextSendMessage(text=\"不論你說什麼 我都回你好!\"))\n",
            "  File \"/usr/local/lib/python3.7/dist-packages/linebot/api.py\", line 109, in reply_message\n",
            "    '/v2/bot/message/reply', data=json.dumps(data), timeout=timeout\n",
            "  File \"/usr/local/lib/python3.7/dist-packages/linebot/api.py\", line 1269, in _post\n",
            "    self.__check_error(response)\n",
            "  File \"/usr/local/lib/python3.7/dist-packages/linebot/api.py\", line 1310, in __check_error\n",
            "    error=Error.new_from_json_dict(response.json)\n",
            "linebot.exceptions.LineBotApiError: LineBotApiError: status_code=400, request_id=3859cc9c-1c5f-4e8e-8dd5-f24efef44bcb, error_response={\"details\": [], \"message\": \"Invalid reply token\"}, headers={'Server': 'openresty', 'Content-Type': 'application/json', 'x-line-request-id': '3859cc9c-1c5f-4e8e-8dd5-f24efef44bcb', 'x-content-type-options': 'nosniff', 'x-xss-protection': '1; mode=block', 'x-frame-options': 'DENY', 'Content-Length': '33', 'Expires': 'Mon, 10 May 2021 12:36:38 GMT', 'Cache-Control': 'max-age=0, no-cache, no-store', 'Pragma': 'no-cache', 'Date': 'Mon, 10 May 2021 12:36:38 GMT', 'Connection': 'close'}\n",
            "127.0.0.1 - - [10/May/2021 12:36:38] \"\u001b[35m\u001b[1mPOST /callback HTTP/1.1\u001b[0m\" 500 -\n"
          ],
          "name": "stderr"
        },
        {
          "output_type": "stream",
          "text": [
            "body: {\"destination\":\"Ued67220c7a37c0abe215365e4786381a\",\"events\":[{\"type\":\"message\",\"message\":{\"type\":\"text\",\"id\":\"14027995338034\",\"text\":\"板橋\"},\"timestamp\":1620650200760,\"source\":{\"type\":\"user\",\"userId\":\"Ub5065eefc75aa39c0cf2b5080c43f237\"},\"replyToken\":\"00dcb689872d4b4d96836bb7ca337741\",\"mode\":\"active\"}]}\n",
            "signature: gBQD53CTWtykLwSvBxmDd50LX3dD4VnfLkA0OMw2Dbo=\n",
            "===\n",
            "chat_record: ['高鐵', '明天', '下午', '台北', '板橋']\n",
            "*** 1000 1010 2021-05-11 下午\n"
          ],
          "name": "stdout"
        },
        {
          "output_type": "stream",
          "text": [
            "[2021-05-10 12:36:42,664] ERROR in app: Exception on /callback [POST]\n",
            "Traceback (most recent call last):\n",
            "  File \"/usr/local/lib/python3.7/dist-packages/flask/app.py\", line 2447, in wsgi_app\n",
            "    response = self.full_dispatch_request()\n",
            "  File \"/usr/local/lib/python3.7/dist-packages/flask/app.py\", line 1952, in full_dispatch_request\n",
            "    rv = self.handle_user_exception(e)\n",
            "  File \"/usr/local/lib/python3.7/dist-packages/flask/app.py\", line 1821, in handle_user_exception\n",
            "    reraise(exc_type, exc_value, tb)\n",
            "  File \"/usr/local/lib/python3.7/dist-packages/flask/_compat.py\", line 39, in reraise\n",
            "    raise value\n",
            "  File \"/usr/local/lib/python3.7/dist-packages/flask/app.py\", line 1950, in full_dispatch_request\n",
            "    rv = self.dispatch_request()\n",
            "  File \"/usr/local/lib/python3.7/dist-packages/flask/app.py\", line 1936, in dispatch_request\n",
            "    return self.view_functions[rule.endpoint](**req.view_args)\n",
            "  File \"<ipython-input-7-7ad5d0979554>\", line 57, in callback\n",
            "    handler.handle(body, signature)\n",
            "  File \"/usr/local/lib/python3.7/dist-packages/linebot/webhook.py\", line 260, in handle\n",
            "    self.__invoke_func(func, event, payload)\n",
            "  File \"/usr/local/lib/python3.7/dist-packages/linebot/webhook.py\", line 272, in __invoke_func\n",
            "    func(event)\n",
            "  File \"<ipython-input-7-7ad5d0979554>\", line 150, in get_response\n",
            "    line_bot_api.reply_message(event.reply_token, TextSendMessage(text=\"不論你說什麼 我都回你好!\"))\n",
            "  File \"/usr/local/lib/python3.7/dist-packages/linebot/api.py\", line 109, in reply_message\n",
            "    '/v2/bot/message/reply', data=json.dumps(data), timeout=timeout\n",
            "  File \"/usr/local/lib/python3.7/dist-packages/linebot/api.py\", line 1269, in _post\n",
            "    self.__check_error(response)\n",
            "  File \"/usr/local/lib/python3.7/dist-packages/linebot/api.py\", line 1310, in __check_error\n",
            "    error=Error.new_from_json_dict(response.json)\n",
            "linebot.exceptions.LineBotApiError: LineBotApiError: status_code=400, request_id=0beede75-96ac-49b0-9dcf-e75b209166dd, error_response={\"details\": [], \"message\": \"Invalid reply token\"}, headers={'Server': 'openresty', 'Content-Type': 'application/json', 'x-line-request-id': '0beede75-96ac-49b0-9dcf-e75b209166dd', 'x-content-type-options': 'nosniff', 'x-xss-protection': '1; mode=block', 'x-frame-options': 'DENY', 'Content-Length': '33', 'Expires': 'Mon, 10 May 2021 12:36:42 GMT', 'Cache-Control': 'max-age=0, no-cache, no-store', 'Pragma': 'no-cache', 'Date': 'Mon, 10 May 2021 12:36:42 GMT', 'Connection': 'close'}\n",
            "127.0.0.1 - - [10/May/2021 12:36:42] \"\u001b[35m\u001b[1mPOST /callback HTTP/1.1\u001b[0m\" 500 -\n"
          ],
          "name": "stderr"
        }
      ]
    }
  ]
}