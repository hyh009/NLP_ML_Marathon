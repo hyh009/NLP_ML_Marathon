{
  "nbformat": 4,
  "nbformat_minor": 0,
  "metadata": {
    "kernelspec": {
      "display_name": "cupoy_env",
      "language": "python",
      "name": "cupoy_env"
    },
    "language_info": {
      "codemirror_mode": {
        "name": "ipython",
        "version": 3
      },
      "file_extension": ".py",
      "mimetype": "text/x-python",
      "name": "python",
      "nbconvert_exporter": "python",
      "pygments_lexer": "ipython3",
      "version": "3.7.3"
    },
    "colab": {
      "name": "實作樹型模型_作業.ipynb",
      "provenance": [],
      "collapsed_sections": []
    }
  },
  "cells": [
    {
      "cell_type": "markdown",
      "metadata": {
        "id": "giW7zhy1o-j7"
      },
      "source": [
        "### 作業目的: 實作樹型模型\n",
        "\n",
        "在本次課程中實作了以Entropy計算訊息增益的決策樹模型，而計算訊息增益的方法除了Entropy只外還有Gini。因此本次作業希望讀者實作以Gini計算\n",
        "\n",
        "訊息增益，且基於課程的決策樹模型建構隨機森林模型。\n",
        "\n",
        "在作業資料夾中的`decision_tree_functions.py`檔案有在作業中實作的所有函式，在實作作業中可以充分利用已經寫好的函式"
      ]
    },
    {
      "cell_type": "code",
      "metadata": {
        "id": "iePHT2sDo-kD"
      },
      "source": [
        "import pandas as pd\n",
        "import numpy as np\n",
        "from decision_tree_functions import decision_tree, train_test_split"
      ],
      "execution_count": 1,
      "outputs": []
    },
    {
      "cell_type": "code",
      "metadata": {
        "colab": {
          "base_uri": "https://localhost:8080/",
          "height": 199
        },
        "id": "bQ8YDM_to-kE",
        "outputId": "93765616-e6c7-41e8-aaac-f275cf6827a7"
      },
      "source": [
        "# 使用與課程中相同的假資料\n",
        "\n",
        "training_data = [\n",
        "    ['Green', 3.1, 'Apple'],\n",
        "    ['Red', 3.2, 'Apple'],\n",
        "    ['Red', 1.2, 'Grape'],\n",
        "    ['Red', 1, 'Grape'],\n",
        "    ['Yellow', 3.3, 'Lemon'],\n",
        "    ['Yellow', 3.1, 'Lemon'],\n",
        "    ['Green', 3, 'Apple'],\n",
        "    ['Red', 1.1, 'Grape'],\n",
        "    ['Yellow', 3, 'Lemon'],\n",
        "    ['Red', 1.2, 'Grape'],\n",
        "]\n",
        "\n",
        "header = [\"color\", \"diameter\", \"label\"]\n",
        "\n",
        "df = pd.DataFrame(data=training_data, columns=header)\n",
        "df.head()"
      ],
      "execution_count": 2,
      "outputs": [
        {
          "output_type": "execute_result",
          "data": {
            "text/html": [
              "<div>\n",
              "<style scoped>\n",
              "    .dataframe tbody tr th:only-of-type {\n",
              "        vertical-align: middle;\n",
              "    }\n",
              "\n",
              "    .dataframe tbody tr th {\n",
              "        vertical-align: top;\n",
              "    }\n",
              "\n",
              "    .dataframe thead th {\n",
              "        text-align: right;\n",
              "    }\n",
              "</style>\n",
              "<table border=\"1\" class=\"dataframe\">\n",
              "  <thead>\n",
              "    <tr style=\"text-align: right;\">\n",
              "      <th></th>\n",
              "      <th>color</th>\n",
              "      <th>diameter</th>\n",
              "      <th>label</th>\n",
              "    </tr>\n",
              "  </thead>\n",
              "  <tbody>\n",
              "    <tr>\n",
              "      <th>0</th>\n",
              "      <td>Green</td>\n",
              "      <td>3.1</td>\n",
              "      <td>Apple</td>\n",
              "    </tr>\n",
              "    <tr>\n",
              "      <th>1</th>\n",
              "      <td>Red</td>\n",
              "      <td>3.2</td>\n",
              "      <td>Apple</td>\n",
              "    </tr>\n",
              "    <tr>\n",
              "      <th>2</th>\n",
              "      <td>Red</td>\n",
              "      <td>1.2</td>\n",
              "      <td>Grape</td>\n",
              "    </tr>\n",
              "    <tr>\n",
              "      <th>3</th>\n",
              "      <td>Red</td>\n",
              "      <td>1.0</td>\n",
              "      <td>Grape</td>\n",
              "    </tr>\n",
              "    <tr>\n",
              "      <th>4</th>\n",
              "      <td>Yellow</td>\n",
              "      <td>3.3</td>\n",
              "      <td>Lemon</td>\n",
              "    </tr>\n",
              "  </tbody>\n",
              "</table>\n",
              "</div>"
            ],
            "text/plain": [
              "    color  diameter  label\n",
              "0   Green       3.1  Apple\n",
              "1     Red       3.2  Apple\n",
              "2     Red       1.2  Grape\n",
              "3     Red       1.0  Grape\n",
              "4  Yellow       3.3  Lemon"
            ]
          },
          "metadata": {
            "tags": []
          },
          "execution_count": 2
        }
      ]
    },
    {
      "cell_type": "markdown",
      "metadata": {
        "id": "rry-EM2Xo-kC"
      },
      "source": [
        "### Q1: 使用Gini計算訊息增益\n",
        "\n",
        "$$\n",
        "Gini = \\sum_{i=1}^cp(i)(1-p(i)) = 1 - \\sum_{i=1}^cp(i)^2\n",
        "$$"
      ]
    },
    {
      "cell_type": "code",
      "metadata": {
        "id": "zXE4qmU7o-kF"
      },
      "source": [
        "#Gini impurity\n",
        "def calculate_gini(data):\n",
        "    \n",
        "    #取得資料的label訊息\n",
        "    label_column = data[:,-1]\n",
        "    \n",
        "    #取得所有輸入資料的獨立類別與其個數\n",
        "    _, counts = np.unique(label_column, return_counts=True) #counts = 各類別出現次數的array\n",
        "    \n",
        "    #計算機率\n",
        "    probabilities = counts / counts.sum() #各個類別機率的array\n",
        "\n",
        "    #計算gini impurity\n",
        "    gini = 1- sum(np.power(probabilities,2))\n",
        "\n",
        "    \n",
        "    return gini"
      ],
      "execution_count": 3,
      "outputs": []
    },
    {
      "cell_type": "code",
      "metadata": {
        "colab": {
          "base_uri": "https://localhost:8080/"
        },
        "id": "fX2GgHY0w-CB",
        "outputId": "41b9732e-473a-485c-989e-35e24264e5cf"
      },
      "source": [
        "#分割資料集\n",
        "train_df, test_df = train_test_split(df,0.2)\n",
        "#以Gini inpurity作為metric_function訓練決策樹\n",
        "tree = decision_tree(calculate_gini, 'classification', 0, min_samples=2, max_depth=5)\n",
        "trained_tree = tree.fit(train_df)\n",
        "trained_tree"
      ],
      "execution_count": 4,
      "outputs": [
        {
          "output_type": "execute_result",
          "data": {
            "text/plain": [
              "{'color = Yellow': ['Lemon', {'diameter <= 1.2': ['Grape', 'Apple']}]}"
            ]
          },
          "metadata": {
            "tags": []
          },
          "execution_count": 4
        }
      ]
    },
    {
      "cell_type": "code",
      "metadata": {
        "colab": {
          "base_uri": "https://localhost:8080/",
          "height": 34
        },
        "id": "bGp-4jbf1xDP",
        "outputId": "e9ec0282-b1d6-4a92-a829-63cc7763de50"
      },
      "source": [
        "# 以建構好的樹進行預測\n",
        "sample = test_df.iloc[0]\n",
        "tree.pred(sample,trained_tree)"
      ],
      "execution_count": 5,
      "outputs": [
        {
          "output_type": "execute_result",
          "data": {
            "application/vnd.google.colaboratory.intrinsic+json": {
              "type": "string"
            },
            "text/plain": [
              "'Grape'"
            ]
          },
          "metadata": {
            "tags": []
          },
          "execution_count": 5
        }
      ]
    },
    {
      "cell_type": "code",
      "metadata": {
        "colab": {
          "base_uri": "https://localhost:8080/"
        },
        "id": "h6kTGXpb2R8v",
        "outputId": "170f662c-2d9b-4105-d931-46250c709e8d"
      },
      "source": [
        "sample"
      ],
      "execution_count": 6,
      "outputs": [
        {
          "output_type": "execute_result",
          "data": {
            "text/plain": [
              "color         Red\n",
              "diameter      1.2\n",
              "label       Grape\n",
              "Name: 9, dtype: object"
            ]
          },
          "metadata": {
            "tags": []
          },
          "execution_count": 6
        }
      ]
    },
    {
      "cell_type": "markdown",
      "metadata": {
        "id": "XWhZGY01o-kH"
      },
      "source": [
        "### Q2: 實作隨機森林\n",
        "利用決策樹來實作隨機森林模型，讀者可參考隨機森林課程講義。\n",
        "\n",
        "此份作業只要求讀者實作隨機sample訓練資料，而隨機sample特徵進行訓練的部分，讀者可以參考`decision_tree_functions.py`中的`get_potential_splits`與`decision_tree`部分(新增參數`random_features`)"
      ]
    },
    {
      "cell_type": "code",
      "metadata": {
        "id": "YXDj63V0o-kH"
      },
      "source": [
        "class random_forest():\n",
        "    '''Random forest model\n",
        "    Parameters\n",
        "    ----------\n",
        "    n_boostrap: int\n",
        "        number of samples to sample to train indivisual decision tree\n",
        "    n_tree: int\n",
        "        number of trees to form a forest\n",
        "    '''\n",
        "    \n",
        "    def __init__(self, n_bootstrap, n_trees, task_type, min_samples, max_depth, metric_function, n_features=None):\n",
        "        self.n_bootstrap = n_bootstrap\n",
        "        self.n_trees = n_trees\n",
        "        self.task_type = task_type\n",
        "        self.min_samples = min_samples\n",
        "        self.max_depth = max_depth\n",
        "        self.metric_function = metric_function\n",
        "        self.n_features = n_features\n",
        "    \n",
        "    def bootstrapping(self, train_df, n_bootstrap):\n",
        "        #sample data to be used to train individual tree\n",
        "        index = np.random.choice(train_df.shape[0],size=(n_bootstrap))\n",
        "        df_bootstrapped = train_df.iloc[index]\n",
        "\n",
        "        #avoid pick the samples with all the same label\n",
        "        labels = df_bootstrapped.iloc[:,-1]\n",
        "        if len(np.unique(labels)) == 1:\n",
        "            self.bootstrapping(train_df, n_bootstrap)\n",
        "\n",
        "        return df_bootstrapped\n",
        "   \n",
        "    \n",
        "    def fit(self, train_df):\n",
        " \n",
        "        self.forest = []\n",
        "        for n in range(self.n_trees):\n",
        "            df_bootstrapped = self.bootstrapping(train_df, self.n_bootstrap)\n",
        "            tree = decision_tree(self.metric_function, \n",
        "                        self.task_type,\n",
        "                        0, \n",
        "                        self.min_samples, \n",
        "                        self.max_depth,\n",
        "                        self.n_features)\n",
        "            tree.fit(df_bootstrapped)\n",
        "            self.forest.append(tree)      \n",
        "\n",
        "        return self.forest\n",
        "    \n",
        "    def pred(self, test_df):\n",
        "\n",
        "        df_predictions = {}        \n",
        "        for idx, t in enumerate(self.forest):\n",
        "            col_name = f'Tree_{idx+1}'\n",
        "            df_predictions[col_name] = [tree.pred(test_df.iloc[i],t.sub_tree) for i in range(len(test_df))]\n",
        "        df_predictions = pd.DataFrame.from_dict(df_predictions)\n",
        "        #majority voting\n",
        " \n",
        "        if self.task_type == 'classification':\n",
        "            random_forest_predictions = df_predictions.mode(axis=1)[0]\n",
        "        elif self.task_type == 'regression':\n",
        "            random_forest_predictions = df_predictions.mean(axis=1)[0] \n",
        "        \n",
        "        return random_forest_predictions"
      ],
      "execution_count": 7,
      "outputs": []
    },
    {
      "cell_type": "code",
      "metadata": {
        "colab": {
          "base_uri": "https://localhost:8080/"
        },
        "id": "PExfe9VFudi1",
        "outputId": "1e18f04a-a362-4ed8-db99-9928a9b591dc"
      },
      "source": [
        "train_df, test_df = train_test_split(df, 0.2)\n",
        "# train_df.reset_index(drop=True,inplace=True)\n",
        "# test_df.reset_index(drop=True,inplace=True)\n",
        "\n",
        "n_bootstrap = 20\n",
        "n_trees = 5\n",
        "task_type = 'classification'\n",
        "min_samples = 2\n",
        "max_depth = 5\n",
        "metric_function = calculate_gini\n",
        "n_features = 1\n",
        "#建立隨機森林模型\n",
        "forest = random_forest(n_bootstrap = n_bootstrap,\n",
        "        n_trees = n_trees,\n",
        "        task_type = task_type,\n",
        "        min_samples = min_samples,\n",
        "        max_depth = max_depth,\n",
        "        metric_function = metric_function,\n",
        "        n_features = n_features)\n",
        "forest.fit(train_df)"
      ],
      "execution_count": 8,
      "outputs": [
        {
          "output_type": "execute_result",
          "data": {
            "text/plain": [
              "[<decision_tree_functions.decision_tree at 0x7f0c14c52d50>,\n",
              " <decision_tree_functions.decision_tree at 0x7f0c14c4eed0>,\n",
              " <decision_tree_functions.decision_tree at 0x7f0c14c7cf10>,\n",
              " <decision_tree_functions.decision_tree at 0x7f0c14c52410>,\n",
              " <decision_tree_functions.decision_tree at 0x7f0c14c1bf50>]"
            ]
          },
          "metadata": {
            "tags": []
          },
          "execution_count": 8
        }
      ]
    },
    {
      "cell_type": "code",
      "metadata": {
        "colab": {
          "base_uri": "https://localhost:8080/"
        },
        "id": "UdDa1Jdf9DLq",
        "outputId": "a1d5ad7e-17b7-4cb1-c7f9-ea87732ebf1b"
      },
      "source": [
        "forest.pred(test_df)"
      ],
      "execution_count": 9,
      "outputs": [
        {
          "output_type": "execute_result",
          "data": {
            "text/plain": [
              "0    Grape\n",
              "1    Apple\n",
              "Name: 0, dtype: object"
            ]
          },
          "metadata": {
            "tags": []
          },
          "execution_count": 9
        }
      ]
    },
    {
      "cell_type": "code",
      "metadata": {
        "id": "FUuRK9Edo-kJ",
        "colab": {
          "base_uri": "https://localhost:8080/",
          "height": 108
        },
        "outputId": "fb3768eb-c2bb-4b02-fdaf-dd2f68ab2554"
      },
      "source": [
        "test_df"
      ],
      "execution_count": 10,
      "outputs": [
        {
          "output_type": "execute_result",
          "data": {
            "text/html": [
              "<div>\n",
              "<style scoped>\n",
              "    .dataframe tbody tr th:only-of-type {\n",
              "        vertical-align: middle;\n",
              "    }\n",
              "\n",
              "    .dataframe tbody tr th {\n",
              "        vertical-align: top;\n",
              "    }\n",
              "\n",
              "    .dataframe thead th {\n",
              "        text-align: right;\n",
              "    }\n",
              "</style>\n",
              "<table border=\"1\" class=\"dataframe\">\n",
              "  <thead>\n",
              "    <tr style=\"text-align: right;\">\n",
              "      <th></th>\n",
              "      <th>color</th>\n",
              "      <th>diameter</th>\n",
              "      <th>label</th>\n",
              "    </tr>\n",
              "  </thead>\n",
              "  <tbody>\n",
              "    <tr>\n",
              "      <th>7</th>\n",
              "      <td>Red</td>\n",
              "      <td>1.1</td>\n",
              "      <td>Grape</td>\n",
              "    </tr>\n",
              "    <tr>\n",
              "      <th>6</th>\n",
              "      <td>Green</td>\n",
              "      <td>3.0</td>\n",
              "      <td>Apple</td>\n",
              "    </tr>\n",
              "  </tbody>\n",
              "</table>\n",
              "</div>"
            ],
            "text/plain": [
              "   color  diameter  label\n",
              "7    Red       1.1  Grape\n",
              "6  Green       3.0  Apple"
            ]
          },
          "metadata": {
            "tags": []
          },
          "execution_count": 10
        }
      ]
    }
  ]
}