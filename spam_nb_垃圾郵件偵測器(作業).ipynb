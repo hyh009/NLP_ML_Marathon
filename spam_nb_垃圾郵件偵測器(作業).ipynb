{
  "nbformat": 4,
  "nbformat_minor": 0,
  "metadata": {
    "colab": {
      "name": "spam_nb_垃圾郵件偵測器(作業).ipynb",
      "provenance": []
    },
    "kernelspec": {
      "name": "python3",
      "display_name": "Python 3"
    },
    "language_info": {
      "name": "python"
    }
  },
  "cells": [
    {
      "cell_type": "markdown",
      "metadata": {
        "id": "NEH7W-FS3I7f"
      },
      "source": [
        "## 題目: 將已整理好的文件以機器學習方式分辨是否為垃圾郵件\n",
        "說明：輸入文件已處理過，為一D乘V(V=48)+1矩陣，D代表電郵數，V代表選出來(判斷是否垃圾)的字(特徵)，<br>\n",
        "所以我們是用48個特徵來判斷。列中每行表達的特徵值(feature)=出現次數 / 該電郵總字數 * 100，<br>\n",
        "最後一行是標註(Label)是否為垃圾郵件。請用ML方法開發出垃圾郵件偵測器並算出預測準確度<br>\n",
        "延伸:可用不同ML分類法，可準備自己的垃圾郵件做預處理。<br>\n",
        "範例程式檔名: spam_nb_垃圾郵件偵測器.py，以Naïve Bayes方式完成<br>\n",
        "模組: sklearn, pandas, numpy<br>\n",
        "輸入檔：spambase.data<br>\n",
        "成績：辨識百分率<br>\n",
        "\n",
        "註: 理論上 multinomial NB 是針對出現次數 \"counts\", 但文件上說對出現比率 \"word proportions\"也適合"
      ]
    },
    {
      "cell_type": "code",
      "metadata": {
        "id": "vV6kPQaq2Sk4"
      },
      "source": [
        "from __future__ import print_function, division\n",
        "from builtins import range\n",
        "\n",
        "import pandas as pd\n",
        "import numpy as np"
      ],
      "execution_count": 2,
      "outputs": []
    },
    {
      "cell_type": "code",
      "metadata": {
        "id": "yxOcEcaA2Wd1"
      },
      "source": [
        "data = pd.read_csv('/content/drive/MyDrive/NLP/spambase(作業數據).data').values # use pandas for convenience\n",
        "np.random.shuffle(data) # shuffle each row in-place, but preserve the row"
      ],
      "execution_count": 4,
      "outputs": []
    },
    {
      "cell_type": "code",
      "metadata": {
        "id": "lMgLWZtm2jjo"
      },
      "source": [
        "X = data[:,:48]\n",
        "Y = data[:,-1]"
      ],
      "execution_count": 5,
      "outputs": []
    },
    {
      "cell_type": "code",
      "metadata": {
        "id": "HLH5ECHD2l_1"
      },
      "source": [
        "# 不一定用100列 作測試 100->80 試試\n",
        "Xtrain = X[:-80,]\n",
        "Ytrain = Y[:-80,]\n",
        "Xtest = X[-80:,]\n",
        "Ytest = Y[-80:,]"
      ],
      "execution_count": 6,
      "outputs": []
    },
    {
      "cell_type": "code",
      "metadata": {
        "colab": {
          "base_uri": "https://localhost:8080/"
        },
        "id": "AM1D4A6O2rp3",
        "outputId": "17c0b0b2-05a2-4592-d780-707b7e738cdf"
      },
      "source": [
        "# Decision Tree 的準確度如何？\n",
        "from sklearn.tree import DecisionTreeClassifier\n",
        "dt = DecisionTreeClassifier(random_state=1,max_depth=6)\n",
        "dt.fit(Xtrain, Ytrain)\n",
        "print(\"Classification rate for Decision Tree:\", dt.score(Xtest, Ytest))"
      ],
      "execution_count": 31,
      "outputs": [
        {
          "output_type": "stream",
          "text": [
            "Classification rate for Decision Tree: 0.95\n"
          ],
          "name": "stdout"
        }
      ]
    },
    {
      "cell_type": "code",
      "metadata": {
        "colab": {
          "base_uri": "https://localhost:8080/"
        },
        "id": "rweLABOA2twt",
        "outputId": "9012916a-6141-4ee9-d48b-c6ffa867f6e8"
      },
      "source": [
        "##### 任何 model都行，以下試試 AdaBoost! #####\n",
        "from sklearn.ensemble import AdaBoostClassifier\n",
        "ab = AdaBoostClassifier(random_state=1)\n",
        "ab.fit(Xtrain, Ytrain)\n",
        "print(\"Classification rate for AdaBoost:\", ab.score(Xtest, Ytest))"
      ],
      "execution_count": 19,
      "outputs": [
        {
          "output_type": "stream",
          "text": [
            "Classification rate for AdaBoost: 0.9625\n"
          ],
          "name": "stdout"
        }
      ]
    },
    {
      "cell_type": "code",
      "metadata": {
        "colab": {
          "base_uri": "https://localhost:8080/"
        },
        "id": "7jqlId489J03",
        "outputId": "a53e1db9-5524-4c9d-925e-dfeed7a108e5"
      },
      "source": [
        "# RandomForest\n",
        "from sklearn.ensemble import RandomForestClassifier\n",
        "rf = RandomForestClassifier(random_state=1,max_depth=12)\n",
        "rf.fit(Xtrain, Ytrain)\n",
        "print(\"Classification rate for RandomForest:\", rf.score(Xtest, Ytest))"
      ],
      "execution_count": 48,
      "outputs": [
        {
          "output_type": "stream",
          "text": [
            "Classification rate for RandomForest: 0.9625\n"
          ],
          "name": "stdout"
        }
      ]
    }
  ]
}