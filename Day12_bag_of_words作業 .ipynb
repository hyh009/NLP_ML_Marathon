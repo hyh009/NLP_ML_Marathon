{
  "nbformat": 4,
  "nbformat_minor": 0,
  "metadata": {
    "kernelspec": {
      "display_name": "Python 3",
      "language": "python",
      "name": "python3"
    },
    "language_info": {
      "codemirror_mode": {
        "name": "ipython",
        "version": 3
      },
      "file_extension": ".py",
      "mimetype": "text/x-python",
      "name": "python",
      "nbconvert_exporter": "python",
      "pygments_lexer": "ipython3",
      "version": "3.7.4"
    },
    "colab": {
      "name": "Day12- bag of words作業.ipynb",
      "provenance": [],
      "toc_visible": true
    }
  },
  "cells": [
    {
      "cell_type": "markdown",
      "metadata": {
        "id": "U1J1p4y_bamJ"
      },
      "source": [
        "## 作業目標：搭建一個bag of words模型"
      ]
    },
    {
      "cell_type": "markdown",
      "metadata": {
        "id": "EFM0kZJfbamQ"
      },
      "source": [
        "---"
      ]
    },
    {
      "cell_type": "code",
      "metadata": {
        "colab": {
          "base_uri": "https://localhost:8080/"
        },
        "id": "MZ5DePDgb4hf",
        "outputId": "1a490408-f462-455a-9473-a0d12115ea85"
      },
      "source": [
        "from google.colab import drive\n",
        "drive.mount('/content/drive')"
      ],
      "execution_count": 2,
      "outputs": [
        {
          "output_type": "stream",
          "text": [
            "Mounted at /content/drive\n"
          ],
          "name": "stdout"
        }
      ]
    },
    {
      "cell_type": "code",
      "metadata": {
        "id": "nRPGW-3bbamR"
      },
      "source": [
        "import pandas as pd\n",
        "import nltk\n",
        "nltk.download()\n",
        "import numpy as np\n",
        "dataset=pd.read_csv('/content/drive/MyDrive/NLP/Restaurant_Reviews.tsv',delimiter='\\t',quoting=3)\n",
        "corpus=dataset['Review'].values"
      ],
      "execution_count": null,
      "outputs": []
    },
    {
      "cell_type": "code",
      "metadata": {
        "id": "HObGq5L0c8dN"
      },
      "source": [
        "corpus"
      ],
      "execution_count": null,
      "outputs": []
    },
    {
      "cell_type": "markdown",
      "metadata": {
        "id": "buIWcL1kbamR"
      },
      "source": [
        "### 從文本中取出所有單字"
      ]
    },
    {
      "cell_type": "code",
      "metadata": {
        "id": "UvytYfmMbamS"
      },
      "source": [
        "whole_words = []\n",
        "\n",
        "for sentence in corpus:\n",
        "    token = nltk.tokenize.word_tokenize\n",
        "    tokenized_sentence = token(sentence) \n",
        "    for word in tokenized_sentence:\n",
        "        whole_words.append(word)"
      ],
      "execution_count": 22,
      "outputs": []
    },
    {
      "cell_type": "markdown",
      "metadata": {
        "id": "sC1tQspcbamS"
      },
      "source": [
        "### 移除重複單字"
      ]
    },
    {
      "cell_type": "code",
      "metadata": {
        "colab": {
          "base_uri": "https://localhost:8080/"
        },
        "id": "Y5gHhSigfhsl",
        "outputId": "9d7158af-f5c1-4aba-e8df-56a2666051b9"
      },
      "source": [
        "whole_words = list(set(whole_words))\n",
        "print('共有{}個單字'.format(len(whole_words)))"
      ],
      "execution_count": 23,
      "outputs": [
        {
          "output_type": "stream",
          "text": [
            "共有2356個單字\n"
          ],
          "name": "stdout"
        }
      ]
    },
    {
      "cell_type": "markdown",
      "metadata": {
        "id": "mM50JERNbamT"
      },
      "source": [
        "### 建立字典使每一個單字有對應數值"
      ]
    },
    {
      "cell_type": "code",
      "metadata": {
        "id": "NTE5NgaabamU"
      },
      "source": [
        "word_index = {}\n",
        "index_word = {}\n",
        "n = 0\n",
        "for word in whole_words:\n",
        "    index_word[n]=word\n",
        "    word_index[word]=n\n",
        "    n+=1\n",
        "    "
      ],
      "execution_count": 26,
      "outputs": []
    },
    {
      "cell_type": "code",
      "metadata": {
        "id": "ESw6JEhUj6uk"
      },
      "source": [
        "word_index"
      ],
      "execution_count": null,
      "outputs": []
    },
    {
      "cell_type": "code",
      "metadata": {
        "id": "VO7N3_-5bamU"
      },
      "source": [
        "index_word"
      ],
      "execution_count": null,
      "outputs": []
    },
    {
      "cell_type": "markdown",
      "metadata": {
        "id": "xObH-bPQbamV"
      },
      "source": [
        "## 轉換句子為bag of words型式"
      ]
    },
    {
      "cell_type": "code",
      "metadata": {
        "id": "kcZFDFPGbamV"
      },
      "source": [
        "def _get_bag_of_words_vector(sentence, word_index_dic, whole_words):\n",
        "\n",
        "    '''創建一個vector'''\n",
        "    vector = np.zeros(len(whole_words))\n",
        "    for word in nltk.word_tokenize(sentence):\n",
        "        if word in whole_words:\n",
        "          idx = word_index_dic[word]\n",
        "          vector[idx]+=1  \n",
        "            \n",
        "    return vector\n"
      ],
      "execution_count": 31,
      "outputs": []
    },
    {
      "cell_type": "code",
      "metadata": {
        "colab": {
          "base_uri": "https://localhost:8080/"
        },
        "id": "UbjCZTg6bamW",
        "outputId": "b2091fdc-543a-4f1b-9adf-d44f83434bbc"
      },
      "source": [
        "_get_bag_of_words_vector('Wow... Loved this place.', word_index, whole_words)"
      ],
      "execution_count": 32,
      "outputs": [
        {
          "output_type": "execute_result",
          "data": {
            "text/plain": [
              "array([0., 0., 0., ..., 0., 0., 0.])"
            ]
          },
          "metadata": {
            "tags": []
          },
          "execution_count": 32
        }
      ]
    }
  ]
}