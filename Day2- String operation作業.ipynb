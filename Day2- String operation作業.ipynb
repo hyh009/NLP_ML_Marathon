{
 "cells": [
  {
   "cell_type": "markdown",
   "metadata": {},
   "source": [
    "# 作業目標：運用課程所學，操作字串達到預期輸出"
   ]
  },
  {
   "cell_type": "markdown",
   "metadata": {},
   "source": [
    "---"
   ]
  },
  {
   "cell_type": "markdown",
   "metadata": {},
   "source": [
    "### isnumeric(), isdigit(), isdecimal() 各有幾個"
   ]
  },
  {
   "cell_type": "code",
   "execution_count": 28,
   "metadata": {},
   "outputs": [],
   "source": [
    "test_string = ['5.9', '30', '½', '³', '⑬']"
   ]
  },
  {
   "cell_type": "code",
   "execution_count": null,
   "metadata": {},
   "outputs": [],
   "source": [
    "def spam(s, isnumeric_count, isdigit_count, isdecimal_count):\n",
    "    for attr in ['isnumeric', 'isdecimal', 'isdigit']:\n",
    "        if attr == 'isnumeric':\n",
    "            if getattr(s, attr)():\n",
    "                isnumeric_count += 1\n",
    "        elif attr == 'isdecimal':\n",
    "            if getattr(s, attr)():\n",
    "                isdecimal_count += 1\n",
    "        elif attr == 'isdigit':\n",
    "            if getattr(s, attr)():\n",
    "                isdigit_count += 1\n",
    "    return isnumeric_count, isdecimal_count, isdigit_count"
   ]
  },
  {
   "cell_type": "code",
   "execution_count": 31,
   "metadata": {},
   "outputs": [
    {
     "name": "stdout",
     "output_type": "stream",
     "text": [
      "isnumeric_count: 4\n",
      "isdigit_count: 2\n",
      "isdecimal_count: 1\n"
     ]
    }
   ],
   "source": [
    "isnumeric_count = 0\n",
    "isdecimal_count = 0\n",
    "isdigit_count = 0\n",
    "#利用迴圈將test_string裡的值一個一個帶入函式中\n",
    "for x in test_string:\n",
    "    isnumeric_count, isdecimal_count, isdigit_count = spam(x, isnumeric_count, isdigit_count, isdecimal_count)\n",
    "\n",
    "\n",
    "print('isnumeric_count: {}'.format(isnumeric_count))     \n",
    "print('isdigit_count: {}'.format(isdigit_count))     \n",
    "print('isdecimal_count: {}'.format(isdecimal_count))  "
   ]
  },
  {
   "cell_type": "markdown",
   "metadata": {},
   "source": [
    "---"
   ]
  },
  {
   "cell_type": "markdown",
   "metadata": {},
   "source": [
    "## 運用formatting 技巧 output\n",
    "    * Accuracy: 98.13%, Recall: 94.88%, Precision: 96.29%"
   ]
  },
  {
   "cell_type": "code",
   "execution_count": 19,
   "metadata": {},
   "outputs": [],
   "source": [
    "accuracy = 98.129393\n",
    "recall =   94.879583\n",
    "precision =96.294821"
   ]
  },
  {
   "cell_type": "code",
   "execution_count": 20,
   "metadata": {},
   "outputs": [
    {
     "name": "stdout",
     "output_type": "stream",
     "text": [
      "98.13%\n",
      "94.88%\n",
      "96.29%\n"
     ]
    }
   ],
   "source": [
    "print('{:.2f}%'.format(accuracy))\n",
    "print('{:.2f}%'.format(recall))\n",
    "print('{:.2f}%'.format(precision))"
   ]
  },
  {
   "cell_type": "code",
   "execution_count": 8,
   "metadata": {},
   "outputs": [],
   "source": [
    "accuracy = 0.98129393\n",
    "recall =   0.94879583\n",
    "precision =0.96294821"
   ]
  },
  {
   "cell_type": "code",
   "execution_count": 15,
   "metadata": {},
   "outputs": [
    {
     "name": "stdout",
     "output_type": "stream",
     "text": [
      "98.13%\n",
      "94.88%\n",
      "96.29%\n"
     ]
    }
   ],
   "source": [
    "print('{:.2%}'.format(accuracy))\n",
    "print('{:.2%}'.format(recall))\n",
    "print('{:.2%}'.format(precision))"
   ]
  },
  {
   "cell_type": "markdown",
   "metadata": {},
   "source": [
    "---"
   ]
  },
  {
   "cell_type": "markdown",
   "metadata": {},
   "source": [
    "## 依照指示轉換number output format"
   ]
  },
  {
   "cell_type": "code",
   "execution_count": 10,
   "metadata": {},
   "outputs": [],
   "source": [
    "number = 3.1415926"
   ]
  },
  {
   "cell_type": "markdown",
   "metadata": {},
   "source": [
    "#### 轉換為科學符號表示法 (小數點後兩位)"
   ]
  },
  {
   "cell_type": "code",
   "execution_count": 24,
   "metadata": {},
   "outputs": [
    {
     "name": "stdout",
     "output_type": "stream",
     "text": [
      "3.14e+00\n"
     ]
    }
   ],
   "source": [
    "print('{:.2e}'.format(number))"
   ]
  },
  {
   "cell_type": "markdown",
   "metadata": {},
   "source": [
    "#### 轉換為%"
   ]
  },
  {
   "cell_type": "code",
   "execution_count": 12,
   "metadata": {},
   "outputs": [
    {
     "name": "stdout",
     "output_type": "stream",
     "text": [
      "314.15926%\n"
     ]
    }
   ],
   "source": [
    "print('{:.5%}'.format(number))"
   ]
  },
  {
   "cell_type": "markdown",
   "metadata": {},
   "source": [
    "#### 補零成為3.14159300"
   ]
  },
  {
   "cell_type": "code",
   "execution_count": 26,
   "metadata": {},
   "outputs": [
    {
     "name": "stdout",
     "output_type": "stream",
     "text": [
      "3.14159300\n"
     ]
    }
   ],
   "source": [
    "print('{:0<10f}'.format(number))"
   ]
  }
 ],
 "metadata": {
  "kernelspec": {
   "display_name": "Python 3",
   "language": "python",
   "name": "python3"
  },
  "language_info": {
   "codemirror_mode": {
    "name": "ipython",
    "version": 3
   },
   "file_extension": ".py",
   "mimetype": "text/x-python",
   "name": "python",
   "nbconvert_exporter": "python",
   "pygments_lexer": "ipython3",
   "version": "3.8.5"
  }
 },
 "nbformat": 4,
 "nbformat_minor": 2
}
