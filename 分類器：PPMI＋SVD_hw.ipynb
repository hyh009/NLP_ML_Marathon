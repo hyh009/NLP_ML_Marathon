{
  "nbformat": 4,
  "nbformat_minor": 0,
  "metadata": {
    "language_info": {
      "codemirror_mode": {
        "name": "ipython",
        "version": 3
      },
      "file_extension": ".py",
      "mimetype": "text/x-python",
      "name": "python",
      "nbconvert_exporter": "python",
      "pygments_lexer": "ipython3",
      "version": 3
    },
    "orig_nbformat": 2,
    "kernelspec": {
      "name": "python_defaultSpec_1597542987315",
      "display_name": "Python 3.6.8 64-bit ('ENV': venv)"
    },
    "colab": {
      "name": "分類器：PPMI＋SVD_hw.ipynb",
      "provenance": [],
      "toc_visible": true
    },
    "widgets": {
      "application/vnd.jupyter.widget-state+json": {
        "8bb27779723d4275b8887516988efe58": {
          "model_module": "@jupyter-widgets/controls",
          "model_name": "HBoxModel",
          "state": {
            "_view_name": "HBoxView",
            "_dom_classes": [],
            "_model_name": "HBoxModel",
            "_view_module": "@jupyter-widgets/controls",
            "_model_module_version": "1.5.0",
            "_view_count": null,
            "_view_module_version": "1.5.0",
            "box_style": "",
            "layout": "IPY_MODEL_99888c48ac924786999fb8335d305b63",
            "_model_module": "@jupyter-widgets/controls",
            "children": [
              "IPY_MODEL_10f018e05c7e4d5f95bd4eb3d9ccdcda",
              "IPY_MODEL_5b4a71ac2e274510ae92be444a4faa23"
            ]
          }
        },
        "99888c48ac924786999fb8335d305b63": {
          "model_module": "@jupyter-widgets/base",
          "model_name": "LayoutModel",
          "state": {
            "_view_name": "LayoutView",
            "grid_template_rows": null,
            "right": null,
            "justify_content": null,
            "_view_module": "@jupyter-widgets/base",
            "overflow": null,
            "_model_module_version": "1.2.0",
            "_view_count": null,
            "flex_flow": null,
            "width": null,
            "min_width": null,
            "border": null,
            "align_items": null,
            "bottom": null,
            "_model_module": "@jupyter-widgets/base",
            "top": null,
            "grid_column": null,
            "overflow_y": null,
            "overflow_x": null,
            "grid_auto_flow": null,
            "grid_area": null,
            "grid_template_columns": null,
            "flex": null,
            "_model_name": "LayoutModel",
            "justify_items": null,
            "grid_row": null,
            "max_height": null,
            "align_content": null,
            "visibility": null,
            "align_self": null,
            "height": null,
            "min_height": null,
            "padding": null,
            "grid_auto_rows": null,
            "grid_gap": null,
            "max_width": null,
            "order": null,
            "_view_module_version": "1.2.0",
            "grid_template_areas": null,
            "object_position": null,
            "object_fit": null,
            "grid_auto_columns": null,
            "margin": null,
            "display": null,
            "left": null
          }
        },
        "10f018e05c7e4d5f95bd4eb3d9ccdcda": {
          "model_module": "@jupyter-widgets/controls",
          "model_name": "FloatProgressModel",
          "state": {
            "_view_name": "ProgressView",
            "style": "IPY_MODEL_0bbe81c116f84ba3a218646ece91cf5d",
            "_dom_classes": [],
            "description": "100%",
            "_model_name": "FloatProgressModel",
            "bar_style": "success",
            "max": 1800,
            "_view_module": "@jupyter-widgets/controls",
            "_model_module_version": "1.5.0",
            "value": 1800,
            "_view_count": null,
            "_view_module_version": "1.5.0",
            "orientation": "horizontal",
            "min": 0,
            "description_tooltip": null,
            "_model_module": "@jupyter-widgets/controls",
            "layout": "IPY_MODEL_2220d074508e4969b43e75937a03d505"
          }
        },
        "5b4a71ac2e274510ae92be444a4faa23": {
          "model_module": "@jupyter-widgets/controls",
          "model_name": "HTMLModel",
          "state": {
            "_view_name": "HTMLView",
            "style": "IPY_MODEL_b37c67700f9c4dc1bd2f150f407db6e5",
            "_dom_classes": [],
            "description": "",
            "_model_name": "HTMLModel",
            "placeholder": "​",
            "_view_module": "@jupyter-widgets/controls",
            "_model_module_version": "1.5.0",
            "value": " 1800/1800 [03:55&lt;00:00,  7.66it/s]",
            "_view_count": null,
            "_view_module_version": "1.5.0",
            "description_tooltip": null,
            "_model_module": "@jupyter-widgets/controls",
            "layout": "IPY_MODEL_ef031fb018214903829fef610a91c062"
          }
        },
        "0bbe81c116f84ba3a218646ece91cf5d": {
          "model_module": "@jupyter-widgets/controls",
          "model_name": "ProgressStyleModel",
          "state": {
            "_view_name": "StyleView",
            "_model_name": "ProgressStyleModel",
            "description_width": "initial",
            "_view_module": "@jupyter-widgets/base",
            "_model_module_version": "1.5.0",
            "_view_count": null,
            "_view_module_version": "1.2.0",
            "bar_color": null,
            "_model_module": "@jupyter-widgets/controls"
          }
        },
        "2220d074508e4969b43e75937a03d505": {
          "model_module": "@jupyter-widgets/base",
          "model_name": "LayoutModel",
          "state": {
            "_view_name": "LayoutView",
            "grid_template_rows": null,
            "right": null,
            "justify_content": null,
            "_view_module": "@jupyter-widgets/base",
            "overflow": null,
            "_model_module_version": "1.2.0",
            "_view_count": null,
            "flex_flow": null,
            "width": null,
            "min_width": null,
            "border": null,
            "align_items": null,
            "bottom": null,
            "_model_module": "@jupyter-widgets/base",
            "top": null,
            "grid_column": null,
            "overflow_y": null,
            "overflow_x": null,
            "grid_auto_flow": null,
            "grid_area": null,
            "grid_template_columns": null,
            "flex": null,
            "_model_name": "LayoutModel",
            "justify_items": null,
            "grid_row": null,
            "max_height": null,
            "align_content": null,
            "visibility": null,
            "align_self": null,
            "height": null,
            "min_height": null,
            "padding": null,
            "grid_auto_rows": null,
            "grid_gap": null,
            "max_width": null,
            "order": null,
            "_view_module_version": "1.2.0",
            "grid_template_areas": null,
            "object_position": null,
            "object_fit": null,
            "grid_auto_columns": null,
            "margin": null,
            "display": null,
            "left": null
          }
        },
        "b37c67700f9c4dc1bd2f150f407db6e5": {
          "model_module": "@jupyter-widgets/controls",
          "model_name": "DescriptionStyleModel",
          "state": {
            "_view_name": "StyleView",
            "_model_name": "DescriptionStyleModel",
            "description_width": "",
            "_view_module": "@jupyter-widgets/base",
            "_model_module_version": "1.5.0",
            "_view_count": null,
            "_view_module_version": "1.2.0",
            "_model_module": "@jupyter-widgets/controls"
          }
        },
        "ef031fb018214903829fef610a91c062": {
          "model_module": "@jupyter-widgets/base",
          "model_name": "LayoutModel",
          "state": {
            "_view_name": "LayoutView",
            "grid_template_rows": null,
            "right": null,
            "justify_content": null,
            "_view_module": "@jupyter-widgets/base",
            "overflow": null,
            "_model_module_version": "1.2.0",
            "_view_count": null,
            "flex_flow": null,
            "width": null,
            "min_width": null,
            "border": null,
            "align_items": null,
            "bottom": null,
            "_model_module": "@jupyter-widgets/base",
            "top": null,
            "grid_column": null,
            "overflow_y": null,
            "overflow_x": null,
            "grid_auto_flow": null,
            "grid_area": null,
            "grid_template_columns": null,
            "flex": null,
            "_model_name": "LayoutModel",
            "justify_items": null,
            "grid_row": null,
            "max_height": null,
            "align_content": null,
            "visibility": null,
            "align_self": null,
            "height": null,
            "min_height": null,
            "padding": null,
            "grid_auto_rows": null,
            "grid_gap": null,
            "max_width": null,
            "order": null,
            "_view_module_version": "1.2.0",
            "grid_template_areas": null,
            "object_position": null,
            "object_fit": null,
            "grid_auto_columns": null,
            "margin": null,
            "display": null,
            "left": null
          }
        },
        "a4d3103f410744a1a1b938832e6d9d0f": {
          "model_module": "@jupyter-widgets/controls",
          "model_name": "HBoxModel",
          "state": {
            "_view_name": "HBoxView",
            "_dom_classes": [],
            "_model_name": "HBoxModel",
            "_view_module": "@jupyter-widgets/controls",
            "_model_module_version": "1.5.0",
            "_view_count": null,
            "_view_module_version": "1.5.0",
            "box_style": "",
            "layout": "IPY_MODEL_8591a71c3ae349868e0385ba43626b74",
            "_model_module": "@jupyter-widgets/controls",
            "children": [
              "IPY_MODEL_c2667d87e34e4804876318685294d29f",
              "IPY_MODEL_283e386fa1b24acaa0a6269dfbb5d9ae"
            ]
          }
        },
        "8591a71c3ae349868e0385ba43626b74": {
          "model_module": "@jupyter-widgets/base",
          "model_name": "LayoutModel",
          "state": {
            "_view_name": "LayoutView",
            "grid_template_rows": null,
            "right": null,
            "justify_content": null,
            "_view_module": "@jupyter-widgets/base",
            "overflow": null,
            "_model_module_version": "1.2.0",
            "_view_count": null,
            "flex_flow": null,
            "width": null,
            "min_width": null,
            "border": null,
            "align_items": null,
            "bottom": null,
            "_model_module": "@jupyter-widgets/base",
            "top": null,
            "grid_column": null,
            "overflow_y": null,
            "overflow_x": null,
            "grid_auto_flow": null,
            "grid_area": null,
            "grid_template_columns": null,
            "flex": null,
            "_model_name": "LayoutModel",
            "justify_items": null,
            "grid_row": null,
            "max_height": null,
            "align_content": null,
            "visibility": null,
            "align_self": null,
            "height": null,
            "min_height": null,
            "padding": null,
            "grid_auto_rows": null,
            "grid_gap": null,
            "max_width": null,
            "order": null,
            "_view_module_version": "1.2.0",
            "grid_template_areas": null,
            "object_position": null,
            "object_fit": null,
            "grid_auto_columns": null,
            "margin": null,
            "display": null,
            "left": null
          }
        },
        "c2667d87e34e4804876318685294d29f": {
          "model_module": "@jupyter-widgets/controls",
          "model_name": "FloatProgressModel",
          "state": {
            "_view_name": "ProgressView",
            "style": "IPY_MODEL_627872e501f64e44bc8105d500e4b428",
            "_dom_classes": [],
            "description": "100%",
            "_model_name": "FloatProgressModel",
            "bar_style": "success",
            "max": 600,
            "_view_module": "@jupyter-widgets/controls",
            "_model_module_version": "1.5.0",
            "value": 600,
            "_view_count": null,
            "_view_module_version": "1.5.0",
            "orientation": "horizontal",
            "min": 0,
            "description_tooltip": null,
            "_model_module": "@jupyter-widgets/controls",
            "layout": "IPY_MODEL_f1edda1def59458fbf3180b88d0edff7"
          }
        },
        "283e386fa1b24acaa0a6269dfbb5d9ae": {
          "model_module": "@jupyter-widgets/controls",
          "model_name": "HTMLModel",
          "state": {
            "_view_name": "HTMLView",
            "style": "IPY_MODEL_1a6578f1add84f5c9b7d1c32817e22c8",
            "_dom_classes": [],
            "description": "",
            "_model_name": "HTMLModel",
            "placeholder": "​",
            "_view_module": "@jupyter-widgets/controls",
            "_model_module_version": "1.5.0",
            "value": " 600/600 [01:13&lt;00:00,  8.20it/s]",
            "_view_count": null,
            "_view_module_version": "1.5.0",
            "description_tooltip": null,
            "_model_module": "@jupyter-widgets/controls",
            "layout": "IPY_MODEL_295a0acd4e14478fab2bbbfc5eda9a58"
          }
        },
        "627872e501f64e44bc8105d500e4b428": {
          "model_module": "@jupyter-widgets/controls",
          "model_name": "ProgressStyleModel",
          "state": {
            "_view_name": "StyleView",
            "_model_name": "ProgressStyleModel",
            "description_width": "initial",
            "_view_module": "@jupyter-widgets/base",
            "_model_module_version": "1.5.0",
            "_view_count": null,
            "_view_module_version": "1.2.0",
            "bar_color": null,
            "_model_module": "@jupyter-widgets/controls"
          }
        },
        "f1edda1def59458fbf3180b88d0edff7": {
          "model_module": "@jupyter-widgets/base",
          "model_name": "LayoutModel",
          "state": {
            "_view_name": "LayoutView",
            "grid_template_rows": null,
            "right": null,
            "justify_content": null,
            "_view_module": "@jupyter-widgets/base",
            "overflow": null,
            "_model_module_version": "1.2.0",
            "_view_count": null,
            "flex_flow": null,
            "width": null,
            "min_width": null,
            "border": null,
            "align_items": null,
            "bottom": null,
            "_model_module": "@jupyter-widgets/base",
            "top": null,
            "grid_column": null,
            "overflow_y": null,
            "overflow_x": null,
            "grid_auto_flow": null,
            "grid_area": null,
            "grid_template_columns": null,
            "flex": null,
            "_model_name": "LayoutModel",
            "justify_items": null,
            "grid_row": null,
            "max_height": null,
            "align_content": null,
            "visibility": null,
            "align_self": null,
            "height": null,
            "min_height": null,
            "padding": null,
            "grid_auto_rows": null,
            "grid_gap": null,
            "max_width": null,
            "order": null,
            "_view_module_version": "1.2.0",
            "grid_template_areas": null,
            "object_position": null,
            "object_fit": null,
            "grid_auto_columns": null,
            "margin": null,
            "display": null,
            "left": null
          }
        },
        "1a6578f1add84f5c9b7d1c32817e22c8": {
          "model_module": "@jupyter-widgets/controls",
          "model_name": "DescriptionStyleModel",
          "state": {
            "_view_name": "StyleView",
            "_model_name": "DescriptionStyleModel",
            "description_width": "",
            "_view_module": "@jupyter-widgets/base",
            "_model_module_version": "1.5.0",
            "_view_count": null,
            "_view_module_version": "1.2.0",
            "_model_module": "@jupyter-widgets/controls"
          }
        },
        "295a0acd4e14478fab2bbbfc5eda9a58": {
          "model_module": "@jupyter-widgets/base",
          "model_name": "LayoutModel",
          "state": {
            "_view_name": "LayoutView",
            "grid_template_rows": null,
            "right": null,
            "justify_content": null,
            "_view_module": "@jupyter-widgets/base",
            "overflow": null,
            "_model_module_version": "1.2.0",
            "_view_count": null,
            "flex_flow": null,
            "width": null,
            "min_width": null,
            "border": null,
            "align_items": null,
            "bottom": null,
            "_model_module": "@jupyter-widgets/base",
            "top": null,
            "grid_column": null,
            "overflow_y": null,
            "overflow_x": null,
            "grid_auto_flow": null,
            "grid_area": null,
            "grid_template_columns": null,
            "flex": null,
            "_model_name": "LayoutModel",
            "justify_items": null,
            "grid_row": null,
            "max_height": null,
            "align_content": null,
            "visibility": null,
            "align_self": null,
            "height": null,
            "min_height": null,
            "padding": null,
            "grid_auto_rows": null,
            "grid_gap": null,
            "max_width": null,
            "order": null,
            "_view_module_version": "1.2.0",
            "grid_template_areas": null,
            "object_position": null,
            "object_fit": null,
            "grid_auto_columns": null,
            "margin": null,
            "display": null,
            "left": null
          }
        }
      }
    }
  },
  "cells": [
    {
      "cell_type": "code",
      "metadata": {
        "id": "noBu9kkXGLHO"
      },
      "source": [
        "pip install -U ckiptagger[tf,gdown]"
      ],
      "execution_count": null,
      "outputs": []
    },
    {
      "cell_type": "code",
      "metadata": {
        "id": "0sAjA16CGTOB",
        "colab": {
          "base_uri": "https://localhost:8080/"
        },
        "outputId": "53cf9086-1125-44af-8a95-45de9b70cb0d"
      },
      "source": [
        "from google.colab import drive\n",
        "drive.mount('/content/drive')"
      ],
      "execution_count": 2,
      "outputs": [
        {
          "output_type": "stream",
          "text": [
            "Mounted at /content/drive\n"
          ],
          "name": "stdout"
        }
      ]
    },
    {
      "cell_type": "code",
      "metadata": {
        "id": "ypuqfWY3GEG9"
      },
      "source": [
        "import pandas as pd\n",
        "import numpy as np\n",
        "\n",
        "from ckiptagger import WS, POS\n",
        "from tqdm.notebook import tqdm"
      ],
      "execution_count": 1,
      "outputs": []
    },
    {
      "cell_type": "code",
      "metadata": {
        "colab": {
          "base_uri": "https://localhost:8080/"
        },
        "id": "SAr3aCfP4wrG",
        "outputId": "6900d387-a6bb-4bed-a160-be1189d5b4a5"
      },
      "source": [
        "from ckiptagger import data_utils, WS\n",
        "data_utils.download_data_gdown(\"./\")"
      ],
      "execution_count": 9,
      "outputs": [
        {
          "output_type": "stream",
          "text": [
            "Downloading...\n",
            "From: https://drive.google.com/uc?id=1efHsY16pxK0lBD2gYCgCTnv1Swstq771\n",
            "To: /content/data.zip\n",
            "1.88GB [00:11, 159MB/s]\n"
          ],
          "name": "stderr"
        }
      ]
    },
    {
      "cell_type": "code",
      "metadata": {
        "id": "L2M_y2WRGEG9"
      },
      "source": [
        "df_train = pd.read_csv('/content/drive/MyDrive/NLP/news_clustering_train.tsv', sep='\\t')\n",
        "df_test = pd.read_csv('/content/drive/MyDrive/NLP/news_clustering_test.tsv', sep='\\t')"
      ],
      "execution_count": 2,
      "outputs": []
    },
    {
      "cell_type": "code",
      "metadata": {
        "id": "bgfpSAjkGEG9"
      },
      "source": [
        "train_titles = {row['index']: row['title'] for _, row in df_train.iterrows()}\n",
        "train_classes = {row['index']: row['class'] for _, row in df_train.iterrows()}\n",
        "\n",
        "test_titles = {row['index']: row['title'] for _, row in df_test.iterrows()}\n",
        "test_classes = {row['index']: row['class'] for _, row in df_test.iterrows()}"
      ],
      "execution_count": 3,
      "outputs": []
    },
    {
      "cell_type": "code",
      "metadata": {
        "id": "9-mbWupjGEG-"
      },
      "source": [
        "all_news_class = ['體育', '財經', '科技', '旅遊', '農業', '遊戲']"
      ],
      "execution_count": 4,
      "outputs": []
    },
    {
      "cell_type": "code",
      "metadata": {
        "id": "SYkbk_cE4r82"
      },
      "source": [
        ""
      ],
      "execution_count": null,
      "outputs": []
    },
    {
      "cell_type": "markdown",
      "metadata": {
        "id": "0PK4u0KpGEG-"
      },
      "source": [
        "# 斷詞 + POS"
      ]
    },
    {
      "cell_type": "code",
      "metadata": {
        "tags": [],
        "id": "HzjASbl5GEG_",
        "colab": {
          "base_uri": "https://localhost:8080/"
        },
        "outputId": "c66ff06e-fef5-4429-f794-dfc830b358e2"
      },
      "source": [
        "ws = WS('./data/')\n",
        "pos = POS('./data/')"
      ],
      "execution_count": 5,
      "outputs": [
        {
          "output_type": "stream",
          "text": [
            "/usr/local/lib/python3.7/dist-packages/tensorflow/python/keras/layers/legacy_rnn/rnn_cell_impl.py:903: UserWarning: `tf.nn.rnn_cell.LSTMCell` is deprecated and will be removed in a future version. This class is equivalent as `tf.keras.layers.LSTMCell`, and will be replaced by that in Tensorflow 2.0.\n",
            "  warnings.warn(\"`tf.nn.rnn_cell.LSTMCell` is deprecated and will be \"\n",
            "/usr/local/lib/python3.7/dist-packages/tensorflow/python/keras/engine/base_layer_v1.py:1727: UserWarning: `layer.add_variable` is deprecated and will be removed in a future version. Please use `layer.add_weight` method instead.\n",
            "  warnings.warn('`layer.add_variable` is deprecated and '\n"
          ],
          "name": "stderr"
        }
      ]
    },
    {
      "cell_type": "code",
      "metadata": {
        "tags": [],
        "colab": {
          "base_uri": "https://localhost:8080/",
          "height": 66,
          "referenced_widgets": [
            "8bb27779723d4275b8887516988efe58",
            "99888c48ac924786999fb8335d305b63",
            "10f018e05c7e4d5f95bd4eb3d9ccdcda",
            "5b4a71ac2e274510ae92be444a4faa23",
            "0bbe81c116f84ba3a218646ece91cf5d",
            "2220d074508e4969b43e75937a03d505",
            "b37c67700f9c4dc1bd2f150f407db6e5",
            "ef031fb018214903829fef610a91c062"
          ]
        },
        "id": "A248ynPIGEG_",
        "outputId": "c7cba6a3-3ff0-4e0f-f0b6-14c5121238da"
      },
      "source": [
        "train_title_cuts = {}\n",
        "for index, title in tqdm(train_titles.items()):\n",
        "    word_s = ws([title])\n",
        "    word_p = pos(word_s)\n",
        "    train_title_cuts[index] = list(zip(word_s[0], word_p[0]))"
      ],
      "execution_count": 6,
      "outputs": [
        {
          "output_type": "display_data",
          "data": {
            "application/vnd.jupyter.widget-view+json": {
              "model_id": "8bb27779723d4275b8887516988efe58",
              "version_minor": 0,
              "version_major": 2
            },
            "text/plain": [
              "HBox(children=(FloatProgress(value=0.0, max=1800.0), HTML(value='')))"
            ]
          },
          "metadata": {
            "tags": []
          }
        },
        {
          "output_type": "stream",
          "text": [
            "\n"
          ],
          "name": "stdout"
        }
      ]
    },
    {
      "cell_type": "code",
      "metadata": {
        "tags": [],
        "colab": {
          "base_uri": "https://localhost:8080/",
          "height": 66,
          "referenced_widgets": [
            "a4d3103f410744a1a1b938832e6d9d0f",
            "8591a71c3ae349868e0385ba43626b74",
            "c2667d87e34e4804876318685294d29f",
            "283e386fa1b24acaa0a6269dfbb5d9ae",
            "627872e501f64e44bc8105d500e4b428",
            "f1edda1def59458fbf3180b88d0edff7",
            "1a6578f1add84f5c9b7d1c32817e22c8",
            "295a0acd4e14478fab2bbbfc5eda9a58"
          ]
        },
        "id": "nRTZWDzwGEG_",
        "outputId": "4d42509c-f378-4019-e25b-8fe428426a68"
      },
      "source": [
        "test_title_cuts = {}\n",
        "for index, title in tqdm(test_titles.items()):\n",
        "    word_s = ws([title])\n",
        "    word_p = pos(word_s)\n",
        "    test_title_cuts[index] = list(zip(word_s[0], word_p[0]))"
      ],
      "execution_count": 7,
      "outputs": [
        {
          "output_type": "display_data",
          "data": {
            "application/vnd.jupyter.widget-view+json": {
              "model_id": "a4d3103f410744a1a1b938832e6d9d0f",
              "version_minor": 0,
              "version_major": 2
            },
            "text/plain": [
              "HBox(children=(FloatProgress(value=0.0, max=600.0), HTML(value='')))"
            ]
          },
          "metadata": {
            "tags": []
          }
        },
        {
          "output_type": "stream",
          "text": [
            "\n"
          ],
          "name": "stdout"
        }
      ]
    },
    {
      "cell_type": "markdown",
      "metadata": {
        "id": "A4TC29DJGEHA"
      },
      "source": [
        "# 尋找降維的詞向量：PPMI + SVD"
      ]
    },
    {
      "cell_type": "code",
      "metadata": {
        "id": "vuyHLGD1GEHA"
      },
      "source": [
        "word2index = {}\n",
        "index2word = {}\n",
        "n = 0\n",
        "for index in train_title_cuts:\n",
        "    for word, flag in train_title_cuts[index]:\n",
        "        if word in word2index:\n",
        "            continue\n",
        "        word2index[word] = n \n",
        "        index2word[n] = word\n",
        "        n += 1"
      ],
      "execution_count": 8,
      "outputs": []
    },
    {
      "cell_type": "code",
      "metadata": {
        "id": "35yDbCMsGEHA",
        "colab": {
          "base_uri": "https://localhost:8080/"
        },
        "outputId": "1ff9a4d9-9e3b-479c-dd75-08b90517b179"
      },
      "source": [
        "len(word2index)"
      ],
      "execution_count": 9,
      "outputs": [
        {
          "output_type": "execute_result",
          "data": {
            "text/plain": [
              "6690"
            ]
          },
          "metadata": {
            "tags": []
          },
          "execution_count": 9
        }
      ]
    },
    {
      "cell_type": "markdown",
      "metadata": {
        "id": "b49dSgXXGEHB"
      },
      "source": [
        "如果使用one-hot就需要這麼大的維度的詞向量"
      ]
    },
    {
      "cell_type": "code",
      "metadata": {
        "colab": {
          "base_uri": "https://localhost:8080/"
        },
        "id": "RYFgkMbRAQ9R",
        "outputId": "5f4e0ede-2ef2-4a46-b925-dac4f1c2612c"
      },
      "source": [
        "train_title_cuts[0]"
      ],
      "execution_count": 10,
      "outputs": [
        {
          "output_type": "execute_result",
          "data": {
            "text/plain": [
              "[('亞洲杯', 'Nb'),\n",
              " ('奪', 'VC'),\n",
              " ('冠賠率', 'Na'),\n",
              " ('：', 'COLONCATEGORY'),\n",
              " ('日本', 'Nc'),\n",
              " ('、', 'PAUSECATEGORY'),\n",
              " ('伊朗', 'Nc'),\n",
              " ('領銜', 'VB'),\n",
              " (' ', 'WHITESPACE'),\n",
              " ('中國', 'Nc'),\n",
              " ('竟', 'D'),\n",
              " ('與', 'P'),\n",
              " ('泰國', 'Nc'),\n",
              " ('並列', 'VG')]"
            ]
          },
          "metadata": {
            "tags": []
          },
          "execution_count": 10
        }
      ]
    },
    {
      "cell_type": "code",
      "metadata": {
        "id": "ODLr_G8eGEHB"
      },
      "source": [
        "# 建立Co-Matrix\n",
        "window_size = 1\n",
        "def create_co_matrix(corpus):\n",
        "    vocab_size = len(word2index)\n",
        "    co_matrix = np.zeros(shape=(vocab_size, vocab_size), dtype=np.int32)\n",
        "    for pairs in corpus.values():\n",
        "\n",
        "        for sen_idx, word in enumerate(pairs):\n",
        "\n",
        "            left_id = sen_idx-window_size if sen_idx-window_size>0 else 0\n",
        "            right_id = sen_idx+window_size if sen_idx+window_size<len(pairs) else len(pairs)-1\n",
        "            plus = pairs[left_id:sen_idx]+pairs[sen_idx+1:right_id+1]\n",
        "\n",
        "            for plus_loc in plus:\n",
        "\n",
        "                co_matrix[word2index[word[0]],word2index[plus_loc[0]]]+=1\n",
        "    return co_matrix"
      ],
      "execution_count": 11,
      "outputs": []
    },
    {
      "cell_type": "code",
      "metadata": {
        "id": "hxYBRBqjPyFU"
      },
      "source": [
        "co_matrix = create_co_matrix(train_title_cuts)"
      ],
      "execution_count": 12,
      "outputs": []
    },
    {
      "cell_type": "code",
      "metadata": {
        "tags": [],
        "id": "OvmjqWXqGEHC"
      },
      "source": [
        "# 建立PPMI\n",
        "\n",
        "def get_ppmi(co_matrix: np.ndarray, eps: float=1e-8):\n",
        "    M = np.zeros_like(co_matrix,dtype=np.float32)\n",
        "    N = np.sum(co_matrix)\n",
        "    S = np.sum(co_matrix,axis=0)\n",
        "    for i in range(co_matrix.shape[0]):\n",
        "        for j in range(co_matrix.shape[1]):\n",
        "            x = (co_matrix[i,j]*N)/(S[i]*S[j]+eps)\n",
        "            pmi = np.log2(x) if x > 0 else 0\n",
        "            M[i,j] = max(pmi,0)\n",
        "\n",
        "    return M\n",
        "\n",
        "ppmi = get_ppmi(co_matrix)"
      ],
      "execution_count": 13,
      "outputs": []
    },
    {
      "cell_type": "code",
      "metadata": {
        "colab": {
          "base_uri": "https://localhost:8080/"
        },
        "id": "94bTGZfqvuJH",
        "outputId": "ac05dd56-eea0-4491-eb0d-4ad15d249737"
      },
      "source": [
        "ppmi"
      ],
      "execution_count": 14,
      "outputs": [
        {
          "output_type": "execute_result",
          "data": {
            "text/plain": [
              "array([[ 0.      ,  9.267157,  0.      , ...,  0.      ,  0.      ,\n",
              "         0.      ],\n",
              "       [ 9.267157,  0.      , 11.515084, ...,  0.      ,  0.      ,\n",
              "         0.      ],\n",
              "       [ 0.      , 11.515084,  0.      , ...,  0.      ,  0.      ,\n",
              "         0.      ],\n",
              "       ...,\n",
              "       [ 0.      ,  0.      ,  0.      , ...,  0.      ,  0.      ,\n",
              "         0.      ],\n",
              "       [ 0.      ,  0.      ,  0.      , ...,  0.      ,  0.      ,\n",
              "         0.      ],\n",
              "       [ 0.      ,  0.      ,  0.      , ...,  0.      ,  0.      ,\n",
              "         0.      ]], dtype=float32)"
            ]
          },
          "metadata": {
            "tags": []
          },
          "execution_count": 14
        }
      ]
    },
    {
      "cell_type": "code",
      "metadata": {
        "id": "XgxLnr3QGEHC"
      },
      "source": [
        "# 進行SVD分解，並得到降維的詞向量\n",
        "\n",
        "from sklearn.decomposition import TruncatedSVD\n",
        "\n",
        "# 使用`TruncatedSVD`進行降維，降維到dim=1000\n",
        "svd = TruncatedSVD(n_components=1000, n_iter=7, random_state=42)\n",
        "word_vectors = svd.fit_transform(ppmi)\n"
      ],
      "execution_count": 15,
      "outputs": []
    },
    {
      "cell_type": "code",
      "metadata": {
        "id": "CXp_nycsGEHC",
        "colab": {
          "base_uri": "https://localhost:8080/"
        },
        "outputId": "dd2e2598-5180-46b4-ac7a-ea392a642d52"
      },
      "source": [
        "word_vectors.shape"
      ],
      "execution_count": 16,
      "outputs": [
        {
          "output_type": "execute_result",
          "data": {
            "text/plain": [
              "(6690, 1000)"
            ]
          },
          "metadata": {
            "tags": []
          },
          "execution_count": 16
        }
      ]
    },
    {
      "cell_type": "markdown",
      "metadata": {
        "id": "E7FenTU4GEHD"
      },
      "source": [
        "# 新的詞向量 + Group mean vector: 測試"
      ]
    },
    {
      "cell_type": "code",
      "metadata": {
        "id": "NihDkkz8GEHD"
      },
      "source": [
        "excluded_flags = [\n",
        "    'Nh', 'Nep', 'Nes', 'DE', 'T', 'P', 'V_2', 'SHI',\n",
        "    'Dfa', 'Dfb', 'Da', 'Di', 'Dk',\n",
        "    'Caa', 'Cab', 'Cba', 'Cbb',\n",
        "    'COLONCATEGORY', 'COMMACATEGORY', 'DASHCATEGORY', 'DOTCATEGORY', 'ETCCATEGORY', 'EXCLAMATIONCATEGORY',\n",
        "    'PARENTHESISCATEGORY', 'PAUSECATEGORY', 'PERIODCATEGORY', 'QUESTIONCATEGORY', 'SEMICOLONCATEGORY',\n",
        "    'SPCHANGECATEGORY', 'WHITESPACE'\n",
        "]"
      ],
      "execution_count": 17,
      "outputs": []
    },
    {
      "cell_type": "code",
      "metadata": {
        "tags": [],
        "id": "OO-gCaklGEHD"
      },
      "source": [
        "train_svd_vectors = {}\n",
        "for index, pairs in train_title_cuts.items():\n",
        "    selected_word_vectors = []\n",
        "    for word, flag in pairs:\n",
        "        if word in word2index and flag not in excluded_flags:\n",
        "            selected_word_vectors.append(word_vectors[word2index[word], :])\n",
        "    vector = np.sum(selected_word_vectors, axis=0)\n",
        "    if np.sum(np.square(vector)) == 0:\n",
        "        continue\n",
        "    train_svd_vectors[index] = vector\n",
        "    "
      ],
      "execution_count": 18,
      "outputs": []
    },
    {
      "cell_type": "code",
      "metadata": {
        "id": "xOyYHZ1SGEHD"
      },
      "source": [
        "test_svd_vectors = {}\n",
        "for index, pairs in test_title_cuts.items():\n",
        "    selected_word_vectors = []\n",
        "    for word, flag in pairs:\n",
        "        if word in word2index and flag not in excluded_flags:\n",
        "            selected_word_vectors.append(word_vectors[word2index[word], :])\n",
        "    vector = np.sum(selected_word_vectors, axis=0)\n",
        "    if np.sum(np.square(vector)) == 0:\n",
        "        continue\n",
        "    test_svd_vectors[index] = vector"
      ],
      "execution_count": 19,
      "outputs": []
    },
    {
      "cell_type": "code",
      "metadata": {
        "id": "EvmxA4zkGEHE"
      },
      "source": [
        "group_vectors = {news_class: [] for news_class in all_news_class}\n",
        "for index, vector in sorted(train_svd_vectors.items()):\n",
        "    news_class = train_classes[index]\n",
        "    group_vectors[news_class].append(vector)\n",
        "\n",
        "group_mean_vector = {}\n",
        "for news_class, vectors in group_vectors.items():\n",
        "    group_mean_vector[news_class] = np.mean(vectors, axis=0)"
      ],
      "execution_count": 20,
      "outputs": []
    },
    {
      "cell_type": "code",
      "metadata": {
        "id": "Vrhgx08PGEHE"
      },
      "source": [
        "def cosine_similarity(bow1, bow2):\n",
        "    len_bow1 = np.sqrt(np.sum(np.square(bow1)))\n",
        "    len_bow2 = np.sqrt(np.sum(np.square(bow2)))\n",
        "    return np.sum(bow1 * bow2) / (len_bow1 * len_bow2)"
      ],
      "execution_count": 21,
      "outputs": []
    },
    {
      "cell_type": "code",
      "metadata": {
        "id": "Knknw0RjGEHE"
      },
      "source": [
        "classification = {news_class: [] for news_class in all_news_class}\n",
        "for index, vector in sorted(test_svd_vectors.items()):\n",
        "    if np.sum(np.square(vector)) == 0:\n",
        "        continue\n",
        "\n",
        "    max_val = -2.0\n",
        "    max_class = None\n",
        "    for news_class, ref_vector in group_mean_vector.items():\n",
        "        val = cosine_similarity(ref_vector, vector)\n",
        "        if val > max_val:\n",
        "            max_class = news_class\n",
        "            max_val = val\n",
        "\n",
        "    classification[max_class].append(index)"
      ],
      "execution_count": 22,
      "outputs": []
    },
    {
      "cell_type": "code",
      "metadata": {
        "colab": {
          "base_uri": "https://localhost:8080/"
        },
        "id": "GNS5svQ72IWU",
        "outputId": "50b1c399-f411-4c28-f92e-ac7c435a1c38"
      },
      "source": [
        "from collections import Counter\n",
        "\n",
        "for group, ids in classification.items():\n",
        "    counter = Counter([test_classes[id] for id in ids])\n",
        "    print('predict', group, ': ', counter)"
      ],
      "execution_count": 23,
      "outputs": [
        {
          "output_type": "stream",
          "text": [
            "predict 體育 :  Counter({'體育': 61, '遊戲': 10, '旅遊': 9, '財經': 8, '科技': 5, '農業': 4})\n",
            "predict 財經 :  Counter({'財經': 62, '科技': 25, '農業': 16, '體育': 8, '遊戲': 8, '旅遊': 7})\n",
            "predict 科技 :  Counter({'科技': 51, '體育': 15, '財經': 14, '遊戲': 10, '農業': 9, '旅遊': 8})\n",
            "predict 旅遊 :  Counter({'旅遊': 58, '農業': 11, '科技': 5, '財經': 4, '體育': 2, '遊戲': 2})\n",
            "predict 農業 :  Counter({'農業': 58, '旅遊': 7, '體育': 4, '遊戲': 4, '財經': 3, '科技': 2})\n",
            "predict 遊戲 :  Counter({'遊戲': 66, '科技': 11, '財經': 9, '旅遊': 9, '體育': 8, '農業': 1})\n"
          ],
          "name": "stdout"
        }
      ]
    }
  ]
}