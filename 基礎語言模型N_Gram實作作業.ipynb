{
  "nbformat": 4,
  "nbformat_minor": 0,
  "metadata": {
    "kernelspec": {
      "display_name": "cupoy_env",
      "language": "python",
      "name": "cupoy_env"
    },
    "language_info": {
      "codemirror_mode": {
        "name": "ipython",
        "version": 3
      },
      "file_extension": ".py",
      "mimetype": "text/x-python",
      "name": "python",
      "nbconvert_exporter": "python",
      "pygments_lexer": "ipython3",
      "version": "3.7.3"
    },
    "colab": {
      "name": "基礎語言模型N_Gram實作作業.ipynb",
      "provenance": []
    }
  },
  "cells": [
    {
      "cell_type": "markdown",
      "metadata": {
        "id": "hTtn5L5vAAkI"
      },
      "source": [
        "### 作業目的: 使用N-Gram模型預測文字\n",
        "\n",
        "本次作業會使用[桃園市官網市政新聞](https://data.gov.tw/dataset/25891)來進行練習"
      ]
    },
    {
      "cell_type": "markdown",
      "metadata": {
        "id": "liGbzH1LAAkP"
      },
      "source": [
        "### 載入所需的Libraries"
      ]
    },
    {
      "cell_type": "code",
      "metadata": {
        "colab": {
          "base_uri": "https://localhost:8080/"
        },
        "id": "COoSVxK2ARUt",
        "outputId": "5901f324-67b6-4e73-e469-80499d421753"
      },
      "source": [
        "from google.colab import drive\n",
        "drive.mount('/content/drive')"
      ],
      "execution_count": 2,
      "outputs": [
        {
          "output_type": "stream",
          "text": [
            "Drive already mounted at /content/drive; to attempt to forcibly remount, call drive.mount(\"/content/drive\", force_remount=True).\n"
          ],
          "name": "stdout"
        }
      ]
    },
    {
      "cell_type": "code",
      "metadata": {
        "id": "WHpXC18XAAkQ"
      },
      "source": [
        "import json\n",
        "import re\n",
        "from collections import Counter, namedtuple"
      ],
      "execution_count": 1,
      "outputs": []
    },
    {
      "cell_type": "markdown",
      "metadata": {
        "id": "3y0luH31AAkR"
      },
      "source": [
        "### 載入資料"
      ]
    },
    {
      "cell_type": "code",
      "metadata": {
        "id": "wWDiyNRhAAkR"
      },
      "source": [
        "with open('/content/drive/MyDrive/NLP/WebNews.json', 'r') as f:\n",
        "    news_data = json.load(f)"
      ],
      "execution_count": 3,
      "outputs": []
    },
    {
      "cell_type": "code",
      "metadata": {
        "colab": {
          "base_uri": "https://localhost:8080/"
        },
        "id": "c1o6Rq92AAkR",
        "outputId": "eae3154a-bdf6-4076-d345-d6753b282a69"
      },
      "source": [
        "news_data[0].keys()"
      ],
      "execution_count": 4,
      "outputs": [
        {
          "output_type": "execute_result",
          "data": {
            "text/plain": [
              "dict_keys(['file', 'link', 'id', 'istop', 'img', 'subject', 'datasourceunit', 'liaisonemail', 'fsort', 'detailcontent', 'secsubject', 'closedate', 'liaisonfax', 'postdate', 'postunit', 'liaisonper', 'liaisontel', 'topdate'])"
            ]
          },
          "metadata": {
            "tags": []
          },
          "execution_count": 4
        }
      ]
    },
    {
      "cell_type": "markdown",
      "metadata": {
        "id": "CPwbF8SSAAkS"
      },
      "source": [
        "### 進行資料清洗\n",
        "觀察上面的資料，資料包含許多其他的資訊，我們需要將真正的新聞內文取出，並且對內文進行文字清洗。\n",
        "請做以下的文字處理:\n",
        "\n",
        "1. 取出新聞內文\n",
        "2. 去除HTML Tags\n",
        "3. 移除標點符號，只保留英文、數字、中文"
      ]
    },
    {
      "cell_type": "code",
      "metadata": {
        "scrolled": true,
        "colab": {
          "base_uri": "https://localhost:8080/",
          "height": 256
        },
        "id": "I5gOcDApAAkT",
        "outputId": "b723c50f-982d-4974-f8c1-091c90c04ef3"
      },
      "source": [
        "#取出新聞內文\n",
        "corpus_list = [news_data[n]['detailcontent'] for n in range(len(news_data))]\n",
        "\n",
        "#去除HTML Tags與標點符號(只保留英文、數字、中文)\n",
        "corpus_list = [re.sub('<.*?>|&nbsp;|[\\(\\)（）、，。「」：；『』%‧,\\^\\$\\*\\s\\-_&@\\!\\?]','',corpus_list[n]) for n in range(len(corpus_list))]\n",
        "\n",
        "corpus_list[0]"
      ],
      "execution_count": 5,
      "outputs": [
        {
          "output_type": "execute_result",
          "data": {
            "application/vnd.google.colaboratory.intrinsic+json": {
              "type": "string"
            },
            "text/plain": [
              "'迎接國旅爆發期五星縣市長合體推廣桃園屏東互惠旅遊桃園市長鄭文燦今11日下午出席桃園加屏東旅遊優惠強棒一棒接一棒好康發表記者會鄭市長表示隨著疫情趨緩國內進入國旅爆發期觀光局近期公布最新10大熱門旅遊景點桃園包辦前三名依序為大溪老街石門水庫及角板山顯示桃園旅遊的潛力無限鄭市長說桃園市與屏東縣各自擁有獨特的觀光魅力與資源希望能搭配中央觀光振興方案共同推廣防疫互惠旅遊並推出更多加碼優惠措施降低民眾的旅遊負擔增加旅遊的樂趣也讓國境之南與國境之門做最好的交流鄭市長提到桃園是國門之都屏東是國境之南兩個城市各有特色及魅力許多景點也互相輝映假如你喜歡屏東的山川琉璃吊橋絕對不能錯過桃園的新溪口吊橋如果你喜歡大溪老街也應該去恆春古城漫遊鄭市長說許多民眾造訪過很多國外景點例如普吉島巴里島卻沒有到過小琉球澎湖等離島十分可惜他也稱讚屏東幅員遼闊擁有多樣化的景點墾丁更是國內旅遊勝地之一希望現階段推動防疫新生活的同時桃園也能與各縣市合作一起推廣防疫互惠旅遊讓更多在地旅遊業者受惠桃園預估下半年包含鄰里長環保志工守望相助隊義警民防等觀摩旅遊團數出團數將達500團以上目前桃園第一階段已經與基隆台南屏東等縣市簽署合作契約第二階段將與宜蘭花蓮南投嘉義等縣市合作希望未來逐漸擴大至其他縣市提供遊客更多優惠措施鄭市長也說屏東縣推出三鐵優惠方案桃園市自7月1日起推出來桃園住一晚加贈免費一日遊方案遊客來桃園在合法旅宿住一晚即可獲得市府加贈免費一日遊行程內容包含遊覽車接送午餐景點門票或DIY體驗等期盼帶領遊客體驗桃園的觀光魅力此外民眾也可以持200元振興三倍券兌換400元夜市券藉此鼓勵民眾到夜市消費市府未來也將陸續推出更多的加碼優惠措施屏東縣長潘孟安則希望在鄭市長推廣下吸引更多桃園市民到屏東旅遊他表示桃園為國境之門擁有很大的發展優勢在鄭市長帶領下桃園連續多年結婚率及出生率都是全國之冠也成為一座宜居城市他也特別推薦親子旅遊首選屏東屏東縣政府整合轄內旅宿業者伴手禮業者食品業者等推出鐵定加碼鐵定貼心鐵定好玩三鐵優惠7月15日以前遊客在恆春地區住宿一晚即加贈場館門票或等值餐飲券在東港地區住宿則可用10元加購伴手禮及小王馬福袋10人以上團體旅遊每人可獲得500元旅費補助每團上限1萬元屏東也有許多當季優質農特產品及特色伴手禮歡迎桃園市民踴躍到屏東旅遊保證遊客玩得痛快買得愉快吃得爽快全國中等學校運動會今109年首度移師屏東舉辦潘縣長也特別邀請鄭市長在7月18日開幕式當天帶領市府團隊一同到屏東為桃園選手加油打氣爭取比賽佳績同時也抽空享受屏東的湖光山色以及感受屏東鄉親的熱情鄭市長與潘縣長在活動現場互贈特色伴手禮鄭市長表示桃園雖然是工業重鎮但在地農特產品類型多元食品工業也十分蓬勃這次市府團隊特別挑選東方美人茶黃金蜜吻仔魚海鮮醬棗到杏福等特色伴手禮送給潘縣長及屏東縣政府團隊鄭市長也說桃園接下來幾乎每個月都會有一場以上的大型觀光活動可說月月都精彩呼籲屏東鄉親也來桃園走走促進桃園與屏東的互相交流潘縣長則特別挑選花襯衫世界金牌巧克力金牌咖啡及全中運吉祥物驕鳥仔玩偶送給鄭市長今日包括市議員王仙蓮呂林小鳳陳美梅簡志偉屏東縣長潘孟安屏東縣政府交通旅遊處處長黃國維傳播暨國際事務處處長黃建嘉研考處處長鄞鳳蘭農業處副處長鄭永裕桃園市政府副秘書長何明光觀旅局長楊勝評經發局長郭裕信研考會主委吳君婷警察局長陳國進人事處長黃新雛環保局長呂理德農業局副局長江富貴桃園市工商發展投資策進會總幹事陳家濬屏東旅遊集團董事長郭子義屏東縣恆春半島觀光產業聯盟理事長林榮欽屏東縣觀光協會副理事長吳炫東大鵬灣觀光產業聯盟總幹事徐鳴懋大鵬灣觀光產業聯盟副總幹事黃啟禎桃園市觀光旅遊發展協會理事長李三連桃園市旅館商業同業公會理事長邱照進桃園市觀光工廠促進發展協會理事長林世閎桃園市民宿發展協會理事長陳秉弘雄獅集團總經理劉冷紅等均一同出席活動'"
            ]
          },
          "metadata": {
            "tags": []
          },
          "execution_count": 5
        }
      ]
    },
    {
      "cell_type": "markdown",
      "metadata": {
        "id": "F3GmmrnwAAkT"
      },
      "source": [
        "### 建立N-Gram模型\n",
        "N-Gram模型在計算詞機率時為(以Trigram為例)\n",
        "$$\n",
        "P(W_i|W_{i-1},W_{i-2}) = \\frac{count(W_i,W_{i-1},W_{i-2})}{count(W_{i-1},W_{i-2})}\n",
        "$$\n",
        "\n",
        "舉例來說\n",
        "$$\n",
        "P(the|this,is) = \\frac{count(this\\ is\\ the)}{count(this\\ is)}\n",
        "$$"
      ]
    },
    {
      "cell_type": "code",
      "metadata": {
        "id": "K8lzLTUjlFj0"
      },
      "source": [
        "def ngram(documents, N=2):\n",
        "    \n",
        "    #建立儲存預測字, 所有ngram詞頻字典, 所有字詞(分母)\n",
        "    ngram_prediction = dict()\n",
        "    total_grams = list()\n",
        "    words = list()\n",
        "    Word = namedtuple('Word', ['word', 'prob']) #使用namedtuple來儲存預測字詞與對應機率\n",
        "    for doc in documents:\n",
        "        # 在每個文章前加上起始(<start>)與結束符號(<end>)\n",
        "        doc = ['<s>']+list(doc)+['<e>']\n",
        "        # 計算分子[(word*n)()...] => N個詞一組\n",
        "        [total_grams.append(tuple(doc[i:i+N])) for i in range(len(doc)-N+1)]\n",
        "        # 計算分母 => N-1個詞一組\n",
        "        [words.append(tuple(doc[i:(i+N-1)])) for i in range(len(doc)-N+2)]\n",
        "\n",
        "    #計算分子詞頻 \n",
        "    total_word_counter = Counter(total_grams)\n",
        "    #計算分母詞頻\n",
        "    word_counter = Counter(words)\n",
        "\n",
        "    #計算所有N-gram預測字詞的機率\n",
        "    for key in total_word_counter:\n",
        "        word_1=''.join(key[:N-1])\n",
        "        if word_1 not in ngram_prediction:\n",
        "            ngram_prediction[word_1]=set()\n",
        "        prob = total_word_counter[key]/word_counter[key[:N-1]]\n",
        "        ngram_prediction[word_1].add(Word(key[-1],prob))  #set.add()\n",
        "\n",
        "    return ngram_prediction    "
      ],
      "execution_count": 7,
      "outputs": []
    },
    {
      "cell_type": "markdown",
      "metadata": {
        "id": "UFyAfWNLAAkU"
      },
      "source": [
        "### 使用N-Gram模型進行預測\n",
        "這裡我們使用4 gram模型，也就是輸入三個字之後，第四個字出現的機率，並將輸出依據機率做排序"
      ]
    },
    {
      "cell_type": "code",
      "metadata": {
        "id": "6XUust13AAkU"
      },
      "source": [
        "#建立four_gram模型，並將預測的機率按照大小排列\n",
        "four_gram_pred = ngram(corpus_list, N=4)\n",
        "for word, pred in four_gram_pred.items():\n",
        "    four_gram_pred[word]=sorted(pred,key=lambda x:x.prob,reverse=True)"
      ],
      "execution_count": 8,
      "outputs": []
    },
    {
      "cell_type": "code",
      "metadata": {
        "scrolled": true,
        "id": "LSRXCtwJAAkU"
      },
      "source": [
        "# 執行時因為字典數龐大，顯示會較慢\n",
        "four_gram_pred"
      ],
      "execution_count": null,
      "outputs": []
    },
    {
      "cell_type": "code",
      "metadata": {
        "colab": {
          "base_uri": "https://localhost:8080/"
        },
        "id": "9TcsKtQnMZMv",
        "outputId": "4dae3773-2e12-40c7-e06c-dbe30445ff91"
      },
      "source": [
        "#給定字詞，使用ngram預測下一個字的機率(顯示top 10)\n",
        "text = '鄭文燦'\n",
        "next_words = four_gram_pred['鄭文燦']\n",
        "for next_word in next_words:\n",
        "    print('next word: {}, probability: {}'.format(next_word.word, next_word.prob))"
      ],
      "execution_count": 10,
      "outputs": [
        {
          "output_type": "stream",
          "text": [
            "next word: 今, probability: 0.9795698924731183\n",
            "next word: 市, probability: 0.00967741935483871\n",
            "next word: 模, probability: 0.002150537634408602\n",
            "next word: 表, probability: 0.002150537634408602\n",
            "next word: 昨, probability: 0.001075268817204301\n",
            "next word: 台, probability: 0.001075268817204301\n",
            "next word: 率, probability: 0.001075268817204301\n",
            "next word: 於, probability: 0.001075268817204301\n",
            "next word: 成, probability: 0.001075268817204301\n",
            "next word: 回, probability: 0.001075268817204301\n"
          ],
          "name": "stdout"
        }
      ]
    },
    {
      "cell_type": "markdown",
      "metadata": {
        "id": "ORgYE1KdAAkV"
      },
      "source": [
        "可自行嘗試使用不同的N搭建不同的N-Gram模型的效果"
      ]
    }
  ]
}