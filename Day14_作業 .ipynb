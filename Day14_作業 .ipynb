{
  "nbformat": 4,
  "nbformat_minor": 0,
  "metadata": {
    "kernelspec": {
      "display_name": "Python 3",
      "language": "python",
      "name": "python3"
    },
    "language_info": {
      "codemirror_mode": {
        "name": "ipython",
        "version": 3
      },
      "file_extension": ".py",
      "mimetype": "text/x-python",
      "name": "python",
      "nbconvert_exporter": "python",
      "pygments_lexer": "ipython3",
      "version": "3.7.4"
    },
    "colab": {
      "name": "Day14_作業.ipynb",
      "provenance": [],
      "toc_visible": true
    }
  },
  "cells": [
    {
      "cell_type": "markdown",
      "metadata": {
        "id": "EMMfQIiW6w58"
      },
      "source": [
        "## 本日課程-文字預處理，部分內容前面章節可能提過，這裡會將前處理所需技巧串起"
      ]
    },
    {
      "cell_type": "code",
      "metadata": {
        "colab": {
          "base_uri": "https://localhost:8080/"
        },
        "id": "FbWeyjM-61HF",
        "outputId": "367b734f-c6da-45d3-f5e6-f397adc53fce"
      },
      "source": [
        "from google.colab import drive\n",
        "drive.mount('/content/drive')"
      ],
      "execution_count": 1,
      "outputs": [
        {
          "output_type": "stream",
          "text": [
            "Mounted at /content/drive\n"
          ],
          "name": "stdout"
        }
      ]
    },
    {
      "cell_type": "code",
      "metadata": {
        "id": "YPHz2gu76w6C"
      },
      "source": [
        "import numpy as np \n",
        "import pandas as pd\n",
        "import matplotlib.pyplot as plt\n",
        "from sklearn.metrics import confusion_matrix\n",
        "from nltk.corpus import stopwords\n",
        "#tsv是指用tab分開字元的檔案\n",
        "dataset=pd.read_csv('/content/drive/MyDrive/NLP/movie_feedback.csv', header=None, encoding='Big5')\n",
        "X = dataset[0].values\n",
        "Y = dataset[1].values"
      ],
      "execution_count": 3,
      "outputs": []
    },
    {
      "cell_type": "code",
      "metadata": {
        "id": "z9vOrTJB6w6E",
        "outputId": "8f7b7356-a45c-4839-a0a0-4a91e6644dac"
      },
      "source": [
        "dataset"
      ],
      "execution_count": null,
      "outputs": [
        {
          "output_type": "execute_result",
          "data": {
            "text/html": [
              "<div>\n",
              "<style scoped>\n",
              "    .dataframe tbody tr th:only-of-type {\n",
              "        vertical-align: middle;\n",
              "    }\n",
              "\n",
              "    .dataframe tbody tr th {\n",
              "        vertical-align: top;\n",
              "    }\n",
              "\n",
              "    .dataframe thead th {\n",
              "        text-align: right;\n",
              "    }\n",
              "</style>\n",
              "<table border=\"1\" class=\"dataframe\">\n",
              "  <thead>\n",
              "    <tr style=\"text-align: right;\">\n",
              "      <th></th>\n",
              "      <th>0</th>\n",
              "      <th>1</th>\n",
              "    </tr>\n",
              "  </thead>\n",
              "  <tbody>\n",
              "    <tr>\n",
              "      <th>0</th>\n",
              "      <td>the rock is destined to be the 21st century's ...</td>\n",
              "      <td>1</td>\n",
              "    </tr>\n",
              "    <tr>\n",
              "      <th>1</th>\n",
              "      <td>the gorgeously elaborate continuation of \" the...</td>\n",
              "      <td>1</td>\n",
              "    </tr>\n",
              "    <tr>\n",
              "      <th>2</th>\n",
              "      <td>effective but too-tepid biopic</td>\n",
              "      <td>1</td>\n",
              "    </tr>\n",
              "    <tr>\n",
              "      <th>3</th>\n",
              "      <td>if you sometimes like to go to the movies to h...</td>\n",
              "      <td>1</td>\n",
              "    </tr>\n",
              "    <tr>\n",
              "      <th>4</th>\n",
              "      <td>emerges as something rare , an issue movie tha...</td>\n",
              "      <td>1</td>\n",
              "    </tr>\n",
              "    <tr>\n",
              "      <th>...</th>\n",
              "      <td>...</td>\n",
              "      <td>...</td>\n",
              "    </tr>\n",
              "    <tr>\n",
              "      <th>10657</th>\n",
              "      <td>a terrible movie that some people will neverth...</td>\n",
              "      <td>0</td>\n",
              "    </tr>\n",
              "    <tr>\n",
              "      <th>10658</th>\n",
              "      <td>there are many definitions of 'time waster' bu...</td>\n",
              "      <td>0</td>\n",
              "    </tr>\n",
              "    <tr>\n",
              "      <th>10659</th>\n",
              "      <td>as it stands , crocodile hunter has the hurrie...</td>\n",
              "      <td>0</td>\n",
              "    </tr>\n",
              "    <tr>\n",
              "      <th>10660</th>\n",
              "      <td>the thing looks like a made-for-home-video qui...</td>\n",
              "      <td>0</td>\n",
              "    </tr>\n",
              "    <tr>\n",
              "      <th>10661</th>\n",
              "      <td>enigma is well-made , but it's just too dry an...</td>\n",
              "      <td>0</td>\n",
              "    </tr>\n",
              "  </tbody>\n",
              "</table>\n",
              "<p>10662 rows × 2 columns</p>\n",
              "</div>"
            ],
            "text/plain": [
              "                                                       0  1\n",
              "0      the rock is destined to be the 21st century's ...  1\n",
              "1      the gorgeously elaborate continuation of \" the...  1\n",
              "2                         effective but too-tepid biopic  1\n",
              "3      if you sometimes like to go to the movies to h...  1\n",
              "4      emerges as something rare , an issue movie tha...  1\n",
              "...                                                  ... ..\n",
              "10657  a terrible movie that some people will neverth...  0\n",
              "10658  there are many definitions of 'time waster' bu...  0\n",
              "10659  as it stands , crocodile hunter has the hurrie...  0\n",
              "10660  the thing looks like a made-for-home-video qui...  0\n",
              "10661  enigma is well-made , but it's just too dry an...  0\n",
              "\n",
              "[10662 rows x 2 columns]"
            ]
          },
          "metadata": {
            "tags": []
          },
          "execution_count": 2
        }
      ]
    },
    {
      "cell_type": "markdown",
      "metadata": {
        "id": "pRnlcrh76w6F"
      },
      "source": [
        "---"
      ]
    },
    {
      "cell_type": "code",
      "metadata": {
        "colab": {
          "base_uri": "https://localhost:8080/"
        },
        "id": "srDFn81D6w6F",
        "outputId": "a2671a4f-82b1-4cfc-b72c-4e0cff3d195f"
      },
      "source": [
        "print('review before preprocessing : {}'.format(X[0]))"
      ],
      "execution_count": 4,
      "outputs": [
        {
          "output_type": "stream",
          "text": [
            "review before preprocessing : the rock is destined to be the 21st century's new \" conan \" and that he's going to make a splash even greater than arnold schwarzenegger , jean-claud van damme or steven segal . \n"
          ],
          "name": "stdout"
        }
      ]
    },
    {
      "cell_type": "markdown",
      "metadata": {
        "id": "PY8BFJ_O6w6G"
      },
      "source": [
        "## 運用re.sub去除部分字元"
      ]
    },
    {
      "cell_type": "code",
      "metadata": {
        "id": "tMWZ7iuS6w6G"
      },
      "source": [
        "import re \n",
        "# 去除a-zA-Z以外的字元，並將他們取代為空格' '\n",
        "review=re.sub('[^A-Za-z]',' ',X[0])"
      ],
      "execution_count": 5,
      "outputs": []
    },
    {
      "cell_type": "code",
      "metadata": {
        "colab": {
          "base_uri": "https://localhost:8080/"
        },
        "id": "q8fKv-_k6w6G",
        "outputId": "bbe6b97e-8c2f-49c3-9284-7bd5c04c90d2"
      },
      "source": [
        "print('review after re.sub : {}'.format(review))"
      ],
      "execution_count": 6,
      "outputs": [
        {
          "output_type": "stream",
          "text": [
            "review after re.sub : the rock is destined to be the   st century s new   conan   and that he s going to make a splash even greater than arnold schwarzenegger   jean claud van damme or steven segal   \n"
          ],
          "name": "stdout"
        }
      ]
    },
    {
      "cell_type": "markdown",
      "metadata": {
        "id": "S9yfyCZm6w6H"
      },
      "source": [
        "## 將所有字母轉為小寫:因為大部分情境區分大小寫並不能提供而外訊息，如CV內顏色無法提供額外訊息時我們會將圖像轉為灰階，藉此降低複雜度"
      ]
    },
    {
      "cell_type": "code",
      "metadata": {
        "colab": {
          "base_uri": "https://localhost:8080/"
        },
        "id": "nTVARFW36w6H",
        "outputId": "683c6cc6-6338-48ed-da1a-32d6bed8e39e"
      },
      "source": [
        "#把全部變成小寫\n",
        "review=review.lower()\n",
        "print('review after lower : {}'.format(review))"
      ],
      "execution_count": 7,
      "outputs": [
        {
          "output_type": "stream",
          "text": [
            "review after lower : the rock is destined to be the   st century s new   conan   and that he s going to make a splash even greater than arnold schwarzenegger   jean claud van damme or steven segal   \n"
          ],
          "name": "stdout"
        }
      ]
    },
    {
      "cell_type": "markdown",
      "metadata": {
        "id": "eluZRJdV6w6I"
      },
      "source": [
        "## 斷詞"
      ]
    },
    {
      "cell_type": "code",
      "metadata": {
        "colab": {
          "base_uri": "https://localhost:8080/"
        },
        "id": "HsoOIff_6w6I",
        "outputId": "a543485c-bae1-4fad-aa0b-7c82b58cb56a"
      },
      "source": [
        "import nltk\n",
        "#把review裡面的單字切開\n",
        "print('review after split : {}'.format(review.split()))"
      ],
      "execution_count": 8,
      "outputs": [
        {
          "output_type": "stream",
          "text": [
            "review after split : ['the', 'rock', 'is', 'destined', 'to', 'be', 'the', 'st', 'century', 's', 'new', 'conan', 'and', 'that', 'he', 's', 'going', 'to', 'make', 'a', 'splash', 'even', 'greater', 'than', 'arnold', 'schwarzenegger', 'jean', 'claud', 'van', 'damme', 'or', 'steven', 'segal']\n"
          ],
          "name": "stdout"
        }
      ]
    },
    {
      "cell_type": "markdown",
      "metadata": {
        "id": "AeCJDEoS6w6I"
      },
      "source": [
        "* tokenize 相較於split會是更好的選擇，如 split 無法分開 word. 這種case"
      ]
    },
    {
      "cell_type": "code",
      "metadata": {
        "colab": {
          "base_uri": "https://localhost:8080/"
        },
        "id": "ofhxPLjG6w6I",
        "outputId": "8cdde4dc-e908-47aa-beee-acbc99ba42b5"
      },
      "source": [
        "review = nltk.word_tokenize(review)\n",
        "print('review after tokenize : {}'.format(review))"
      ],
      "execution_count": 11,
      "outputs": [
        {
          "output_type": "stream",
          "text": [
            "review after tokenize : ['the', 'rock', 'is', 'destined', 'to', 'be', 'the', 'st', 'century', 's', 'new', 'conan', 'and', 'that', 'he', 's', 'going', 'to', 'make', 'a', 'splash', 'even', 'greater', 'than', 'arnold', 'schwarzenegger', 'jean', 'claud', 'van', 'damme', 'or', 'steven', 'segal']\n"
          ],
          "name": "stdout"
        }
      ]
    },
    {
      "cell_type": "markdown",
      "metadata": {
        "id": "UQsjqs5n6w6J"
      },
      "source": [
        "## stopwords: 移除贅字，此步驟為前處理的重要步驟之一，過多的贅字不僅無法提供更多訊息，還會干擾到模型的訓練"
      ]
    },
    {
      "cell_type": "code",
      "metadata": {
        "colab": {
          "base_uri": "https://localhost:8080/"
        },
        "id": "cqhRwZng6w6J",
        "outputId": "4c68812b-cd18-478d-c3b3-d189a4ff82b8"
      },
      "source": [
        "#處理文字，有建立好的文字褲會幫我們移除不想要的文字\n",
        "import nltk\n",
        "nltk.download('stopwords')"
      ],
      "execution_count": 12,
      "outputs": [
        {
          "output_type": "stream",
          "text": [
            "[nltk_data] Downloading package stopwords to /root/nltk_data...\n",
            "[nltk_data]   Unzipping corpora/stopwords.zip.\n"
          ],
          "name": "stdout"
        },
        {
          "output_type": "execute_result",
          "data": {
            "text/plain": [
              "True"
            ]
          },
          "metadata": {
            "tags": []
          },
          "execution_count": 12
        }
      ]
    },
    {
      "cell_type": "code",
      "metadata": {
        "colab": {
          "base_uri": "https://localhost:8080/"
        },
        "id": "8zX4WKIS83Xb",
        "outputId": "392b1a75-bc35-4eb7-c353-531ac251a842"
      },
      "source": [
        "stopwords.words('english')[:5]"
      ],
      "execution_count": 15,
      "outputs": [
        {
          "output_type": "execute_result",
          "data": {
            "text/plain": [
              "['i', 'me', 'my', 'myself', 'we']"
            ]
          },
          "metadata": {
            "tags": []
          },
          "execution_count": 15
        }
      ]
    },
    {
      "cell_type": "code",
      "metadata": {
        "colab": {
          "base_uri": "https://localhost:8080/"
        },
        "id": "2qeGJIPh6w6J",
        "outputId": "93de23c5-ae3d-4cb7-8d52-b5b48c53c8e7"
      },
      "source": [
        "review=[word for word in review if not word in set(stopwords.words('english'))]\n",
        "print('review after removeing stopwords : {}'.format(review))"
      ],
      "execution_count": 14,
      "outputs": [
        {
          "output_type": "stream",
          "text": [
            "review after removeing stopwords : ['rock', 'destined', 'st', 'century', 'new', 'conan', 'going', 'make', 'splash', 'even', 'greater', 'arnold', 'schwarzenegger', 'jean', 'claud', 'van', 'damme', 'steven', 'segal']\n"
          ],
          "name": "stdout"
        }
      ]
    },
    {
      "cell_type": "markdown",
      "metadata": {
        "id": "ZaJeJ8NT6w6K"
      },
      "source": [
        "## Stemming: 詞幹提取\n",
        " * ex. loves,loved都變成love\n",
        " * 中文沒有詞幹提取的需求"
      ]
    },
    {
      "cell_type": "code",
      "metadata": {
        "id": "ICv3gqIK6w6K"
      },
      "source": [
        "from nltk.stem.porter import PorterStemmer\n",
        "ps=PorterStemmer()\n",
        "review=[ps.stem(word) for word in review]"
      ],
      "execution_count": 16,
      "outputs": []
    },
    {
      "cell_type": "code",
      "metadata": {
        "colab": {
          "base_uri": "https://localhost:8080/"
        },
        "id": "Wym_tNgt6w6K",
        "outputId": "fdc40ad0-7345-4806-a188-a157e9f37e3f"
      },
      "source": [
        "print('review after stemming : {}'.format(review))"
      ],
      "execution_count": 17,
      "outputs": [
        {
          "output_type": "stream",
          "text": [
            "review after stemming : ['rock', 'destin', 'st', 'centuri', 'new', 'conan', 'go', 'make', 'splash', 'even', 'greater', 'arnold', 'schwarzenegg', 'jean', 'claud', 'van', 'damm', 'steven', 'segal']\n"
          ],
          "name": "stdout"
        }
      ]
    },
    {
      "cell_type": "markdown",
      "metadata": {
        "id": "Rl2UZg3Z6w6K"
      },
      "source": [
        "## 練習清理所有的句子"
      ]
    },
    {
      "cell_type": "code",
      "metadata": {
        "id": "s8mkSZhA6w6K"
      },
      "source": [
        "#dataset=pd.read_csv('movie_feedback.csv',encoding = 'Big5',names=['feedback', 'label'] )\n",
        "X = dataset[0].values"
      ],
      "execution_count": null,
      "outputs": []
    },
    {
      "cell_type": "code",
      "metadata": {
        "id": "aRaAE_mg6w6L"
      },
      "source": [
        "corpus=[]\n",
        "row=len(X)\n",
        "for i in range(0,row):\n",
        "    review=re.sub('[^a-zA-Z]',' ',X[i])\n",
        "    review=review.lower()\n",
        "    review=review.split()\n",
        "    ps=PorterStemmer()\n",
        "    ## 這裡先不用stopwords 因為 review中很多反定詞會被移掉 如isn't good, 會變成 good\n",
        "    review=[ps.stem(word) for word in review ]\n",
        "    review=' '.join(review)\n",
        "    corpus.append(review)"
      ],
      "execution_count": 18,
      "outputs": []
    },
    {
      "cell_type": "markdown",
      "metadata": {
        "id": "Tv4lGn1k6w6L"
      },
      "source": [
        "## 轉bag-of-words vector"
      ]
    },
    {
      "cell_type": "code",
      "metadata": {
        "id": "bOxu4EH06w6L"
      },
      "source": [
        "from sklearn.feature_extraction.text import CountVectorizer\n",
        "#Creating bag of word model\n",
        "#tokenization(符號化)\n",
        "from sklearn.feature_extraction.text import CountVectorizer\n",
        "#max_features是要建造幾個column，會按造字出現的高低去篩選 \n",
        "cv = CountVectorizer(max_features=1500)\n",
        "#toarray是建造matrixs\n",
        "#X現在為sparsity就是很多零的matrix\n",
        "X_ = cv.fit_transform(corpus).toarray()\n",
        "Y_ = dataset[1].values"
      ],
      "execution_count": 19,
      "outputs": []
    },
    {
      "cell_type": "code",
      "metadata": {
        "colab": {
          "base_uri": "https://localhost:8080/"
        },
        "id": "-HHezSDP9s49",
        "outputId": "ea91e0a5-a90d-4035-94a5-342d2ed7b5c6"
      },
      "source": [
        "print(X_.shape) # 共10662筆評論-取最常出現的1500個字\n",
        "print(Y_.shape) # 共10662筆評論-正負面標註"
      ],
      "execution_count": 24,
      "outputs": [
        {
          "output_type": "stream",
          "text": [
            "(10662, 1500)\n",
            "(10662,)\n"
          ],
          "name": "stdout"
        }
      ]
    },
    {
      "cell_type": "markdown",
      "metadata": {
        "id": "Ts1U4f-B6w6L"
      },
      "source": [
        "## 選擇練習: 將處理好數據放入 naive_bayes模型，並預測評論為正向或負面，詳細原理之後章節會解釋。"
      ]
    },
    {
      "cell_type": "markdown",
      "metadata": {
        "id": "9eXEnqCr6w6M"
      },
      "source": [
        "## Training"
      ]
    },
    {
      "cell_type": "code",
      "metadata": {
        "colab": {
          "base_uri": "https://localhost:8080/"
        },
        "id": "JgiSOoMo6w6M",
        "outputId": "b066eff8-7c01-4e3d-b1ca-6d424768a0ea"
      },
      "source": [
        "from sklearn.model_selection import train_test_split\n",
        "X_train, X_test, y_train, y_test = train_test_split(X_, Y_, test_size = 0.1)\n",
        "\n",
        "# Feature Scaling\n",
        "\n",
        "\n",
        "#Naive Bayes\n",
        "from sklearn.naive_bayes import GaussianNB\n",
        "classifier = GaussianNB()\n",
        "classifier.fit(X_train, y_train)"
      ],
      "execution_count": 30,
      "outputs": [
        {
          "output_type": "execute_result",
          "data": {
            "text/plain": [
              "GaussianNB(priors=None, var_smoothing=1e-09)"
            ]
          },
          "metadata": {
            "tags": []
          },
          "execution_count": 30
        }
      ]
    },
    {
      "cell_type": "markdown",
      "metadata": {
        "id": "swBHxmnF6w6M"
      },
      "source": [
        "## Inference"
      ]
    },
    {
      "cell_type": "code",
      "metadata": {
        "id": "TfAs3ztK6w6M"
      },
      "source": [
        "\n",
        "message='I really like this movie!!'\n",
        "## 要使用一樣的前處理\n",
        "review=re.sub('[^a-zA-Z]',' ',message)\n",
        "review=review.lower()\n",
        "review=review.split()\n",
        "ps=PorterStemmer()\n",
        "review=[ps.stem(word) for word in review]\n",
        "review = ' '.join(review)\n",
        "input_ = cv.transform([review]).toarray()\n",
        "prediction = classifier.predict(input_)\n",
        "\n"
      ],
      "execution_count": 31,
      "outputs": []
    },
    {
      "cell_type": "code",
      "metadata": {
        "colab": {
          "base_uri": "https://localhost:8080/"
        },
        "id": "OU3h42I-6w6N",
        "outputId": "85e97fa9-1c85-4781-ee62-6de4a5bb4b78"
      },
      "source": [
        "prediction ## 1代表正向評價"
      ],
      "execution_count": 32,
      "outputs": [
        {
          "output_type": "execute_result",
          "data": {
            "text/plain": [
              "array([1])"
            ]
          },
          "metadata": {
            "tags": []
          },
          "execution_count": 32
        }
      ]
    },
    {
      "cell_type": "code",
      "metadata": {
        "id": "oH9ze57k6w6N"
      },
      "source": [
        "message='A terrible movie  !!'\n",
        "review=re.sub('[^a-zA-Z]',' ',message)\n",
        "review=review.lower()\n",
        "review=review.split()\n",
        "ps=PorterStemmer()\n",
        "review=[ps.stem(word) for word in review]\n",
        "review = ' '.join(review)\n",
        "input_ = cv.transform([review]).toarray()\n",
        "prediction = classifier.predict(input_)\n",
        "\n"
      ],
      "execution_count": 33,
      "outputs": []
    },
    {
      "cell_type": "code",
      "metadata": {
        "colab": {
          "base_uri": "https://localhost:8080/"
        },
        "id": "xYoO9tvd6w6N",
        "outputId": "7715230d-5453-40d9-e418-4dcf5832f036"
      },
      "source": [
        "prediction ## 0代表負面評價"
      ],
      "execution_count": 34,
      "outputs": [
        {
          "output_type": "execute_result",
          "data": {
            "text/plain": [
              "array([0])"
            ]
          },
          "metadata": {
            "tags": []
          },
          "execution_count": 34
        }
      ]
    },
    {
      "cell_type": "code",
      "metadata": {
        "id": "4zYe6wv96w6N"
      },
      "source": [
        ""
      ],
      "execution_count": null,
      "outputs": []
    }
  ]
}