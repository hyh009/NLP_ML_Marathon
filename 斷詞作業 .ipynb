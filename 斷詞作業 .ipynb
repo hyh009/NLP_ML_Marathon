{
  "nbformat": 4,
  "nbformat_minor": 0,
  "metadata": {
    "kernelspec": {
      "display_name": "pytorch_env",
      "language": "python",
      "name": "pytorch_env"
    },
    "language_info": {
      "codemirror_mode": {
        "name": "ipython",
        "version": 3
      },
      "file_extension": ".py",
      "mimetype": "text/x-python",
      "name": "python",
      "nbconvert_exporter": "python",
      "pygments_lexer": "ipython3",
      "version": "3.7.3"
    },
    "colab": {
      "name": "斷詞作業.ipynb",
      "provenance": []
    }
  },
  "cells": [
    {
      "cell_type": "markdown",
      "metadata": {
        "id": "TgZ3_aDkUi1z"
      },
      "source": [
        "## 作業目標: 了解斷詞演算法的背後計算"
      ]
    },
    {
      "cell_type": "markdown",
      "metadata": {
        "id": "DVfHTiM6Ui15"
      },
      "source": [
        "### 根據課程講述的內容, 請計算出下列剩餘所有情況的\n",
        "若有一個人連續觀察到三天水草都是乾燥的(Dry), 則這三天的天氣機率為何？(可參考講義第13頁)\n",
        "(Hint: 共有8種可能機率)\n",
        "\n",
        "```python\n",
        "states = ('sunny', 'rainy')\n",
        "observations = ('dry', 'damp', 'soggy')\n",
        "start_probability = {'sunny': 0.4, 'rainy': 0.6}\n",
        "transition_probability = {'sunny':{'sunny':0.6, 'rainy':0.4},\n",
        "                          'rainy': {'sunny':0.3, 'rainy':0.7}}\n",
        "emission_probatility = {'sunny': {'dry':0.6, 'damp':0.3, 'soggy':0.1},\n",
        "                        'rainy': {'dry':0.1, 'damp':0.4, 'soggy':0.5}}\n",
        "```"
      ]
    },
    {
      "cell_type": "markdown",
      "metadata": {
        "id": "ODeAuk-9Y65g"
      },
      "source": [
        "### 觀察狀態 = 'dry', 'dry', 'dry'\n",
        "\n",
        "```python\n",
        "Sunny, Sunny, Sunny: 0.4*(0.6)*0.6*(0.6)*0.6*(0.6) = 0.031104\n",
        "Sunny, Rainy, Rainy: 0.4*(0.6)*0.6*(0.6)*0.7*(0.1) = 0.006048\n",
        "Rainy, Sunny, Sunny: 0.6*(0.1)*0.3*(0.6)*0.6*(0.6) = 0.003888\n",
        "Sunny, Sunny, Rainy: 0.4*(0.6)*0.6*(0.6)*0.4*(0.1) = 0.003456\n",
        "Sunny, Rainy, Sunny: 0.4*(0.6)*0.4*(0.1)*0.3*(0.6) = 0.001728\n",
        "Rainy, Rainy, Sunny: 0.6*(0.1)*0.7*(0.1)*0.3*(0.6) = 0.000756\n",
        "Rainy, Sunny, Rainy: 0.6*(0.1)*0.3*(0.6)*0.4*(0.1) = 0.000432 \n",
        "Rainy, Rainy, Rainy: 0.6*(0.1)*0.7*(0.1)*0.7*(0.1) = 0.000294\n",
        "```\n",
        "\n",
        " \n",
        "最大機率為: Sunny, Sunny, Sunny"
      ]
    },
    {
      "cell_type": "markdown",
      "metadata": {
        "id": "BkY2eDo6Ui17"
      },
      "source": [
        "### 根據上述條件, 寫出Viterbi應用程式"
      ]
    },
    {
      "cell_type": "code",
      "metadata": {
        "id": "G3br6r9GUi17"
      },
      "source": [
        "observations = ('dry', 'dry', 'dry') #實際上觀察到的狀態為dry, dry, dry\n",
        "states = ('sunny', 'rainy')\n",
        "start_probability = {'sunny': 0.4, 'rainy': 0.6}\n",
        "transition_probability = {'sunny':{'sunny':0.6, 'rainy':0.4},\n",
        "                          'rainy': {'sunny':0.3, 'rainy':0.7}}\n",
        "emission_probatility = {'sunny': {'dry':0.6, 'damp':0.3, 'soggy':0.1},\n",
        "                        'rainy': {'dry':0.1, 'damp':0.4, 'soggy':0.5}}"
      ],
      "execution_count": 3,
      "outputs": []
    },
    {
      "cell_type": "code",
      "metadata": {
        "id": "Rl1RHfH1Ui18"
      },
      "source": [
        "def viterbi(obs, states, start_p, trans_p, emit_p):\n",
        "    V = [{}]\n",
        "    path = {}\n",
        "\n",
        "    # Initialize base cases (t == 0)\n",
        "    for y in states:\n",
        "        ###<your codes>###\n",
        "        path[y] = [y]\n",
        "        V[0][y] = start_p[y]*emit_p[y][obs[0]] #first_day_prob      \n",
        "    \n",
        "    # Run Viterbi for t > 0\n",
        "    for t in range(1,len(obs)):\n",
        "        ###<your codes>###\n",
        "        V.append({})\n",
        "        newpath={}\n",
        "        for s in states:\n",
        "            (mid_prob, mid_state) = max([(V[t-1][pre_s]*trans_p[pre_s][s]*emit_p[s][obs[t]] , pre_s) for pre_s in states])\n",
        "            V[t][s] = mid_prob \n",
        "            newpath[s] = path[mid_state]+[s]\n",
        "            #len(newpath)<=len(states)\n",
        "        \n",
        "        # Don't need to remember the old paths\n",
        "\n",
        "        path = newpath\n",
        "    \n",
        "    (prob, state) = max([(V[len(obs) - 1][final_state], final_state) for final_state in states])\n",
        "    return (prob, path[state])"
      ],
      "execution_count": 8,
      "outputs": []
    },
    {
      "cell_type": "code",
      "metadata": {
        "id": "B52f48ZEUi18"
      },
      "source": [
        "result = viterbi(observations,\n",
        "                 states,\n",
        "                 start_probability,\n",
        "                 transition_probability,\n",
        "                 emission_probatility)"
      ],
      "execution_count": 9,
      "outputs": []
    },
    {
      "cell_type": "code",
      "metadata": {
        "colab": {
          "base_uri": "https://localhost:8080/"
        },
        "id": "MBF7NYjOusWB",
        "outputId": "942a49f0-c1d9-4f0d-e7fd-e11735626adf"
      },
      "source": [
        "result"
      ],
      "execution_count": 5,
      "outputs": [
        {
          "output_type": "execute_result",
          "data": {
            "text/plain": [
              "(0.031103999999999993, ['sunny', 'sunny', 'sunny'])"
            ]
          },
          "metadata": {
            "tags": []
          },
          "execution_count": 5
        }
      ]
    }
  ]
}