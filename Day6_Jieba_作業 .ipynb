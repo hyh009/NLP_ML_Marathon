{
  "nbformat": 4,
  "nbformat_minor": 0,
  "metadata": {
    "kernelspec": {
      "display_name": "cupoy_env",
      "language": "python",
      "name": "cupoy_env"
    },
    "language_info": {
      "codemirror_mode": {
        "name": "ipython",
        "version": 3
      },
      "file_extension": ".py",
      "mimetype": "text/x-python",
      "name": "python",
      "nbconvert_exporter": "python",
      "pygments_lexer": "ipython3",
      "version": "3.7.3"
    },
    "colab": {
      "name": "Jieba_作業.ipynb",
      "provenance": []
    }
  },
  "cells": [
    {
      "cell_type": "markdown",
      "metadata": {
        "id": "YMaEYlvg0y1y"
      },
      "source": [
        "## 作業目標: 使用Jieba進行各項的斷詞操作\n",
        "\n",
        "這份作業我們會使用中文飯店評論資料集來作為斷詞練習。 [資料集:ChnSentiCorp_htl_all](https://github.com/SophonPlus/ChineseNlpCorpus)"
      ]
    },
    {
      "cell_type": "markdown",
      "metadata": {
        "id": "_NCXI8LE0y15"
      },
      "source": [
        "### 讀入文本資料"
      ]
    },
    {
      "cell_type": "code",
      "metadata": {
        "colab": {
          "base_uri": "https://localhost:8080/"
        },
        "id": "mUPKLstF1p71",
        "outputId": "e237f70b-7bf8-4cfb-8fcc-f2adc333d457"
      },
      "source": [
        "from google.colab import drive\n",
        "drive.mount('/content/drive')"
      ],
      "execution_count": null,
      "outputs": [
        {
          "output_type": "stream",
          "text": [
            "Mounted at /content/drive\n"
          ],
          "name": "stdout"
        }
      ]
    },
    {
      "cell_type": "code",
      "metadata": {
        "colab": {
          "base_uri": "https://localhost:8080/",
          "height": 199
        },
        "id": "LMlTw2U70y16",
        "outputId": "bece03a0-92eb-4fcb-c0dd-1318f680f163"
      },
      "source": [
        "import pandas as pd\n",
        "\n",
        "# hint: 可利用pandas讀取CSV\n",
        "pd_corpus = pd.read_csv('/content/drive/MyDrive/NLP/ChnSentiCorp_htl_all.csv')\n",
        "\n",
        "pd_corpus.head(5)"
      ],
      "execution_count": 1,
      "outputs": [
        {
          "output_type": "execute_result",
          "data": {
            "text/html": [
              "<div>\n",
              "<style scoped>\n",
              "    .dataframe tbody tr th:only-of-type {\n",
              "        vertical-align: middle;\n",
              "    }\n",
              "\n",
              "    .dataframe tbody tr th {\n",
              "        vertical-align: top;\n",
              "    }\n",
              "\n",
              "    .dataframe thead th {\n",
              "        text-align: right;\n",
              "    }\n",
              "</style>\n",
              "<table border=\"1\" class=\"dataframe\">\n",
              "  <thead>\n",
              "    <tr style=\"text-align: right;\">\n",
              "      <th></th>\n",
              "      <th>label</th>\n",
              "      <th>review</th>\n",
              "    </tr>\n",
              "  </thead>\n",
              "  <tbody>\n",
              "    <tr>\n",
              "      <th>0</th>\n",
              "      <td>1</td>\n",
              "      <td>距离川沙公路较近,但是公交指示不对,如果是\"蔡陆线\"的话,会非常麻烦.建议用别的路线.房间较...</td>\n",
              "    </tr>\n",
              "    <tr>\n",
              "      <th>1</th>\n",
              "      <td>1</td>\n",
              "      <td>商务大床房，房间很大，床有2M宽，整体感觉经济实惠不错!</td>\n",
              "    </tr>\n",
              "    <tr>\n",
              "      <th>2</th>\n",
              "      <td>1</td>\n",
              "      <td>早餐太差，无论去多少人，那边也不加食品的。酒店应该重视一下这个问题了。房间本身很好。</td>\n",
              "    </tr>\n",
              "    <tr>\n",
              "      <th>3</th>\n",
              "      <td>1</td>\n",
              "      <td>宾馆在小街道上，不大好找，但还好北京热心同胞很多~宾馆设施跟介绍的差不多，房间很小，确实挺小...</td>\n",
              "    </tr>\n",
              "    <tr>\n",
              "      <th>4</th>\n",
              "      <td>1</td>\n",
              "      <td>CBD中心,周围没什么店铺,说5星有点勉强.不知道为什么卫生间没有电吹风</td>\n",
              "    </tr>\n",
              "  </tbody>\n",
              "</table>\n",
              "</div>"
            ],
            "text/plain": [
              "   label                                             review\n",
              "0      1  距离川沙公路较近,但是公交指示不对,如果是\"蔡陆线\"的话,会非常麻烦.建议用别的路线.房间较...\n",
              "1      1                       商务大床房，房间很大，床有2M宽，整体感觉经济实惠不错!\n",
              "2      1         早餐太差，无论去多少人，那边也不加食品的。酒店应该重视一下这个问题了。房间本身很好。\n",
              "3      1  宾馆在小街道上，不大好找，但还好北京热心同胞很多~宾馆设施跟介绍的差不多，房间很小，确实挺小...\n",
              "4      1               CBD中心,周围没什么店铺,说5星有点勉强.不知道为什么卫生间没有电吹风"
            ]
          },
          "metadata": {
            "tags": []
          },
          "execution_count": 1
        }
      ]
    },
    {
      "cell_type": "code",
      "metadata": {
        "colab": {
          "base_uri": "https://localhost:8080/"
        },
        "id": "9pue3E_C0y17",
        "outputId": "0e3251a1-877e-45a2-e1f8-e472ff757902"
      },
      "source": [
        "#確認所有留言,正評價(label=1)與負評價數量(label=0)\n",
        "pd_positive=pd_corpus[pd_corpus['label']==1]\n",
        "pd_negative=pd_corpus[pd_corpus['label']==0]\n",
        "print(f'Total: {len(pd_corpus)}, Positive: {len(pd_positive)}, Negative: {len(pd_negative)}')"
      ],
      "execution_count": 2,
      "outputs": [
        {
          "output_type": "stream",
          "text": [
            "Total: 7766, Positive: 5322, Negative: 2444\n"
          ],
          "name": "stdout"
        }
      ]
    },
    {
      "cell_type": "code",
      "metadata": {
        "colab": {
          "base_uri": "https://localhost:8080/"
        },
        "id": "P4txFxs50y17",
        "outputId": "7a5b6a9b-45e6-44ae-cb51-c85ca2cb5796"
      },
      "source": [
        "#移除缺失值\n",
        "print(pd_corpus.info()) \n",
        "pd_corpus.dropna(subset=['review'],inplace=True)"
      ],
      "execution_count": 3,
      "outputs": [
        {
          "output_type": "stream",
          "text": [
            "<class 'pandas.core.frame.DataFrame'>\n",
            "RangeIndex: 7766 entries, 0 to 7765\n",
            "Data columns (total 2 columns):\n",
            " #   Column  Non-Null Count  Dtype \n",
            "---  ------  --------------  ----- \n",
            " 0   label   7766 non-null   int64 \n",
            " 1   review  7765 non-null   object\n",
            "dtypes: int64(1), object(1)\n",
            "memory usage: 121.5+ KB\n",
            "None\n"
          ],
          "name": "stdout"
        }
      ]
    },
    {
      "cell_type": "code",
      "metadata": {
        "colab": {
          "base_uri": "https://localhost:8080/",
          "height": 48
        },
        "id": "AZUCZuPg7UVc",
        "outputId": "8e1007f6-df6b-45a2-d936-97c8eae0b243"
      },
      "source": [
        "pd_corpus[pd_corpus['review'].isnull()]"
      ],
      "execution_count": null,
      "outputs": [
        {
          "output_type": "execute_result",
          "data": {
            "text/html": [
              "<div>\n",
              "<style scoped>\n",
              "    .dataframe tbody tr th:only-of-type {\n",
              "        vertical-align: middle;\n",
              "    }\n",
              "\n",
              "    .dataframe tbody tr th {\n",
              "        vertical-align: top;\n",
              "    }\n",
              "\n",
              "    .dataframe thead th {\n",
              "        text-align: right;\n",
              "    }\n",
              "</style>\n",
              "<table border=\"1\" class=\"dataframe\">\n",
              "  <thead>\n",
              "    <tr style=\"text-align: right;\">\n",
              "      <th></th>\n",
              "      <th>label</th>\n",
              "      <th>review</th>\n",
              "    </tr>\n",
              "  </thead>\n",
              "  <tbody>\n",
              "  </tbody>\n",
              "</table>\n",
              "</div>"
            ],
            "text/plain": [
              "Empty DataFrame\n",
              "Columns: [label, review]\n",
              "Index: []"
            ]
          },
          "metadata": {
            "tags": []
          },
          "execution_count": 29
        }
      ]
    },
    {
      "cell_type": "markdown",
      "metadata": {
        "id": "RUOl1kRq0y18"
      },
      "source": [
        "### 建構結巴斷詞Function\n",
        "\n",
        "建構可將讀入的Pandas DataFrame的文本資料，外加一欄名為`cut`的review欄位斷詞結果"
      ]
    },
    {
      "cell_type": "code",
      "metadata": {
        "id": "350olRRd0y18"
      },
      "source": [
        "import jieba"
      ],
      "execution_count": 4,
      "outputs": []
    },
    {
      "cell_type": "code",
      "metadata": {
        "id": "6PRaHnBy0y18"
      },
      "source": [
        "class JiebaCutingClass(object):\n",
        "    '''Class to use jeiba to parse corpus from dataframe and cut the corpus\n",
        "    \n",
        "    Parameters\n",
        "    -----------\n",
        "    key_to_cut: str\n",
        "        the dataframe key to parse the sentence for jieba cutting\n",
        "    dic: str\n",
        "        the dictionary to use for jieba, default is None (use default dictionary)\n",
        "    userdict: str\n",
        "        the user defined dictionary to use for jieba, default is None\n",
        "    '''\n",
        "    \n",
        "    def __init__(self, key_to_cut:str, dic:str=None, userdict:str=None):\n",
        "        \n",
        "        if dic is not None:\n",
        "            jieba.set_dictionary(dic)\n",
        "        \n",
        "        if userdict is not None:\n",
        "            jieba.load_userdict(userdict)\n",
        "        \n",
        "        self.key_to_cut = key_to_cut\n",
        "        \n",
        "        #將paddle 功能開啟\n",
        "        jieba.enable_paddle()\n",
        "        \n",
        "        \n",
        "    @staticmethod\n",
        "    def cut_single_sentence(sentence, use_paddle=False, use_full=False, use_search=False):\n",
        "        \n",
        "        if use_search:\n",
        "            # hint:使用收尋引擎模式進行斷詞\n",
        "            out = [word for word in jieba.cut_for_search(sentence)]\n",
        "        else:\n",
        "            # hint:非搜尋引擎模式斷詞，請注意有精確模式、全模式與paddle模式\n",
        "            out = [word for word in jieba.cut(sentence,cut_all=use_full,use_paddle=use_paddle)]\n",
        "        \n",
        "        return out\n",
        "            \n",
        "    \n",
        "    def cut_corpus(self, corpus: pd.DataFrame, mode: str) -> pd.DataFrame:\n",
        "        '''Method to read and cut sentence from dataframe and append another column named cut\n",
        "        \n",
        "        Paremeters\n",
        "        --------------\n",
        "        corpus: pd.DataFrame\n",
        "            Input corpus in dataframe\n",
        "        mode: str\n",
        "            Jieba mode to be used\n",
        "        \n",
        "        Return\n",
        "        ----------------\n",
        "        out: pd.Dataframe\n",
        "            Output corpus in dataframe\n",
        "        '''\n",
        "        \n",
        "        # checking valid mode\n",
        "        if mode not in ['paddle', 'full', 'precise', 'search']:\n",
        "            raise TypeError(f'only support `paddle`, `full`, `precise`, and `search` mode, but get {mode}')\n",
        "            \n",
        "        # cut the corpus based on mode\n",
        "        # hint: 根據mode來呼叫相對應的斷詞method\n",
        "        if mode == 'paddle':\n",
        "            out = self._paddle_cut(corpus)\n",
        "        elif mode == 'full':\n",
        "            out = self._full_cut(corpus)\n",
        "        elif mode == 'precise':\n",
        "            out = self._precise_cut(corpus)\n",
        "        elif mode == 'search':\n",
        "            out = self._search_cut(corpus)\n",
        "\n",
        "        return out\n",
        "    \n",
        "    def _paddle_cut(self, corpus):\n",
        "        '''paddle mode\n",
        "        '''\n",
        "        #enable paddle\n",
        "        #hint:先啟用paddle mode\n",
        "        #jieba.enable_paddle()\n",
        "        \n",
        "        out = []\n",
        "        # hint:將讀進的文本進行斷詞，並將結果append回out的陣列中\n",
        "        for single_review in corpus[self.key_to_cut]:\n",
        "            single_cut = [word for word in jieba.cut(single_review,use_paddle=True)]\n",
        "            out.append(single_cut)\n",
        "        corpus['cut'] = out\n",
        "        \n",
        "        return corpus\n",
        "    \n",
        "    def _full_cut(self, corpus):\n",
        "        '''full mode\n",
        "        '''\n",
        "        \n",
        "        out = []\n",
        "        # hint:將讀進的文本進行斷詞，並將結果append回out的陣列中\n",
        "        for single_review in corpus[self.key_to_cut]:\n",
        "            single_cut = [word for word in jieba.cut(single_review,cut_all=True)]\n",
        "            out.append(single_cut)\n",
        "        \n",
        "        corpus['cut'] = out\n",
        "        \n",
        "        return corpus\n",
        "    \n",
        "    def _precise_cut(self, corpus):\n",
        "        '''precise mode\n",
        "        '''\n",
        "        \n",
        "        out = []\n",
        "        # hint:將讀進的文本進行斷詞，並將結果append回out的陣列中\n",
        "        for single_review in corpus[self.key_to_cut]:\n",
        "            single_cut = [word for word in jieba.cut(single_review)]\n",
        "            out.append(single_cut)\n",
        "        \n",
        "        corpus['cut'] = out\n",
        "        \n",
        "        return corpus\n",
        "    \n",
        "    def _search_cut(self, corpus):\n",
        "        '''search mode\n",
        "        '''\n",
        "        \n",
        "        out = []\n",
        "        # hint:將讀進的文本進行斷詞，並將結果append回out的陣列中\n",
        "        for single_review in corpus[self.key_to_cut]:\n",
        "            single_cut = [word for word in jieba.cut_for_search(single_review)]\n",
        "            out.append(single_cut)\n",
        "        \n",
        "        corpus['cut'] = out\n",
        "        \n",
        "        return corpus"
      ],
      "execution_count": 5,
      "outputs": []
    },
    {
      "cell_type": "markdown",
      "metadata": {
        "id": "NBm7_e-A0y1-"
      },
      "source": [
        "### 使用建構好的斷詞物件對文本進行斷詞"
      ]
    },
    {
      "cell_type": "code",
      "metadata": {
        "id": "GOBt83vA0y1-",
        "colab": {
          "base_uri": "https://localhost:8080/",
          "height": 369
        },
        "outputId": "a37aa275-7c91-4ba0-bf9b-12913c7e9566"
      },
      "source": [
        "### 請使用精確模式與預設字典對文本進行斷詞\n",
        "\n",
        "# hint:請先實例化JiebaCutingClass，再進行斷詞\n",
        "Jiebacut = JiebaCutingClass('review')\n",
        "###<your code>### #為了避免處理時間過久, 這裡我們只使用前50個進行斷詞\n",
        "pd_cut = Jiebacut.cut_corpus(pd_corpus[:50],'paddle')\n",
        "pd_cut.head()"
      ],
      "execution_count": 9,
      "outputs": [
        {
          "output_type": "stream",
          "text": [
            "Paddle enabled successfully......\n",
            "/usr/local/lib/python3.7/dist-packages/ipykernel_launcher.py:86: SettingWithCopyWarning: \n",
            "A value is trying to be set on a copy of a slice from a DataFrame.\n",
            "Try using .loc[row_indexer,col_indexer] = value instead\n",
            "\n",
            "See the caveats in the documentation: https://pandas.pydata.org/pandas-docs/stable/user_guide/indexing.html#returning-a-view-versus-a-copy\n"
          ],
          "name": "stderr"
        },
        {
          "output_type": "execute_result",
          "data": {
            "text/html": [
              "<div>\n",
              "<style scoped>\n",
              "    .dataframe tbody tr th:only-of-type {\n",
              "        vertical-align: middle;\n",
              "    }\n",
              "\n",
              "    .dataframe tbody tr th {\n",
              "        vertical-align: top;\n",
              "    }\n",
              "\n",
              "    .dataframe thead th {\n",
              "        text-align: right;\n",
              "    }\n",
              "</style>\n",
              "<table border=\"1\" class=\"dataframe\">\n",
              "  <thead>\n",
              "    <tr style=\"text-align: right;\">\n",
              "      <th></th>\n",
              "      <th>label</th>\n",
              "      <th>review</th>\n",
              "      <th>cut</th>\n",
              "    </tr>\n",
              "  </thead>\n",
              "  <tbody>\n",
              "    <tr>\n",
              "      <th>0</th>\n",
              "      <td>1</td>\n",
              "      <td>距离川沙公路较近,但是公交指示不对,如果是\"蔡陆线\"的话,会非常麻烦.建议用别的路线.房间较...</td>\n",
              "      <td>[距离, 川沙公路, 较, 近, ,, 但是, 公交, 指示, 不对, ,, 如果, 是, ...</td>\n",
              "    </tr>\n",
              "    <tr>\n",
              "      <th>1</th>\n",
              "      <td>1</td>\n",
              "      <td>商务大床房，房间很大，床有2M宽，整体感觉经济实惠不错!</td>\n",
              "      <td>[商务, 大床, 房, ，, 房间, 很大, ，床, 有, 2M, 宽, ，, 整体, 感觉...</td>\n",
              "    </tr>\n",
              "    <tr>\n",
              "      <th>2</th>\n",
              "      <td>1</td>\n",
              "      <td>早餐太差，无论去多少人，那边也不加食品的。酒店应该重视一下这个问题了。房间本身很好。</td>\n",
              "      <td>[早餐, 太, 差，, 无, 论, 去, 多少, 人, ，, 那边, 也, 不, 加, 食品...</td>\n",
              "    </tr>\n",
              "    <tr>\n",
              "      <th>3</th>\n",
              "      <td>1</td>\n",
              "      <td>宾馆在小街道上，不大好找，但还好北京热心同胞很多~宾馆设施跟介绍的差不多，房间很小，确实挺小...</td>\n",
              "      <td>[宾馆, 在, 小街道, 上, ，不大好找, ，, 但, 还好, 北京, 热心, 同胞, 很...</td>\n",
              "    </tr>\n",
              "    <tr>\n",
              "      <th>4</th>\n",
              "      <td>1</td>\n",
              "      <td>CBD中心,周围没什么店铺,说5星有点勉强.不知道为什么卫生间没有电吹风</td>\n",
              "      <td>[CBD中心, ,, 周围, 没, 什么, 店铺, ,, 说, 5, 星, 有点, 勉强, ...</td>\n",
              "    </tr>\n",
              "  </tbody>\n",
              "</table>\n",
              "</div>"
            ],
            "text/plain": [
              "   label  ...                                                cut\n",
              "0      1  ...  [距离, 川沙公路, 较, 近, ,, 但是, 公交, 指示, 不对, ,, 如果, 是, ...\n",
              "1      1  ...  [商务, 大床, 房, ，, 房间, 很大, ，床, 有, 2M, 宽, ，, 整体, 感觉...\n",
              "2      1  ...  [早餐, 太, 差，, 无, 论, 去, 多少, 人, ，, 那边, 也, 不, 加, 食品...\n",
              "3      1  ...  [宾馆, 在, 小街道, 上, ，不大好找, ，, 但, 还好, 北京, 热心, 同胞, 很...\n",
              "4      1  ...  [CBD中心, ,, 周围, 没, 什么, 店铺, ,, 说, 5, 星, 有点, 勉强, ...\n",
              "\n",
              "[5 rows x 3 columns]"
            ]
          },
          "metadata": {
            "tags": []
          },
          "execution_count": 9
        }
      ]
    },
    {
      "cell_type": "markdown",
      "metadata": {
        "id": "97f7mHrX0y1-"
      },
      "source": [
        "### 載入繁中字典為指定的字詞進行斷詞"
      ]
    },
    {
      "cell_type": "code",
      "metadata": {
        "id": "anQNy2tN0y1_",
        "outputId": "e40553af-dde2-4c20-cb1a-ff683e62ae4f"
      },
      "source": [
        "test_string = '我愛cupoy自然語言處理馬拉松課程'\n",
        "jieba_cut = JiebaCutingClass(key_to_cut='', dic='/content/drive/MyDrive/NLP/dict.txt.big')\n",
        "\n",
        "\n",
        "out_string = cut_single_sentence(sentence, use_paddle=True)\n",
        "print(f'Paddle模式: {[string for string in out_string]}')\n",
        "\n",
        "out_string = cut_single_sentence(sentence, use_full=True)\n",
        "print(f'全模式: {[string for string in out_string]}')\n",
        "\n",
        "out_string = cut_single_sentence(sentence, use_search=True)\n",
        "print(f'搜尋模式: {[string for string in out_string]}')\n",
        "\n",
        "out_string = cut_single_sentence(sentence)\n",
        "print(f'精確模式: {[string for string in out_string]}')"
      ],
      "execution_count": null,
      "outputs": [
        {
          "output_type": "stream",
          "text": [
            "Paddle enabled successfully......\n",
            "Building prefix dict from /Users/admin/Documents/cupoy/Ch06-Jieba/dict.txt.big ...\n",
            "Loading model from cache /var/folders/9f/mkwhwg7d4vz7rp0429_kg43c0000gn/T/jieba.u7693c7663763ede1f644a996682c676f.cache\n"
          ],
          "name": "stderr"
        },
        {
          "output_type": "stream",
          "text": [
            "Paddle模式: ['我', '愛', 'cupoy', '自然', '語言', '處理', '馬拉松', '課程']\n"
          ],
          "name": "stdout"
        },
        {
          "output_type": "stream",
          "text": [
            "Loading model cost 1.685 seconds.\n",
            "Prefix dict has been built successfully.\n"
          ],
          "name": "stderr"
        },
        {
          "output_type": "stream",
          "text": [
            "全模式: ['我', '愛', 'cupoy', '自然', '自然語言', '語言', '處理', '馬拉', '馬拉松', '課程']\n",
            "搜尋模式: ['我', '愛', 'cupoy', '自然', '語言', '自然語言', '處理', '馬拉', '馬拉松', '課程']\n",
            "精確模式: ['我', '愛', 'cupoy', '自然語言', '處理', '馬拉松', '課程']\n"
          ],
          "name": "stdout"
        }
      ]
    },
    {
      "cell_type": "code",
      "metadata": {
        "colab": {
          "base_uri": "https://localhost:8080/"
        },
        "id": "Dne11uh2P_z0",
        "outputId": "b57cab1a-57e6-4714-84fd-ac16e9c968b8"
      },
      "source": [
        "test_string = '我愛cupoy自然語言處理馬拉松課程'\n",
        "jieba_cut = JiebaCutingClass(key_to_cut='', dic='/content/drive/MyDrive/NLP/dict.txt.big')\n",
        "\n",
        "\n",
        "out_string = Jiebacut.cut_single_sentence(test_string, use_paddle=True)\n",
        "print(f'Paddle模式: {[string for string in out_string]}')\n",
        "\n",
        "out_string = Jiebacut.cut_single_sentence(test_string, use_full=True)\n",
        "print(f'全模式: {[string for string in out_string]}')\n",
        "\n",
        "out_string = Jiebacut.cut_single_sentence(test_string, use_search=True)\n",
        "print(f'搜尋模式: {[string for string in out_string]}')\n",
        "\n",
        "out_string = Jiebacut.cut_single_sentence(test_string)\n",
        "print(f'精確模式: {[string for string in out_string]}')"
      ],
      "execution_count": 44,
      "outputs": [
        {
          "output_type": "stream",
          "text": [
            "Paddle enabled successfully......\n",
            "Building prefix dict from /content/drive/MyDrive/NLP/dict.txt.big ...\n"
          ],
          "name": "stderr"
        },
        {
          "output_type": "stream",
          "text": [
            "Paddle模式: ['我', '愛', 'cupoy', '自然', '語言', '處理', '馬拉松', '課程']\n"
          ],
          "name": "stdout"
        },
        {
          "output_type": "stream",
          "text": [
            "Dumping model to file cache /tmp/jieba.u67cbe97c857ec9809d2a6fb43fe09b0f.cache\n",
            "Loading model cost 2.563 seconds.\n",
            "Prefix dict has been built successfully.\n"
          ],
          "name": "stderr"
        },
        {
          "output_type": "stream",
          "text": [
            "全模式: ['我', '愛', 'cupoy', '自然', '自然語言', '語言', '處理', '馬拉', '馬拉松', '課程']\n",
            "搜尋模式: ['我', '愛', 'cupoy', '自然', '語言', '自然語言', '處理', '馬拉', '馬拉松', '課程']\n",
            "精確模式: ['我', '愛', 'cupoy', '自然語言', '處理', '馬拉松', '課程']\n"
          ],
          "name": "stdout"
        }
      ]
    }
  ]
}